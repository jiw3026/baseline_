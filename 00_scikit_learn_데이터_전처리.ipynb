{
  "cells": [
    {
      "cell_type": "markdown",
      "metadata": {
        "id": "view-in-github",
        "colab_type": "text"
      },
      "source": [
        "<a href=\"https://colab.research.google.com/github/jiw3026/baseline_/blob/main/00_scikit_learn_%E1%84%83%E1%85%A6%E1%84%8B%E1%85%B5%E1%84%90%E1%85%A5_%E1%84%8C%E1%85%A5%E1%86%AB%E1%84%8E%E1%85%A5%E1%84%85%E1%85%B5.ipynb\" target=\"_parent\"><img src=\"https://colab.research.google.com/assets/colab-badge.svg\" alt=\"Open In Colab\"/></a>"
      ]
    },
    {
      "cell_type": "markdown",
      "metadata": {
        "id": "1lFmOYpJYeXO"
      },
      "source": [
        "# 데이터 전처리 (Data Preprocessing)"
      ]
    },
    {
      "cell_type": "markdown",
      "metadata": {
        "id": "T9lfr-RdYJ7J"
      },
      "source": [
        "데이터 전처리는 데이터 분석 및 머신러닝 학습을 위해서 매우 중요한 단계 입니다. 실무 프로젝트에서는 전체 프로젝트 기간 중 평균 50~70% 이상 시간을 전처리 및 EDA에 투자한다고 합니다. 그만큼 좋은 전처리를 하면 할수록 좋은 성능을 내는 머신러닝 모델을 만들 수 있습니다.\n",
        "\n",
        "이번 주제는 바로 전처리(pre-processing) 입니다.\n",
        "\n",
        "scikit-learn 패키지를 활용한 전처리를 알아보도록 하겠습니다."
      ]
    },
    {
      "cell_type": "code",
      "execution_count": null,
      "metadata": {
        "id": "sn1Xu-hfYGdm"
      },
      "outputs": [],
      "source": [
        "from IPython.display import Image\n",
        "import pandas as pd\n",
        "import matplotlib.pyplot as plt\n",
        "import seaborn as sns\n",
        "import numpy as np "
      ]
    },
    {
      "cell_type": "markdown",
      "metadata": {
        "id": "A6Pd96VzYcui"
      },
      "source": [
        "## 1. 결측치 (MissingData)"
      ]
    },
    {
      "cell_type": "code",
      "execution_count": null,
      "metadata": {
        "colab": {
          "base_uri": "https://localhost:8080/",
          "height": 425
        },
        "id": "xpztYXlwYYUB",
        "outputId": "0e7df7a5-18f2-4c57-d0e2-77f4ad40a8e3"
      },
      "outputs": [
        {
          "output_type": "execute_result",
          "data": {
            "text/plain": [
              "    hour  attendance  score\n",
              "0      2         1.0      3\n",
              "1      3         2.0      5\n",
              "2      3         NaN      7\n",
              "3      5         NaN     10\n",
              "4      7         5.0     12\n",
              "5      2         5.0      7\n",
              "6      8         9.0     13\n",
              "7      9        10.0     13\n",
              "8      6        12.0     12\n",
              "9      9         2.0     13\n",
              "10     6        10.0     12\n",
              "11     2         4.0      6"
            ],
            "text/html": [
              "\n",
              "  <div id=\"df-107ff4c4-42c6-449c-b59d-66b99108dac2\">\n",
              "    <div class=\"colab-df-container\">\n",
              "      <div>\n",
              "<style scoped>\n",
              "    .dataframe tbody tr th:only-of-type {\n",
              "        vertical-align: middle;\n",
              "    }\n",
              "\n",
              "    .dataframe tbody tr th {\n",
              "        vertical-align: top;\n",
              "    }\n",
              "\n",
              "    .dataframe thead th {\n",
              "        text-align: right;\n",
              "    }\n",
              "</style>\n",
              "<table border=\"1\" class=\"dataframe\">\n",
              "  <thead>\n",
              "    <tr style=\"text-align: right;\">\n",
              "      <th></th>\n",
              "      <th>hour</th>\n",
              "      <th>attendance</th>\n",
              "      <th>score</th>\n",
              "    </tr>\n",
              "  </thead>\n",
              "  <tbody>\n",
              "    <tr>\n",
              "      <th>0</th>\n",
              "      <td>2</td>\n",
              "      <td>1.0</td>\n",
              "      <td>3</td>\n",
              "    </tr>\n",
              "    <tr>\n",
              "      <th>1</th>\n",
              "      <td>3</td>\n",
              "      <td>2.0</td>\n",
              "      <td>5</td>\n",
              "    </tr>\n",
              "    <tr>\n",
              "      <th>2</th>\n",
              "      <td>3</td>\n",
              "      <td>NaN</td>\n",
              "      <td>7</td>\n",
              "    </tr>\n",
              "    <tr>\n",
              "      <th>3</th>\n",
              "      <td>5</td>\n",
              "      <td>NaN</td>\n",
              "      <td>10</td>\n",
              "    </tr>\n",
              "    <tr>\n",
              "      <th>4</th>\n",
              "      <td>7</td>\n",
              "      <td>5.0</td>\n",
              "      <td>12</td>\n",
              "    </tr>\n",
              "    <tr>\n",
              "      <th>5</th>\n",
              "      <td>2</td>\n",
              "      <td>5.0</td>\n",
              "      <td>7</td>\n",
              "    </tr>\n",
              "    <tr>\n",
              "      <th>6</th>\n",
              "      <td>8</td>\n",
              "      <td>9.0</td>\n",
              "      <td>13</td>\n",
              "    </tr>\n",
              "    <tr>\n",
              "      <th>7</th>\n",
              "      <td>9</td>\n",
              "      <td>10.0</td>\n",
              "      <td>13</td>\n",
              "    </tr>\n",
              "    <tr>\n",
              "      <th>8</th>\n",
              "      <td>6</td>\n",
              "      <td>12.0</td>\n",
              "      <td>12</td>\n",
              "    </tr>\n",
              "    <tr>\n",
              "      <th>9</th>\n",
              "      <td>9</td>\n",
              "      <td>2.0</td>\n",
              "      <td>13</td>\n",
              "    </tr>\n",
              "    <tr>\n",
              "      <th>10</th>\n",
              "      <td>6</td>\n",
              "      <td>10.0</td>\n",
              "      <td>12</td>\n",
              "    </tr>\n",
              "    <tr>\n",
              "      <th>11</th>\n",
              "      <td>2</td>\n",
              "      <td>4.0</td>\n",
              "      <td>6</td>\n",
              "    </tr>\n",
              "  </tbody>\n",
              "</table>\n",
              "</div>\n",
              "      <button class=\"colab-df-convert\" onclick=\"convertToInteractive('df-107ff4c4-42c6-449c-b59d-66b99108dac2')\"\n",
              "              title=\"Convert this dataframe to an interactive table.\"\n",
              "              style=\"display:none;\">\n",
              "        \n",
              "  <svg xmlns=\"http://www.w3.org/2000/svg\" height=\"24px\"viewBox=\"0 0 24 24\"\n",
              "       width=\"24px\">\n",
              "    <path d=\"M0 0h24v24H0V0z\" fill=\"none\"/>\n",
              "    <path d=\"M18.56 5.44l.94 2.06.94-2.06 2.06-.94-2.06-.94-.94-2.06-.94 2.06-2.06.94zm-11 1L8.5 8.5l.94-2.06 2.06-.94-2.06-.94L8.5 2.5l-.94 2.06-2.06.94zm10 10l.94 2.06.94-2.06 2.06-.94-2.06-.94-.94-2.06-.94 2.06-2.06.94z\"/><path d=\"M17.41 7.96l-1.37-1.37c-.4-.4-.92-.59-1.43-.59-.52 0-1.04.2-1.43.59L10.3 9.45l-7.72 7.72c-.78.78-.78 2.05 0 2.83L4 21.41c.39.39.9.59 1.41.59.51 0 1.02-.2 1.41-.59l7.78-7.78 2.81-2.81c.8-.78.8-2.07 0-2.86zM5.41 20L4 18.59l7.72-7.72 1.47 1.35L5.41 20z\"/>\n",
              "  </svg>\n",
              "      </button>\n",
              "      \n",
              "  <style>\n",
              "    .colab-df-container {\n",
              "      display:flex;\n",
              "      flex-wrap:wrap;\n",
              "      gap: 12px;\n",
              "    }\n",
              "\n",
              "    .colab-df-convert {\n",
              "      background-color: #E8F0FE;\n",
              "      border: none;\n",
              "      border-radius: 50%;\n",
              "      cursor: pointer;\n",
              "      display: none;\n",
              "      fill: #1967D2;\n",
              "      height: 32px;\n",
              "      padding: 0 0 0 0;\n",
              "      width: 32px;\n",
              "    }\n",
              "\n",
              "    .colab-df-convert:hover {\n",
              "      background-color: #E2EBFA;\n",
              "      box-shadow: 0px 1px 2px rgba(60, 64, 67, 0.3), 0px 1px 3px 1px rgba(60, 64, 67, 0.15);\n",
              "      fill: #174EA6;\n",
              "    }\n",
              "\n",
              "    [theme=dark] .colab-df-convert {\n",
              "      background-color: #3B4455;\n",
              "      fill: #D2E3FC;\n",
              "    }\n",
              "\n",
              "    [theme=dark] .colab-df-convert:hover {\n",
              "      background-color: #434B5C;\n",
              "      box-shadow: 0px 1px 3px 1px rgba(0, 0, 0, 0.15);\n",
              "      filter: drop-shadow(0px 1px 2px rgba(0, 0, 0, 0.3));\n",
              "      fill: #FFFFFF;\n",
              "    }\n",
              "  </style>\n",
              "\n",
              "      <script>\n",
              "        const buttonEl =\n",
              "          document.querySelector('#df-107ff4c4-42c6-449c-b59d-66b99108dac2 button.colab-df-convert');\n",
              "        buttonEl.style.display =\n",
              "          google.colab.kernel.accessAllowed ? 'block' : 'none';\n",
              "\n",
              "        async function convertToInteractive(key) {\n",
              "          const element = document.querySelector('#df-107ff4c4-42c6-449c-b59d-66b99108dac2');\n",
              "          const dataTable =\n",
              "            await google.colab.kernel.invokeFunction('convertToInteractive',\n",
              "                                                     [key], {});\n",
              "          if (!dataTable) return;\n",
              "\n",
              "          const docLinkHtml = 'Like what you see? Visit the ' +\n",
              "            '<a target=\"_blank\" href=https://colab.research.google.com/notebooks/data_table.ipynb>data table notebook</a>'\n",
              "            + ' to learn more about interactive tables.';\n",
              "          element.innerHTML = '';\n",
              "          dataTable['output_type'] = 'display_data';\n",
              "          await google.colab.output.renderOutput(dataTable, element);\n",
              "          const docLink = document.createElement('div');\n",
              "          docLink.innerHTML = docLinkHtml;\n",
              "          element.appendChild(docLink);\n",
              "        }\n",
              "      </script>\n",
              "    </div>\n",
              "  </div>\n",
              "  "
            ]
          },
          "metadata": {},
          "execution_count": 8
        }
      ],
      "source": [
        "df = pd.DataFrame([\n",
        "    [2, 1, 3],\n",
        "    [3, 2, 5],\n",
        "    [3, np.nan, 7],\n",
        "    [5, np.nan, 10],\n",
        "    [7, 5, 12],\n",
        "    [2, 5, 7],\n",
        "    [8, 9, 13],\n",
        "    [9, 10, 13],\n",
        "    [6, 12, 12],\n",
        "    [9, 2, 13],\n",
        "    [6, 10, 12],\n",
        "    [2, 4, 6]\n",
        "], columns=['hour', 'attendance', 'score'])\n",
        "\n",
        "df"
      ]
    },
    {
      "cell_type": "markdown",
      "metadata": {
        "id": "sdvQ66mkZmsI"
      },
      "source": [
        "### 결측치 확인"
      ]
    },
    {
      "cell_type": "code",
      "execution_count": null,
      "metadata": {
        "colab": {
          "base_uri": "https://localhost:8080/"
        },
        "id": "7qSeCdOeZR1e",
        "outputId": "15f4f1bc-fa5d-40d2-fa0c-f31eb18f731d"
      },
      "outputs": [
        {
          "output_type": "execute_result",
          "data": {
            "text/plain": [
              "hour          0\n",
              "attendance    1\n",
              "score         0\n",
              "dtype: int64"
            ]
          },
          "metadata": {},
          "execution_count": 5
        }
      ],
      "source": [
        "df.isnull().sum()"
      ]
    },
    {
      "cell_type": "code",
      "execution_count": null,
      "metadata": {
        "colab": {
          "base_uri": "https://localhost:8080/"
        },
        "id": "Y66p9oJSZYOe",
        "outputId": "3812f7e0-0826-4d92-e7cd-f81d1ed6ab40"
      },
      "outputs": [
        {
          "output_type": "stream",
          "name": "stdout",
          "text": [
            "<class 'pandas.core.frame.DataFrame'>\n",
            "RangeIndex: 12 entries, 0 to 11\n",
            "Data columns (total 3 columns):\n",
            " #   Column      Non-Null Count  Dtype  \n",
            "---  ------      --------------  -----  \n",
            " 0   hour        12 non-null     int64  \n",
            " 1   attendance  10 non-null     float64\n",
            " 2   score       12 non-null     int64  \n",
            "dtypes: float64(1), int64(2)\n",
            "memory usage: 416.0 bytes\n"
          ]
        }
      ],
      "source": [
        "df.info()"
      ]
    },
    {
      "cell_type": "code",
      "source": [
        "sns.heatmap(df.isnull())"
      ],
      "metadata": {
        "colab": {
          "base_uri": "https://localhost:8080/",
          "height": 287
        },
        "id": "EkSMWDrpdutE",
        "outputId": "00524376-150d-4a52-efae-c37478353d18"
      },
      "execution_count": null,
      "outputs": [
        {
          "output_type": "execute_result",
          "data": {
            "text/plain": [
              "<matplotlib.axes._subplots.AxesSubplot at 0x7fd3ca22e730>"
            ]
          },
          "metadata": {},
          "execution_count": 11
        },
        {
          "output_type": "display_data",
          "data": {
            "text/plain": [
              "<Figure size 432x288 with 2 Axes>"
            ],
            "image/png": "[encoded data removed]"
          },
          "metadata": {
            "needs_background": "light"
          }
        }
      ]
    },
    {
      "cell_type": "markdown",
      "metadata": {
        "id": "6dClDJOiZox6"
      },
      "source": [
        "### 결측치 처리 - pandas "
      ]
    },
    {
      "cell_type": "code",
      "execution_count": null,
      "metadata": {
        "colab": {
          "base_uri": "https://localhost:8080/",
          "height": 425
        },
        "id": "87pSg5HwZrJZ",
        "outputId": "6d89eaf3-af2a-47e9-a0ea-119ebac997d5"
      },
      "outputs": [
        {
          "output_type": "execute_result",
          "data": {
            "text/plain": [
              "    hour  score\n",
              "0      2      3\n",
              "1      3      5\n",
              "2      3      7\n",
              "3      5     10\n",
              "4      7     12\n",
              "5      2      7\n",
              "6      8     13\n",
              "7      9     13\n",
              "8      6     12\n",
              "9      9     13\n",
              "10     6     12\n",
              "11     2      6"
            ],
            "text/html": [
              "\n",
              "  <div id=\"df-86c0afbf-e1ff-496b-b9b3-e9a940d7aafc\">\n",
              "    <div class=\"colab-df-container\">\n",
              "      <div>\n",
              "<style scoped>\n",
              "    .dataframe tbody tr th:only-of-type {\n",
              "        vertical-align: middle;\n",
              "    }\n",
              "\n",
              "    .dataframe tbody tr th {\n",
              "        vertical-align: top;\n",
              "    }\n",
              "\n",
              "    .dataframe thead th {\n",
              "        text-align: right;\n",
              "    }\n",
              "</style>\n",
              "<table border=\"1\" class=\"dataframe\">\n",
              "  <thead>\n",
              "    <tr style=\"text-align: right;\">\n",
              "      <th></th>\n",
              "      <th>hour</th>\n",
              "      <th>score</th>\n",
              "    </tr>\n",
              "  </thead>\n",
              "  <tbody>\n",
              "    <tr>\n",
              "      <th>0</th>\n",
              "      <td>2</td>\n",
              "      <td>3</td>\n",
              "    </tr>\n",
              "    <tr>\n",
              "      <th>1</th>\n",
              "      <td>3</td>\n",
              "      <td>5</td>\n",
              "    </tr>\n",
              "    <tr>\n",
              "      <th>2</th>\n",
              "      <td>3</td>\n",
              "      <td>7</td>\n",
              "    </tr>\n",
              "    <tr>\n",
              "      <th>3</th>\n",
              "      <td>5</td>\n",
              "      <td>10</td>\n",
              "    </tr>\n",
              "    <tr>\n",
              "      <th>4</th>\n",
              "      <td>7</td>\n",
              "      <td>12</td>\n",
              "    </tr>\n",
              "    <tr>\n",
              "      <th>5</th>\n",
              "      <td>2</td>\n",
              "      <td>7</td>\n",
              "    </tr>\n",
              "    <tr>\n",
              "      <th>6</th>\n",
              "      <td>8</td>\n",
              "      <td>13</td>\n",
              "    </tr>\n",
              "    <tr>\n",
              "      <th>7</th>\n",
              "      <td>9</td>\n",
              "      <td>13</td>\n",
              "    </tr>\n",
              "    <tr>\n",
              "      <th>8</th>\n",
              "      <td>6</td>\n",
              "      <td>12</td>\n",
              "    </tr>\n",
              "    <tr>\n",
              "      <th>9</th>\n",
              "      <td>9</td>\n",
              "      <td>13</td>\n",
              "    </tr>\n",
              "    <tr>\n",
              "      <th>10</th>\n",
              "      <td>6</td>\n",
              "      <td>12</td>\n",
              "    </tr>\n",
              "    <tr>\n",
              "      <th>11</th>\n",
              "      <td>2</td>\n",
              "      <td>6</td>\n",
              "    </tr>\n",
              "  </tbody>\n",
              "</table>\n",
              "</div>\n",
              "      <button class=\"colab-df-convert\" onclick=\"convertToInteractive('df-86c0afbf-e1ff-496b-b9b3-e9a940d7aafc')\"\n",
              "              title=\"Convert this dataframe to an interactive table.\"\n",
              "              style=\"display:none;\">\n",
              "        \n",
              "  <svg xmlns=\"http://www.w3.org/2000/svg\" height=\"24px\"viewBox=\"0 0 24 24\"\n",
              "       width=\"24px\">\n",
              "    <path d=\"M0 0h24v24H0V0z\" fill=\"none\"/>\n",
              "    <path d=\"M18.56 5.44l.94 2.06.94-2.06 2.06-.94-2.06-.94-.94-2.06-.94 2.06-2.06.94zm-11 1L8.5 8.5l.94-2.06 2.06-.94-2.06-.94L8.5 2.5l-.94 2.06-2.06.94zm10 10l.94 2.06.94-2.06 2.06-.94-2.06-.94-.94-2.06-.94 2.06-2.06.94z\"/><path d=\"M17.41 7.96l-1.37-1.37c-.4-.4-.92-.59-1.43-.59-.52 0-1.04.2-1.43.59L10.3 9.45l-7.72 7.72c-.78.78-.78 2.05 0 2.83L4 21.41c.39.39.9.59 1.41.59.51 0 1.02-.2 1.41-.59l7.78-7.78 2.81-2.81c.8-.78.8-2.07 0-2.86zM5.41 20L4 18.59l7.72-7.72 1.47 1.35L5.41 20z\"/>\n",
              "  </svg>\n",
              "      </button>\n",
              "      \n",
              "  <style>\n",
              "    .colab-df-container {\n",
              "      display:flex;\n",
              "      flex-wrap:wrap;\n",
              "      gap: 12px;\n",
              "    }\n",
              "\n",
              "    .colab-df-convert {\n",
              "      background-color: #E8F0FE;\n",
              "      border: none;\n",
              "      border-radius: 50%;\n",
              "      cursor: pointer;\n",
              "      display: none;\n",
              "      fill: #1967D2;\n",
              "      height: 32px;\n",
              "      padding: 0 0 0 0;\n",
              "      width: 32px;\n",
              "    }\n",
              "\n",
              "    .colab-df-convert:hover {\n",
              "      background-color: #E2EBFA;\n",
              "      box-shadow: 0px 1px 2px rgba(60, 64, 67, 0.3), 0px 1px 3px 1px rgba(60, 64, 67, 0.15);\n",
              "      fill: #174EA6;\n",
              "    }\n",
              "\n",
              "    [theme=dark] .colab-df-convert {\n",
              "      background-color: #3B4455;\n",
              "      fill: #D2E3FC;\n",
              "    }\n",
              "\n",
              "    [theme=dark] .colab-df-convert:hover {\n",
              "      background-color: #434B5C;\n",
              "      box-shadow: 0px 1px 3px 1px rgba(0, 0, 0, 0.15);\n",
              "      filter: drop-shadow(0px 1px 2px rgba(0, 0, 0, 0.3));\n",
              "      fill: #FFFFFF;\n",
              "    }\n",
              "  </style>\n",
              "\n",
              "      <script>\n",
              "        const buttonEl =\n",
              "          document.querySelector('#df-86c0afbf-e1ff-496b-b9b3-e9a940d7aafc button.colab-df-convert');\n",
              "        buttonEl.style.display =\n",
              "          google.colab.kernel.accessAllowed ? 'block' : 'none';\n",
              "\n",
              "        async function convertToInteractive(key) {\n",
              "          const element = document.querySelector('#df-86c0afbf-e1ff-496b-b9b3-e9a940d7aafc');\n",
              "          const dataTable =\n",
              "            await google.colab.kernel.invokeFunction('convertToInteractive',\n",
              "                                                     [key], {});\n",
              "          if (!dataTable) return;\n",
              "\n",
              "          const docLinkHtml = 'Like what you see? Visit the ' +\n",
              "            '<a target=\"_blank\" href=https://colab.research.google.com/notebooks/data_table.ipynb>data table notebook</a>'\n",
              "            + ' to learn more about interactive tables.';\n",
              "          element.innerHTML = '';\n",
              "          dataTable['output_type'] = 'display_data';\n",
              "          await google.colab.output.renderOutput(dataTable, element);\n",
              "          const docLink = document.createElement('div');\n",
              "          docLink.innerHTML = docLinkHtml;\n",
              "          element.appendChild(docLink);\n",
              "        }\n",
              "      </script>\n",
              "    </div>\n",
              "  </div>\n",
              "  "
            ]
          },
          "metadata": {},
          "execution_count": 14
        }
      ],
      "source": [
        "# 제거 \n",
        "df.dropna(axis=1)"
      ]
    },
    {
      "cell_type": "code",
      "execution_count": null,
      "metadata": {
        "colab": {
          "base_uri": "https://localhost:8080/",
          "height": 363
        },
        "id": "79EHZzeiZrCX",
        "outputId": "c523e4dd-de20-40f2-d317-026374799d18"
      },
      "outputs": [
        {
          "data": {
            "text/html": [
              "\n",
              "  <div id=\"df-f5cb24a7-4098-4669-bb56-37dd78db5c49\">\n",
              "    <div class=\"colab-df-container\">\n",
              "      <div>\n",
              "<style scoped>\n",
              "    .dataframe tbody tr th:only-of-type {\n",
              "        vertical-align: middle;\n",
              "    }\n",
              "\n",
              "    .dataframe tbody tr th {\n",
              "        vertical-align: top;\n",
              "    }\n",
              "\n",
              "    .dataframe thead th {\n",
              "        text-align: right;\n",
              "    }\n",
              "</style>\n",
              "<table border=\"1\" class=\"dataframe\">\n",
              "  <thead>\n",
              "    <tr style=\"text-align: right;\">\n",
              "      <th></th>\n",
              "      <th>hour</th>\n",
              "      <th>attendance</th>\n",
              "      <th>score</th>\n",
              "    </tr>\n",
              "  </thead>\n",
              "  <tbody>\n",
              "    <tr>\n",
              "      <th>0</th>\n",
              "      <td>2</td>\n",
              "      <td>1.0</td>\n",
              "      <td>3</td>\n",
              "    </tr>\n",
              "    <tr>\n",
              "      <th>1</th>\n",
              "      <td>3</td>\n",
              "      <td>2.0</td>\n",
              "      <td>5</td>\n",
              "    </tr>\n",
              "    <tr>\n",
              "      <th>4</th>\n",
              "      <td>7</td>\n",
              "      <td>5.0</td>\n",
              "      <td>12</td>\n",
              "    </tr>\n",
              "    <tr>\n",
              "      <th>5</th>\n",
              "      <td>2</td>\n",
              "      <td>5.0</td>\n",
              "      <td>7</td>\n",
              "    </tr>\n",
              "    <tr>\n",
              "      <th>6</th>\n",
              "      <td>8</td>\n",
              "      <td>9.0</td>\n",
              "      <td>13</td>\n",
              "    </tr>\n",
              "    <tr>\n",
              "      <th>7</th>\n",
              "      <td>9</td>\n",
              "      <td>10.0</td>\n",
              "      <td>13</td>\n",
              "    </tr>\n",
              "    <tr>\n",
              "      <th>8</th>\n",
              "      <td>6</td>\n",
              "      <td>12.0</td>\n",
              "      <td>12</td>\n",
              "    </tr>\n",
              "    <tr>\n",
              "      <th>9</th>\n",
              "      <td>9</td>\n",
              "      <td>2.0</td>\n",
              "      <td>13</td>\n",
              "    </tr>\n",
              "    <tr>\n",
              "      <th>10</th>\n",
              "      <td>6</td>\n",
              "      <td>10.0</td>\n",
              "      <td>12</td>\n",
              "    </tr>\n",
              "    <tr>\n",
              "      <th>11</th>\n",
              "      <td>2</td>\n",
              "      <td>4.0</td>\n",
              "      <td>6</td>\n",
              "    </tr>\n",
              "  </tbody>\n",
              "</table>\n",
              "</div>\n",
              "      <button class=\"colab-df-convert\" onclick=\"convertToInteractive('df-f5cb24a7-4098-4669-bb56-37dd78db5c49')\"\n",
              "              title=\"Convert this dataframe to an interactive table.\"\n",
              "              style=\"display:none;\">\n",
              "        \n",
              "  <svg xmlns=\"http://www.w3.org/2000/svg\" height=\"24px\"viewBox=\"0 0 24 24\"\n",
              "       width=\"24px\">\n",
              "    <path d=\"M0 0h24v24H0V0z\" fill=\"none\"/>\n",
              "    <path d=\"M18.56 5.44l.94 2.06.94-2.06 2.06-.94-2.06-.94-.94-2.06-.94 2.06-2.06.94zm-11 1L8.5 8.5l.94-2.06 2.06-.94-2.06-.94L8.5 2.5l-.94 2.06-2.06.94zm10 10l.94 2.06.94-2.06 2.06-.94-2.06-.94-.94-2.06-.94 2.06-2.06.94z\"/><path d=\"M17.41 7.96l-1.37-1.37c-.4-.4-.92-.59-1.43-.59-.52 0-1.04.2-1.43.59L10.3 9.45l-7.72 7.72c-.78.78-.78 2.05 0 2.83L4 21.41c.39.39.9.59 1.41.59.51 0 1.02-.2 1.41-.59l7.78-7.78 2.81-2.81c.8-.78.8-2.07 0-2.86zM5.41 20L4 18.59l7.72-7.72 1.47 1.35L5.41 20z\"/>\n",
              "  </svg>\n",
              "      </button>\n",
              "      \n",
              "  <style>\n",
              "    .colab-df-container {\n",
              "      display:flex;\n",
              "      flex-wrap:wrap;\n",
              "      gap: 12px;\n",
              "    }\n",
              "\n",
              "    .colab-df-convert {\n",
              "      background-color: #E8F0FE;\n",
              "      border: none;\n",
              "      border-radius: 50%;\n",
              "      cursor: pointer;\n",
              "      display: none;\n",
              "      fill: #1967D2;\n",
              "      height: 32px;\n",
              "      padding: 0 0 0 0;\n",
              "      width: 32px;\n",
              "    }\n",
              "\n",
              "    .colab-df-convert:hover {\n",
              "      background-color: #E2EBFA;\n",
              "      box-shadow: 0px 1px 2px rgba(60, 64, 67, 0.3), 0px 1px 3px 1px rgba(60, 64, 67, 0.15);\n",
              "      fill: #174EA6;\n",
              "    }\n",
              "\n",
              "    [theme=dark] .colab-df-convert {\n",
              "      background-color: #3B4455;\n",
              "      fill: #D2E3FC;\n",
              "    }\n",
              "\n",
              "    [theme=dark] .colab-df-convert:hover {\n",
              "      background-color: #434B5C;\n",
              "      box-shadow: 0px 1px 3px 1px rgba(0, 0, 0, 0.15);\n",
              "      filter: drop-shadow(0px 1px 2px rgba(0, 0, 0, 0.3));\n",
              "      fill: #FFFFFF;\n",
              "    }\n",
              "  </style>\n",
              "\n",
              "      <script>\n",
              "        const buttonEl =\n",
              "          document.querySelector('#df-f5cb24a7-4098-4669-bb56-37dd78db5c49 button.colab-df-convert');\n",
              "        buttonEl.style.display =\n",
              "          google.colab.kernel.accessAllowed ? 'block' : 'none';\n",
              "\n",
              "        async function convertToInteractive(key) {\n",
              "          const element = document.querySelector('#df-f5cb24a7-4098-4669-bb56-37dd78db5c49');\n",
              "          const dataTable =\n",
              "            await google.colab.kernel.invokeFunction('convertToInteractive',\n",
              "                                                     [key], {});\n",
              "          if (!dataTable) return;\n",
              "\n",
              "          const docLinkHtml = 'Like what you see? Visit the ' +\n",
              "            '<a target=\"_blank\" href=https://colab.research.google.com/notebooks/data_table.ipynb>data table notebook</a>'\n",
              "            + ' to learn more about interactive tables.';\n",
              "          element.innerHTML = '';\n",
              "          dataTable['output_type'] = 'display_data';\n",
              "          await google.colab.output.renderOutput(dataTable, element);\n",
              "          const docLink = document.createElement('div');\n",
              "          docLink.innerHTML = docLinkHtml;\n",
              "          element.appendChild(docLink);\n",
              "        }\n",
              "      </script>\n",
              "    </div>\n",
              "  </div>\n",
              "  "
            ],
            "text/plain": [
              "    hour  attendance  score\n",
              "0      2         1.0      3\n",
              "1      3         2.0      5\n",
              "4      7         5.0     12\n",
              "5      2         5.0      7\n",
              "6      8         9.0     13\n",
              "7      9        10.0     13\n",
              "8      6        12.0     12\n",
              "9      9         2.0     13\n",
              "10     6        10.0     12\n",
              "11     2         4.0      6"
            ]
          },
          "execution_count": 12,
          "metadata": {},
          "output_type": "execute_result"
        }
      ],
      "source": [
        "df.dropna(axis=0)"
      ]
    },
    {
      "cell_type": "code",
      "execution_count": null,
      "metadata": {
        "colab": {
          "base_uri": "https://localhost:8080/",
          "height": 363
        },
        "id": "93lc_o-dZq7V",
        "outputId": "39039256-de49-466d-c4e6-4535f0858100"
      },
      "outputs": [
        {
          "output_type": "execute_result",
          "data": {
            "text/plain": [
              "    hour  attendance  score\n",
              "0      2         1.0      3\n",
              "1      3         2.0      5\n",
              "4      7         5.0     12\n",
              "5      2         5.0      7\n",
              "6      8         9.0     13\n",
              "7      9        10.0     13\n",
              "8      6        12.0     12\n",
              "9      9         2.0     13\n",
              "10     6        10.0     12\n",
              "11     2         4.0      6"
            ],
            "text/html": [
              "\n",
              "  <div id=\"df-ebfb4266-0d0d-4d46-923b-fb7dee3b3f17\">\n",
              "    <div class=\"colab-df-container\">\n",
              "      <div>\n",
              "<style scoped>\n",
              "    .dataframe tbody tr th:only-of-type {\n",
              "        vertical-align: middle;\n",
              "    }\n",
              "\n",
              "    .dataframe tbody tr th {\n",
              "        vertical-align: top;\n",
              "    }\n",
              "\n",
              "    .dataframe thead th {\n",
              "        text-align: right;\n",
              "    }\n",
              "</style>\n",
              "<table border=\"1\" class=\"dataframe\">\n",
              "  <thead>\n",
              "    <tr style=\"text-align: right;\">\n",
              "      <th></th>\n",
              "      <th>hour</th>\n",
              "      <th>attendance</th>\n",
              "      <th>score</th>\n",
              "    </tr>\n",
              "  </thead>\n",
              "  <tbody>\n",
              "    <tr>\n",
              "      <th>0</th>\n",
              "      <td>2</td>\n",
              "      <td>1.0</td>\n",
              "      <td>3</td>\n",
              "    </tr>\n",
              "    <tr>\n",
              "      <th>1</th>\n",
              "      <td>3</td>\n",
              "      <td>2.0</td>\n",
              "      <td>5</td>\n",
              "    </tr>\n",
              "    <tr>\n",
              "      <th>4</th>\n",
              "      <td>7</td>\n",
              "      <td>5.0</td>\n",
              "      <td>12</td>\n",
              "    </tr>\n",
              "    <tr>\n",
              "      <th>5</th>\n",
              "      <td>2</td>\n",
              "      <td>5.0</td>\n",
              "      <td>7</td>\n",
              "    </tr>\n",
              "    <tr>\n",
              "      <th>6</th>\n",
              "      <td>8</td>\n",
              "      <td>9.0</td>\n",
              "      <td>13</td>\n",
              "    </tr>\n",
              "    <tr>\n",
              "      <th>7</th>\n",
              "      <td>9</td>\n",
              "      <td>10.0</td>\n",
              "      <td>13</td>\n",
              "    </tr>\n",
              "    <tr>\n",
              "      <th>8</th>\n",
              "      <td>6</td>\n",
              "      <td>12.0</td>\n",
              "      <td>12</td>\n",
              "    </tr>\n",
              "    <tr>\n",
              "      <th>9</th>\n",
              "      <td>9</td>\n",
              "      <td>2.0</td>\n",
              "      <td>13</td>\n",
              "    </tr>\n",
              "    <tr>\n",
              "      <th>10</th>\n",
              "      <td>6</td>\n",
              "      <td>10.0</td>\n",
              "      <td>12</td>\n",
              "    </tr>\n",
              "    <tr>\n",
              "      <th>11</th>\n",
              "      <td>2</td>\n",
              "      <td>4.0</td>\n",
              "      <td>6</td>\n",
              "    </tr>\n",
              "  </tbody>\n",
              "</table>\n",
              "</div>\n",
              "      <button class=\"colab-df-convert\" onclick=\"convertToInteractive('df-ebfb4266-0d0d-4d46-923b-fb7dee3b3f17')\"\n",
              "              title=\"Convert this dataframe to an interactive table.\"\n",
              "              style=\"display:none;\">\n",
              "        \n",
              "  <svg xmlns=\"http://www.w3.org/2000/svg\" height=\"24px\"viewBox=\"0 0 24 24\"\n",
              "       width=\"24px\">\n",
              "    <path d=\"M0 0h24v24H0V0z\" fill=\"none\"/>\n",
              "    <path d=\"M18.56 5.44l.94 2.06.94-2.06 2.06-.94-2.06-.94-.94-2.06-.94 2.06-2.06.94zm-11 1L8.5 8.5l.94-2.06 2.06-.94-2.06-.94L8.5 2.5l-.94 2.06-2.06.94zm10 10l.94 2.06.94-2.06 2.06-.94-2.06-.94-.94-2.06-.94 2.06-2.06.94z\"/><path d=\"M17.41 7.96l-1.37-1.37c-.4-.4-.92-.59-1.43-.59-.52 0-1.04.2-1.43.59L10.3 9.45l-7.72 7.72c-.78.78-.78 2.05 0 2.83L4 21.41c.39.39.9.59 1.41.59.51 0 1.02-.2 1.41-.59l7.78-7.78 2.81-2.81c.8-.78.8-2.07 0-2.86zM5.41 20L4 18.59l7.72-7.72 1.47 1.35L5.41 20z\"/>\n",
              "  </svg>\n",
              "      </button>\n",
              "      \n",
              "  <style>\n",
              "    .colab-df-container {\n",
              "      display:flex;\n",
              "      flex-wrap:wrap;\n",
              "      gap: 12px;\n",
              "    }\n",
              "\n",
              "    .colab-df-convert {\n",
              "      background-color: #E8F0FE;\n",
              "      border: none;\n",
              "      border-radius: 50%;\n",
              "      cursor: pointer;\n",
              "      display: none;\n",
              "      fill: #1967D2;\n",
              "      height: 32px;\n",
              "      padding: 0 0 0 0;\n",
              "      width: 32px;\n",
              "    }\n",
              "\n",
              "    .colab-df-convert:hover {\n",
              "      background-color: #E2EBFA;\n",
              "      box-shadow: 0px 1px 2px rgba(60, 64, 67, 0.3), 0px 1px 3px 1px rgba(60, 64, 67, 0.15);\n",
              "      fill: #174EA6;\n",
              "    }\n",
              "\n",
              "    [theme=dark] .colab-df-convert {\n",
              "      background-color: #3B4455;\n",
              "      fill: #D2E3FC;\n",
              "    }\n",
              "\n",
              "    [theme=dark] .colab-df-convert:hover {\n",
              "      background-color: #434B5C;\n",
              "      box-shadow: 0px 1px 3px 1px rgba(0, 0, 0, 0.15);\n",
              "      filter: drop-shadow(0px 1px 2px rgba(0, 0, 0, 0.3));\n",
              "      fill: #FFFFFF;\n",
              "    }\n",
              "  </style>\n",
              "\n",
              "      <script>\n",
              "        const buttonEl =\n",
              "          document.querySelector('#df-ebfb4266-0d0d-4d46-923b-fb7dee3b3f17 button.colab-df-convert');\n",
              "        buttonEl.style.display =\n",
              "          google.colab.kernel.accessAllowed ? 'block' : 'none';\n",
              "\n",
              "        async function convertToInteractive(key) {\n",
              "          const element = document.querySelector('#df-ebfb4266-0d0d-4d46-923b-fb7dee3b3f17');\n",
              "          const dataTable =\n",
              "            await google.colab.kernel.invokeFunction('convertToInteractive',\n",
              "                                                     [key], {});\n",
              "          if (!dataTable) return;\n",
              "\n",
              "          const docLinkHtml = 'Like what you see? Visit the ' +\n",
              "            '<a target=\"_blank\" href=https://colab.research.google.com/notebooks/data_table.ipynb>data table notebook</a>'\n",
              "            + ' to learn more about interactive tables.';\n",
              "          element.innerHTML = '';\n",
              "          dataTable['output_type'] = 'display_data';\n",
              "          await google.colab.output.renderOutput(dataTable, element);\n",
              "          const docLink = document.createElement('div');\n",
              "          docLink.innerHTML = docLinkHtml;\n",
              "          element.appendChild(docLink);\n",
              "        }\n",
              "      </script>\n",
              "    </div>\n",
              "  </div>\n",
              "  "
            ]
          },
          "metadata": {},
          "execution_count": 51
        }
      ],
      "source": [
        "# thresh : 축을 기준으로 n개 미만 입력되면 그 축을 삭제하겠다.\n",
        "df.dropna(axis = 0, thresh=3)"
      ]
    },
    {
      "cell_type": "code",
      "source": [
        "df"
      ],
      "metadata": {
        "colab": {
          "base_uri": "https://localhost:8080/",
          "height": 425
        },
        "id": "N9bYjj4pfVd-",
        "outputId": "681d3759-32cf-412a-b42d-b3366e7f834c"
      },
      "execution_count": null,
      "outputs": [
        {
          "output_type": "execute_result",
          "data": {
            "text/plain": [
              "    hour  attendance  score\n",
              "0      2         1.0      3\n",
              "1      3         2.0      5\n",
              "2      3         NaN      7\n",
              "3      5         NaN     10\n",
              "4      7         5.0     12\n",
              "5      2         5.0      7\n",
              "6      8         9.0     13\n",
              "7      9        10.0     13\n",
              "8      6        12.0     12\n",
              "9      9         2.0     13\n",
              "10     6        10.0     12\n",
              "11     2         4.0      6"
            ],
            "text/html": [
              "\n",
              "  <div id=\"df-9a805c76-a67f-4fb9-9dac-6580006d6ed6\">\n",
              "    <div class=\"colab-df-container\">\n",
              "      <div>\n",
              "<style scoped>\n",
              "    .dataframe tbody tr th:only-of-type {\n",
              "        vertical-align: middle;\n",
              "    }\n",
              "\n",
              "    .dataframe tbody tr th {\n",
              "        vertical-align: top;\n",
              "    }\n",
              "\n",
              "    .dataframe thead th {\n",
              "        text-align: right;\n",
              "    }\n",
              "</style>\n",
              "<table border=\"1\" class=\"dataframe\">\n",
              "  <thead>\n",
              "    <tr style=\"text-align: right;\">\n",
              "      <th></th>\n",
              "      <th>hour</th>\n",
              "      <th>attendance</th>\n",
              "      <th>score</th>\n",
              "    </tr>\n",
              "  </thead>\n",
              "  <tbody>\n",
              "    <tr>\n",
              "      <th>0</th>\n",
              "      <td>2</td>\n",
              "      <td>1.0</td>\n",
              "      <td>3</td>\n",
              "    </tr>\n",
              "    <tr>\n",
              "      <th>1</th>\n",
              "      <td>3</td>\n",
              "      <td>2.0</td>\n",
              "      <td>5</td>\n",
              "    </tr>\n",
              "    <tr>\n",
              "      <th>2</th>\n",
              "      <td>3</td>\n",
              "      <td>NaN</td>\n",
              "      <td>7</td>\n",
              "    </tr>\n",
              "    <tr>\n",
              "      <th>3</th>\n",
              "      <td>5</td>\n",
              "      <td>NaN</td>\n",
              "      <td>10</td>\n",
              "    </tr>\n",
              "    <tr>\n",
              "      <th>4</th>\n",
              "      <td>7</td>\n",
              "      <td>5.0</td>\n",
              "      <td>12</td>\n",
              "    </tr>\n",
              "    <tr>\n",
              "      <th>5</th>\n",
              "      <td>2</td>\n",
              "      <td>5.0</td>\n",
              "      <td>7</td>\n",
              "    </tr>\n",
              "    <tr>\n",
              "      <th>6</th>\n",
              "      <td>8</td>\n",
              "      <td>9.0</td>\n",
              "      <td>13</td>\n",
              "    </tr>\n",
              "    <tr>\n",
              "      <th>7</th>\n",
              "      <td>9</td>\n",
              "      <td>10.0</td>\n",
              "      <td>13</td>\n",
              "    </tr>\n",
              "    <tr>\n",
              "      <th>8</th>\n",
              "      <td>6</td>\n",
              "      <td>12.0</td>\n",
              "      <td>12</td>\n",
              "    </tr>\n",
              "    <tr>\n",
              "      <th>9</th>\n",
              "      <td>9</td>\n",
              "      <td>2.0</td>\n",
              "      <td>13</td>\n",
              "    </tr>\n",
              "    <tr>\n",
              "      <th>10</th>\n",
              "      <td>6</td>\n",
              "      <td>10.0</td>\n",
              "      <td>12</td>\n",
              "    </tr>\n",
              "    <tr>\n",
              "      <th>11</th>\n",
              "      <td>2</td>\n",
              "      <td>4.0</td>\n",
              "      <td>6</td>\n",
              "    </tr>\n",
              "  </tbody>\n",
              "</table>\n",
              "</div>\n",
              "      <button class=\"colab-df-convert\" onclick=\"convertToInteractive('df-9a805c76-a67f-4fb9-9dac-6580006d6ed6')\"\n",
              "              title=\"Convert this dataframe to an interactive table.\"\n",
              "              style=\"display:none;\">\n",
              "        \n",
              "  <svg xmlns=\"http://www.w3.org/2000/svg\" height=\"24px\"viewBox=\"0 0 24 24\"\n",
              "       width=\"24px\">\n",
              "    <path d=\"M0 0h24v24H0V0z\" fill=\"none\"/>\n",
              "    <path d=\"M18.56 5.44l.94 2.06.94-2.06 2.06-.94-2.06-.94-.94-2.06-.94 2.06-2.06.94zm-11 1L8.5 8.5l.94-2.06 2.06-.94-2.06-.94L8.5 2.5l-.94 2.06-2.06.94zm10 10l.94 2.06.94-2.06 2.06-.94-2.06-.94-.94-2.06-.94 2.06-2.06.94z\"/><path d=\"M17.41 7.96l-1.37-1.37c-.4-.4-.92-.59-1.43-.59-.52 0-1.04.2-1.43.59L10.3 9.45l-7.72 7.72c-.78.78-.78 2.05 0 2.83L4 21.41c.39.39.9.59 1.41.59.51 0 1.02-.2 1.41-.59l7.78-7.78 2.81-2.81c.8-.78.8-2.07 0-2.86zM5.41 20L4 18.59l7.72-7.72 1.47 1.35L5.41 20z\"/>\n",
              "  </svg>\n",
              "      </button>\n",
              "      \n",
              "  <style>\n",
              "    .colab-df-container {\n",
              "      display:flex;\n",
              "      flex-wrap:wrap;\n",
              "      gap: 12px;\n",
              "    }\n",
              "\n",
              "    .colab-df-convert {\n",
              "      background-color: #E8F0FE;\n",
              "      border: none;\n",
              "      border-radius: 50%;\n",
              "      cursor: pointer;\n",
              "      display: none;\n",
              "      fill: #1967D2;\n",
              "      height: 32px;\n",
              "      padding: 0 0 0 0;\n",
              "      width: 32px;\n",
              "    }\n",
              "\n",
              "    .colab-df-convert:hover {\n",
              "      background-color: #E2EBFA;\n",
              "      box-shadow: 0px 1px 2px rgba(60, 64, 67, 0.3), 0px 1px 3px 1px rgba(60, 64, 67, 0.15);\n",
              "      fill: #174EA6;\n",
              "    }\n",
              "\n",
              "    [theme=dark] .colab-df-convert {\n",
              "      background-color: #3B4455;\n",
              "      fill: #D2E3FC;\n",
              "    }\n",
              "\n",
              "    [theme=dark] .colab-df-convert:hover {\n",
              "      background-color: #434B5C;\n",
              "      box-shadow: 0px 1px 3px 1px rgba(0, 0, 0, 0.15);\n",
              "      filter: drop-shadow(0px 1px 2px rgba(0, 0, 0, 0.3));\n",
              "      fill: #FFFFFF;\n",
              "    }\n",
              "  </style>\n",
              "\n",
              "      <script>\n",
              "        const buttonEl =\n",
              "          document.querySelector('#df-9a805c76-a67f-4fb9-9dac-6580006d6ed6 button.colab-df-convert');\n",
              "        buttonEl.style.display =\n",
              "          google.colab.kernel.accessAllowed ? 'block' : 'none';\n",
              "\n",
              "        async function convertToInteractive(key) {\n",
              "          const element = document.querySelector('#df-9a805c76-a67f-4fb9-9dac-6580006d6ed6');\n",
              "          const dataTable =\n",
              "            await google.colab.kernel.invokeFunction('convertToInteractive',\n",
              "                                                     [key], {});\n",
              "          if (!dataTable) return;\n",
              "\n",
              "          const docLinkHtml = 'Like what you see? Visit the ' +\n",
              "            '<a target=\"_blank\" href=https://colab.research.google.com/notebooks/data_table.ipynb>data table notebook</a>'\n",
              "            + ' to learn more about interactive tables.';\n",
              "          element.innerHTML = '';\n",
              "          dataTable['output_type'] = 'display_data';\n",
              "          await google.colab.output.renderOutput(dataTable, element);\n",
              "          const docLink = document.createElement('div');\n",
              "          docLink.innerHTML = docLinkHtml;\n",
              "          element.appendChild(docLink);\n",
              "        }\n",
              "      </script>\n",
              "    </div>\n",
              "  </div>\n",
              "  "
            ]
          },
          "metadata": {},
          "execution_count": 23
        }
      ]
    },
    {
      "cell_type": "code",
      "execution_count": null,
      "metadata": {
        "colab": {
          "base_uri": "https://localhost:8080/",
          "height": 425
        },
        "id": "q6PM2uewZq0J",
        "outputId": "ffe18121-53f0-452d-8c9a-16c36d7bbfd3"
      },
      "outputs": [
        {
          "output_type": "execute_result",
          "data": {
            "text/plain": [
              "    hour  attendance  score\n",
              "0      2         1.0      3\n",
              "1      3         2.0      5\n",
              "2      3         5.0      7\n",
              "3      5         5.0     10\n",
              "4      7         5.0     12\n",
              "5      2         5.0      7\n",
              "6      8         9.0     13\n",
              "7      9        10.0     13\n",
              "8      6        12.0     12\n",
              "9      9         2.0     13\n",
              "10     6        10.0     12\n",
              "11     2         4.0      6"
            ],
            "text/html": [
              "\n",
              "  <div id=\"df-579fb366-445b-40aa-852a-2b0a09f51305\">\n",
              "    <div class=\"colab-df-container\">\n",
              "      <div>\n",
              "<style scoped>\n",
              "    .dataframe tbody tr th:only-of-type {\n",
              "        vertical-align: middle;\n",
              "    }\n",
              "\n",
              "    .dataframe tbody tr th {\n",
              "        vertical-align: top;\n",
              "    }\n",
              "\n",
              "    .dataframe thead th {\n",
              "        text-align: right;\n",
              "    }\n",
              "</style>\n",
              "<table border=\"1\" class=\"dataframe\">\n",
              "  <thead>\n",
              "    <tr style=\"text-align: right;\">\n",
              "      <th></th>\n",
              "      <th>hour</th>\n",
              "      <th>attendance</th>\n",
              "      <th>score</th>\n",
              "    </tr>\n",
              "  </thead>\n",
              "  <tbody>\n",
              "    <tr>\n",
              "      <th>0</th>\n",
              "      <td>2</td>\n",
              "      <td>1.0</td>\n",
              "      <td>3</td>\n",
              "    </tr>\n",
              "    <tr>\n",
              "      <th>1</th>\n",
              "      <td>3</td>\n",
              "      <td>2.0</td>\n",
              "      <td>5</td>\n",
              "    </tr>\n",
              "    <tr>\n",
              "      <th>2</th>\n",
              "      <td>3</td>\n",
              "      <td>5.0</td>\n",
              "      <td>7</td>\n",
              "    </tr>\n",
              "    <tr>\n",
              "      <th>3</th>\n",
              "      <td>5</td>\n",
              "      <td>5.0</td>\n",
              "      <td>10</td>\n",
              "    </tr>\n",
              "    <tr>\n",
              "      <th>4</th>\n",
              "      <td>7</td>\n",
              "      <td>5.0</td>\n",
              "      <td>12</td>\n",
              "    </tr>\n",
              "    <tr>\n",
              "      <th>5</th>\n",
              "      <td>2</td>\n",
              "      <td>5.0</td>\n",
              "      <td>7</td>\n",
              "    </tr>\n",
              "    <tr>\n",
              "      <th>6</th>\n",
              "      <td>8</td>\n",
              "      <td>9.0</td>\n",
              "      <td>13</td>\n",
              "    </tr>\n",
              "    <tr>\n",
              "      <th>7</th>\n",
              "      <td>9</td>\n",
              "      <td>10.0</td>\n",
              "      <td>13</td>\n",
              "    </tr>\n",
              "    <tr>\n",
              "      <th>8</th>\n",
              "      <td>6</td>\n",
              "      <td>12.0</td>\n",
              "      <td>12</td>\n",
              "    </tr>\n",
              "    <tr>\n",
              "      <th>9</th>\n",
              "      <td>9</td>\n",
              "      <td>2.0</td>\n",
              "      <td>13</td>\n",
              "    </tr>\n",
              "    <tr>\n",
              "      <th>10</th>\n",
              "      <td>6</td>\n",
              "      <td>10.0</td>\n",
              "      <td>12</td>\n",
              "    </tr>\n",
              "    <tr>\n",
              "      <th>11</th>\n",
              "      <td>2</td>\n",
              "      <td>4.0</td>\n",
              "      <td>6</td>\n",
              "    </tr>\n",
              "  </tbody>\n",
              "</table>\n",
              "</div>\n",
              "      <button class=\"colab-df-convert\" onclick=\"convertToInteractive('df-579fb366-445b-40aa-852a-2b0a09f51305')\"\n",
              "              title=\"Convert this dataframe to an interactive table.\"\n",
              "              style=\"display:none;\">\n",
              "        \n",
              "  <svg xmlns=\"http://www.w3.org/2000/svg\" height=\"24px\"viewBox=\"0 0 24 24\"\n",
              "       width=\"24px\">\n",
              "    <path d=\"M0 0h24v24H0V0z\" fill=\"none\"/>\n",
              "    <path d=\"M18.56 5.44l.94 2.06.94-2.06 2.06-.94-2.06-.94-.94-2.06-.94 2.06-2.06.94zm-11 1L8.5 8.5l.94-2.06 2.06-.94-2.06-.94L8.5 2.5l-.94 2.06-2.06.94zm10 10l.94 2.06.94-2.06 2.06-.94-2.06-.94-.94-2.06-.94 2.06-2.06.94z\"/><path d=\"M17.41 7.96l-1.37-1.37c-.4-.4-.92-.59-1.43-.59-.52 0-1.04.2-1.43.59L10.3 9.45l-7.72 7.72c-.78.78-.78 2.05 0 2.83L4 21.41c.39.39.9.59 1.41.59.51 0 1.02-.2 1.41-.59l7.78-7.78 2.81-2.81c.8-.78.8-2.07 0-2.86zM5.41 20L4 18.59l7.72-7.72 1.47 1.35L5.41 20z\"/>\n",
              "  </svg>\n",
              "      </button>\n",
              "      \n",
              "  <style>\n",
              "    .colab-df-container {\n",
              "      display:flex;\n",
              "      flex-wrap:wrap;\n",
              "      gap: 12px;\n",
              "    }\n",
              "\n",
              "    .colab-df-convert {\n",
              "      background-color: #E8F0FE;\n",
              "      border: none;\n",
              "      border-radius: 50%;\n",
              "      cursor: pointer;\n",
              "      display: none;\n",
              "      fill: #1967D2;\n",
              "      height: 32px;\n",
              "      padding: 0 0 0 0;\n",
              "      width: 32px;\n",
              "    }\n",
              "\n",
              "    .colab-df-convert:hover {\n",
              "      background-color: #E2EBFA;\n",
              "      box-shadow: 0px 1px 2px rgba(60, 64, 67, 0.3), 0px 1px 3px 1px rgba(60, 64, 67, 0.15);\n",
              "      fill: #174EA6;\n",
              "    }\n",
              "\n",
              "    [theme=dark] .colab-df-convert {\n",
              "      background-color: #3B4455;\n",
              "      fill: #D2E3FC;\n",
              "    }\n",
              "\n",
              "    [theme=dark] .colab-df-convert:hover {\n",
              "      background-color: #434B5C;\n",
              "      box-shadow: 0px 1px 3px 1px rgba(0, 0, 0, 0.15);\n",
              "      filter: drop-shadow(0px 1px 2px rgba(0, 0, 0, 0.3));\n",
              "      fill: #FFFFFF;\n",
              "    }\n",
              "  </style>\n",
              "\n",
              "      <script>\n",
              "        const buttonEl =\n",
              "          document.querySelector('#df-579fb366-445b-40aa-852a-2b0a09f51305 button.colab-df-convert');\n",
              "        buttonEl.style.display =\n",
              "          google.colab.kernel.accessAllowed ? 'block' : 'none';\n",
              "\n",
              "        async function convertToInteractive(key) {\n",
              "          const element = document.querySelector('#df-579fb366-445b-40aa-852a-2b0a09f51305');\n",
              "          const dataTable =\n",
              "            await google.colab.kernel.invokeFunction('convertToInteractive',\n",
              "                                                     [key], {});\n",
              "          if (!dataTable) return;\n",
              "\n",
              "          const docLinkHtml = 'Like what you see? Visit the ' +\n",
              "            '<a target=\"_blank\" href=https://colab.research.google.com/notebooks/data_table.ipynb>data table notebook</a>'\n",
              "            + ' to learn more about interactive tables.';\n",
              "          element.innerHTML = '';\n",
              "          dataTable['output_type'] = 'display_data';\n",
              "          await google.colab.output.renderOutput(dataTable, element);\n",
              "          const docLink = document.createElement('div');\n",
              "          docLink.innerHTML = docLinkHtml;\n",
              "          element.appendChild(docLink);\n",
              "        }\n",
              "      </script>\n",
              "    </div>\n",
              "  </div>\n",
              "  "
            ]
          },
          "metadata": {},
          "execution_count": 25
        }
      ],
      "source": [
        "# fillna \n",
        "df.fillna(method = 'bfill')"
      ]
    },
    {
      "cell_type": "code",
      "execution_count": null,
      "metadata": {
        "colab": {
          "base_uri": "https://localhost:8080/",
          "height": 426
        },
        "id": "yRCnZrveZkWX",
        "outputId": "3b55fb91-471a-47d3-d41a-b366574d7ba0"
      },
      "outputs": [
        {
          "data": {
            "text/html": [
              "\n",
              "  <div id=\"df-1f3d54ae-fd4a-4876-8d35-8a9fcc2a25fe\">\n",
              "    <div class=\"colab-df-container\">\n",
              "      <div>\n",
              "<style scoped>\n",
              "    .dataframe tbody tr th:only-of-type {\n",
              "        vertical-align: middle;\n",
              "    }\n",
              "\n",
              "    .dataframe tbody tr th {\n",
              "        vertical-align: top;\n",
              "    }\n",
              "\n",
              "    .dataframe thead th {\n",
              "        text-align: right;\n",
              "    }\n",
              "</style>\n",
              "<table border=\"1\" class=\"dataframe\">\n",
              "  <thead>\n",
              "    <tr style=\"text-align: right;\">\n",
              "      <th></th>\n",
              "      <th>hour</th>\n",
              "      <th>attendance</th>\n",
              "      <th>score</th>\n",
              "    </tr>\n",
              "  </thead>\n",
              "  <tbody>\n",
              "    <tr>\n",
              "      <th>0</th>\n",
              "      <td>2</td>\n",
              "      <td>1.0</td>\n",
              "      <td>3</td>\n",
              "    </tr>\n",
              "    <tr>\n",
              "      <th>1</th>\n",
              "      <td>3</td>\n",
              "      <td>2.0</td>\n",
              "      <td>5</td>\n",
              "    </tr>\n",
              "    <tr>\n",
              "      <th>2</th>\n",
              "      <td>3</td>\n",
              "      <td>6.0</td>\n",
              "      <td>7</td>\n",
              "    </tr>\n",
              "    <tr>\n",
              "      <th>3</th>\n",
              "      <td>5</td>\n",
              "      <td>6.0</td>\n",
              "      <td>10</td>\n",
              "    </tr>\n",
              "    <tr>\n",
              "      <th>4</th>\n",
              "      <td>7</td>\n",
              "      <td>5.0</td>\n",
              "      <td>12</td>\n",
              "    </tr>\n",
              "    <tr>\n",
              "      <th>5</th>\n",
              "      <td>2</td>\n",
              "      <td>5.0</td>\n",
              "      <td>7</td>\n",
              "    </tr>\n",
              "    <tr>\n",
              "      <th>6</th>\n",
              "      <td>8</td>\n",
              "      <td>9.0</td>\n",
              "      <td>13</td>\n",
              "    </tr>\n",
              "    <tr>\n",
              "      <th>7</th>\n",
              "      <td>9</td>\n",
              "      <td>10.0</td>\n",
              "      <td>13</td>\n",
              "    </tr>\n",
              "    <tr>\n",
              "      <th>8</th>\n",
              "      <td>6</td>\n",
              "      <td>12.0</td>\n",
              "      <td>12</td>\n",
              "    </tr>\n",
              "    <tr>\n",
              "      <th>9</th>\n",
              "      <td>9</td>\n",
              "      <td>2.0</td>\n",
              "      <td>13</td>\n",
              "    </tr>\n",
              "    <tr>\n",
              "      <th>10</th>\n",
              "      <td>6</td>\n",
              "      <td>10.0</td>\n",
              "      <td>12</td>\n",
              "    </tr>\n",
              "    <tr>\n",
              "      <th>11</th>\n",
              "      <td>2</td>\n",
              "      <td>4.0</td>\n",
              "      <td>6</td>\n",
              "    </tr>\n",
              "  </tbody>\n",
              "</table>\n",
              "</div>\n",
              "      <button class=\"colab-df-convert\" onclick=\"convertToInteractive('df-1f3d54ae-fd4a-4876-8d35-8a9fcc2a25fe')\"\n",
              "              title=\"Convert this dataframe to an interactive table.\"\n",
              "              style=\"display:none;\">\n",
              "        \n",
              "  <svg xmlns=\"http://www.w3.org/2000/svg\" height=\"24px\"viewBox=\"0 0 24 24\"\n",
              "       width=\"24px\">\n",
              "    <path d=\"M0 0h24v24H0V0z\" fill=\"none\"/>\n",
              "    <path d=\"M18.56 5.44l.94 2.06.94-2.06 2.06-.94-2.06-.94-.94-2.06-.94 2.06-2.06.94zm-11 1L8.5 8.5l.94-2.06 2.06-.94-2.06-.94L8.5 2.5l-.94 2.06-2.06.94zm10 10l.94 2.06.94-2.06 2.06-.94-2.06-.94-.94-2.06-.94 2.06-2.06.94z\"/><path d=\"M17.41 7.96l-1.37-1.37c-.4-.4-.92-.59-1.43-.59-.52 0-1.04.2-1.43.59L10.3 9.45l-7.72 7.72c-.78.78-.78 2.05 0 2.83L4 21.41c.39.39.9.59 1.41.59.51 0 1.02-.2 1.41-.59l7.78-7.78 2.81-2.81c.8-.78.8-2.07 0-2.86zM5.41 20L4 18.59l7.72-7.72 1.47 1.35L5.41 20z\"/>\n",
              "  </svg>\n",
              "      </button>\n",
              "      \n",
              "  <style>\n",
              "    .colab-df-container {\n",
              "      display:flex;\n",
              "      flex-wrap:wrap;\n",
              "      gap: 12px;\n",
              "    }\n",
              "\n",
              "    .colab-df-convert {\n",
              "      background-color: #E8F0FE;\n",
              "      border: none;\n",
              "      border-radius: 50%;\n",
              "      cursor: pointer;\n",
              "      display: none;\n",
              "      fill: #1967D2;\n",
              "      height: 32px;\n",
              "      padding: 0 0 0 0;\n",
              "      width: 32px;\n",
              "    }\n",
              "\n",
              "    .colab-df-convert:hover {\n",
              "      background-color: #E2EBFA;\n",
              "      box-shadow: 0px 1px 2px rgba(60, 64, 67, 0.3), 0px 1px 3px 1px rgba(60, 64, 67, 0.15);\n",
              "      fill: #174EA6;\n",
              "    }\n",
              "\n",
              "    [theme=dark] .colab-df-convert {\n",
              "      background-color: #3B4455;\n",
              "      fill: #D2E3FC;\n",
              "    }\n",
              "\n",
              "    [theme=dark] .colab-df-convert:hover {\n",
              "      background-color: #434B5C;\n",
              "      box-shadow: 0px 1px 3px 1px rgba(0, 0, 0, 0.15);\n",
              "      filter: drop-shadow(0px 1px 2px rgba(0, 0, 0, 0.3));\n",
              "      fill: #FFFFFF;\n",
              "    }\n",
              "  </style>\n",
              "\n",
              "      <script>\n",
              "        const buttonEl =\n",
              "          document.querySelector('#df-1f3d54ae-fd4a-4876-8d35-8a9fcc2a25fe button.colab-df-convert');\n",
              "        buttonEl.style.display =\n",
              "          google.colab.kernel.accessAllowed ? 'block' : 'none';\n",
              "\n",
              "        async function convertToInteractive(key) {\n",
              "          const element = document.querySelector('#df-1f3d54ae-fd4a-4876-8d35-8a9fcc2a25fe');\n",
              "          const dataTable =\n",
              "            await google.colab.kernel.invokeFunction('convertToInteractive',\n",
              "                                                     [key], {});\n",
              "          if (!dataTable) return;\n",
              "\n",
              "          const docLinkHtml = 'Like what you see? Visit the ' +\n",
              "            '<a target=\"_blank\" href=https://colab.research.google.com/notebooks/data_table.ipynb>data table notebook</a>'\n",
              "            + ' to learn more about interactive tables.';\n",
              "          element.innerHTML = '';\n",
              "          dataTable['output_type'] = 'display_data';\n",
              "          await google.colab.output.renderOutput(dataTable, element);\n",
              "          const docLink = document.createElement('div');\n",
              "          docLink.innerHTML = docLinkHtml;\n",
              "          element.appendChild(docLink);\n",
              "        }\n",
              "      </script>\n",
              "    </div>\n",
              "  </div>\n",
              "  "
            ],
            "text/plain": [
              "    hour  attendance  score\n",
              "0      2         1.0      3\n",
              "1      3         2.0      5\n",
              "2      3         6.0      7\n",
              "3      5         6.0     10\n",
              "4      7         5.0     12\n",
              "5      2         5.0      7\n",
              "6      8         9.0     13\n",
              "7      9        10.0     13\n",
              "8      6        12.0     12\n",
              "9      9         2.0     13\n",
              "10     6        10.0     12\n",
              "11     2         4.0      6"
            ]
          },
          "execution_count": 18,
          "metadata": {},
          "output_type": "execute_result"
        }
      ],
      "source": [
        "val = np.mean(df['attendance'])\n",
        "df.fillna(val)"
      ]
    },
    {
      "cell_type": "markdown",
      "metadata": {
        "id": "Xcbql-SBaXOX"
      },
      "source": [
        "### 결측치 처리 - Sklearn"
      ]
    },
    {
      "cell_type": "code",
      "execution_count": null,
      "metadata": {
        "id": "270OFsHKaIsX"
      },
      "outputs": [],
      "source": [
        "from sklearn.impute import SimpleImputer"
      ]
    },
    {
      "cell_type": "code",
      "execution_count": null,
      "metadata": {
        "id": "tev41BytacT1"
      },
      "outputs": [],
      "source": [
        "imputer = SimpleImputer(strategy='most_frequent')\n",
        "imputer.fit(df)\n",
        "data_filled = imputer.transform(df)"
      ]
    },
    {
      "cell_type": "code",
      "execution_count": null,
      "metadata": {
        "colab": {
          "base_uri": "https://localhost:8080/"
        },
        "id": "pe2aonkVajZt",
        "outputId": "a85e38a5-b3f7-4f85-ba39-a8e17d3eb8c3"
      },
      "outputs": [
        {
          "output_type": "execute_result",
          "data": {
            "text/plain": [
              "array([[ 2.,  1.,  3.],\n",
              "       [ 3.,  2.,  5.],\n",
              "       [ 3.,  2.,  7.],\n",
              "       [ 5.,  2., 10.],\n",
              "       [ 7.,  5., 12.],\n",
              "       [ 2.,  5.,  7.],\n",
              "       [ 8.,  9., 13.],\n",
              "       [ 9., 10., 13.],\n",
              "       [ 6., 12., 12.],\n",
              "       [ 9.,  2., 13.],\n",
              "       [ 6., 10., 12.],\n",
              "       [ 2.,  4.,  6.]])"
            ]
          },
          "metadata": {},
          "execution_count": 31
        }
      ],
      "source": [
        "data_filled"
      ]
    },
    {
      "cell_type": "code",
      "source": [
        "# 중간값을 기준으로 결측치를 채워넣으세요 \n",
        "\n",
        "imputer.fit(X_train)\n",
        "imputer.fit_transform(X_train)\n",
        "imputer.transform(X_test)"
      ],
      "metadata": {
        "id": "yvSoDavrgSt4"
      },
      "execution_count": null,
      "outputs": []
    },
    {
      "cell_type": "code",
      "source": [],
      "metadata": {
        "id": "VbVMtrEXgSoi"
      },
      "execution_count": null,
      "outputs": []
    },
    {
      "cell_type": "code",
      "source": [],
      "metadata": {
        "id": "cIcjR9QMgShr"
      },
      "execution_count": null,
      "outputs": []
    },
    {
      "cell_type": "markdown",
      "metadata": {
        "id": "5GuxCu1day9R"
      },
      "source": [
        "데이터가 학습 데이터와 테스트 데이터로 나누어 진 경우는 반드시 fit() 함수와 transform() 함수를 따로 사용\n",
        "- train데이터를 기준으로 fit을 시킨 후 해당 imputer 객체로 test데이터 transform"
      ]
    },
    {
      "cell_type": "markdown",
      "metadata": {
        "id": "ezhmI4AEa_x_"
      },
      "source": [
        "## 스케일링 - 수치형 데이터 "
      ]
    },
    {
      "cell_type": "markdown",
      "metadata": {
        "id": "zXtXrCv2cJr5"
      },
      "source": [
        "특성 스케일링(feature scaling)\n",
        "- 특성들의 범위가 같은 크기를(최대 - 최소) 갖도록 특성별로 값을 비례적으로 조정, 데이터의 크기가 특정 범위 안에 들어오게 하기"
      ]
    },
    {
      "cell_type": "markdown",
      "metadata": {
        "id": "jbngha84cRoE"
      },
      "source": [
        "거리 기반 머신 러닝 모델 (선형회귀모델, k-최근접 이웃 모델, 서포트 벡터 머신 모델)과 딥러닝 모델은 특성들의 사이의 범위가 크고 작음에 민감하기 때문에, 단위를 일정하게 맞추는 작업을 진행해야 합니다. "
      ]
    },
    {
      "cell_type": "markdown",
      "metadata": {
        "id": "2R51f4J0a_pZ"
      },
      "source": [
        "사이킷런에서 제공하는 스케일링은 여러 개가 있는데, 그 중 대표는 다음 네 개이다. \n",
        "\n",
        "- StandardScaler: 기본 스케일, 평균과 표준편차 사용\n",
        "- MinMaxScaler: 최대값이 1, 최소값이 0이 되도록 스케일링\n",
        "- MaxAbsScaler: 최대절대값이 1, 최소절대값이 0이 되도록 스케일링 \n",
        "- RobustScaler: 중앙값과 IQR을 사용. 아웃라이어의 영향을 최소화함 "
      ]
    },
    {
      "cell_type": "markdown",
      "metadata": {
        "id": "gENkKo0dblJt"
      },
      "source": [
        "그 중에서도 가장 대표적인 StandardScaler(Standardization)과 MinMaxScaler(Normalization)을 살펴보자"
      ]
    },
    {
      "cell_type": "markdown",
      "metadata": {
        "id": "sQlU50XKb0Se"
      },
      "source": [
        "### StandardScaler : 표준화(Standardization)"
      ]
    },
    {
      "cell_type": "markdown",
      "metadata": {
        "id": "bC6xDz6rb3gn"
      },
      "source": [
        "표준화는 데이터의 평균을 0 분산 및 표준편차를 1로 만들어 줍니다."
      ]
    },
    {
      "cell_type": "markdown",
      "metadata": {
        "id": "Z3iSeXbFc6AB"
      },
      "source": [
        "![image.png](data:image/png;base64,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)"
      ]
    },
    {
      "cell_type": "markdown",
      "metadata": {
        "id": "djxfULM8d2I0"
      },
      "source": [
        "- 표준화를 하면 평균은 0, 분산과 표준편차는 1로 만들어 데이터의 분포를 단순화 시키고, 비교를 용이하게 합니다.\n",
        "- 또한,  대부분의 통계 분석 방법이 정규성 가정을 기반으로 하므로 완벽하지 않더라도 최대한 정규분포로 변환하는 노력이 필요하다."
      ]
    },
    {
      "cell_type": "code",
      "execution_count": null,
      "metadata": {
        "id": "vEcsOBLJa_jW"
      },
      "outputs": [],
      "source": [
        "from sklearn.datasets import load_iris\n",
        "\n",
        "# iris 데이터를 가져옵니다.\n",
        "iris = load_iris()\n",
        "x = iris['data']\n",
        "y = iris['target']"
      ]
    },
    {
      "cell_type": "code",
      "execution_count": null,
      "metadata": {
        "colab": {
          "base_uri": "https://localhost:8080/"
        },
        "id": "RvwLaQCianGa",
        "outputId": "fbef4585-8ba9-4763-bf61-45640a81ea45"
      },
      "outputs": [
        {
          "data": {
            "text/plain": [
              "array([5.1, 4.9, 4.7, 4.6, 5. , 5.4, 4.6, 5. , 4.4, 4.9, 5.4, 4.8, 4.8,\n",
              "       4.3, 5.8, 5.7, 5.4, 5.1, 5.7, 5.1, 5.4, 5.1, 4.6, 5.1, 4.8, 5. ,\n",
              "       5. , 5.2, 5.2, 4.7, 4.8, 5.4, 5.2, 5.5, 4.9, 5. , 5.5, 4.9, 4.4,\n",
              "       5.1, 5. , 4.5, 4.4, 5. , 5.1, 4.8, 5.1, 4.6, 5.3, 5. , 7. , 6.4,\n",
              "       6.9, 5.5, 6.5, 5.7, 6.3, 4.9, 6.6, 5.2, 5. , 5.9, 6. , 6.1, 5.6,\n",
              "       6.7, 5.6, 5.8, 6.2, 5.6, 5.9, 6.1, 6.3, 6.1, 6.4, 6.6, 6.8, 6.7,\n",
              "       6. , 5.7, 5.5, 5.5, 5.8, 6. , 5.4, 6. , 6.7, 6.3, 5.6, 5.5, 5.5,\n",
              "       6.1, 5.8, 5. , 5.6, 5.7, 5.7, 6.2, 5.1, 5.7, 6.3, 5.8, 7.1, 6.3,\n",
              "       6.5, 7.6, 4.9, 7.3, 6.7, 7.2, 6.5, 6.4, 6.8, 5.7, 5.8, 6.4, 6.5,\n",
              "       7.7, 7.7, 6. , 6.9, 5.6, 7.7, 6.3, 6.7, 7.2, 6.2, 6.1, 6.4, 7.2,\n",
              "       7.4, 7.9, 6.4, 6.3, 6.1, 7.7, 6.3, 6.4, 6. , 6.9, 6.7, 6.9, 5.8,\n",
              "       6.8, 6.7, 6.7, 6.3, 6.5, 6.2, 5.9])"
            ]
          },
          "execution_count": 29,
          "metadata": {},
          "output_type": "execute_result"
        }
      ],
      "source": [
        "# 4개의 feature 데이터 중 1개의 feature만 임의로 선택합니다.\n",
        "\n",
        "X = x[:, 0]\n",
        "X"
      ]
    },
    {
      "cell_type": "code",
      "execution_count": null,
      "metadata": {
        "id": "wphz9lVgdPj0"
      },
      "outputs": [],
      "source": [
        "#  직접 구현해보겠습니다.\n",
        "X_std = (X - X.mean()) / X.std()\n",
        "X_std"
      ]
    },
    {
      "cell_type": "code",
      "execution_count": null,
      "metadata": {
        "colab": {
          "base_uri": "https://localhost:8080/",
          "height": 485
        },
        "id": "phMSWYrRdkel",
        "outputId": "65268675-2940-4c6f-d0e5-70ba0b5d541b"
      },
      "outputs": [
        {
          "name": "stderr",
          "output_type": "stream",
          "text": [
            "/usr/local/lib/python3.8/dist-packages/seaborn/distributions.py:2619: FutureWarning: `distplot` is a deprecated function and will be removed in a future version. Please adapt your code to use either `displot` (a figure-level function with similar flexibility) or `histplot` (an axes-level function for histograms).\n",
            "  warnings.warn(msg, FutureWarning)\n",
            "/usr/local/lib/python3.8/dist-packages/seaborn/distributions.py:2619: FutureWarning: `distplot` is a deprecated function and will be removed in a future version. Please adapt your code to use either `displot` (a figure-level function with similar flexibility) or `histplot` (an axes-level function for histograms).\n",
            "  warnings.warn(msg, FutureWarning)\n"
          ]
        },
        {
          "data": {
            "image/png": "[encoded data removed]",
            "text/plain": [
              "<Figure size 864x432 with 2 Axes>"
            ]
          },
          "metadata": {
            "needs_background": "light"
          },
          "output_type": "display_data"
        }
      ],
      "source": [
        "plt.figure(figsize=(12, 6))\n",
        "plt.subplot(1, 2, 1)\n",
        "sns.distplot(X, bins=5, color='b')\n",
        "plt.title('Original', fontsize=16)\n",
        "\n",
        "plt.subplot(1, 2, 2)\n",
        "sns.distplot(X_std, bins=5, color='r')\n",
        "plt.title('Standardization', fontsize=16)\n",
        "plt.show()"
      ]
    },
    {
      "cell_type": "markdown",
      "metadata": {
        "id": "cEgioRqeeK7g"
      },
      "source": [
        "### Sklearn StandardScaler 사용"
      ]
    },
    {
      "cell_type": "code",
      "execution_count": null,
      "metadata": {
        "id": "_DUQiHh-duX7"
      },
      "outputs": [],
      "source": [
        "from sklearn.preprocessing import StandardScaler\n",
        "scaler = StandardScaler()\n",
        "x_scaled = scaler.fit_transform(x)"
      ]
    },
    {
      "cell_type": "code",
      "execution_count": null,
      "metadata": {
        "colab": {
          "base_uri": "https://localhost:8080/",
          "height": 281
        },
        "id": "zHefYnozeSh5",
        "outputId": "5093ec2c-8f74-4c4e-acda-f67130c3aee2"
      },
      "outputs": [
        {
          "data": {
            "image/png": "[encoded data removed]",
            "text/plain": [
              "<Figure size 432x288 with 4 Axes>"
            ]
          },
          "metadata": {
            "needs_background": "light"
          },
          "output_type": "display_data"
        }
      ],
      "source": [
        "pd.DataFrame(x_scaled).hist()\n",
        "plt.show()"
      ]
    },
    {
      "cell_type": "markdown",
      "metadata": {
        "id": "huYaHlXAelbY"
      },
      "source": [
        "### MinMax Scaler : 정규화(Normalization)"
      ]
    },
    {
      "cell_type": "markdown",
      "metadata": {
        "id": "AWyt1veNeqDW"
      },
      "source": [
        "- 정규화 (Normalization)도 표준화와 마찬가지로 데이터의 스케일을 조정합니다.\n",
        "\n",
        "- 정규화가 표준화와 다른 가장 큰 특징은 모든 데이터가 0 ~ 1 사이의 값을 가집니다.\n",
        "\n",
        "- 즉, 최대값은 1, 최소값은 0으로 데이터의 범위를 조정합니다."
      ]
    },
    {
      "cell_type": "markdown",
      "metadata": {
        "id": "7P4b0HChexLA"
      },
      "source": [
        "![image.png](data:image/png;base64,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)"
      ]
    },
    {
      "cell_type": "code",
      "execution_count": null,
      "metadata": {
        "id": "7EjNuETGeXz4"
      },
      "outputs": [],
      "source": [
        "# 샘플 데이터를 로드합니다.\n",
        "X = x[:, 0]"
      ]
    },
    {
      "cell_type": "code",
      "execution_count": null,
      "metadata": {
        "id": "1HfXdcGle0fX"
      },
      "outputs": [],
      "source": [
        "X_mm = (X - X.min()) / (X.max() - X.min())"
      ]
    },
    {
      "cell_type": "code",
      "execution_count": null,
      "metadata": {
        "colab": {
          "base_uri": "https://localhost:8080/",
          "height": 449
        },
        "id": "UKak5Kwge4Ji",
        "outputId": "5aa5cc94-0f46-4dd3-feb0-2c72ac8debbc"
      },
      "outputs": [
        {
          "name": "stderr",
          "output_type": "stream",
          "text": [
            "/usr/local/lib/python3.8/dist-packages/seaborn/distributions.py:2619: FutureWarning: `distplot` is a deprecated function and will be removed in a future version. Please adapt your code to use either `displot` (a figure-level function with similar flexibility) or `histplot` (an axes-level function for histograms).\n",
            "  warnings.warn(msg, FutureWarning)\n"
          ]
        },
        {
          "data": {
            "image/png": "[encoded data removed]",
            "text/plain": [
              "<Figure size 864x432 with 2 Axes>"
            ]
          },
          "metadata": {
            "needs_background": "light"
          },
          "output_type": "display_data"
        }
      ],
      "source": [
        "plt.figure(figsize=(12, 6))\n",
        "plt.subplot(1, 2, 1)\n",
        "sns.distplot(X, bins=5, color='b', kde = False)\n",
        "plt.title('Original', fontsize=16)\n",
        "\n",
        "plt.subplot(1, 2, 2)\n",
        "sns.distplot(X_mm, bins=5, color='r', kde = False)\n",
        "plt.title('Normalization', fontsize=16)\n",
        "plt.show()"
      ]
    },
    {
      "cell_type": "markdown",
      "metadata": {
        "id": "UTsZMNsZfrxd"
      },
      "source": [
        "### Sklearn MinMaxScaler 사용"
      ]
    },
    {
      "cell_type": "code",
      "execution_count": null,
      "metadata": {
        "id": "cMqba8NYe7CD"
      },
      "outputs": [],
      "source": [
        "from sklearn.preprocessing import MinMaxScaler\n",
        "scaler = MinMaxScaler()\n",
        "x_scaled = scaler.fit_transform(x)"
      ]
    },
    {
      "cell_type": "code",
      "execution_count": null,
      "metadata": {
        "colab": {
          "base_uri": "https://localhost:8080/"
        },
        "id": "2HvV3a6pfwVv",
        "outputId": "085bb808-92af-4a15-cb20-b3222765e85b"
      },
      "outputs": [
        {
          "data": {
            "text/plain": [
              "(0.0, 1.0)"
            ]
          },
          "execution_count": 46,
          "metadata": {},
          "output_type": "execute_result"
        }
      ],
      "source": [
        "x_scaled.min(), x_scaled.max()"
      ]
    },
    {
      "cell_type": "code",
      "execution_count": null,
      "metadata": {
        "colab": {
          "base_uri": "https://localhost:8080/",
          "height": 499
        },
        "id": "EWma2Omyfxh8",
        "outputId": "e1f731c4-61c5-45e8-b93a-dace0dc1e59a"
      },
      "outputs": [
        {
          "data": {
            "image/png": "[encoded data removed]",
            "text/plain": [
              "<Figure size 576x576 with 4 Axes>"
            ]
          },
          "metadata": {
            "needs_background": "light"
          },
          "output_type": "display_data"
        }
      ],
      "source": [
        "pd.DataFrame(x_scaled).hist(figsize=(8,8))\n",
        "plt.show()"
      ]
    },
    {
      "cell_type": "markdown",
      "metadata": {
        "id": "vaCm7Y41f7Rv"
      },
      "source": [
        "## 인코딩 - 카테고리형 데이터"
      ]
    },
    {
      "cell_type": "markdown",
      "metadata": {
        "id": "Au9SgkiXgOGq"
      },
      "source": [
        "학습 데이터의 특성들은 수치값 뿐만 아니라 ‘크다’, ‘중간’, ‘작다’ 또는 ‘여자’, ‘남자’와 같은 범주값도 존재합니다. 그런데 머신러닝 알고리즘은 문자열 데이터를 입력으로 받지 못합니다.\n",
        "\n",
        "따라서, 데이터가 가지고 있는 범주형(Categorical) 데이터는 반드시 숫자형(Numerical)으로 변환해주어야 합니다."
      ]
    },
    {
      "cell_type": "markdown",
      "metadata": {
        "id": "04MDpRKehQ3Y"
      },
      "source": [
        "인코딩(encoding) 이란, 문자형 -> 숫자형 데이터로 변환 해주는 것을 의미합니다."
      ]
    },
    {
      "cell_type": "markdown",
      "metadata": {
        "id": "zFwBoxzMhaLG"
      },
      "source": [
        "이때, 1등급, 2등급, 3등급 처럼 의미에 대소관계, 순위적 연속성 등이 있으면 라벨 인코딩으로 처리를 합니다.\n",
        "\n",
        "성별, 과일 등 순위관계가 없으면 각각을 벡터로 치환하는 원핫인코딩을 진행합니다."
      ]
    },
    {
      "cell_type": "markdown",
      "metadata": {
        "id": "d_oqtX3vhdTD"
      },
      "source": [
        "![image.png](data:image/png;base64,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)"
      ]
    },
    {
      "cell_type": "code",
      "execution_count": null,
      "metadata": {
        "colab": {
          "base_uri": "https://localhost:8080/",
          "height": 206
        },
        "id": "GhV2iYCCfzyT",
        "outputId": "c1cb2f7e-cb1a-40f9-cdd0-6ddd79174586"
      },
      "outputs": [
        {
          "output_type": "execute_result",
          "data": {
            "text/plain": [
              "   total_bill   tip     sex smoker  day    time  size\n",
              "0       16.99  1.01  Female     No  Sun  Dinner     2\n",
              "1       10.34  1.66    Male     No  Sun  Dinner     3\n",
              "2       21.01  3.50    Male     No  Sun  Dinner     3\n",
              "3       23.68  3.31    Male     No  Sun  Dinner     2\n",
              "4       24.59  3.61  Female     No  Sun  Dinner     4"
            ],
            "text/html": [
              "\n",
              "  <div id=\"df-a64b1180-e7d3-4bea-ab21-93d8866b2740\">\n",
              "    <div class=\"colab-df-container\">\n",
              "      <div>\n",
              "<style scoped>\n",
              "    .dataframe tbody tr th:only-of-type {\n",
              "        vertical-align: middle;\n",
              "    }\n",
              "\n",
              "    .dataframe tbody tr th {\n",
              "        vertical-align: top;\n",
              "    }\n",
              "\n",
              "    .dataframe thead th {\n",
              "        text-align: right;\n",
              "    }\n",
              "</style>\n",
              "<table border=\"1\" class=\"dataframe\">\n",
              "  <thead>\n",
              "    <tr style=\"text-align: right;\">\n",
              "      <th></th>\n",
              "      <th>total_bill</th>\n",
              "      <th>tip</th>\n",
              "      <th>sex</th>\n",
              "      <th>smoker</th>\n",
              "      <th>day</th>\n",
              "      <th>time</th>\n",
              "      <th>size</th>\n",
              "    </tr>\n",
              "  </thead>\n",
              "  <tbody>\n",
              "    <tr>\n",
              "      <th>0</th>\n",
              "      <td>16.99</td>\n",
              "      <td>1.01</td>\n",
              "      <td>Female</td>\n",
              "      <td>No</td>\n",
              "      <td>Sun</td>\n",
              "      <td>Dinner</td>\n",
              "      <td>2</td>\n",
              "    </tr>\n",
              "    <tr>\n",
              "      <th>1</th>\n",
              "      <td>10.34</td>\n",
              "      <td>1.66</td>\n",
              "      <td>Male</td>\n",
              "      <td>No</td>\n",
              "      <td>Sun</td>\n",
              "      <td>Dinner</td>\n",
              "      <td>3</td>\n",
              "    </tr>\n",
              "    <tr>\n",
              "      <th>2</th>\n",
              "      <td>21.01</td>\n",
              "      <td>3.50</td>\n",
              "      <td>Male</td>\n",
              "      <td>No</td>\n",
              "      <td>Sun</td>\n",
              "      <td>Dinner</td>\n",
              "      <td>3</td>\n",
              "    </tr>\n",
              "    <tr>\n",
              "      <th>3</th>\n",
              "      <td>23.68</td>\n",
              "      <td>3.31</td>\n",
              "      <td>Male</td>\n",
              "      <td>No</td>\n",
              "      <td>Sun</td>\n",
              "      <td>Dinner</td>\n",
              "      <td>2</td>\n",
              "    </tr>\n",
              "    <tr>\n",
              "      <th>4</th>\n",
              "      <td>24.59</td>\n",
              "      <td>3.61</td>\n",
              "      <td>Female</td>\n",
              "      <td>No</td>\n",
              "      <td>Sun</td>\n",
              "      <td>Dinner</td>\n",
              "      <td>4</td>\n",
              "    </tr>\n",
              "  </tbody>\n",
              "</table>\n",
              "</div>\n",
              "      <button class=\"colab-df-convert\" onclick=\"convertToInteractive('df-a64b1180-e7d3-4bea-ab21-93d8866b2740')\"\n",
              "              title=\"Convert this dataframe to an interactive table.\"\n",
              "              style=\"display:none;\">\n",
              "        \n",
              "  <svg xmlns=\"http://www.w3.org/2000/svg\" height=\"24px\"viewBox=\"0 0 24 24\"\n",
              "       width=\"24px\">\n",
              "    <path d=\"M0 0h24v24H0V0z\" fill=\"none\"/>\n",
              "    <path d=\"M18.56 5.44l.94 2.06.94-2.06 2.06-.94-2.06-.94-.94-2.06-.94 2.06-2.06.94zm-11 1L8.5 8.5l.94-2.06 2.06-.94-2.06-.94L8.5 2.5l-.94 2.06-2.06.94zm10 10l.94 2.06.94-2.06 2.06-.94-2.06-.94-.94-2.06-.94 2.06-2.06.94z\"/><path d=\"M17.41 7.96l-1.37-1.37c-.4-.4-.92-.59-1.43-.59-.52 0-1.04.2-1.43.59L10.3 9.45l-7.72 7.72c-.78.78-.78 2.05 0 2.83L4 21.41c.39.39.9.59 1.41.59.51 0 1.02-.2 1.41-.59l7.78-7.78 2.81-2.81c.8-.78.8-2.07 0-2.86zM5.41 20L4 18.59l7.72-7.72 1.47 1.35L5.41 20z\"/>\n",
              "  </svg>\n",
              "      </button>\n",
              "      \n",
              "  <style>\n",
              "    .colab-df-container {\n",
              "      display:flex;\n",
              "      flex-wrap:wrap;\n",
              "      gap: 12px;\n",
              "    }\n",
              "\n",
              "    .colab-df-convert {\n",
              "      background-color: #E8F0FE;\n",
              "      border: none;\n",
              "      border-radius: 50%;\n",
              "      cursor: pointer;\n",
              "      display: none;\n",
              "      fill: #1967D2;\n",
              "      height: 32px;\n",
              "      padding: 0 0 0 0;\n",
              "      width: 32px;\n",
              "    }\n",
              "\n",
              "    .colab-df-convert:hover {\n",
              "      background-color: #E2EBFA;\n",
              "      box-shadow: 0px 1px 2px rgba(60, 64, 67, 0.3), 0px 1px 3px 1px rgba(60, 64, 67, 0.15);\n",
              "      fill: #174EA6;\n",
              "    }\n",
              "\n",
              "    [theme=dark] .colab-df-convert {\n",
              "      background-color: #3B4455;\n",
              "      fill: #D2E3FC;\n",
              "    }\n",
              "\n",
              "    [theme=dark] .colab-df-convert:hover {\n",
              "      background-color: #434B5C;\n",
              "      box-shadow: 0px 1px 3px 1px rgba(0, 0, 0, 0.15);\n",
              "      filter: drop-shadow(0px 1px 2px rgba(0, 0, 0, 0.3));\n",
              "      fill: #FFFFFF;\n",
              "    }\n",
              "  </style>\n",
              "\n",
              "      <script>\n",
              "        const buttonEl =\n",
              "          document.querySelector('#df-a64b1180-e7d3-4bea-ab21-93d8866b2740 button.colab-df-convert');\n",
              "        buttonEl.style.display =\n",
              "          google.colab.kernel.accessAllowed ? 'block' : 'none';\n",
              "\n",
              "        async function convertToInteractive(key) {\n",
              "          const element = document.querySelector('#df-a64b1180-e7d3-4bea-ab21-93d8866b2740');\n",
              "          const dataTable =\n",
              "            await google.colab.kernel.invokeFunction('convertToInteractive',\n",
              "                                                     [key], {});\n",
              "          if (!dataTable) return;\n",
              "\n",
              "          const docLinkHtml = 'Like what you see? Visit the ' +\n",
              "            '<a target=\"_blank\" href=https://colab.research.google.com/notebooks/data_table.ipynb>data table notebook</a>'\n",
              "            + ' to learn more about interactive tables.';\n",
              "          element.innerHTML = '';\n",
              "          dataTable['output_type'] = 'display_data';\n",
              "          await google.colab.output.renderOutput(dataTable, element);\n",
              "          const docLink = document.createElement('div');\n",
              "          docLink.innerHTML = docLinkHtml;\n",
              "          element.appendChild(docLink);\n",
              "        }\n",
              "      </script>\n",
              "    </div>\n",
              "  </div>\n",
              "  "
            ]
          },
          "metadata": {},
          "execution_count": 32
        }
      ],
      "source": [
        "# 샘플데이터 로드 \n",
        "tips = sns.load_dataset('tips')\n",
        "tips.head()"
      ]
    },
    {
      "cell_type": "code",
      "execution_count": null,
      "metadata": {
        "colab": {
          "base_uri": "https://localhost:8080/"
        },
        "id": "JCJ4FqdRhkQ7",
        "outputId": "700a88b7-017c-42b5-f784-fa621df92425"
      },
      "outputs": [
        {
          "output_type": "execute_result",
          "data": {
            "text/plain": [
              "Sat     87\n",
              "Sun     76\n",
              "Thur    62\n",
              "Fri     19\n",
              "Name: day, dtype: int64"
            ]
          },
          "metadata": {},
          "execution_count": 33
        }
      ],
      "source": [
        "tips['day'].value_counts()\n"
      ]
    },
    {
      "cell_type": "code",
      "execution_count": null,
      "metadata": {
        "colab": {
          "base_uri": "https://localhost:8080/",
          "height": 408
        },
        "id": "5hNgJI4YhlrF",
        "outputId": "9a256ce2-4652-434c-a601-95d05586cb99"
      },
      "outputs": [
        {
          "output_type": "stream",
          "name": "stderr",
          "text": [
            "/usr/local/lib/python3.8/dist-packages/seaborn/_decorators.py:36: FutureWarning: Pass the following variable as a keyword arg: x. From version 0.12, the only valid positional argument will be `data`, and passing other arguments without an explicit keyword will result in an error or misinterpretation.\n",
            "  warnings.warn(\n"
          ]
        },
        {
          "output_type": "display_data",
          "data": {
            "text/plain": [
              "<Figure size 720x360 with 1 Axes>"
            ],
            "image/png": "[encoded data removed]"
          },
          "metadata": {
            "needs_background": "light"
          }
        }
      ],
      "source": [
        "plt.figure(figsize=(10, 5))\n",
        "sns.countplot(tips['day'])\n",
        "plt.title('Data Counts', fontsize=16)\n",
        "plt.show()"
      ]
    },
    {
      "cell_type": "markdown",
      "metadata": {
        "id": "vGvGXDachonI"
      },
      "source": [
        "만약 tips데이터의 day컬럼에서의 값(value)인 [Thur(목), Fri(금), Sat(토), Sun(일)] 을 인코딩(encoding) 해주지 않고 그대로 머신러닝 모델에 학습데이터로 feed한다면 error가 발생합니다."
      ]
    },
    {
      "cell_type": "markdown",
      "metadata": {
        "id": "fPeablOYhwZF"
      },
      "source": [
        "### Label Encoder "
      ]
    },
    {
      "cell_type": "code",
      "execution_count": null,
      "metadata": {
        "id": "tIA0t6DqhnjZ"
      },
      "outputs": [],
      "source": [
        "from sklearn.preprocessing import LabelEncoder\n",
        "lb_enc = LabelEncoder()\n",
        "encoded = lb_enc.fit_transform(tips['day'])"
      ]
    },
    {
      "cell_type": "code",
      "source": [
        "tips.day.values"
      ],
      "metadata": {
        "colab": {
          "base_uri": "https://localhost:8080/"
        },
        "id": "w9C_aBH7ifOH",
        "outputId": "db272290-d00a-4fdb-b8c1-e225377552c6"
      },
      "execution_count": null,
      "outputs": [
        {
          "output_type": "execute_result",
          "data": {
            "text/plain": [
              "['Sun', 'Sun', 'Sun', 'Sun', 'Sun', ..., 'Sat', 'Sat', 'Sat', 'Sat', 'Thur']\n",
              "Length: 244\n",
              "Categories (4, object): ['Thur', 'Fri', 'Sat', 'Sun']"
            ]
          },
          "metadata": {},
          "execution_count": 37
        }
      ]
    },
    {
      "cell_type": "code",
      "execution_count": null,
      "metadata": {
        "colab": {
          "base_uri": "https://localhost:8080/"
        },
        "id": "NlTPW1zvh1Xb",
        "outputId": "52c610cb-bfd8-4ac7-be59-6a539eee44c0"
      },
      "outputs": [
        {
          "output_type": "execute_result",
          "data": {
            "text/plain": [
              "array([2, 2, 2, 2, 2, 2, 2, 2, 2, 2, 2, 2, 2, 2, 2, 2, 2, 2, 2, 1, 1, 1,\n",
              "       1, 1, 1, 1, 1, 1, 1, 1, 1, 1, 1, 1, 1, 1, 1, 1, 1, 1, 1, 2, 2, 2,\n",
              "       2, 2, 2, 2, 2, 2, 2, 2, 2, 2, 2, 2, 1, 1, 1, 1, 1, 1, 1, 1, 1, 1,\n",
              "       1, 1, 1, 1, 1, 1, 1, 1, 1, 1, 1, 3, 3, 3, 3, 3, 3, 3, 3, 3, 3, 3,\n",
              "       3, 3, 0, 0, 0, 0, 0, 0, 0, 0, 0, 0, 0, 0, 1, 1, 1, 1, 1, 1, 1, 1,\n",
              "       1, 1, 2, 2, 2, 2, 2, 3, 3, 3, 3, 3, 3, 3, 3, 3, 3, 3, 3, 3, 3, 3,\n",
              "       3, 3, 3, 3, 3, 3, 3, 3, 3, 3, 3, 3, 3, 3, 3, 3, 3, 3, 2, 2, 2, 2,\n",
              "       2, 2, 2, 2, 2, 2, 2, 2, 2, 2, 2, 2, 2, 2, 1, 1, 1, 1, 2, 2, 2, 2,\n",
              "       2, 2, 2, 2, 2, 2, 2, 2, 2, 2, 2, 2, 2, 2, 2, 3, 3, 3, 3, 3, 3, 3,\n",
              "       3, 3, 3, 3, 3, 3, 3, 3, 1, 1, 1, 1, 1, 1, 1, 1, 1, 1, 1, 1, 1, 1,\n",
              "       0, 0, 0, 0, 0, 0, 0, 1, 1, 1, 1, 1, 1, 1, 1, 1, 1, 1, 1, 1, 1, 1,\n",
              "       1, 3])"
            ]
          },
          "metadata": {},
          "execution_count": 36
        }
      ],
      "source": [
        "encoded"
      ]
    },
    {
      "cell_type": "code",
      "execution_count": null,
      "metadata": {
        "colab": {
          "base_uri": "https://localhost:8080/"
        },
        "id": "0EwY4PBpjeQO",
        "outputId": "a0253585-8643-4130-c9e2-a6c0704b3ee7"
      },
      "outputs": [
        {
          "output_type": "execute_result",
          "data": {
            "text/plain": [
              "array(['Fri', 'Sat', 'Sun', 'Thur'], dtype=object)"
            ]
          },
          "metadata": {},
          "execution_count": 38
        }
      ],
      "source": [
        "# LabelEncoder를 사용하면 원래 class 의 label도 확인할 수 있습니다.\n",
        "lb_enc.classes_"
      ]
    },
    {
      "cell_type": "code",
      "execution_count": null,
      "metadata": {
        "colab": {
          "base_uri": "https://localhost:8080/"
        },
        "id": "nxJ65bJSidnm",
        "outputId": "6b2801fa-9bf4-402a-c4dd-86e9c81c943f"
      },
      "outputs": [
        {
          "output_type": "execute_result",
          "data": {
            "text/plain": [
              "array(['Fri', 'Fri', 'Sat', 'Sun', 'Thur', 'Sat', 'Sun', 'Thur'],\n",
              "      dtype=object)"
            ]
          },
          "metadata": {},
          "execution_count": 39
        }
      ],
      "source": [
        "lb_enc.inverse_transform([0, 0, 1, 2, 3, 1, 2, 3])"
      ]
    },
    {
      "cell_type": "code",
      "execution_count": null,
      "metadata": {
        "colab": {
          "base_uri": "https://localhost:8080/",
          "height": 395
        },
        "id": "IrH2Xvl5h2Fq",
        "outputId": "88facaf8-3857-4890-9886-63a85f2449bc"
      },
      "outputs": [
        {
          "name": "stderr",
          "output_type": "stream",
          "text": [
            "/usr/local/lib/python3.8/dist-packages/seaborn/_decorators.py:36: FutureWarning: Pass the following variable as a keyword arg: x. From version 0.12, the only valid positional argument will be `data`, and passing other arguments without an explicit keyword will result in an error or misinterpretation.\n",
            "  warnings.warn(\n"
          ]
        },
        {
          "data": {
            "image/png": "[encoded data removed]",
            "text/plain": [
              "<Figure size 720x360 with 1 Axes>"
            ]
          },
          "metadata": {
            "needs_background": "light"
          },
          "output_type": "display_data"
        }
      ],
      "source": [
        "plt.figure(figsize=(10, 5))\n",
        "sns.countplot(encoded, order=[3, 0, 1, 2])\n",
        "plt.title('(Encoded) Data Counts', fontsize=16)\n",
        "plt.show()"
      ]
    },
    {
      "cell_type": "markdown",
      "metadata": {
        "id": "9dAcFudjjqyJ"
      },
      "source": [
        "### OneHotEncoder"
      ]
    },
    {
      "cell_type": "code",
      "execution_count": null,
      "metadata": {
        "colab": {
          "base_uri": "https://localhost:8080/"
        },
        "id": "srAEsI3DkDmS",
        "outputId": "b8205f48-c232-41e0-e6a3-cfaea7bb281f"
      },
      "outputs": [
        {
          "output_type": "execute_result",
          "data": {
            "text/plain": [
              "<244x4 sparse matrix of type '<class 'numpy.float64'>'\n",
              "\twith 244 stored elements in Compressed Sparse Row format>"
            ]
          },
          "metadata": {},
          "execution_count": 40
        }
      ],
      "source": [
        "from sklearn.preprocessing import OneHotEncoder\n",
        "oh_enc = OneHotEncoder()\n",
        "encoded = oh_enc.fit_transform(tips[['day']])\n",
        "encoded"
      ]
    },
    {
      "cell_type": "code",
      "execution_count": null,
      "metadata": {
        "id": "SAX3OIEWkocT"
      },
      "outputs": [],
      "source": [
        "encoded.toarray()"
      ]
    },
    {
      "cell_type": "code",
      "execution_count": null,
      "metadata": {
        "colab": {
          "base_uri": "https://localhost:8080/",
          "height": 424
        },
        "id": "diLzIc34kLEA",
        "outputId": "ac9ed2b1-83db-42d4-f349-faa742252596"
      },
      "outputs": [
        {
          "data": {
            "text/html": [
              "\n",
              "  <div id=\"df-af1f03a7-7032-4a9e-ab19-1a09e91787ae\">\n",
              "    <div class=\"colab-df-container\">\n",
              "      <div>\n",
              "<style scoped>\n",
              "    .dataframe tbody tr th:only-of-type {\n",
              "        vertical-align: middle;\n",
              "    }\n",
              "\n",
              "    .dataframe tbody tr th {\n",
              "        vertical-align: top;\n",
              "    }\n",
              "\n",
              "    .dataframe thead tr th {\n",
              "        text-align: left;\n",
              "    }\n",
              "</style>\n",
              "<table border=\"1\" class=\"dataframe\">\n",
              "  <thead>\n",
              "    <tr>\n",
              "      <th></th>\n",
              "      <th>Fri</th>\n",
              "      <th>Sat</th>\n",
              "      <th>Sun</th>\n",
              "      <th>Thur</th>\n",
              "    </tr>\n",
              "  </thead>\n",
              "  <tbody>\n",
              "    <tr>\n",
              "      <th>0</th>\n",
              "      <td>0.0</td>\n",
              "      <td>0.0</td>\n",
              "      <td>1.0</td>\n",
              "      <td>0.0</td>\n",
              "    </tr>\n",
              "    <tr>\n",
              "      <th>1</th>\n",
              "      <td>0.0</td>\n",
              "      <td>0.0</td>\n",
              "      <td>1.0</td>\n",
              "      <td>0.0</td>\n",
              "    </tr>\n",
              "    <tr>\n",
              "      <th>2</th>\n",
              "      <td>0.0</td>\n",
              "      <td>0.0</td>\n",
              "      <td>1.0</td>\n",
              "      <td>0.0</td>\n",
              "    </tr>\n",
              "    <tr>\n",
              "      <th>3</th>\n",
              "      <td>0.0</td>\n",
              "      <td>0.0</td>\n",
              "      <td>1.0</td>\n",
              "      <td>0.0</td>\n",
              "    </tr>\n",
              "    <tr>\n",
              "      <th>4</th>\n",
              "      <td>0.0</td>\n",
              "      <td>0.0</td>\n",
              "      <td>1.0</td>\n",
              "      <td>0.0</td>\n",
              "    </tr>\n",
              "    <tr>\n",
              "      <th>...</th>\n",
              "      <td>...</td>\n",
              "      <td>...</td>\n",
              "      <td>...</td>\n",
              "      <td>...</td>\n",
              "    </tr>\n",
              "    <tr>\n",
              "      <th>239</th>\n",
              "      <td>0.0</td>\n",
              "      <td>1.0</td>\n",
              "      <td>0.0</td>\n",
              "      <td>0.0</td>\n",
              "    </tr>\n",
              "    <tr>\n",
              "      <th>240</th>\n",
              "      <td>0.0</td>\n",
              "      <td>1.0</td>\n",
              "      <td>0.0</td>\n",
              "      <td>0.0</td>\n",
              "    </tr>\n",
              "    <tr>\n",
              "      <th>241</th>\n",
              "      <td>0.0</td>\n",
              "      <td>1.0</td>\n",
              "      <td>0.0</td>\n",
              "      <td>0.0</td>\n",
              "    </tr>\n",
              "    <tr>\n",
              "      <th>242</th>\n",
              "      <td>0.0</td>\n",
              "      <td>1.0</td>\n",
              "      <td>0.0</td>\n",
              "      <td>0.0</td>\n",
              "    </tr>\n",
              "    <tr>\n",
              "      <th>243</th>\n",
              "      <td>0.0</td>\n",
              "      <td>0.0</td>\n",
              "      <td>0.0</td>\n",
              "      <td>1.0</td>\n",
              "    </tr>\n",
              "  </tbody>\n",
              "</table>\n",
              "<p>244 rows × 4 columns</p>\n",
              "</div>\n",
              "      <button class=\"colab-df-convert\" onclick=\"convertToInteractive('df-af1f03a7-7032-4a9e-ab19-1a09e91787ae')\"\n",
              "              title=\"Convert this dataframe to an interactive table.\"\n",
              "              style=\"display:none;\">\n",
              "        \n",
              "  <svg xmlns=\"http://www.w3.org/2000/svg\" height=\"24px\"viewBox=\"0 0 24 24\"\n",
              "       width=\"24px\">\n",
              "    <path d=\"M0 0h24v24H0V0z\" fill=\"none\"/>\n",
              "    <path d=\"M18.56 5.44l.94 2.06.94-2.06 2.06-.94-2.06-.94-.94-2.06-.94 2.06-2.06.94zm-11 1L8.5 8.5l.94-2.06 2.06-.94-2.06-.94L8.5 2.5l-.94 2.06-2.06.94zm10 10l.94 2.06.94-2.06 2.06-.94-2.06-.94-.94-2.06-.94 2.06-2.06.94z\"/><path d=\"M17.41 7.96l-1.37-1.37c-.4-.4-.92-.59-1.43-.59-.52 0-1.04.2-1.43.59L10.3 9.45l-7.72 7.72c-.78.78-.78 2.05 0 2.83L4 21.41c.39.39.9.59 1.41.59.51 0 1.02-.2 1.41-.59l7.78-7.78 2.81-2.81c.8-.78.8-2.07 0-2.86zM5.41 20L4 18.59l7.72-7.72 1.47 1.35L5.41 20z\"/>\n",
              "  </svg>\n",
              "      </button>\n",
              "      \n",
              "  <style>\n",
              "    .colab-df-container {\n",
              "      display:flex;\n",
              "      flex-wrap:wrap;\n",
              "      gap: 12px;\n",
              "    }\n",
              "\n",
              "    .colab-df-convert {\n",
              "      background-color: #E8F0FE;\n",
              "      border: none;\n",
              "      border-radius: 50%;\n",
              "      cursor: pointer;\n",
              "      display: none;\n",
              "      fill: #1967D2;\n",
              "      height: 32px;\n",
              "      padding: 0 0 0 0;\n",
              "      width: 32px;\n",
              "    }\n",
              "\n",
              "    .colab-df-convert:hover {\n",
              "      background-color: #E2EBFA;\n",
              "      box-shadow: 0px 1px 2px rgba(60, 64, 67, 0.3), 0px 1px 3px 1px rgba(60, 64, 67, 0.15);\n",
              "      fill: #174EA6;\n",
              "    }\n",
              "\n",
              "    [theme=dark] .colab-df-convert {\n",
              "      background-color: #3B4455;\n",
              "      fill: #D2E3FC;\n",
              "    }\n",
              "\n",
              "    [theme=dark] .colab-df-convert:hover {\n",
              "      background-color: #434B5C;\n",
              "      box-shadow: 0px 1px 3px 1px rgba(0, 0, 0, 0.15);\n",
              "      filter: drop-shadow(0px 1px 2px rgba(0, 0, 0, 0.3));\n",
              "      fill: #FFFFFF;\n",
              "    }\n",
              "  </style>\n",
              "\n",
              "      <script>\n",
              "        const buttonEl =\n",
              "          document.querySelector('#df-af1f03a7-7032-4a9e-ab19-1a09e91787ae button.colab-df-convert');\n",
              "        buttonEl.style.display =\n",
              "          google.colab.kernel.accessAllowed ? 'block' : 'none';\n",
              "\n",
              "        async function convertToInteractive(key) {\n",
              "          const element = document.querySelector('#df-af1f03a7-7032-4a9e-ab19-1a09e91787ae');\n",
              "          const dataTable =\n",
              "            await google.colab.kernel.invokeFunction('convertToInteractive',\n",
              "                                                     [key], {});\n",
              "          if (!dataTable) return;\n",
              "\n",
              "          const docLinkHtml = 'Like what you see? Visit the ' +\n",
              "            '<a target=\"_blank\" href=https://colab.research.google.com/notebooks/data_table.ipynb>data table notebook</a>'\n",
              "            + ' to learn more about interactive tables.';\n",
              "          element.innerHTML = '';\n",
              "          dataTable['output_type'] = 'display_data';\n",
              "          await google.colab.output.renderOutput(dataTable, element);\n",
              "          const docLink = document.createElement('div');\n",
              "          docLink.innerHTML = docLinkHtml;\n",
              "          element.appendChild(docLink);\n",
              "        }\n",
              "      </script>\n",
              "    </div>\n",
              "  </div>\n",
              "  "
            ],
            "text/plain": [
              "     Fri  Sat  Sun Thur\n",
              "0    0.0  0.0  1.0  0.0\n",
              "1    0.0  0.0  1.0  0.0\n",
              "2    0.0  0.0  1.0  0.0\n",
              "3    0.0  0.0  1.0  0.0\n",
              "4    0.0  0.0  1.0  0.0\n",
              "..   ...  ...  ...  ...\n",
              "239  0.0  1.0  0.0  0.0\n",
              "240  0.0  1.0  0.0  0.0\n",
              "241  0.0  1.0  0.0  0.0\n",
              "242  0.0  1.0  0.0  0.0\n",
              "243  0.0  0.0  0.0  1.0\n",
              "\n",
              "[244 rows x 4 columns]"
            ]
          },
          "execution_count": 80,
          "metadata": {},
          "output_type": "execute_result"
        }
      ],
      "source": [
        "df_enc = pd.DataFrame(encoded.toarray(), columns = oh_enc.categories_)\n",
        "df_enc"
      ]
    },
    {
      "cell_type": "code",
      "execution_count": null,
      "metadata": {
        "colab": {
          "base_uri": "https://localhost:8080/"
        },
        "id": "NBAHrMCJkbF4",
        "outputId": "b3d426de-1425-4922-8b08-f76610bf13bb"
      },
      "outputs": [
        {
          "data": {
            "text/plain": [
              "Fri     19.0\n",
              "Sat     87.0\n",
              "Sun     76.0\n",
              "Thur    62.0\n",
              "dtype: float64"
            ]
          },
          "execution_count": 83,
          "metadata": {},
          "output_type": "execute_result"
        }
      ],
      "source": [
        "df_enc.sum()"
      ]
    },
    {
      "cell_type": "code",
      "execution_count": null,
      "metadata": {
        "colab": {
          "base_uri": "https://localhost:8080/"
        },
        "id": "f23p6TU0kv8Z",
        "outputId": "7b321eff-081f-40b4-eb68-9407c70ed109"
      },
      "outputs": [
        {
          "data": {
            "text/plain": [
              "Sat     87\n",
              "Sun     76\n",
              "Thur    62\n",
              "Fri     19\n",
              "Name: day, dtype: int64"
            ]
          },
          "execution_count": 85,
          "metadata": {},
          "output_type": "execute_result"
        }
      ],
      "source": [
        "tips['day'].value_counts()"
      ]
    },
    {
      "cell_type": "markdown",
      "metadata": {
        "id": "7vQX8LYRlQR0"
      },
      "source": [
        "### pandas : get_dummies"
      ]
    },
    {
      "cell_type": "code",
      "execution_count": null,
      "metadata": {
        "colab": {
          "base_uri": "https://localhost:8080/",
          "height": 423
        },
        "id": "hfu9Hmg7lDHg",
        "outputId": "289f577e-724d-4970-da0f-f725e6776d71"
      },
      "outputs": [
        {
          "output_type": "execute_result",
          "data": {
            "text/plain": [
              "     Thur  Fri  Sat  Sun\n",
              "0       0    0    0    1\n",
              "1       0    0    0    1\n",
              "2       0    0    0    1\n",
              "3       0    0    0    1\n",
              "4       0    0    0    1\n",
              "..    ...  ...  ...  ...\n",
              "239     0    0    1    0\n",
              "240     0    0    1    0\n",
              "241     0    0    1    0\n",
              "242     0    0    1    0\n",
              "243     1    0    0    0\n",
              "\n",
              "[244 rows x 4 columns]"
            ],
            "text/html": [
              "\n",
              "  <div id=\"df-c85a90e8-1428-4b99-8af8-801dcf278139\">\n",
              "    <div class=\"colab-df-container\">\n",
              "      <div>\n",
              "<style scoped>\n",
              "    .dataframe tbody tr th:only-of-type {\n",
              "        vertical-align: middle;\n",
              "    }\n",
              "\n",
              "    .dataframe tbody tr th {\n",
              "        vertical-align: top;\n",
              "    }\n",
              "\n",
              "    .dataframe thead th {\n",
              "        text-align: right;\n",
              "    }\n",
              "</style>\n",
              "<table border=\"1\" class=\"dataframe\">\n",
              "  <thead>\n",
              "    <tr style=\"text-align: right;\">\n",
              "      <th></th>\n",
              "      <th>Thur</th>\n",
              "      <th>Fri</th>\n",
              "      <th>Sat</th>\n",
              "      <th>Sun</th>\n",
              "    </tr>\n",
              "  </thead>\n",
              "  <tbody>\n",
              "    <tr>\n",
              "      <th>0</th>\n",
              "      <td>0</td>\n",
              "      <td>0</td>\n",
              "      <td>0</td>\n",
              "      <td>1</td>\n",
              "    </tr>\n",
              "    <tr>\n",
              "      <th>1</th>\n",
              "      <td>0</td>\n",
              "      <td>0</td>\n",
              "      <td>0</td>\n",
              "      <td>1</td>\n",
              "    </tr>\n",
              "    <tr>\n",
              "      <th>2</th>\n",
              "      <td>0</td>\n",
              "      <td>0</td>\n",
              "      <td>0</td>\n",
              "      <td>1</td>\n",
              "    </tr>\n",
              "    <tr>\n",
              "      <th>3</th>\n",
              "      <td>0</td>\n",
              "      <td>0</td>\n",
              "      <td>0</td>\n",
              "      <td>1</td>\n",
              "    </tr>\n",
              "    <tr>\n",
              "      <th>4</th>\n",
              "      <td>0</td>\n",
              "      <td>0</td>\n",
              "      <td>0</td>\n",
              "      <td>1</td>\n",
              "    </tr>\n",
              "    <tr>\n",
              "      <th>...</th>\n",
              "      <td>...</td>\n",
              "      <td>...</td>\n",
              "      <td>...</td>\n",
              "      <td>...</td>\n",
              "    </tr>\n",
              "    <tr>\n",
              "      <th>239</th>\n",
              "      <td>0</td>\n",
              "      <td>0</td>\n",
              "      <td>1</td>\n",
              "      <td>0</td>\n",
              "    </tr>\n",
              "    <tr>\n",
              "      <th>240</th>\n",
              "      <td>0</td>\n",
              "      <td>0</td>\n",
              "      <td>1</td>\n",
              "      <td>0</td>\n",
              "    </tr>\n",
              "    <tr>\n",
              "      <th>241</th>\n",
              "      <td>0</td>\n",
              "      <td>0</td>\n",
              "      <td>1</td>\n",
              "      <td>0</td>\n",
              "    </tr>\n",
              "    <tr>\n",
              "      <th>242</th>\n",
              "      <td>0</td>\n",
              "      <td>0</td>\n",
              "      <td>1</td>\n",
              "      <td>0</td>\n",
              "    </tr>\n",
              "    <tr>\n",
              "      <th>243</th>\n",
              "      <td>1</td>\n",
              "      <td>0</td>\n",
              "      <td>0</td>\n",
              "      <td>0</td>\n",
              "    </tr>\n",
              "  </tbody>\n",
              "</table>\n",
              "<p>244 rows × 4 columns</p>\n",
              "</div>\n",
              "      <button class=\"colab-df-convert\" onclick=\"convertToInteractive('df-c85a90e8-1428-4b99-8af8-801dcf278139')\"\n",
              "              title=\"Convert this dataframe to an interactive table.\"\n",
              "              style=\"display:none;\">\n",
              "        \n",
              "  <svg xmlns=\"http://www.w3.org/2000/svg\" height=\"24px\"viewBox=\"0 0 24 24\"\n",
              "       width=\"24px\">\n",
              "    <path d=\"M0 0h24v24H0V0z\" fill=\"none\"/>\n",
              "    <path d=\"M18.56 5.44l.94 2.06.94-2.06 2.06-.94-2.06-.94-.94-2.06-.94 2.06-2.06.94zm-11 1L8.5 8.5l.94-2.06 2.06-.94-2.06-.94L8.5 2.5l-.94 2.06-2.06.94zm10 10l.94 2.06.94-2.06 2.06-.94-2.06-.94-.94-2.06-.94 2.06-2.06.94z\"/><path d=\"M17.41 7.96l-1.37-1.37c-.4-.4-.92-.59-1.43-.59-.52 0-1.04.2-1.43.59L10.3 9.45l-7.72 7.72c-.78.78-.78 2.05 0 2.83L4 21.41c.39.39.9.59 1.41.59.51 0 1.02-.2 1.41-.59l7.78-7.78 2.81-2.81c.8-.78.8-2.07 0-2.86zM5.41 20L4 18.59l7.72-7.72 1.47 1.35L5.41 20z\"/>\n",
              "  </svg>\n",
              "      </button>\n",
              "      \n",
              "  <style>\n",
              "    .colab-df-container {\n",
              "      display:flex;\n",
              "      flex-wrap:wrap;\n",
              "      gap: 12px;\n",
              "    }\n",
              "\n",
              "    .colab-df-convert {\n",
              "      background-color: #E8F0FE;\n",
              "      border: none;\n",
              "      border-radius: 50%;\n",
              "      cursor: pointer;\n",
              "      display: none;\n",
              "      fill: #1967D2;\n",
              "      height: 32px;\n",
              "      padding: 0 0 0 0;\n",
              "      width: 32px;\n",
              "    }\n",
              "\n",
              "    .colab-df-convert:hover {\n",
              "      background-color: #E2EBFA;\n",
              "      box-shadow: 0px 1px 2px rgba(60, 64, 67, 0.3), 0px 1px 3px 1px rgba(60, 64, 67, 0.15);\n",
              "      fill: #174EA6;\n",
              "    }\n",
              "\n",
              "    [theme=dark] .colab-df-convert {\n",
              "      background-color: #3B4455;\n",
              "      fill: #D2E3FC;\n",
              "    }\n",
              "\n",
              "    [theme=dark] .colab-df-convert:hover {\n",
              "      background-color: #434B5C;\n",
              "      box-shadow: 0px 1px 3px 1px rgba(0, 0, 0, 0.15);\n",
              "      filter: drop-shadow(0px 1px 2px rgba(0, 0, 0, 0.3));\n",
              "      fill: #FFFFFF;\n",
              "    }\n",
              "  </style>\n",
              "\n",
              "      <script>\n",
              "        const buttonEl =\n",
              "          document.querySelector('#df-c85a90e8-1428-4b99-8af8-801dcf278139 button.colab-df-convert');\n",
              "        buttonEl.style.display =\n",
              "          google.colab.kernel.accessAllowed ? 'block' : 'none';\n",
              "\n",
              "        async function convertToInteractive(key) {\n",
              "          const element = document.querySelector('#df-c85a90e8-1428-4b99-8af8-801dcf278139');\n",
              "          const dataTable =\n",
              "            await google.colab.kernel.invokeFunction('convertToInteractive',\n",
              "                                                     [key], {});\n",
              "          if (!dataTable) return;\n",
              "\n",
              "          const docLinkHtml = 'Like what you see? Visit the ' +\n",
              "            '<a target=\"_blank\" href=https://colab.research.google.com/notebooks/data_table.ipynb>data table notebook</a>'\n",
              "            + ' to learn more about interactive tables.';\n",
              "          element.innerHTML = '';\n",
              "          dataTable['output_type'] = 'display_data';\n",
              "          await google.colab.output.renderOutput(dataTable, element);\n",
              "          const docLink = document.createElement('div');\n",
              "          docLink.innerHTML = docLinkHtml;\n",
              "          element.appendChild(docLink);\n",
              "        }\n",
              "      </script>\n",
              "    </div>\n",
              "  </div>\n",
              "  "
            ]
          },
          "metadata": {},
          "execution_count": 43
        }
      ],
      "source": [
        "pd.get_dummies(tips['day'])"
      ]
    },
    {
      "cell_type": "code",
      "execution_count": null,
      "metadata": {
        "id": "hUuLTE9HlWiP"
      },
      "outputs": [],
      "source": []
    }
  ],
  "metadata": {
    "colab": {
      "provenance": [],
      "include_colab_link": true
    },
    "kernelspec": {
      "display_name": "Python 3 (ipykernel)",
      "language": "python",
      "name": "python3"
    },
    "language_info": {
      "codemirror_mode": {
        "name": "ipython",
        "version": 3
      },
      "file_extension": ".py",
      "mimetype": "text/x-python",
      "name": "python",
      "nbconvert_exporter": "python",
      "pygments_lexer": "ipython3",
      "version": "3.9.7"
    },
    "toc": {
      "base_numbering": 1,
      "nav_menu": {},
      "number_sections": true,
      "sideBar": true,
      "skip_h1_title": false,
      "title_cell": "Table of Contents",
      "title_sidebar": "Contents",
      "toc_cell": false,
      "toc_position": {},
      "toc_section_display": true,
      "toc_window_display": false
    }
  },
  "nbformat": 4,
  "nbformat_minor": 0
}