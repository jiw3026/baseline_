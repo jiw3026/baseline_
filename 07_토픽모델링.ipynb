{
  "cells": [
    {
      "cell_type": "markdown",
      "metadata": {
        "id": "view-in-github",
        "colab_type": "text"
      },
      "source": [
        "<a href=\"https://colab.research.google.com/github/jiw3026/baseline_/blob/main/07_%ED%86%A0%ED%94%BD%EB%AA%A8%EB%8D%B8%EB%A7%81.ipynb\" target=\"_parent\"><img src=\"https://colab.research.google.com/assets/colab-badge.svg\" alt=\"Open In Colab\"/></a>"
      ]
    },
    {
      "cell_type": "code",
      "source": [
        "# Colab에 Mecab 설치\n",
        "!git clone https://github.com/SOMJANG/Mecab-ko-for-Google-Colab.git\n",
        "%cd Mecab-ko-for-Google-Colab\n",
        "!bash install_mecab-ko_on_colab190912.sh\n",
        "%cd .."
      ],
      "metadata": {
        "id": "nwbJWvOCJW5a"
      },
      "execution_count": null,
      "outputs": []
    },
    {
      "cell_type": "code",
      "execution_count": null,
      "metadata": {
        "id": "K57DXqZnmcQE"
      },
      "outputs": [],
      "source": [
        "# 그래프에서 한글표현을 위해 폰트를 설치합니다.\n",
        "!apt-get update -qq\n",
        "!apt-get install fonts-nanum* -qq"
      ]
    },
    {
      "cell_type": "code",
      "execution_count": null,
      "metadata": {
        "colab": {
          "base_uri": "https://localhost:8080/"
        },
        "id": "qFz9tEFJTIp1",
        "outputId": "b6e53071-f90f-4059-e187-73e15ab92b6d"
      },
      "outputs": [
        {
          "output_type": "stream",
          "name": "stdout",
          "text": [
            "NanumGothic Eco\n"
          ]
        }
      ],
      "source": [
        "import matplotlib.pyplot as plt  # 그래프 그리는 용도\n",
        "import matplotlib.font_manager as fm  # 폰트 관련 용도\n",
        "path = '/usr/share/fonts/truetype/nanum/NanumGothicEco.ttf'  # 설치된 나눔글꼴중 원하는 녀석의 전체 경로를 가져오자\n",
        "font_name = fm.FontProperties(fname=path, size=10).get_name()\n",
        "print(font_name)\n",
        "plt.rc('font', family=font_name)\n",
        "\n",
        "fm._rebuild()"
      ]
    },
    {
      "cell_type": "markdown",
      "metadata": {
        "id": "FfdiuhaNQ3oo"
      },
      "source": [
        "# 뉴스 전처리"
      ]
    },
    {
      "cell_type": "markdown",
      "metadata": {
        "id": "RVAAmfNDjCzX"
      },
      "source": [
        "데이터 설명\n",
        "- AI Hub(https://aihub.or.kr/) 에서 제공하는 문서요약텍스트 데이터 중 신문기사 train_original.json파일을 사용합니다. \n",
        "- AI가 텍스트를 이해하고 핵심내용을 자동으로 요약하는 기술개발을 위한 텍스트 및 요약내용을 생성하는 텍스트 데이터로, 그 중에서 신문기사 원문데이터를 사용하여 문서요약과 토픽모델링을 진행하겠습니다. \n",
        "  - media: 미디어 명\n",
        "  - id : 문서 번호\n",
        "  - article_original : 신문기사\n",
        "  - abstractive : AI hub에서 제공하는 생성 요약문\n",
        "  - extractive : 추출요약문, 원문의 형태적 구조를 바탕으로 내용을 잘 표현하는 문장 3개를 우선순위에 따라 차례로 작성\n"
      ]
    },
    {
      "cell_type": "code",
      "execution_count": null,
      "metadata": {
        "id": "o6kxh6jbdDvn"
      },
      "outputs": [],
      "source": [
        "# from google.colab import files\n",
        "# data = files.upload()"
      ]
    },
    {
      "cell_type": "code",
      "execution_count": null,
      "metadata": {
        "id": "fKUVD1ptuah5"
      },
      "outputs": [],
      "source": [
        "!pip install -U --no-cache-dir gdown --pre\n",
        "!gdown --no-cookies --id 1KuBG40WNpVPV1ilfGaiCI2D3l8JVSfbS"
      ]
    },
    {
      "cell_type": "code",
      "execution_count": null,
      "metadata": {
        "colab": {
          "base_uri": "https://localhost:8080/",
          "height": 502
        },
        "id": "1n1-AcF5btMJ",
        "outputId": "d00fd87e-71c8-4720-c75b-1faf1d1d89d2"
      },
      "outputs": [
        {
          "output_type": "execute_result",
          "data": {
            "text/plain": [
              "        media         id                                   article_original  \\\n",
              "0        부산일보  360972161  [지난해 고령화와 유례가 드문 겨울 한파 등 영향으로 우리나라 사망자 수가 통계 작...   \n",
              "1        중도일보  356659913  [서산시의회(의장 임재관) 가충순·이수의 의원이 (사)한국지역신문협회에서 수여하는 ...   \n",
              "2        무등일보  351718460  [지난 2004년 시작해 조선대 학생들의 대표적인 행사로 자리매김한 ‘조선대 국토대...   \n",
              "3        이데일리  335868123  [서울시는 신학기가 시작되는 다음달 4일부터 고등학교 3학년 무상급식을 실시한다고 ...   \n",
              "4        서울신문  351443347  [미국인 선교사가 우간다에서 의사 행세를 하며 의료 시설을 운영한 혐의로 지역 시민...   \n",
              "...       ...        ...                                                ...   \n",
              "260692   매일경제  353316985  [두통과 어지럼증은 우리에게 매우 익숙하다., 하루 이틀 정도만 참으면 자연스럽게 ...   \n",
              "260693   부산일보  360784906  [파주 최대 테마파크 퍼스트가든이 ㈜투바앤의 캐릭터 '라바'와 할로윈 페스티벌(사진...   \n",
              "260694   부산일보  357253753  [민원과 난공사로 완공이 늦어지고 있는 양산시 한일아파트 인근 옹벽 보수·보강공사 ...   \n",
              "260695   매일신문  347655953  [사단법인 전국자원봉사연맹이 호국보훈의 달을 맞이하여, 오는 2019년 6월 23일...   \n",
              "260696  아시아경제  369524558  [라이프스타일 투자플랫폼 와디즈는 서강대학교 경영전문대학원, 한국전문경영컨설팅과 함...   \n",
              "\n",
              "                                              abstractive   extractive  \n",
              "0       통계청이 발표한 '2018년 사망원인통계'를 보면 지난해 총 사망자 수는 관련 통계...  [4, 11, 18]  \n",
              "1       서산시 가충순 의원과 이수의 의원이 활발한 의정활동을 펼친 감사의 표시로 한국지역신...    [1, 3, 4]  \n",
              "2        ‘조선대의 새로운 비상을 꿈꾸다’를 슬로건으로 진행되어 단체생활을 통해 협동심과 ...    [0, 2, 4]  \n",
              "3       서울시가 다음달 4일부터 서울 시내 319개 고등학교 3학년 8만4700명을 대상으...    [0, 1, 2]  \n",
              "4       미국인 선교사가 우간다에서 의사 행세를 하며 두 아이의 죽음과 관련돼 있다며 지역 ...    [0, 1, 2]  \n",
              "...                                                   ...          ...  \n",
              "260692  두통과 어지럼증은 우리에게 매우 익숙한 증상이며, 이 두통은 크게 긴장성 두통, 혈...  [3, 12, 16]  \n",
              "260693  파주 최대 테마파크 퍼스트가든이 오는 10월 12일부터 31일까지 가족들이 함께 즐...    [0, 4, 1]  \n",
              "260694  양산시는 지난해 10월부터 43억 원을 들여 진행 중인 한일아파트 뒤편 옹벽 보수·...    [4, 6, 7]  \n",
              "260695  국가를 위해 헌신한 분들의 숭고한 희생을 기리고, 유가족 들을 위로하기 위해 열리는...    [0, 1, 2]  \n",
              "260696  지난 4일 라이프스타일 투자플랫롬 와디즈는 스타트업 투자 시장에서의 자금 조달 수요...    [0, 1, 2]  \n",
              "\n",
              "[260697 rows x 5 columns]"
            ],
            "text/html": [
              "\n",
              "  <div id=\"df-c02136a6-7b29-4387-bf4c-98bb942eff92\">\n",
              "    <div class=\"colab-df-container\">\n",
              "      <div>\n",
              "<style scoped>\n",
              "    .dataframe tbody tr th:only-of-type {\n",
              "        vertical-align: middle;\n",
              "    }\n",
              "\n",
              "    .dataframe tbody tr th {\n",
              "        vertical-align: top;\n",
              "    }\n",
              "\n",
              "    .dataframe thead th {\n",
              "        text-align: right;\n",
              "    }\n",
              "</style>\n",
              "<table border=\"1\" class=\"dataframe\">\n",
              "  <thead>\n",
              "    <tr style=\"text-align: right;\">\n",
              "      <th></th>\n",
              "      <th>media</th>\n",
              "      <th>id</th>\n",
              "      <th>article_original</th>\n",
              "      <th>abstractive</th>\n",
              "      <th>extractive</th>\n",
              "    </tr>\n",
              "  </thead>\n",
              "  <tbody>\n",
              "    <tr>\n",
              "      <th>0</th>\n",
              "      <td>부산일보</td>\n",
              "      <td>360972161</td>\n",
              "      <td>[지난해 고령화와 유례가 드문 겨울 한파 등 영향으로 우리나라 사망자 수가 통계 작...</td>\n",
              "      <td>통계청이 발표한 '2018년 사망원인통계'를 보면 지난해 총 사망자 수는 관련 통계...</td>\n",
              "      <td>[4, 11, 18]</td>\n",
              "    </tr>\n",
              "    <tr>\n",
              "      <th>1</th>\n",
              "      <td>중도일보</td>\n",
              "      <td>356659913</td>\n",
              "      <td>[서산시의회(의장 임재관) 가충순·이수의 의원이 (사)한국지역신문협회에서 수여하는 ...</td>\n",
              "      <td>서산시 가충순 의원과 이수의 의원이 활발한 의정활동을 펼친 감사의 표시로 한국지역신...</td>\n",
              "      <td>[1, 3, 4]</td>\n",
              "    </tr>\n",
              "    <tr>\n",
              "      <th>2</th>\n",
              "      <td>무등일보</td>\n",
              "      <td>351718460</td>\n",
              "      <td>[지난 2004년 시작해 조선대 학생들의 대표적인 행사로 자리매김한 ‘조선대 국토대...</td>\n",
              "      <td>‘조선대의 새로운 비상을 꿈꾸다’를 슬로건으로 진행되어 단체생활을 통해 협동심과 ...</td>\n",
              "      <td>[0, 2, 4]</td>\n",
              "    </tr>\n",
              "    <tr>\n",
              "      <th>3</th>\n",
              "      <td>이데일리</td>\n",
              "      <td>335868123</td>\n",
              "      <td>[서울시는 신학기가 시작되는 다음달 4일부터 고등학교 3학년 무상급식을 실시한다고 ...</td>\n",
              "      <td>서울시가 다음달 4일부터 서울 시내 319개 고등학교 3학년 8만4700명을 대상으...</td>\n",
              "      <td>[0, 1, 2]</td>\n",
              "    </tr>\n",
              "    <tr>\n",
              "      <th>4</th>\n",
              "      <td>서울신문</td>\n",
              "      <td>351443347</td>\n",
              "      <td>[미국인 선교사가 우간다에서 의사 행세를 하며 의료 시설을 운영한 혐의로 지역 시민...</td>\n",
              "      <td>미국인 선교사가 우간다에서 의사 행세를 하며 두 아이의 죽음과 관련돼 있다며 지역 ...</td>\n",
              "      <td>[0, 1, 2]</td>\n",
              "    </tr>\n",
              "    <tr>\n",
              "      <th>...</th>\n",
              "      <td>...</td>\n",
              "      <td>...</td>\n",
              "      <td>...</td>\n",
              "      <td>...</td>\n",
              "      <td>...</td>\n",
              "    </tr>\n",
              "    <tr>\n",
              "      <th>260692</th>\n",
              "      <td>매일경제</td>\n",
              "      <td>353316985</td>\n",
              "      <td>[두통과 어지럼증은 우리에게 매우 익숙하다., 하루 이틀 정도만 참으면 자연스럽게 ...</td>\n",
              "      <td>두통과 어지럼증은 우리에게 매우 익숙한 증상이며, 이 두통은 크게 긴장성 두통, 혈...</td>\n",
              "      <td>[3, 12, 16]</td>\n",
              "    </tr>\n",
              "    <tr>\n",
              "      <th>260693</th>\n",
              "      <td>부산일보</td>\n",
              "      <td>360784906</td>\n",
              "      <td>[파주 최대 테마파크 퍼스트가든이 ㈜투바앤의 캐릭터 '라바'와 할로윈 페스티벌(사진...</td>\n",
              "      <td>파주 최대 테마파크 퍼스트가든이 오는 10월 12일부터 31일까지 가족들이 함께 즐...</td>\n",
              "      <td>[0, 4, 1]</td>\n",
              "    </tr>\n",
              "    <tr>\n",
              "      <th>260694</th>\n",
              "      <td>부산일보</td>\n",
              "      <td>357253753</td>\n",
              "      <td>[민원과 난공사로 완공이 늦어지고 있는 양산시 한일아파트 인근 옹벽 보수·보강공사 ...</td>\n",
              "      <td>양산시는 지난해 10월부터 43억 원을 들여 진행 중인 한일아파트 뒤편 옹벽 보수·...</td>\n",
              "      <td>[4, 6, 7]</td>\n",
              "    </tr>\n",
              "    <tr>\n",
              "      <th>260695</th>\n",
              "      <td>매일신문</td>\n",
              "      <td>347655953</td>\n",
              "      <td>[사단법인 전국자원봉사연맹이 호국보훈의 달을 맞이하여, 오는 2019년 6월 23일...</td>\n",
              "      <td>국가를 위해 헌신한 분들의 숭고한 희생을 기리고, 유가족 들을 위로하기 위해 열리는...</td>\n",
              "      <td>[0, 1, 2]</td>\n",
              "    </tr>\n",
              "    <tr>\n",
              "      <th>260696</th>\n",
              "      <td>아시아경제</td>\n",
              "      <td>369524558</td>\n",
              "      <td>[라이프스타일 투자플랫폼 와디즈는 서강대학교 경영전문대학원, 한국전문경영컨설팅과 함...</td>\n",
              "      <td>지난 4일 라이프스타일 투자플랫롬 와디즈는 스타트업 투자 시장에서의 자금 조달 수요...</td>\n",
              "      <td>[0, 1, 2]</td>\n",
              "    </tr>\n",
              "  </tbody>\n",
              "</table>\n",
              "<p>260697 rows × 5 columns</p>\n",
              "</div>\n",
              "      <button class=\"colab-df-convert\" onclick=\"convertToInteractive('df-c02136a6-7b29-4387-bf4c-98bb942eff92')\"\n",
              "              title=\"Convert this dataframe to an interactive table.\"\n",
              "              style=\"display:none;\">\n",
              "        \n",
              "  <svg xmlns=\"http://www.w3.org/2000/svg\" height=\"24px\"viewBox=\"0 0 24 24\"\n",
              "       width=\"24px\">\n",
              "    <path d=\"M0 0h24v24H0V0z\" fill=\"none\"/>\n",
              "    <path d=\"M18.56 5.44l.94 2.06.94-2.06 2.06-.94-2.06-.94-.94-2.06-.94 2.06-2.06.94zm-11 1L8.5 8.5l.94-2.06 2.06-.94-2.06-.94L8.5 2.5l-.94 2.06-2.06.94zm10 10l.94 2.06.94-2.06 2.06-.94-2.06-.94-.94-2.06-.94 2.06-2.06.94z\"/><path d=\"M17.41 7.96l-1.37-1.37c-.4-.4-.92-.59-1.43-.59-.52 0-1.04.2-1.43.59L10.3 9.45l-7.72 7.72c-.78.78-.78 2.05 0 2.83L4 21.41c.39.39.9.59 1.41.59.51 0 1.02-.2 1.41-.59l7.78-7.78 2.81-2.81c.8-.78.8-2.07 0-2.86zM5.41 20L4 18.59l7.72-7.72 1.47 1.35L5.41 20z\"/>\n",
              "  </svg>\n",
              "      </button>\n",
              "      \n",
              "  <style>\n",
              "    .colab-df-container {\n",
              "      display:flex;\n",
              "      flex-wrap:wrap;\n",
              "      gap: 12px;\n",
              "    }\n",
              "\n",
              "    .colab-df-convert {\n",
              "      background-color: #E8F0FE;\n",
              "      border: none;\n",
              "      border-radius: 50%;\n",
              "      cursor: pointer;\n",
              "      display: none;\n",
              "      fill: #1967D2;\n",
              "      height: 32px;\n",
              "      padding: 0 0 0 0;\n",
              "      width: 32px;\n",
              "    }\n",
              "\n",
              "    .colab-df-convert:hover {\n",
              "      background-color: #E2EBFA;\n",
              "      box-shadow: 0px 1px 2px rgba(60, 64, 67, 0.3), 0px 1px 3px 1px rgba(60, 64, 67, 0.15);\n",
              "      fill: #174EA6;\n",
              "    }\n",
              "\n",
              "    [theme=dark] .colab-df-convert {\n",
              "      background-color: #3B4455;\n",
              "      fill: #D2E3FC;\n",
              "    }\n",
              "\n",
              "    [theme=dark] .colab-df-convert:hover {\n",
              "      background-color: #434B5C;\n",
              "      box-shadow: 0px 1px 3px 1px rgba(0, 0, 0, 0.15);\n",
              "      filter: drop-shadow(0px 1px 2px rgba(0, 0, 0, 0.3));\n",
              "      fill: #FFFFFF;\n",
              "    }\n",
              "  </style>\n",
              "\n",
              "      <script>\n",
              "        const buttonEl =\n",
              "          document.querySelector('#df-c02136a6-7b29-4387-bf4c-98bb942eff92 button.colab-df-convert');\n",
              "        buttonEl.style.display =\n",
              "          google.colab.kernel.accessAllowed ? 'block' : 'none';\n",
              "\n",
              "        async function convertToInteractive(key) {\n",
              "          const element = document.querySelector('#df-c02136a6-7b29-4387-bf4c-98bb942eff92');\n",
              "          const dataTable =\n",
              "            await google.colab.kernel.invokeFunction('convertToInteractive',\n",
              "                                                     [key], {});\n",
              "          if (!dataTable) return;\n",
              "\n",
              "          const docLinkHtml = 'Like what you see? Visit the ' +\n",
              "            '<a target=\"_blank\" href=https://colab.research.google.com/notebooks/data_table.ipynb>data table notebook</a>'\n",
              "            + ' to learn more about interactive tables.';\n",
              "          element.innerHTML = '';\n",
              "          dataTable['output_type'] = 'display_data';\n",
              "          await google.colab.output.renderOutput(dataTable, element);\n",
              "          const docLink = document.createElement('div');\n",
              "          docLink.innerHTML = docLinkHtml;\n",
              "          element.appendChild(docLink);\n",
              "        }\n",
              "      </script>\n",
              "    </div>\n",
              "  </div>\n",
              "  "
            ]
          },
          "metadata": {},
          "execution_count": 4
        }
      ],
      "source": [
        "import pandas as pd\n",
        "\n",
        "# df_news = pd.read_json(\"/content/train_original.json\") # 절대경로\n",
        "df_news = pd.read_json(\"./train_original.json\") # 상대경로 : ./ = 나 자신(작업중인 파이썬 파일)과 같은 경로\n",
        "df_news"
      ]
    },
    {
      "cell_type": "code",
      "source": [
        "df_news.info()"
      ],
      "metadata": {
        "colab": {
          "base_uri": "https://localhost:8080/"
        },
        "id": "POLSzXweL59r",
        "outputId": "74d5c4c7-aa27-45fc-dd95-82ba138362a0"
      },
      "execution_count": null,
      "outputs": [
        {
          "output_type": "stream",
          "name": "stdout",
          "text": [
            "<class 'pandas.core.frame.DataFrame'>\n",
            "RangeIndex: 260697 entries, 0 to 260696\n",
            "Data columns (total 5 columns):\n",
            " #   Column            Non-Null Count   Dtype \n",
            "---  ------            --------------   ----- \n",
            " 0   media             260697 non-null  object\n",
            " 1   id                260697 non-null  int64 \n",
            " 2   article_original  260697 non-null  object\n",
            " 3   abstractive       260697 non-null  object\n",
            " 4   extractive        260697 non-null  object\n",
            "dtypes: int64(1), object(4)\n",
            "memory usage: 9.9+ MB\n"
          ]
        }
      ]
    },
    {
      "cell_type": "code",
      "execution_count": null,
      "metadata": {
        "id": "aDxJJ1hUbs-q"
      },
      "outputs": [],
      "source": [
        "# 원문기사 \n",
        "sample_news = df_news['article_original'].iloc[0]"
      ]
    },
    {
      "cell_type": "code",
      "source": [
        "sample_news[4], sample_news[11], sample_news[18]"
      ],
      "metadata": {
        "colab": {
          "base_uri": "https://localhost:8080/"
        },
        "id": "QhJOsmAh9tXo",
        "outputId": "3d9190c3-ed35-4fcc-af05-01f2ccc451bf"
      },
      "execution_count": null,
      "outputs": [
        {
          "output_type": "execute_result",
          "data": {
            "text/plain": [
              "(\"24일 통계청이 발표한 '2018년 사망원인통계'를 보면 지난해 총 사망자 수는 전년 대비 4.7%(1만 3286명) 증가한 29만 8820명으로 관련 통계를 작성한 1983년 이후 가장 많았으며, 5년 연속 증가세를 보였다.\",\n",
              " '특히 폐렴(4위→3위)과 치매의 일종인 알츠하이머병(11위→9위)에 의한 사망률 순위 상승이 두드러졌다.',\n",
              " '지난해 자살에 의한 사망자는 1만 3670명으로 전년보다 9.7%(1207명) 증가했다.')"
            ]
          },
          "metadata": {},
          "execution_count": 7
        }
      ]
    },
    {
      "cell_type": "code",
      "execution_count": null,
      "metadata": {
        "colab": {
          "base_uri": "https://localhost:8080/",
          "height": 36
        },
        "id": "HjylrG1kkxU_",
        "outputId": "3da288fa-a8d4-402f-f18f-e330517c1086"
      },
      "outputs": [
        {
          "output_type": "execute_result",
          "data": {
            "text/plain": [
              "\"통계청이 발표한 '2018년 사망원인통계'를 보면 지난해 총 사망자 수는 관련 통계를 작성한 이래 가장 많았으며 사망 원인 중 폐렴과 알츠하이머 병의 순위 상승이 두드러졌고 자살에 의한 사망자도 증가했다. \""
            ],
            "application/vnd.google.colaboratory.intrinsic+json": {
              "type": "string"
            }
          },
          "metadata": {},
          "execution_count": 8
        }
      ],
      "source": [
        "# 생성 요약문(AI hub)\n",
        "df_news['abstractive'].iloc[0]"
      ]
    },
    {
      "cell_type": "code",
      "execution_count": null,
      "metadata": {
        "colab": {
          "base_uri": "https://localhost:8080/"
        },
        "id": "Dx4GGHEAf7Ly",
        "outputId": "5f13b6b3-671b-4d03-fbde-787ffe518a2e"
      },
      "outputs": [
        {
          "output_type": "stream",
          "name": "stdout",
          "text": [
            "24일 통계청이 발표한 '2018년 사망원인통계'를 보면 지난해 총 사망자 수는 전년 대비 4.7%(1만 3286명) 증가한 29만 8820명으로 관련 통계를 작성한 1983년 이후 가장 많았으며, 5년 연속 증가세를 보였다.\n",
            "특히 폐렴(4위→3위)과 치매의 일종인 알츠하이머병(11위→9위)에 의한 사망률 순위 상승이 두드러졌다.\n",
            "지난해 자살에 의한 사망자는 1만 3670명으로 전년보다 9.7%(1207명) 증가했다.\n"
          ]
        }
      ],
      "source": [
        "# 주요 문장 추출 결과(AI hub)\n",
        "for i in df_news['extractive'].iloc[0]:\n",
        "  print(df_news['article_original'].iloc[0][i])"
      ]
    },
    {
      "cell_type": "code",
      "execution_count": null,
      "metadata": {
        "colab": {
          "base_uri": "https://localhost:8080/"
        },
        "id": "gq00bY4TlFjj",
        "outputId": "30c9e9cb-6a61-44ae-c08a-1952195681c2"
      },
      "outputs": [
        {
          "output_type": "stream",
          "name": "stdout",
          "text": [
            "<class 'pandas.core.frame.DataFrame'>\n",
            "RangeIndex: 260697 entries, 0 to 260696\n",
            "Data columns (total 5 columns):\n",
            " #   Column            Non-Null Count   Dtype \n",
            "---  ------            --------------   ----- \n",
            " 0   media             260697 non-null  object\n",
            " 1   id                260697 non-null  int64 \n",
            " 2   article_original  260697 non-null  object\n",
            " 3   abstractive       260697 non-null  object\n",
            " 4   extractive        260697 non-null  object\n",
            "dtypes: int64(1), object(4)\n",
            "memory usage: 9.9+ MB\n"
          ]
        }
      ],
      "source": [
        "# 데이터 타입과 null 값 확인\n",
        "df_news.info()"
      ]
    },
    {
      "cell_type": "markdown",
      "metadata": {
        "id": "2NNYV0ffnch3"
      },
      "source": [
        "# 토픽모델링"
      ]
    },
    {
      "cell_type": "markdown",
      "metadata": {
        "id": "GVVIJekzxWXN"
      },
      "source": [
        "한두개의 문서가 아니라 수천개의 경향성을 파악해야 한다면?"
      ]
    },
    {
      "cell_type": "markdown",
      "metadata": {
        "id": "jWGqxpttiMZh"
      },
      "source": [
        "1. 토픽 모델이란?   \n",
        "문서집합의 추상적인 \"주제\"를 발견하기 위한 통계적 모델 중 하나로, 텍스트 본문의 숨겨진 의미구조를 발견하기 위해 사용되는 텍스트 마이닝 기법 중 하나입니다.   \n",
        "(https://ko.wikipedia.org/wiki/%ED%86%A0%ED%94%BD_%EB%AA%A8%EB%8D%B8)\n",
        "\n",
        "2. 문헌 내에 어떤 주제가 들어있고, 주제 간의 비중이 어떤지는 문헌 집합 내의 단어 통계를 수학적으로 분석함으로써 알아 낼 수 있습니다.이러한 이유로 토픽 모델은 또한 확률적 토픽 모델이라고도 불립니다. \n"
      ]
    },
    {
      "cell_type": "markdown",
      "metadata": {
        "id": "tx0Ahqtvi0bY"
      },
      "source": [
        "![image.png](data:image/png;base64,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)"
      ]
    },
    {
      "cell_type": "markdown",
      "metadata": {
        "id": "NytN8-RUizU_"
      },
      "source": [
        "여러 토픽모델 알고리즘 중 LDA를 활용하여 실습해보겠습니다. \n",
        "\n",
        "LDA(Latent Dirichlet allocation, 잠재 디리클레 할당)란?    \n",
        "- 자연어 처리에서 잠재 디리클레 할당(Latent Dirichlet allocation, LDA)은 주어진 문서에 대하여 각 문서에 어떤 주제들이 존재하는지를 서술하는 확률적 토픽 모델 기법 중 하나로, \n",
        "- 미리 알고 있는 주제별 단어수 분포를 바탕으로, 주어진 문서에서 발견된 단어수 분포를 분석함으로써 해당 문서가 어떤 주제들을 함께 다루고 있을지를 예측하는 모델입니다. \n",
        "(https://ko.wikipedia.org/wiki/%EC%9E%A0%EC%9E%AC_%EB%94%94%EB%A6%AC%ED%81%B4%EB%A0%88_%ED%95%A0%EB%8B%B9)"
      ]
    },
    {
      "cell_type": "markdown",
      "metadata": {
        "id": "hjMQImA5ALTY"
      },
      "source": [
        "LDA 절차\n",
        "0. 데이터 이해\n",
        "1. 텍스트 전처리\n",
        "2. TF-IDF 행렬 만들기\n",
        "3. LDA 학습 및 결과분석"
      ]
    },
    {
      "cell_type": "markdown",
      "metadata": {
        "id": "fLK4yYTRoP6A"
      },
      "source": [
        "### 1. 텍스트 전처리(Text Preprocessing) \n",
        "- 텍스트를 자연어 처리를 위해 용도에 맞도록 사전에 표준화하는 작업입니다. \n",
        "- 텍스트 내 정보를 유지하고, 중복을 제거하여 분석 효율성을 높이기 위해 전처리를 수행합니다. \n",
        "- 토큰화, 품사 부착, 개체명 인식,원형복원, 불용어 처리 등이 있습니다. "
      ]
    },
    {
      "cell_type": "code",
      "execution_count": null,
      "metadata": {
        "id": "4btloZ4SnfJq"
      },
      "outputs": [],
      "source": [
        "# 한글, 영어, 숫자(소수와 퍼센트) 만 남기고 기타 특수문자들을 제거합니다. \n",
        "import re\n",
        "\n",
        "def text_cleaning(doc):\n",
        "  text = re.sub('[^가-힣ㄱ-ㅣa-zA-Z|0-9.%]', ' ', string = doc)\n",
        "  return text"
      ]
    },
    {
      "cell_type": "code",
      "source": [
        "# 원문은 각 문장이 나뉘어서 리스트에 포함되어 있습니다. 이를 한 문장으로 합치겠습니다. \n",
        "df_news['article_original'].iloc[0]"
      ],
      "metadata": {
        "colab": {
          "base_uri": "https://localhost:8080/"
        },
        "id": "E3soQWwfKgVO",
        "outputId": "56296325-6535-406d-df88-f370cd9dceda"
      },
      "execution_count": null,
      "outputs": [
        {
          "output_type": "execute_result",
          "data": {
            "text/plain": [
              "['지난해 고령화와 유례가 드문 겨울 한파 등 영향으로 우리나라 사망자 수가 통계 작성 이후 가장 많았다.',\n",
              " '폐렴과 치매의 일종인 알츠하이머병은 지난해 사망원인 순위 3위와 9위로 전년보다 각각 한 단계, 두 단계 상승하는 등 노인성 질병에 의한 사망률이 급증하는 추세다.',\n",
              " '‘연령표준화 사망률’(표준인구 10만 명당 사망자 수)은 울산·충북·부산 순으로 높게 나타났다.',\n",
              " '■작년 사망자 29만 8820명, 역대 최다',\n",
              " \"24일 통계청이 발표한 '2018년 사망원인통계'를 보면 지난해 총 사망자 수는 전년 대비 4.7%(1만 3286명) 증가한 29만 8820명으로 관련 통계를 작성한 1983년 이후 가장 많았으며, 5년 연속 증가세를 보였다.\",\n",
              " '통계청은 인구 구조의 고령화와 지난해 1~2월 유례가 드문 한파 등을 그 원인으로 꼽았다.',\n",
              " '지난해 조사망률(인구 10만 명당 사망자 수) 역시 582.5명으로 전년보다 4.5%(25.1명) 증가해 5년 연속 늘었다.',\n",
              " '특히 80세 이상의 사망자가 전체 사망자의 절반에 가까운 46.3%로, 10년 전보다 14.3%포인트(P)나 증가했다.',\n",
              " '■폐렴·알츠하이머병 사망률 순위 ‘껑충’',\n",
              " '사망원인별로 보면 지난해 암(악성신생물)에 의한 사망률(이하 인구 10만 명당 사망자 수)은 154.3명으로 전년보다 0.2% 증가했다.',\n",
              " '1983년 관련 통계를 집계한 이래 줄곧 암이 사망원인 1위로 집계됐다.',\n",
              " '특히 폐렴(4위→3위)과 치매의 일종인 알츠하이머병(11위→9위)에 의한 사망률 순위 상승이 두드러졌다.',\n",
              " '폐렴 사망률은 2004년 10위에서 꾸준히 순위가 상승하고 있고, 알츠하이머병 사망률 역시 통계 작성 이래 10대 사인에 처음 포함됐다.',\n",
              " '지난해 알츠하이머병에 의한 사망률은 12.0명으로 전년(9.8명) 대비 22.5% 증가했다.',\n",
              " '알츠하이머병 사망률은 10년 전(3.8명)과 비교하면 무려 214.2% 증가했다.',\n",
              " '폐렴 사망률은 45.4명으로 전년(37.8명) 대비 20.0% 증가했다.',\n",
              " '알코올 관련 사망률은 9.6명으로 전년보다 2.0% 늘었다.',\n",
              " '■자살률 5년 만에 증가…\"베르테르 효과 영향\"',\n",
              " '지난해 자살에 의한 사망자는 1만 3670명으로 전년보다 9.7%(1207명) 증가했다.',\n",
              " '자살률은 26.6명으로 전년보다 2.3명(9.5%) 증가했다.',\n",
              " '자살률은 2013년 28.5명, 2014년 27.3명, 2015년 26.5명, 2016년 25.6명, 2017년 24.3명 등 4년 연속 줄어들다가 5년 만에 증가세로 돌아섰다.',\n",
              " '자살은 10∼30대까지 사망원인 순위 1위를 차지했고, 40∼50대에서도 2위를 기록했다.',\n",
              " '김진 통계청 인구동향과장은 \"자살에는 베르테르 효과, 즉 유명인 자살이 영향을 준다.',\n",
              " '2011년 이후 유명인 자살이 줄면서 자살이 줄었는데 지난해에는 유명인 자살이 있어 영향을 줬다\"고 설명했다.',\n",
              " '지역 간 연령구조 차이를 표준화한 사망률(표준인구 10만 명당 사망자 수)을 보면 울산(355.3명), 충북(352.6명), 부산(350.8명)이 높았고, 서울(283.3명)과 경기(306.8명)가 낮았다.',\n",
              " '사인별로 연령표준화 사망률이 높은 지역을 보면 암은 경남(101.5명), 심장 질환은 경남(44.6명), 뇌혈관 질환은 울산(30.6명), 폐렴은 경북(30.3명), 운수사고는 전남(14.4명), 고의적 자해(자살)는 충남(29.8명)이었다.']"
            ]
          },
          "metadata": {},
          "execution_count": 12
        }
      ]
    },
    {
      "cell_type": "code",
      "execution_count": null,
      "metadata": {
        "colab": {
          "base_uri": "https://localhost:8080/",
          "height": 179
        },
        "id": "KGV__SDVvlfH",
        "outputId": "d7520998-cc7a-4f9c-aec4-18c189f3f1a1"
      },
      "outputs": [
        {
          "output_type": "execute_result",
          "data": {
            "text/plain": [
              "'지난해 고령화와 유례가 드문 겨울 한파 등 영향으로 우리나라 사망자 수가 통계 작성 이후 가장 많았다. 폐렴과 치매의 일종인 알츠하이머병은 지난해 사망원인 순위 3위와 9위로 전년보다 각각 한 단계, 두 단계 상승하는 등 노인성 질병에 의한 사망률이 급증하는 추세다. ‘연령표준화 사망률’(표준인구 10만 명당 사망자 수)은 울산·충북·부산 순으로 높게 나타났다. ■작년 사망자 29만 8820명, 역대 최다 24일 통계청이 발표한 \\'2018년 사망원인통계\\'를 보면 지난해 총 사망자 수는 전년 대비 4.7%(1만 3286명) 증가한 29만 8820명으로 관련 통계를 작성한 1983년 이후 가장 많았으며, 5년 연속 증가세를 보였다. 통계청은 인구 구조의 고령화와 지난해 1~2월 유례가 드문 한파 등을 그 원인으로 꼽았다. 지난해 조사망률(인구 10만 명당 사망자 수) 역시 582.5명으로 전년보다 4.5%(25.1명) 증가해 5년 연속 늘었다. 특히 80세 이상의 사망자가 전체 사망자의 절반에 가까운 46.3%로, 10년 전보다 14.3%포인트(P)나 증가했다. ■폐렴·알츠하이머병 사망률 순위 ‘껑충’ 사망원인별로 보면 지난해 암(악성신생물)에 의한 사망률(이하 인구 10만 명당 사망자 수)은 154.3명으로 전년보다 0.2% 증가했다. 1983년 관련 통계를 집계한 이래 줄곧 암이 사망원인 1위로 집계됐다. 특히 폐렴(4위→3위)과 치매의 일종인 알츠하이머병(11위→9위)에 의한 사망률 순위 상승이 두드러졌다. 폐렴 사망률은 2004년 10위에서 꾸준히 순위가 상승하고 있고, 알츠하이머병 사망률 역시 통계 작성 이래 10대 사인에 처음 포함됐다. 지난해 알츠하이머병에 의한 사망률은 12.0명으로 전년(9.8명) 대비 22.5% 증가했다. 알츠하이머병 사망률은 10년 전(3.8명)과 비교하면 무려 214.2% 증가했다. 폐렴 사망률은 45.4명으로 전년(37.8명) 대비 20.0% 증가했다. 알코올 관련 사망률은 9.6명으로 전년보다 2.0% 늘었다. ■자살률 5년 만에 증가…\"베르테르 효과 영향\" 지난해 자살에 의한 사망자는 1만 3670명으로 전년보다 9.7%(1207명) 증가했다. 자살률은 26.6명으로 전년보다 2.3명(9.5%) 증가했다. 자살률은 2013년 28.5명, 2014년 27.3명, 2015년 26.5명, 2016년 25.6명, 2017년 24.3명 등 4년 연속 줄어들다가 5년 만에 증가세로 돌아섰다. 자살은 10∼30대까지 사망원인 순위 1위를 차지했고, 40∼50대에서도 2위를 기록했다. 김진 통계청 인구동향과장은 \"자살에는 베르테르 효과, 즉 유명인 자살이 영향을 준다. 2011년 이후 유명인 자살이 줄면서 자살이 줄었는데 지난해에는 유명인 자살이 있어 영향을 줬다\"고 설명했다. 지역 간 연령구조 차이를 표준화한 사망률(표준인구 10만 명당 사망자 수)을 보면 울산(355.3명), 충북(352.6명), 부산(350.8명)이 높았고, 서울(283.3명)과 경기(306.8명)가 낮았다. 사인별로 연령표준화 사망률이 높은 지역을 보면 암은 경남(101.5명), 심장 질환은 경남(44.6명), 뇌혈관 질환은 울산(30.6명), 폐렴은 경북(30.3명), 운수사고는 전남(14.4명), 고의적 자해(자살)는 충남(29.8명)이었다.'"
            ],
            "application/vnd.google.colaboratory.intrinsic+json": {
              "type": "string"
            }
          },
          "metadata": {},
          "execution_count": 13
        }
      ],
      "source": [
        "# 원문\n",
        "doc = ' '.join(df_news['article_original'].iloc[0])\n",
        "doc"
      ]
    },
    {
      "cell_type": "code",
      "execution_count": null,
      "metadata": {
        "colab": {
          "base_uri": "https://localhost:8080/",
          "height": 179
        },
        "id": "Z_DHSpOGnfCP",
        "outputId": "1a1aa197-c692-44c2-88b3-ff92161c2764"
      },
      "outputs": [
        {
          "output_type": "execute_result",
          "data": {
            "text/plain": [
              "'지난해 고령화와 유례가 드문 겨울 한파 등 영향으로 우리나라 사망자 수가 통계 작성 이후 가장 많았다. 폐렴과 치매의 일종인 알츠하이머병은 지난해 사망원인 순위 3위와 9위로 전년보다 각각 한 단계  두 단계 상승하는 등 노인성 질병에 의한 사망률이 급증하는 추세다.  연령표준화 사망률  표준인구 10만 명당 사망자 수 은 울산 충북 부산 순으로 높게 나타났다.  작년 사망자 29만 8820명  역대 최다 24일 통계청이 발표한  2018년 사망원인통계 를 보면 지난해 총 사망자 수는 전년 대비 4.7% 1만 3286명  증가한 29만 8820명으로 관련 통계를 작성한 1983년 이후 가장 많았으며  5년 연속 증가세를 보였다. 통계청은 인구 구조의 고령화와 지난해 1 2월 유례가 드문 한파 등을 그 원인으로 꼽았다. 지난해 조사망률 인구 10만 명당 사망자 수  역시 582.5명으로 전년보다 4.5% 25.1명  증가해 5년 연속 늘었다. 특히 80세 이상의 사망자가 전체 사망자의 절반에 가까운 46.3%로  10년 전보다 14.3%포인트 P 나 증가했다.  폐렴 알츠하이머병 사망률 순위  껑충  사망원인별로 보면 지난해 암 악성신생물 에 의한 사망률 이하 인구 10만 명당 사망자 수 은 154.3명으로 전년보다 0.2% 증가했다. 1983년 관련 통계를 집계한 이래 줄곧 암이 사망원인 1위로 집계됐다. 특히 폐렴 4위 3위 과 치매의 일종인 알츠하이머병 11위 9위 에 의한 사망률 순위 상승이 두드러졌다. 폐렴 사망률은 2004년 10위에서 꾸준히 순위가 상승하고 있고  알츠하이머병 사망률 역시 통계 작성 이래 10대 사인에 처음 포함됐다. 지난해 알츠하이머병에 의한 사망률은 12.0명으로 전년 9.8명  대비 22.5% 증가했다. 알츠하이머병 사망률은 10년 전 3.8명 과 비교하면 무려 214.2% 증가했다. 폐렴 사망률은 45.4명으로 전년 37.8명  대비 20.0% 증가했다. 알코올 관련 사망률은 9.6명으로 전년보다 2.0% 늘었다.  자살률 5년 만에 증가  베르테르 효과 영향  지난해 자살에 의한 사망자는 1만 3670명으로 전년보다 9.7% 1207명  증가했다. 자살률은 26.6명으로 전년보다 2.3명 9.5%  증가했다. 자살률은 2013년 28.5명  2014년 27.3명  2015년 26.5명  2016년 25.6명  2017년 24.3명 등 4년 연속 줄어들다가 5년 만에 증가세로 돌아섰다. 자살은 10 30대까지 사망원인 순위 1위를 차지했고  40 50대에서도 2위를 기록했다. 김진 통계청 인구동향과장은  자살에는 베르테르 효과  즉 유명인 자살이 영향을 준다. 2011년 이후 유명인 자살이 줄면서 자살이 줄었는데 지난해에는 유명인 자살이 있어 영향을 줬다 고 설명했다. 지역 간 연령구조 차이를 표준화한 사망률 표준인구 10만 명당 사망자 수 을 보면 울산 355.3명   충북 352.6명   부산 350.8명 이 높았고  서울 283.3명 과 경기 306.8명 가 낮았다. 사인별로 연령표준화 사망률이 높은 지역을 보면 암은 경남 101.5명   심장 질환은 경남 44.6명   뇌혈관 질환은 울산 30.6명   폐렴은 경북 30.3명   운수사고는 전남 14.4명   고의적 자해 자살 는 충남 29.8명 이었다.'"
            ],
            "application/vnd.google.colaboratory.intrinsic+json": {
              "type": "string"
            }
          },
          "metadata": {},
          "execution_count": 14
        }
      ],
      "source": [
        "# 한글,영어, 숫자만 남은 문서입니다. \n",
        "clean_doc = text_cleaning(doc)\n",
        "clean_doc"
      ]
    },
    {
      "cell_type": "markdown",
      "metadata": {
        "id": "n-M5b3jfqN3j"
      },
      "source": [
        "- 품사 태깅 클래스 비교\n",
        "https://konlpy.org/ko/latest/morph/\n",
        "\n",
        "- KoNLPy에는 품사 태깅을 하기 위한 옵션이 여럿 있는데, 이들은 모두 문구(phrase)를 입력받아 태깅된 형태소를 출력하는 동일한 입출력 구조를 가집니다  \n",
        "\n",
        "- 형태소 분석 이란 형태소를 비롯하여, 어근, 접두사/접미사, 품사(POS, part-of-speech) 등 다양한 언어적 속성의 구조를 파악하는 것입니다.\n",
        "- 품사 태깅 은 형태소의 뜻과 문맥을 고려하여 그것에 마크업을 하는 일입니다. \n",
        "\n",
        "  예를 들어,   \n",
        "  가방에 들어가신다 -> 가방/NNG + 에/JKM + 들어가/VV + 시/EPH + ㄴ다/EFN\n"
      ]
    },
    {
      "cell_type": "markdown",
      "metadata": {
        "id": "jUY4gacf1fDk"
      },
      "source": [
        "konlpy와 mecab을 설치해봅시다. \n",
        "- Konlpy는 KoNLPy란 KoNLPy는 한국어 정보처리를 위한 파이썬 패키지 입니다. 자연어처리(NLP)에서 형태소를 분리(형태소 단위 토크나이징)하는 데이터 전처리가 필요한데 이때 한국어 데이터 전처리를 할 때 많이 사용하는 패키지입니다.\n",
        "\n",
        "- MeCab은 품사 태깅 클래스 중 하나로 konlpy와 별도로 설치가 필요합니다. "
      ]
    },
    {
      "cell_type": "code",
      "execution_count": null,
      "metadata": {
        "id": "iKAXoEk53FnA"
      },
      "outputs": [],
      "source": [
        "# Mecab 토크나이저 객체 만들기\n",
        "from konlpy.tag import Mecab\n",
        "\n",
        "tokenizer = Mecab()"
      ]
    },
    {
      "cell_type": "code",
      "source": [
        "# 텍스트 전처리\n",
        "clean_doc =  text_cleaning(doc)\n",
        "clean_doc"
      ],
      "metadata": {
        "colab": {
          "base_uri": "https://localhost:8080/",
          "height": 179
        },
        "id": "JwtvYaba_3_4",
        "outputId": "2a816118-6daf-4234-954c-c24118f096b3"
      },
      "execution_count": null,
      "outputs": [
        {
          "output_type": "execute_result",
          "data": {
            "text/plain": [
              "'지난해 고령화와 유례가 드문 겨울 한파 등 영향으로 우리나라 사망자 수가 통계 작성 이후 가장 많았다. 폐렴과 치매의 일종인 알츠하이머병은 지난해 사망원인 순위 3위와 9위로 전년보다 각각 한 단계  두 단계 상승하는 등 노인성 질병에 의한 사망률이 급증하는 추세다.  연령표준화 사망률  표준인구 10만 명당 사망자 수 은 울산 충북 부산 순으로 높게 나타났다.  작년 사망자 29만 8820명  역대 최다 24일 통계청이 발표한  2018년 사망원인통계 를 보면 지난해 총 사망자 수는 전년 대비 4.7% 1만 3286명  증가한 29만 8820명으로 관련 통계를 작성한 1983년 이후 가장 많았으며  5년 연속 증가세를 보였다. 통계청은 인구 구조의 고령화와 지난해 1 2월 유례가 드문 한파 등을 그 원인으로 꼽았다. 지난해 조사망률 인구 10만 명당 사망자 수  역시 582.5명으로 전년보다 4.5% 25.1명  증가해 5년 연속 늘었다. 특히 80세 이상의 사망자가 전체 사망자의 절반에 가까운 46.3%로  10년 전보다 14.3%포인트 P 나 증가했다.  폐렴 알츠하이머병 사망률 순위  껑충  사망원인별로 보면 지난해 암 악성신생물 에 의한 사망률 이하 인구 10만 명당 사망자 수 은 154.3명으로 전년보다 0.2% 증가했다. 1983년 관련 통계를 집계한 이래 줄곧 암이 사망원인 1위로 집계됐다. 특히 폐렴 4위 3위 과 치매의 일종인 알츠하이머병 11위 9위 에 의한 사망률 순위 상승이 두드러졌다. 폐렴 사망률은 2004년 10위에서 꾸준히 순위가 상승하고 있고  알츠하이머병 사망률 역시 통계 작성 이래 10대 사인에 처음 포함됐다. 지난해 알츠하이머병에 의한 사망률은 12.0명으로 전년 9.8명  대비 22.5% 증가했다. 알츠하이머병 사망률은 10년 전 3.8명 과 비교하면 무려 214.2% 증가했다. 폐렴 사망률은 45.4명으로 전년 37.8명  대비 20.0% 증가했다. 알코올 관련 사망률은 9.6명으로 전년보다 2.0% 늘었다.  자살률 5년 만에 증가  베르테르 효과 영향  지난해 자살에 의한 사망자는 1만 3670명으로 전년보다 9.7% 1207명  증가했다. 자살률은 26.6명으로 전년보다 2.3명 9.5%  증가했다. 자살률은 2013년 28.5명  2014년 27.3명  2015년 26.5명  2016년 25.6명  2017년 24.3명 등 4년 연속 줄어들다가 5년 만에 증가세로 돌아섰다. 자살은 10 30대까지 사망원인 순위 1위를 차지했고  40 50대에서도 2위를 기록했다. 김진 통계청 인구동향과장은  자살에는 베르테르 효과  즉 유명인 자살이 영향을 준다. 2011년 이후 유명인 자살이 줄면서 자살이 줄었는데 지난해에는 유명인 자살이 있어 영향을 줬다 고 설명했다. 지역 간 연령구조 차이를 표준화한 사망률 표준인구 10만 명당 사망자 수 을 보면 울산 355.3명   충북 352.6명   부산 350.8명 이 높았고  서울 283.3명 과 경기 306.8명 가 낮았다. 사인별로 연령표준화 사망률이 높은 지역을 보면 암은 경남 101.5명   심장 질환은 경남 44.6명   뇌혈관 질환은 울산 30.6명   폐렴은 경북 30.3명   운수사고는 전남 14.4명   고의적 자해 자살 는 충남 29.8명 이었다.'"
            ],
            "application/vnd.google.colaboratory.intrinsic+json": {
              "type": "string"
            }
          },
          "metadata": {},
          "execution_count": 16
        }
      ]
    },
    {
      "cell_type": "code",
      "source": [
        "# 형태소 분리 \n",
        "print(tokenizer.morphs(clean_doc))"
      ],
      "metadata": {
        "colab": {
          "base_uri": "https://localhost:8080/"
        },
        "id": "7pBcjigqLExz",
        "outputId": "ac8eac31-943c-429b-a9b0-90c421dc467e"
      },
      "execution_count": null,
      "outputs": [
        {
          "output_type": "stream",
          "name": "stdout",
          "text": [
            "['지난해', '고령화', '와', '유례', '가', '드문', '겨울', '한파', '등', '영향', '으로', '우리나라', '사망자', '수', '가', '통계', '작성', '이후', '가장', '많', '았', '다', '.', '폐렴', '과', '치매', '의', '일종', '인', '알츠하이머병', '은', '지난해', '사망', '원인', '순위', '3', '위', '와', '9', '위', '로', '전년', '보다', '각각', '한', '단계', '두', '단계', '상승', '하', '는', '등', '노인', '성', '질병', '에', '의한', '사망', '률', '이', '급증', '하', '는', '추세', '다', '.', '연령', '표준', '화', '사망률', '표준', '인구', '10', '만', '명', '당', '사망자', '수', '은', '울산', '충북', '부산', '순', '으로', '높', '게', '나타났', '다', '.', '작년', '사망자', '29', '만', '8820', '명', '역대', '최다', '24', '일', '통계청', '이', '발표', '한', '2018', '년', '사', '망원', '인', '통계', '를', '보', '면', '지난해', '총', '사망자', '수', '는', '전년', '대비', '4', '.', '7', '%', '1', '만', '3286', '명', '증가', '한', '29', '만', '8820', '명', '으로', '관련', '통계', '를', '작성', '한', '1983', '년', '이후', '가장', '많', '았', '으며', '5', '년', '연속', '증가세', '를', '보였', '다', '.', '통계청', '은', '인구', '구조', '의', '고령화', '와', '지난해', '1', '2', '월', '유례', '가', '드문', '한파', '등', '을', '그', '원인', '으로', '꼽', '았', '다', '.', '지난해', '조사망', '률', '인구', '10', '만', '명', '당', '사망자', '수', '역시', '582', '.', '5', '명', '으로', '전년', '보다', '4', '.', '5', '%', '25', '.', '1', '명', '증가', '해', '5', '년', '연속', '늘', '었', '다', '.', '특히', '80', '세', '이상', '의', '사망자', '가', '전체', '사망자', '의', '절반', '에', '가까운', '46', '.', '3', '%', '로', '10', '년', '전', '보다', '14', '.', '3', '%', '포인트', 'P', '나', '증가', '했', '다', '.', '폐렴', '알츠하이머병', '사망률', '순위', '껑충', '사망', '원인', '별', '로', '보', '면', '지난해', '암', '악성', '신', '생물', '에', '의한', '사망률', '이하', '인구', '10', '만', '명', '당', '사망자', '수', '은', '154', '.', '3', '명', '으로', '전년', '보다', '0', '.', '2', '%', '증가', '했', '다', '.', '1983', '년', '관련', '통계', '를', '집계', '한', '이래', '줄곧', '암', '이', '사망', '원인', '1', '위', '로', '집계', '됐', '다', '.', '특히', '폐렴', '4', '위', '3', '위', '과', '치매', '의', '일종', '인', '알츠하이머병', '11', '위', '9', '위', '에', '의한', '사망률', '순위', '상승', '이', '두드러졌', '다', '.', '폐렴', '사망', '률', '은', '2004', '년', '10', '위', '에서', '꾸준히', '순위', '가', '상승', '하', '고', '있', '고', '알츠하이머병', '사망', '률', '역시', '통계', '작성', '이래', '10', '대', '사인', '에', '처음', '포함', '됐', '다', '.', '지난해', '알츠하이머병', '에', '의한', '사망률', '은', '12', '.', '0', '명', '으로', '전년', '9', '.', '8', '명', '대비', '22', '.', '5', '%', '증가', '했', '다', '.', '알츠하이머병', '사망', '률', '은', '10', '년', '전', '3', '.', '8', '명', '과', '비교', '하', '면', '무려', '214', '.', '2', '%', '증가', '했', '다', '.', '폐렴', '사망', '률', '은', '45', '.', '4', '명', '으로', '전년', '37', '.', '8', '명', '대비', '20', '.', '0', '%', '증가', '했', '다', '.', '알코올', '관련', '사망', '률', '은', '9', '.', '6', '명', '으로', '전년', '보다', '2', '.', '0', '%', '늘', '었', '다', '.', '자살', '률', '5', '년', '만', '에', '증가', '베르테르', '효과', '영향', '지난해', '자살', '에', '의한', '사망자', '는', '1', '만', '3670', '명', '으로', '전년', '보다', '9', '.', '7', '%', '1207', '명', '증가', '했', '다', '.', '자살', '률', '은', '26', '.', '6', '명', '으로', '전년', '보다', '2', '.', '3', '명', '9', '.', '5', '%', '증가', '했', '다', '.', '자살', '률', '은', '2013', '년', '28', '.', '5', '명', '2014', '년', '27', '.', '3', '명', '2015', '년', '26', '.', '5', '명', '2016', '년', '25', '.', '6', '명', '2017', '년', '24', '.', '3', '명', '등', '4', '년', '연속', '줄어들', '다가', '5', '년', '만', '에', '증가세', '로', '돌아섰', '다', '.', '자살', '은', '10', '30', '대', '까지', '사망', '원인', '순위', '1', '위', '를', '차지', '했', '고', '40', '50', '대', '에서', '도', '2', '위', '를', '기록', '했', '다', '.', '김진', '통계청', '인구', '동향', '과장', '은', '자살', '에', '는', '베르테르', '효과', '즉', '유명', '인', '자살', '이', '영향', '을', '준다', '.', '2011', '년', '이후', '유명', '인', '자살', '이', '줄', '면서', '자살', '이', '줄', '었', '는데', '지난해', '에', '는', '유명', '인', '자살', '이', '있', '어', '영향', '을', '줬', '다', '고', '설명', '했', '다', '.', '지역', '간', '연령', '구조', '차이', '를', '표준', '화', '한', '사망률', '표준', '인구', '10', '만', '명', '당', '사망자', '수', '을', '보', '면', '울산', '355', '.', '3', '명', '충북', '352', '.', '6', '명', '부산', '350', '.', '8', '명', '이', '높', '았', '고', '서울', '283', '.', '3', '명', '과', '경기', '306', '.', '8', '명', '가', '낮', '았', '다', '.', '사인', '별', '로', '연령', '표준', '화', '사망', '률', '이', '높', '은', '지역', '을', '보', '면', '암', '은', '경남', '101', '.', '5', '명', '심장', '질환', '은', '경남', '44', '.', '6', '명', '뇌혈관', '질환', '은', '울산', '30', '.', '6', '명', '폐렴', '은', '경북', '30', '.', '3', '명', '운수', '사고', '는', '전남', '14', '.', '4', '명', '고의', '적', '자해', '자살', '는', '충남', '29', '.', '8', '명', '이', '었', '다', '.']\n"
          ]
        }
      ]
    },
    {
      "cell_type": "code",
      "source": [
        "# 명사만 추출 \n",
        "print(tokenizer.nouns(clean_doc))"
      ],
      "metadata": {
        "colab": {
          "base_uri": "https://localhost:8080/"
        },
        "id": "KmvJi4ytLMT4",
        "outputId": "645e0f46-947e-4868-d961-51f88fc7baea"
      },
      "execution_count": null,
      "outputs": [
        {
          "output_type": "stream",
          "name": "stdout",
          "text": [
            "['지난해', '고령화', '유례', '겨울', '한파', '등', '영향', '우리나라', '사망자', '수', '통계', '작성', '이후', '폐렴', '치매', '일종', '알츠하이머병', '지난해', '사망', '원인', '순위', '위', '위', '전년', '단계', '단계', '상승', '등', '노인', '질병', '사망', '급증', '추세', '연령', '표준', '사망률', '표준', '인구', '만', '명', '사망자', '수', '울산', '충북', '부산', '순', '작년', '사망자', '만', '명', '역대', '최다', '일', '통계청', '발표', '년', '사', '망원', '통계', '지난해', '사망자', '수', '전년', '대비', '만', '명', '증가', '만', '명', '관련', '통계', '작성', '년', '이후', '년', '연속', '증가세', '통계청', '인구', '구조', '고령화', '지난해', '월', '유례', '한파', '등', '원인', '지난해', '조사망', '인구', '만', '명', '사망자', '수', '명', '전년', '명', '증가', '년', '연속', '세', '이상', '사망자', '전체', '사망자', '절반', '년', '전', '포인트', '나', '증가', '폐렴', '알츠하이머병', '사망률', '순위', '사망', '원인', '지난해', '암', '악성', '생물', '사망률', '이하', '인구', '만', '명', '사망자', '수', '은', '명', '전년', '증가', '년', '관련', '통계', '집계', '이래', '암', '사망', '원인', '위', '집계', '폐렴', '위', '위', '과', '치매', '일종', '알츠하이머병', '위', '위', '사망률', '순위', '상승', '폐렴', '사망', '년', '위', '순위', '상승', '알츠하이머병', '사망', '통계', '작성', '이래', '대', '사인', '처음', '포함', '지난해', '알츠하이머병', '사망률', '명', '전년', '명', '대비', '증가', '알츠하이머병', '사망', '년', '전', '명', '과', '비교', '증가', '폐렴', '사망', '명', '전년', '명', '대비', '증가', '알코올', '관련', '사망', '명', '전년', '자살', '년', '만', '증가', '베르테르', '효과', '영향', '지난해', '자살', '사망자', '만', '명', '전년', '명', '증가', '자살', '명', '전년', '명', '증가', '자살', '년', '명', '년', '명', '년', '명', '년', '명', '년', '명', '등', '년', '연속', '년', '만', '증가세', '자살', '대', '사망', '원인', '순위', '위', '차지', '대', '위', '기록', '김진', '통계청', '인구', '동향', '과장', '자살', '베르테르', '효과', '유명', '자살', '영향', '년', '이후', '유명', '자살', '자살', '지난해', '유명', '자살', '영향', '설명', '지역', '간', '연령', '구조', '차이', '표준', '사망률', '표준', '인구', '만', '명', '사망자', '수', '울산', '명', '충북', '명', '부산', '명', '이', '서울', '명', '과', '경기', '명', '사인', '연령', '표준', '사망', '지역', '암', '경남', '명', '심장', '질환', '경남', '명', '뇌혈관', '질환', '울산', '명', '폐렴', '경북', '명', '운수', '사고', '전남', '명', '고의', '자해', '자살', '충남', '명']\n"
          ]
        }
      ]
    },
    {
      "cell_type": "markdown",
      "source": [
        "위 함수를 사용해도 되지만, 명사 이외에 품사를 사용하고 싶다면 아래처럼 품사 자체를 출력할 수도 있습니다. "
      ],
      "metadata": {
        "id": "0XN0vM56LTHX"
      }
    },
    {
      "cell_type": "code",
      "source": [
        "# 품사 붙이기\n",
        "token_tagged = tokenizer.pos(clean_doc)\n",
        "token_tagged"
      ],
      "metadata": {
        "colab": {
          "base_uri": "https://localhost:8080/"
        },
        "id": "Q5aXnTzjBF_T",
        "outputId": "5cda7c00-56d8-4702-d078-62050a40e23a"
      },
      "execution_count": null,
      "outputs": [
        {
          "output_type": "execute_result",
          "data": {
            "text/plain": [
              "[('지난해', 'NNG'),\n",
              " ('고령화', 'NNG'),\n",
              " ('와', 'JC'),\n",
              " ('유례', 'NNG'),\n",
              " ('가', 'JKS'),\n",
              " ('드문', 'VA+ETM'),\n",
              " ('겨울', 'NNG'),\n",
              " ('한파', 'NNG'),\n",
              " ('등', 'NNB'),\n",
              " ('영향', 'NNG'),\n",
              " ('으로', 'JKB'),\n",
              " ('우리나라', 'NNG'),\n",
              " ('사망자', 'NNG'),\n",
              " ('수', 'NNG'),\n",
              " ('가', 'JKS'),\n",
              " ('통계', 'NNG'),\n",
              " ('작성', 'NNG'),\n",
              " ('이후', 'NNG'),\n",
              " ('가장', 'MAG'),\n",
              " ('많', 'VA'),\n",
              " ('았', 'EP'),\n",
              " ('다', 'EF'),\n",
              " ('.', 'SF'),\n",
              " ('폐렴', 'NNG'),\n",
              " ('과', 'JC'),\n",
              " ('치매', 'NNG'),\n",
              " ('의', 'JKG'),\n",
              " ('일종', 'NNG'),\n",
              " ('인', 'VCP+ETM'),\n",
              " ('알츠하이머병', 'NNG'),\n",
              " ('은', 'JX'),\n",
              " ('지난해', 'NNG'),\n",
              " ('사망', 'NNG'),\n",
              " ('원인', 'NNG'),\n",
              " ('순위', 'NNG'),\n",
              " ('3', 'SN'),\n",
              " ('위', 'NNBC'),\n",
              " ('와', 'JC'),\n",
              " ('9', 'SN'),\n",
              " ('위', 'NNBC'),\n",
              " ('로', 'JKB'),\n",
              " ('전년', 'NNG'),\n",
              " ('보다', 'JKB'),\n",
              " ('각각', 'MAG'),\n",
              " ('한', 'MM'),\n",
              " ('단계', 'NNG'),\n",
              " ('두', 'MM'),\n",
              " ('단계', 'NNG'),\n",
              " ('상승', 'NNG'),\n",
              " ('하', 'XSV'),\n",
              " ('는', 'ETM'),\n",
              " ('등', 'NNB'),\n",
              " ('노인', 'NNG'),\n",
              " ('성', 'XSN'),\n",
              " ('질병', 'NNG'),\n",
              " ('에', 'JKB'),\n",
              " ('의한', 'VV+ETM'),\n",
              " ('사망', 'NNG'),\n",
              " ('률', 'XSN'),\n",
              " ('이', 'JKS'),\n",
              " ('급증', 'NNG'),\n",
              " ('하', 'XSV'),\n",
              " ('는', 'ETM'),\n",
              " ('추세', 'NNG'),\n",
              " ('다', 'VCP+EF'),\n",
              " ('.', 'SF'),\n",
              " ('연령', 'NNG'),\n",
              " ('표준', 'NNG'),\n",
              " ('화', 'XSN'),\n",
              " ('사망률', 'NNG'),\n",
              " ('표준', 'NNG'),\n",
              " ('인구', 'NNG'),\n",
              " ('10', 'SN'),\n",
              " ('만', 'NR'),\n",
              " ('명', 'NNBC'),\n",
              " ('당', 'XSN'),\n",
              " ('사망자', 'NNG'),\n",
              " ('수', 'NNG'),\n",
              " ('은', 'JX'),\n",
              " ('울산', 'NNP'),\n",
              " ('충북', 'NNP'),\n",
              " ('부산', 'NNP'),\n",
              " ('순', 'NNG'),\n",
              " ('으로', 'JKB'),\n",
              " ('높', 'VA'),\n",
              " ('게', 'EC'),\n",
              " ('나타났', 'VV+EP'),\n",
              " ('다', 'EF'),\n",
              " ('.', 'SF'),\n",
              " ('작년', 'NNG'),\n",
              " ('사망자', 'NNG'),\n",
              " ('29', 'SN'),\n",
              " ('만', 'NR'),\n",
              " ('8820', 'SN'),\n",
              " ('명', 'NNBC'),\n",
              " ('역대', 'NNG'),\n",
              " ('최다', 'NNG'),\n",
              " ('24', 'SN'),\n",
              " ('일', 'NNBC'),\n",
              " ('통계청', 'NNG'),\n",
              " ('이', 'JKS'),\n",
              " ('발표', 'NNG'),\n",
              " ('한', 'XSV+ETM'),\n",
              " ('2018', 'SN'),\n",
              " ('년', 'NNBC'),\n",
              " ('사', 'NR'),\n",
              " ('망원', 'NNG'),\n",
              " ('인', 'VCP+ETM'),\n",
              " ('통계', 'NNG'),\n",
              " ('를', 'JKO'),\n",
              " ('보', 'VV'),\n",
              " ('면', 'EC'),\n",
              " ('지난해', 'NNG'),\n",
              " ('총', 'MM'),\n",
              " ('사망자', 'NNG'),\n",
              " ('수', 'NNG'),\n",
              " ('는', 'JX'),\n",
              " ('전년', 'NNG'),\n",
              " ('대비', 'NNG'),\n",
              " ('4', 'SN'),\n",
              " ('.', 'SY'),\n",
              " ('7', 'SN'),\n",
              " ('%', 'SY'),\n",
              " ('1', 'SN'),\n",
              " ('만', 'NR'),\n",
              " ('3286', 'SN'),\n",
              " ('명', 'NNBC'),\n",
              " ('증가', 'NNG'),\n",
              " ('한', 'XSV+ETM'),\n",
              " ('29', 'SN'),\n",
              " ('만', 'NR'),\n",
              " ('8820', 'SN'),\n",
              " ('명', 'NNBC'),\n",
              " ('으로', 'JKB'),\n",
              " ('관련', 'NNG'),\n",
              " ('통계', 'NNG'),\n",
              " ('를', 'JKO'),\n",
              " ('작성', 'NNG'),\n",
              " ('한', 'XSV+ETM'),\n",
              " ('1983', 'SN'),\n",
              " ('년', 'NNBC'),\n",
              " ('이후', 'NNG'),\n",
              " ('가장', 'MAG'),\n",
              " ('많', 'VA'),\n",
              " ('았', 'EP'),\n",
              " ('으며', 'EC'),\n",
              " ('5', 'SN'),\n",
              " ('년', 'NNBC'),\n",
              " ('연속', 'NNG'),\n",
              " ('증가세', 'NNG'),\n",
              " ('를', 'JKO'),\n",
              " ('보였', 'VV+EP'),\n",
              " ('다', 'EF'),\n",
              " ('.', 'SF'),\n",
              " ('통계청', 'NNG'),\n",
              " ('은', 'JX'),\n",
              " ('인구', 'NNG'),\n",
              " ('구조', 'NNG'),\n",
              " ('의', 'JKG'),\n",
              " ('고령화', 'NNG'),\n",
              " ('와', 'JC'),\n",
              " ('지난해', 'NNG'),\n",
              " ('1', 'SN'),\n",
              " ('2', 'SN'),\n",
              " ('월', 'NNBC'),\n",
              " ('유례', 'NNG'),\n",
              " ('가', 'JKS'),\n",
              " ('드문', 'VA+ETM'),\n",
              " ('한파', 'NNG'),\n",
              " ('등', 'NNB'),\n",
              " ('을', 'JKO'),\n",
              " ('그', 'MM'),\n",
              " ('원인', 'NNG'),\n",
              " ('으로', 'JKB'),\n",
              " ('꼽', 'VV'),\n",
              " ('았', 'EP'),\n",
              " ('다', 'EF'),\n",
              " ('.', 'SF'),\n",
              " ('지난해', 'NNG'),\n",
              " ('조사망', 'NNG'),\n",
              " ('률', 'XSN'),\n",
              " ('인구', 'NNG'),\n",
              " ('10', 'SN'),\n",
              " ('만', 'NR'),\n",
              " ('명', 'NNBC'),\n",
              " ('당', 'XSN'),\n",
              " ('사망자', 'NNG'),\n",
              " ('수', 'NNG'),\n",
              " ('역시', 'MAJ'),\n",
              " ('582', 'SN'),\n",
              " ('.', 'SY'),\n",
              " ('5', 'SN'),\n",
              " ('명', 'NNBC'),\n",
              " ('으로', 'JKB'),\n",
              " ('전년', 'NNG'),\n",
              " ('보다', 'JKB'),\n",
              " ('4', 'SN'),\n",
              " ('.', 'SY'),\n",
              " ('5', 'SN'),\n",
              " ('%', 'SY'),\n",
              " ('25', 'SN'),\n",
              " ('.', 'SY'),\n",
              " ('1', 'SN'),\n",
              " ('명', 'NNBC'),\n",
              " ('증가', 'NNG'),\n",
              " ('해', 'XSV+EC'),\n",
              " ('5', 'SN'),\n",
              " ('년', 'NNBC'),\n",
              " ('연속', 'NNG'),\n",
              " ('늘', 'VV'),\n",
              " ('었', 'EP'),\n",
              " ('다', 'EF'),\n",
              " ('.', 'SF'),\n",
              " ('특히', 'MAG'),\n",
              " ('80', 'SN'),\n",
              " ('세', 'NNBC'),\n",
              " ('이상', 'NNG'),\n",
              " ('의', 'JKG'),\n",
              " ('사망자', 'NNG'),\n",
              " ('가', 'JKS'),\n",
              " ('전체', 'NNG'),\n",
              " ('사망자', 'NNG'),\n",
              " ('의', 'JKG'),\n",
              " ('절반', 'NNG'),\n",
              " ('에', 'JKB'),\n",
              " ('가까운', 'VA+ETM'),\n",
              " ('46', 'SN'),\n",
              " ('.', 'SY'),\n",
              " ('3', 'SN'),\n",
              " ('%', 'SY'),\n",
              " ('로', 'JKB'),\n",
              " ('10', 'SN'),\n",
              " ('년', 'NNBC'),\n",
              " ('전', 'NNG'),\n",
              " ('보다', 'JKB'),\n",
              " ('14', 'SN'),\n",
              " ('.', 'SY'),\n",
              " ('3', 'SN'),\n",
              " ('%', 'SY'),\n",
              " ('포인트', 'NNG'),\n",
              " ('P', 'SL'),\n",
              " ('나', 'NP'),\n",
              " ('증가', 'NNG'),\n",
              " ('했', 'XSV+EP'),\n",
              " ('다', 'EF'),\n",
              " ('.', 'SF'),\n",
              " ('폐렴', 'NNG'),\n",
              " ('알츠하이머병', 'NNG'),\n",
              " ('사망률', 'NNG'),\n",
              " ('순위', 'NNG'),\n",
              " ('껑충', 'MAG'),\n",
              " ('사망', 'NNG'),\n",
              " ('원인', 'NNG'),\n",
              " ('별', 'XSN'),\n",
              " ('로', 'JKB'),\n",
              " ('보', 'VV'),\n",
              " ('면', 'EC'),\n",
              " ('지난해', 'NNG'),\n",
              " ('암', 'NNG'),\n",
              " ('악성', 'NNG'),\n",
              " ('신', 'XPN'),\n",
              " ('생물', 'NNG'),\n",
              " ('에', 'JKB'),\n",
              " ('의한', 'VV+ETM'),\n",
              " ('사망률', 'NNG'),\n",
              " ('이하', 'NNG'),\n",
              " ('인구', 'NNG'),\n",
              " ('10', 'SN'),\n",
              " ('만', 'NR'),\n",
              " ('명', 'NNBC'),\n",
              " ('당', 'XSN'),\n",
              " ('사망자', 'NNG'),\n",
              " ('수', 'NNG'),\n",
              " ('은', 'NNG'),\n",
              " ('154', 'SN'),\n",
              " ('.', 'SY'),\n",
              " ('3', 'SN'),\n",
              " ('명', 'NNBC'),\n",
              " ('으로', 'JKB'),\n",
              " ('전년', 'NNG'),\n",
              " ('보다', 'JKB'),\n",
              " ('0', 'SN'),\n",
              " ('.', 'SY'),\n",
              " ('2', 'SN'),\n",
              " ('%', 'SY'),\n",
              " ('증가', 'NNG'),\n",
              " ('했', 'XSV+EP'),\n",
              " ('다', 'EF'),\n",
              " ('.', 'SF'),\n",
              " ('1983', 'SN'),\n",
              " ('년', 'NNBC'),\n",
              " ('관련', 'NNG'),\n",
              " ('통계', 'NNG'),\n",
              " ('를', 'JKO'),\n",
              " ('집계', 'NNG'),\n",
              " ('한', 'XSA+ETM'),\n",
              " ('이래', 'NNB'),\n",
              " ('줄곧', 'MAG'),\n",
              " ('암', 'NNG'),\n",
              " ('이', 'JKS'),\n",
              " ('사망', 'NNG'),\n",
              " ('원인', 'NNG'),\n",
              " ('1', 'SN'),\n",
              " ('위', 'NNBC'),\n",
              " ('로', 'JKB'),\n",
              " ('집계', 'NNG'),\n",
              " ('됐', 'XSV+EP'),\n",
              " ('다', 'EF'),\n",
              " ('.', 'SF'),\n",
              " ('특히', 'MAG'),\n",
              " ('폐렴', 'NNG'),\n",
              " ('4', 'SN'),\n",
              " ('위', 'NNBC'),\n",
              " ('3', 'SN'),\n",
              " ('위', 'NNBC'),\n",
              " ('과', 'NNG'),\n",
              " ('치매', 'NNG'),\n",
              " ('의', 'JKG'),\n",
              " ('일종', 'NNG'),\n",
              " ('인', 'VCP+ETM'),\n",
              " ('알츠하이머병', 'NNG'),\n",
              " ('11', 'SN'),\n",
              " ('위', 'NNBC'),\n",
              " ('9', 'SN'),\n",
              " ('위', 'NNBC'),\n",
              " ('에', 'IC'),\n",
              " ('의한', 'VV+ETM'),\n",
              " ('사망률', 'NNG'),\n",
              " ('순위', 'NNG'),\n",
              " ('상승', 'NNG'),\n",
              " ('이', 'JKS'),\n",
              " ('두드러졌', 'VV+EP'),\n",
              " ('다', 'EF'),\n",
              " ('.', 'SF'),\n",
              " ('폐렴', 'NNG'),\n",
              " ('사망', 'NNG'),\n",
              " ('률', 'XSN'),\n",
              " ('은', 'JX'),\n",
              " ('2004', 'SN'),\n",
              " ('년', 'NNBC'),\n",
              " ('10', 'SN'),\n",
              " ('위', 'NNBC'),\n",
              " ('에서', 'JKB'),\n",
              " ('꾸준히', 'MAG'),\n",
              " ('순위', 'NNG'),\n",
              " ('가', 'JKS'),\n",
              " ('상승', 'NNG'),\n",
              " ('하', 'XSV'),\n",
              " ('고', 'EC'),\n",
              " ('있', 'VX'),\n",
              " ('고', 'EC'),\n",
              " ('알츠하이머병', 'NNG'),\n",
              " ('사망', 'NNG'),\n",
              " ('률', 'XSN'),\n",
              " ('역시', 'MAJ'),\n",
              " ('통계', 'NNG'),\n",
              " ('작성', 'NNG'),\n",
              " ('이래', 'NNB'),\n",
              " ('10', 'SN'),\n",
              " ('대', 'NNBC'),\n",
              " ('사인', 'NNG'),\n",
              " ('에', 'JKB'),\n",
              " ('처음', 'NNG'),\n",
              " ('포함', 'NNG'),\n",
              " ('됐', 'XSV+EP'),\n",
              " ('다', 'EF'),\n",
              " ('.', 'SF'),\n",
              " ('지난해', 'NNG'),\n",
              " ('알츠하이머병', 'NNG'),\n",
              " ('에', 'JKB'),\n",
              " ('의한', 'VV+ETM'),\n",
              " ('사망률', 'NNG'),\n",
              " ('은', 'JX'),\n",
              " ('12', 'SN'),\n",
              " ('.', 'SY'),\n",
              " ('0', 'SN'),\n",
              " ('명', 'NNBC'),\n",
              " ('으로', 'JKB'),\n",
              " ('전년', 'NNG'),\n",
              " ('9', 'SN'),\n",
              " ('.', 'SY'),\n",
              " ('8', 'SN'),\n",
              " ('명', 'NNBC'),\n",
              " ('대비', 'NNG'),\n",
              " ('22', 'SN'),\n",
              " ('.', 'SY'),\n",
              " ('5', 'SN'),\n",
              " ('%', 'SY'),\n",
              " ('증가', 'NNG'),\n",
              " ('했', 'XSV+EP'),\n",
              " ('다', 'EF'),\n",
              " ('.', 'SF'),\n",
              " ('알츠하이머병', 'NNG'),\n",
              " ('사망', 'NNG'),\n",
              " ('률', 'XSN'),\n",
              " ('은', 'JX'),\n",
              " ('10', 'SN'),\n",
              " ('년', 'NNBC'),\n",
              " ('전', 'NNG'),\n",
              " ('3', 'SN'),\n",
              " ('.', 'SY'),\n",
              " ('8', 'SN'),\n",
              " ('명', 'NNBC'),\n",
              " ('과', 'NNG'),\n",
              " ('비교', 'NNG'),\n",
              " ('하', 'XSV'),\n",
              " ('면', 'EC'),\n",
              " ('무려', 'MAG'),\n",
              " ('214', 'SN'),\n",
              " ('.', 'SY'),\n",
              " ('2', 'SN'),\n",
              " ('%', 'SY'),\n",
              " ('증가', 'NNG'),\n",
              " ('했', 'XSV+EP'),\n",
              " ('다', 'EF'),\n",
              " ('.', 'SF'),\n",
              " ('폐렴', 'NNG'),\n",
              " ('사망', 'NNG'),\n",
              " ('률', 'XSN'),\n",
              " ('은', 'JX'),\n",
              " ('45', 'SN'),\n",
              " ('.', 'SY'),\n",
              " ('4', 'SN'),\n",
              " ('명', 'NNBC'),\n",
              " ('으로', 'JKB'),\n",
              " ('전년', 'NNG'),\n",
              " ('37', 'SN'),\n",
              " ('.', 'SY'),\n",
              " ('8', 'SN'),\n",
              " ('명', 'NNBC'),\n",
              " ('대비', 'NNG'),\n",
              " ('20', 'SN'),\n",
              " ('.', 'SY'),\n",
              " ('0', 'SN'),\n",
              " ('%', 'SY'),\n",
              " ('증가', 'NNG'),\n",
              " ('했', 'XSV+EP'),\n",
              " ('다', 'EF'),\n",
              " ('.', 'SF'),\n",
              " ('알코올', 'NNG'),\n",
              " ('관련', 'NNG'),\n",
              " ('사망', 'NNG'),\n",
              " ('률', 'XSN'),\n",
              " ('은', 'JX'),\n",
              " ('9', 'SN'),\n",
              " ('.', 'SY'),\n",
              " ('6', 'SN'),\n",
              " ('명', 'NNBC'),\n",
              " ('으로', 'JKB'),\n",
              " ('전년', 'NNG'),\n",
              " ('보다', 'JKB'),\n",
              " ('2', 'SN'),\n",
              " ('.', 'SY'),\n",
              " ('0', 'SN'),\n",
              " ('%', 'SY'),\n",
              " ('늘', 'VV'),\n",
              " ('었', 'EP'),\n",
              " ('다', 'EF'),\n",
              " ('.', 'SF'),\n",
              " ('자살', 'NNG'),\n",
              " ('률', 'XSN'),\n",
              " ('5', 'SN'),\n",
              " ('년', 'NNBC'),\n",
              " ('만', 'NNB'),\n",
              " ('에', 'JKB'),\n",
              " ('증가', 'NNG'),\n",
              " ('베르테르', 'NNP'),\n",
              " ('효과', 'NNG'),\n",
              " ('영향', 'NNG'),\n",
              " ('지난해', 'NNG'),\n",
              " ('자살', 'NNG'),\n",
              " ('에', 'JKB'),\n",
              " ('의한', 'VV+ETM'),\n",
              " ('사망자', 'NNG'),\n",
              " ('는', 'JX'),\n",
              " ('1', 'SN'),\n",
              " ('만', 'NR'),\n",
              " ('3670', 'SN'),\n",
              " ('명', 'NNBC'),\n",
              " ('으로', 'JKB'),\n",
              " ('전년', 'NNG'),\n",
              " ('보다', 'JKB'),\n",
              " ('9', 'SN'),\n",
              " ('.', 'SY'),\n",
              " ('7', 'SN'),\n",
              " ('%', 'SY'),\n",
              " ('1207', 'SN'),\n",
              " ('명', 'NNBC'),\n",
              " ('증가', 'NNG'),\n",
              " ('했', 'XSV+EP'),\n",
              " ('다', 'EF'),\n",
              " ('.', 'SF'),\n",
              " ('자살', 'NNG'),\n",
              " ('률', 'XSN'),\n",
              " ('은', 'JX'),\n",
              " ('26', 'SN'),\n",
              " ('.', 'SY'),\n",
              " ('6', 'SN'),\n",
              " ('명', 'NNBC'),\n",
              " ('으로', 'JKB'),\n",
              " ('전년', 'NNG'),\n",
              " ('보다', 'JKB'),\n",
              " ('2', 'SN'),\n",
              " ('.', 'SY'),\n",
              " ('3', 'SN'),\n",
              " ('명', 'NNBC'),\n",
              " ('9', 'SN'),\n",
              " ('.', 'SY'),\n",
              " ('5', 'SN'),\n",
              " ('%', 'SY'),\n",
              " ('증가', 'NNG'),\n",
              " ('했', 'XSV+EP'),\n",
              " ('다', 'EF'),\n",
              " ('.', 'SF'),\n",
              " ('자살', 'NNG'),\n",
              " ('률', 'XSN'),\n",
              " ('은', 'JX'),\n",
              " ('2013', 'SN'),\n",
              " ('년', 'NNBC'),\n",
              " ('28', 'SN'),\n",
              " ('.', 'SY'),\n",
              " ('5', 'SN'),\n",
              " ('명', 'NNBC'),\n",
              " ('2014', 'SN'),\n",
              " ('년', 'NNBC'),\n",
              " ('27', 'SN'),\n",
              " ('.', 'SY'),\n",
              " ('3', 'SN'),\n",
              " ('명', 'NNBC'),\n",
              " ('2015', 'SN'),\n",
              " ('년', 'NNBC'),\n",
              " ('26', 'SN'),\n",
              " ('.', 'SY'),\n",
              " ('5', 'SN'),\n",
              " ('명', 'NNBC'),\n",
              " ('2016', 'SN'),\n",
              " ('년', 'NNBC'),\n",
              " ('25', 'SN'),\n",
              " ('.', 'SY'),\n",
              " ('6', 'SN'),\n",
              " ('명', 'NNBC'),\n",
              " ('2017', 'SN'),\n",
              " ('년', 'NNBC'),\n",
              " ('24', 'SN'),\n",
              " ('.', 'SY'),\n",
              " ('3', 'SN'),\n",
              " ('명', 'NNBC'),\n",
              " ('등', 'NNB'),\n",
              " ('4', 'SN'),\n",
              " ('년', 'NNBC'),\n",
              " ('연속', 'NNG'),\n",
              " ('줄어들', 'VV'),\n",
              " ('다가', 'EC'),\n",
              " ('5', 'SN'),\n",
              " ('년', 'NNBC'),\n",
              " ('만', 'NNB'),\n",
              " ('에', 'JKB'),\n",
              " ('증가세', 'NNG'),\n",
              " ('로', 'JKB'),\n",
              " ('돌아섰', 'VV+EP'),\n",
              " ('다', 'EF'),\n",
              " ('.', 'SF'),\n",
              " ('자살', 'NNG'),\n",
              " ('은', 'JX'),\n",
              " ('10', 'SN'),\n",
              " ('30', 'SN'),\n",
              " ('대', 'NNBC'),\n",
              " ('까지', 'JX'),\n",
              " ('사망', 'NNG'),\n",
              " ('원인', 'NNG'),\n",
              " ('순위', 'NNG'),\n",
              " ('1', 'SN'),\n",
              " ('위', 'NNBC'),\n",
              " ('를', 'JKO'),\n",
              " ('차지', 'NNG'),\n",
              " ('했', 'XSV+EP'),\n",
              " ('고', 'EC'),\n",
              " ('40', 'SN'),\n",
              " ('50', 'SN'),\n",
              " ('대', 'NNBC'),\n",
              " ('에서', 'JKB'),\n",
              " ('도', 'JX'),\n",
              " ('2', 'SN'),\n",
              " ('위', 'NNBC'),\n",
              " ('를', 'JKO'),\n",
              " ('기록', 'NNG'),\n",
              " ('했', 'XSV+EP'),\n",
              " ('다', 'EF'),\n",
              " ('.', 'SF'),\n",
              " ('김진', 'NNP'),\n",
              " ('통계청', 'NNG'),\n",
              " ('인구', 'NNG'),\n",
              " ('동향', 'NNG'),\n",
              " ('과장', 'NNG'),\n",
              " ('은', 'JX'),\n",
              " ('자살', 'NNG'),\n",
              " ('에', 'JKB'),\n",
              " ('는', 'JX'),\n",
              " ('베르테르', 'NNP'),\n",
              " ('효과', 'NNG'),\n",
              " ('즉', 'MAJ'),\n",
              " ('유명', 'NNG'),\n",
              " ('인', 'VCP+ETM'),\n",
              " ('자살', 'NNG'),\n",
              " ('이', 'JKS'),\n",
              " ('영향', 'NNG'),\n",
              " ('을', 'JKO'),\n",
              " ('준다', 'VV+EC'),\n",
              " ('.', 'SY'),\n",
              " ('2011', 'SN'),\n",
              " ('년', 'NNBC'),\n",
              " ('이후', 'NNG'),\n",
              " ('유명', 'NNG'),\n",
              " ('인', 'VCP+ETM'),\n",
              " ('자살', 'NNG'),\n",
              " ('이', 'JKS'),\n",
              " ('줄', 'VV'),\n",
              " ('면서', 'EC'),\n",
              " ('자살', 'NNG'),\n",
              " ('이', 'JKS'),\n",
              " ('줄', 'VV'),\n",
              " ('었', 'EP'),\n",
              " ('는데', 'EC'),\n",
              " ('지난해', 'NNG'),\n",
              " ('에', 'JKB'),\n",
              " ('는', 'JX'),\n",
              " ('유명', 'NNG'),\n",
              " ('인', 'VCP+ETM'),\n",
              " ('자살', 'NNG'),\n",
              " ('이', 'JKS'),\n",
              " ('있', 'VV'),\n",
              " ('어', 'EC'),\n",
              " ('영향', 'NNG'),\n",
              " ('을', 'JKO'),\n",
              " ('줬', 'VV+EP'),\n",
              " ('다', 'EF'),\n",
              " ('고', 'MM'),\n",
              " ('설명', 'NNG'),\n",
              " ('했', 'XSV+EP'),\n",
              " ('다', 'EF'),\n",
              " ('.', 'SF'),\n",
              " ('지역', 'NNG'),\n",
              " ('간', 'NNB'),\n",
              " ('연령', 'NNG'),\n",
              " ('구조', 'NNG'),\n",
              " ('차이', 'NNG'),\n",
              " ('를', 'JKO'),\n",
              " ('표준', 'NNG'),\n",
              " ('화', 'XSN'),\n",
              " ('한', 'XSV+ETM'),\n",
              " ('사망률', 'NNG'),\n",
              " ('표준', 'NNG'),\n",
              " ('인구', 'NNG'),\n",
              " ('10', 'SN'),\n",
              " ('만', 'NR'),\n",
              " ('명', 'NNBC'),\n",
              " ('당', 'XSN'),\n",
              " ('사망자', 'NNG'),\n",
              " ('수', 'NNG'),\n",
              " ('을', 'JKO'),\n",
              " ('보', 'VV'),\n",
              " ('면', 'EC'),\n",
              " ('울산', 'NNP'),\n",
              " ('355', 'SN'),\n",
              " ('.', 'SY'),\n",
              " ('3', 'SN'),\n",
              " ('명', 'NNBC'),\n",
              " ('충북', 'NNP'),\n",
              " ('352', 'SN'),\n",
              " ('.', 'SY'),\n",
              " ('6', 'SN'),\n",
              " ('명', 'NNBC'),\n",
              " ('부산', 'NNP'),\n",
              " ('350', 'SN'),\n",
              " ('.', 'SY'),\n",
              " ('8', 'SN'),\n",
              " ('명', 'NNBC'),\n",
              " ('이', 'NR'),\n",
              " ('높', 'VA'),\n",
              " ('았', 'EP'),\n",
              " ('고', 'EC'),\n",
              " ('서울', 'NNP'),\n",
              " ('283', 'SN'),\n",
              " ('.', 'SY'),\n",
              " ('3', 'SN'),\n",
              " ('명', 'NNBC'),\n",
              " ('과', 'NNG'),\n",
              " ('경기', 'NNG'),\n",
              " ('306', 'SN'),\n",
              " ('.', 'SY'),\n",
              " ('8', 'SN'),\n",
              " ('명', 'NNBC'),\n",
              " ('가', 'VV+EC'),\n",
              " ('낮', 'VA'),\n",
              " ('았', 'EP'),\n",
              " ('다', 'EF'),\n",
              " ('.', 'SF'),\n",
              " ('사인', 'NNG'),\n",
              " ('별', 'XSN'),\n",
              " ('로', 'JKB'),\n",
              " ('연령', 'NNG'),\n",
              " ('표준', 'NNG'),\n",
              " ('화', 'XSN'),\n",
              " ('사망', 'NNG'),\n",
              " ('률', 'XSN'),\n",
              " ('이', 'JKS'),\n",
              " ('높', 'VA'),\n",
              " ('은', 'ETM'),\n",
              " ('지역', 'NNG'),\n",
              " ('을', 'JKO'),\n",
              " ('보', 'VV'),\n",
              " ('면', 'EC'),\n",
              " ('암', 'NNG'),\n",
              " ('은', 'JX'),\n",
              " ('경남', 'NNP'),\n",
              " ('101', 'SN'),\n",
              " ('.', 'SY'),\n",
              " ('5', 'SN'),\n",
              " ('명', 'NNBC'),\n",
              " ('심장', 'NNG'),\n",
              " ('질환', 'NNG'),\n",
              " ('은', 'JX'),\n",
              " ('경남', 'NNP'),\n",
              " ('44', 'SN'),\n",
              " ('.', 'SY'),\n",
              " ('6', 'SN'),\n",
              " ('명', 'NNBC'),\n",
              " ('뇌혈관', 'NNG'),\n",
              " ('질환', 'NNG'),\n",
              " ('은', 'JX'),\n",
              " ('울산', 'NNP'),\n",
              " ('30', 'SN'),\n",
              " ('.', 'SY'),\n",
              " ('6', 'SN'),\n",
              " ('명', 'NNBC'),\n",
              " ('폐렴', 'NNG'),\n",
              " ('은', 'JX'),\n",
              " ('경북', 'NNP'),\n",
              " ('30', 'SN'),\n",
              " ('.', 'SY'),\n",
              " ('3', 'SN'),\n",
              " ('명', 'NNBC'),\n",
              " ('운수', 'NNG'),\n",
              " ('사고', 'NNG'),\n",
              " ('는', 'JX'),\n",
              " ('전남', 'NNP'),\n",
              " ('14', 'SN'),\n",
              " ('.', 'SY'),\n",
              " ('4', 'SN'),\n",
              " ('명', 'NNBC'),\n",
              " ('고의', 'NNG'),\n",
              " ('적', 'XSN'),\n",
              " ('자해', 'NNG'),\n",
              " ('자살', 'NNG'),\n",
              " ('는', 'JX'),\n",
              " ('충남', 'NNP'),\n",
              " ('29', 'SN'),\n",
              " ('.', 'SY'),\n",
              " ('8', 'SN'),\n",
              " ('명', 'NNBC'),\n",
              " ('이', 'VCP'),\n",
              " ('었', 'EP'),\n",
              " ('다', 'EF'),\n",
              " ('.', 'SF')]"
            ]
          },
          "metadata": {},
          "execution_count": 19
        }
      ]
    },
    {
      "cell_type": "markdown",
      "source": [
        "품사 정보를 활용해서 \n",
        "1. 일반명사(NNG), 고유명사(NNP), 외국어(SL)만을 반환\n",
        "2. 토큰화 이후 단어 길이가 2 이상인 명사만 남기겠습니다"
      ],
      "metadata": {
        "id": "QrT8MeZSLeoO"
      }
    },
    {
      "cell_type": "code",
      "source": [
        "nouns = [s for s, t in token_tagged if t in ['SL', 'NNG', 'NNP'] and len(s) > 1]\n",
        "print(nouns)"
      ],
      "metadata": {
        "colab": {
          "base_uri": "https://localhost:8080/"
        },
        "id": "hp5agea9B2-v",
        "outputId": "bbc14676-ed99-4873-f044-3270921fe23d"
      },
      "execution_count": null,
      "outputs": [
        {
          "output_type": "stream",
          "name": "stdout",
          "text": [
            "['지난해', '고령화', '유례', '겨울', '한파', '영향', '우리나라', '사망자', '통계', '작성', '이후', '폐렴', '치매', '일종', '알츠하이머병', '지난해', '사망', '원인', '순위', '전년', '단계', '단계', '상승', '노인', '질병', '사망', '급증', '추세', '연령', '표준', '사망률', '표준', '인구', '사망자', '울산', '충북', '부산', '작년', '사망자', '역대', '최다', '통계청', '발표', '망원', '통계', '지난해', '사망자', '전년', '대비', '증가', '관련', '통계', '작성', '이후', '연속', '증가세', '통계청', '인구', '구조', '고령화', '지난해', '유례', '한파', '원인', '지난해', '조사망', '인구', '사망자', '전년', '증가', '연속', '이상', '사망자', '전체', '사망자', '절반', '포인트', '증가', '폐렴', '알츠하이머병', '사망률', '순위', '사망', '원인', '지난해', '악성', '생물', '사망률', '이하', '인구', '사망자', '전년', '증가', '관련', '통계', '집계', '사망', '원인', '집계', '폐렴', '치매', '일종', '알츠하이머병', '사망률', '순위', '상승', '폐렴', '사망', '순위', '상승', '알츠하이머병', '사망', '통계', '작성', '사인', '처음', '포함', '지난해', '알츠하이머병', '사망률', '전년', '대비', '증가', '알츠하이머병', '사망', '비교', '증가', '폐렴', '사망', '전년', '대비', '증가', '알코올', '관련', '사망', '전년', '자살', '증가', '베르테르', '효과', '영향', '지난해', '자살', '사망자', '전년', '증가', '자살', '전년', '증가', '자살', '연속', '증가세', '자살', '사망', '원인', '순위', '차지', '기록', '김진', '통계청', '인구', '동향', '과장', '자살', '베르테르', '효과', '유명', '자살', '영향', '이후', '유명', '자살', '자살', '지난해', '유명', '자살', '영향', '설명', '지역', '연령', '구조', '차이', '표준', '사망률', '표준', '인구', '사망자', '울산', '충북', '부산', '서울', '경기', '사인', '연령', '표준', '사망', '지역', '경남', '심장', '질환', '경남', '뇌혈관', '질환', '울산', '폐렴', '경북', '운수', '사고', '전남', '고의', '자해', '자살', '충남']\n"
          ]
        }
      ]
    },
    {
      "cell_type": "code",
      "source": [
        "# 한 문장으로 합치기\n",
        "' '.join(nouns)"
      ],
      "metadata": {
        "colab": {
          "base_uri": "https://localhost:8080/",
          "height": 125
        },
        "id": "Gro6b_VQB_zw",
        "outputId": "db018850-e7ae-4362-e19e-6193c2decaf5"
      },
      "execution_count": null,
      "outputs": [
        {
          "output_type": "execute_result",
          "data": {
            "text/plain": [
              "'지난해 고령화 유례 겨울 한파 영향 우리나라 사망자 통계 작성 이후 폐렴 치매 일종 알츠하이머병 지난해 사망 원인 순위 전년 단계 단계 상승 노인 질병 사망 급증 추세 연령 표준 사망률 표준 인구 사망자 울산 충북 부산 작년 사망자 역대 최다 통계청 발표 망원 통계 지난해 사망자 전년 대비 증가 관련 통계 작성 이후 연속 증가세 통계청 인구 구조 고령화 지난해 유례 한파 원인 지난해 조사망 인구 사망자 전년 증가 연속 이상 사망자 전체 사망자 절반 포인트 증가 폐렴 알츠하이머병 사망률 순위 사망 원인 지난해 악성 생물 사망률 이하 인구 사망자 전년 증가 관련 통계 집계 사망 원인 집계 폐렴 치매 일종 알츠하이머병 사망률 순위 상승 폐렴 사망 순위 상승 알츠하이머병 사망 통계 작성 사인 처음 포함 지난해 알츠하이머병 사망률 전년 대비 증가 알츠하이머병 사망 비교 증가 폐렴 사망 전년 대비 증가 알코올 관련 사망 전년 자살 증가 베르테르 효과 영향 지난해 자살 사망자 전년 증가 자살 전년 증가 자살 연속 증가세 자살 사망 원인 순위 차지 기록 김진 통계청 인구 동향 과장 자살 베르테르 효과 유명 자살 영향 이후 유명 자살 자살 지난해 유명 자살 영향 설명 지역 연령 구조 차이 표준 사망률 표준 인구 사망자 울산 충북 부산 서울 경기 사인 연령 표준 사망 지역 경남 심장 질환 경남 뇌혈관 질환 울산 폐렴 경북 운수 사고 전남 고의 자해 자살 충남'"
            ],
            "application/vnd.google.colaboratory.intrinsic+json": {
              "type": "string"
            }
          },
          "metadata": {},
          "execution_count": 21
        }
      ]
    },
    {
      "cell_type": "code",
      "execution_count": null,
      "metadata": {
        "colab": {
          "base_uri": "https://localhost:8080/",
          "height": 143
        },
        "id": "DM8XRBGane6-",
        "outputId": "54679ece-cd11-40c9-97ea-67667658f675"
      },
      "outputs": [
        {
          "output_type": "stream",
          "name": "stdout",
          "text": [
            "전처리 결과 확인 :\n"
          ]
        },
        {
          "output_type": "execute_result",
          "data": {
            "text/plain": [
              "'지난해 고령화 유례 겨울 한파 영향 우리나라 사망자 통계 작성 이후 폐렴 치매 일종 알츠하이머병 지난해 사망 원인 순위 전년 단계 단계 상승 노인 질병 사망 급증 추세 연령 표준 사망률 표준 인구 사망자 울산 충북 부산 작년 사망자 역대 최다 통계청 발표 망원 통계 지난해 사망자 전년 대비 증가 관련 통계 작성 이후 연속 증가세 통계청 인구 구조 고령화 지난해 유례 한파 원인 지난해 조사망 인구 사망자 전년 증가 연속 이상 사망자 전체 사망자 절반 포인트 증가 폐렴 알츠하이머병 사망률 순위 사망 원인 지난해 악성 생물 사망률 이하 인구 사망자 전년 증가 관련 통계 집계 사망 원인 집계 폐렴 치매 일종 알츠하이머병 사망률 순위 상승 폐렴 사망 순위 상승 알츠하이머병 사망 통계 작성 사인 처음 포함 지난해 알츠하이머병 사망률 전년 대비 증가 알츠하이머병 사망 비교 증가 폐렴 사망 전년 대비 증가 알코올 관련 사망 전년 자살 증가 베르테르 효과 영향 지난해 자살 사망자 전년 증가 자살 전년 증가 자살 연속 증가세 자살 사망 원인 순위 차지 기록 김진 통계청 인구 동향 과장 자살 베르테르 효과 유명 자살 영향 이후 유명 자살 자살 지난해 유명 자살 영향 설명 지역 연령 구조 차이 표준 사망률 표준 인구 사망자 울산 충북 부산 서울 경기 사인 연령 표준 사망 지역 경남 심장 질환 경남 뇌혈관 질환 울산 폐렴 경북 운수 사고 전남 고의 자해 자살 충남'"
            ],
            "application/vnd.google.colaboratory.intrinsic+json": {
              "type": "string"
            }
          },
          "metadata": {},
          "execution_count": 22
        }
      ],
      "source": [
        "# 토큰화 이후 단어 길이가 2 이상인 명사만 남기기 \n",
        "# 일반명사(NNG), 고유명사(NNP), 외국어(SL)만을 반환\n",
        "# 한국어의 경우 토큰화 과정에서 조사나 접속사 제거로 대부분의 불용어가제거 되지만 불필요한 명사나 형용사를 제거하고 싶은 경우 불용어 제거를 추가하면 됩니다. \n",
        "\n",
        "from konlpy.tag import Mecab\n",
        "import numpy as np \n",
        "\n",
        "def text_preprocess(doc):\n",
        "    tokenizer = Mecab()\n",
        "    \n",
        "    # 텍스트 전처리\n",
        "    clean_doc =  text_cleaning(doc)\n",
        "    \n",
        "    # 품사 붙이기\n",
        "    token_tagged = tokenizer.pos(clean_doc)\n",
        "\n",
        "    # 명사추출\n",
        "    token_nouns = [s for s, t in token_tagged if t in ['SL', 'NNG', 'NNP'] and len(s) > 1]\n",
        "\n",
        "    # 한 문장으로 합치기 \n",
        "    # 아래에서 활용할 TfidfVectorizer는 기본적으로 토큰화가 되어있지 않은 텍스트 데이터를 입력으로 사용하기 때문에 join 작업을 미리 해줍니다. \n",
        "    if token_nouns : \n",
        "        return ' '.join(token_nouns)\n",
        "    else : \n",
        "        return np.nan\n",
        "\n",
        "\n",
        "print('전처리 결과 확인 :')\n",
        "text_preprocess(doc)"
      ]
    },
    {
      "cell_type": "markdown",
      "source": [
        "실습을 위해 뉴스 개수를 10000개로 조절하겠습니다. "
      ],
      "metadata": {
        "id": "fVRrEV89t6YC"
      }
    },
    {
      "cell_type": "code",
      "source": [
        "num_news = 10000\n",
        "df_news = df_news.iloc[:num_news]\n",
        "df_news"
      ],
      "metadata": {
        "colab": {
          "base_uri": "https://localhost:8080/",
          "height": 468
        },
        "id": "p5fFpKa2tz38",
        "outputId": "b2f8ffcb-5d09-4c9b-e767-c3c3a903861f"
      },
      "execution_count": null,
      "outputs": [
        {
          "output_type": "execute_result",
          "data": {
            "text/plain": [
              "     media         id                                   article_original  \\\n",
              "0     부산일보  360972161  [지난해 고령화와 유례가 드문 겨울 한파 등 영향으로 우리나라 사망자 수가 통계 작...   \n",
              "1     중도일보  356659913  [서산시의회(의장 임재관) 가충순·이수의 의원이 (사)한국지역신문협회에서 수여하는 ...   \n",
              "2     무등일보  351718460  [지난 2004년 시작해 조선대 학생들의 대표적인 행사로 자리매김한 ‘조선대 국토대...   \n",
              "3     이데일리  335868123  [서울시는 신학기가 시작되는 다음달 4일부터 고등학교 3학년 무상급식을 실시한다고 ...   \n",
              "4     서울신문  351443347  [미국인 선교사가 우간다에서 의사 행세를 하며 의료 시설을 운영한 혐의로 지역 시민...   \n",
              "...    ...        ...                                                ...   \n",
              "9995  서울신문  346679684  [증권사 등 금융투자업자에 대한 영업규제가 자율성과 책임성을 높이는 방향으로 개편된...   \n",
              "9996  한국경제  342862059  [배우 조유정이 거침없는 신예의 모습을 보여주고 있다., 조유정 소속사 굳피플은 2...   \n",
              "9997  아주경제  368415085  ['2019 한-아세안 스마트시티 페어'(Smart City Fair 2019)가 ...   \n",
              "9998  부산일보  361299935  [시인이자 소설가인 이상(1910~1937)은 한국 문학에서 한 줄기를 차지하고 있...   \n",
              "9999  무등일보  368601756  [조선대가 강동완 전 총장 거취문제를 둘러싸고 1년째 내홍에 휩싸인 가운데 임시이사...   \n",
              "\n",
              "                                            abstractive   extractive  \n",
              "0     통계청이 발표한 '2018년 사망원인통계'를 보면 지난해 총 사망자 수는 관련 통계...  [4, 11, 18]  \n",
              "1     서산시 가충순 의원과 이수의 의원이 활발한 의정활동을 펼친 감사의 표시로 한국지역신...    [1, 3, 4]  \n",
              "2      ‘조선대의 새로운 비상을 꿈꾸다’를 슬로건으로 진행되어 단체생활을 통해 협동심과 ...    [0, 2, 4]  \n",
              "3     서울시가 다음달 4일부터 서울 시내 319개 고등학교 3학년 8만4700명을 대상으...    [0, 1, 2]  \n",
              "4     미국인 선교사가 우간다에서 의사 행세를 하며 두 아이의 죽음과 관련돼 있다며 지역 ...    [0, 1, 2]  \n",
              "...                                                 ...          ...  \n",
              "9995  27일 금융위원회는 금융투자업자에 대해 정보교류 차단장치 규제는 법령에서 필수 원칙...    [0, 3, 1]  \n",
              "9996  거침없는 신예의 모습을 보여주고 있는 조유정은 25일 'KBS 2TV 새 월화드라마...    [0, 1, 2]  \n",
              "9997  2019 한-아세안 스마트시티 페어'(Smart City Fair 2019)가 25...    [0, 1, 5]  \n",
              "9998  권영민 서울대 명예교수가 한국 문학의 한 줄기를 차지하고 있는 시인이자 소설가인 이...   [0, 17, 3]  \n",
              "9999  강동완 전 총장 문제를 둘러싸고 1년째 내부갈등이 진행 중인 조선대가 2년만에 다시...    [1, 2, 0]  \n",
              "\n",
              "[10000 rows x 5 columns]"
            ],
            "text/html": [
              "\n",
              "  <div id=\"df-3690c0f2-fbd1-4d49-899d-ee227cd1a1b5\">\n",
              "    <div class=\"colab-df-container\">\n",
              "      <div>\n",
              "<style scoped>\n",
              "    .dataframe tbody tr th:only-of-type {\n",
              "        vertical-align: middle;\n",
              "    }\n",
              "\n",
              "    .dataframe tbody tr th {\n",
              "        vertical-align: top;\n",
              "    }\n",
              "\n",
              "    .dataframe thead th {\n",
              "        text-align: right;\n",
              "    }\n",
              "</style>\n",
              "<table border=\"1\" class=\"dataframe\">\n",
              "  <thead>\n",
              "    <tr style=\"text-align: right;\">\n",
              "      <th></th>\n",
              "      <th>media</th>\n",
              "      <th>id</th>\n",
              "      <th>article_original</th>\n",
              "      <th>abstractive</th>\n",
              "      <th>extractive</th>\n",
              "    </tr>\n",
              "  </thead>\n",
              "  <tbody>\n",
              "    <tr>\n",
              "      <th>0</th>\n",
              "      <td>부산일보</td>\n",
              "      <td>360972161</td>\n",
              "      <td>[지난해 고령화와 유례가 드문 겨울 한파 등 영향으로 우리나라 사망자 수가 통계 작...</td>\n",
              "      <td>통계청이 발표한 '2018년 사망원인통계'를 보면 지난해 총 사망자 수는 관련 통계...</td>\n",
              "      <td>[4, 11, 18]</td>\n",
              "    </tr>\n",
              "    <tr>\n",
              "      <th>1</th>\n",
              "      <td>중도일보</td>\n",
              "      <td>356659913</td>\n",
              "      <td>[서산시의회(의장 임재관) 가충순·이수의 의원이 (사)한국지역신문협회에서 수여하는 ...</td>\n",
              "      <td>서산시 가충순 의원과 이수의 의원이 활발한 의정활동을 펼친 감사의 표시로 한국지역신...</td>\n",
              "      <td>[1, 3, 4]</td>\n",
              "    </tr>\n",
              "    <tr>\n",
              "      <th>2</th>\n",
              "      <td>무등일보</td>\n",
              "      <td>351718460</td>\n",
              "      <td>[지난 2004년 시작해 조선대 학생들의 대표적인 행사로 자리매김한 ‘조선대 국토대...</td>\n",
              "      <td>‘조선대의 새로운 비상을 꿈꾸다’를 슬로건으로 진행되어 단체생활을 통해 협동심과 ...</td>\n",
              "      <td>[0, 2, 4]</td>\n",
              "    </tr>\n",
              "    <tr>\n",
              "      <th>3</th>\n",
              "      <td>이데일리</td>\n",
              "      <td>335868123</td>\n",
              "      <td>[서울시는 신학기가 시작되는 다음달 4일부터 고등학교 3학년 무상급식을 실시한다고 ...</td>\n",
              "      <td>서울시가 다음달 4일부터 서울 시내 319개 고등학교 3학년 8만4700명을 대상으...</td>\n",
              "      <td>[0, 1, 2]</td>\n",
              "    </tr>\n",
              "    <tr>\n",
              "      <th>4</th>\n",
              "      <td>서울신문</td>\n",
              "      <td>351443347</td>\n",
              "      <td>[미국인 선교사가 우간다에서 의사 행세를 하며 의료 시설을 운영한 혐의로 지역 시민...</td>\n",
              "      <td>미국인 선교사가 우간다에서 의사 행세를 하며 두 아이의 죽음과 관련돼 있다며 지역 ...</td>\n",
              "      <td>[0, 1, 2]</td>\n",
              "    </tr>\n",
              "    <tr>\n",
              "      <th>...</th>\n",
              "      <td>...</td>\n",
              "      <td>...</td>\n",
              "      <td>...</td>\n",
              "      <td>...</td>\n",
              "      <td>...</td>\n",
              "    </tr>\n",
              "    <tr>\n",
              "      <th>9995</th>\n",
              "      <td>서울신문</td>\n",
              "      <td>346679684</td>\n",
              "      <td>[증권사 등 금융투자업자에 대한 영업규제가 자율성과 책임성을 높이는 방향으로 개편된...</td>\n",
              "      <td>27일 금융위원회는 금융투자업자에 대해 정보교류 차단장치 규제는 법령에서 필수 원칙...</td>\n",
              "      <td>[0, 3, 1]</td>\n",
              "    </tr>\n",
              "    <tr>\n",
              "      <th>9996</th>\n",
              "      <td>한국경제</td>\n",
              "      <td>342862059</td>\n",
              "      <td>[배우 조유정이 거침없는 신예의 모습을 보여주고 있다., 조유정 소속사 굳피플은 2...</td>\n",
              "      <td>거침없는 신예의 모습을 보여주고 있는 조유정은 25일 'KBS 2TV 새 월화드라마...</td>\n",
              "      <td>[0, 1, 2]</td>\n",
              "    </tr>\n",
              "    <tr>\n",
              "      <th>9997</th>\n",
              "      <td>아주경제</td>\n",
              "      <td>368415085</td>\n",
              "      <td>['2019 한-아세안 스마트시티 페어'(Smart City Fair 2019)가 ...</td>\n",
              "      <td>2019 한-아세안 스마트시티 페어'(Smart City Fair 2019)가 25...</td>\n",
              "      <td>[0, 1, 5]</td>\n",
              "    </tr>\n",
              "    <tr>\n",
              "      <th>9998</th>\n",
              "      <td>부산일보</td>\n",
              "      <td>361299935</td>\n",
              "      <td>[시인이자 소설가인 이상(1910~1937)은 한국 문학에서 한 줄기를 차지하고 있...</td>\n",
              "      <td>권영민 서울대 명예교수가 한국 문학의 한 줄기를 차지하고 있는 시인이자 소설가인 이...</td>\n",
              "      <td>[0, 17, 3]</td>\n",
              "    </tr>\n",
              "    <tr>\n",
              "      <th>9999</th>\n",
              "      <td>무등일보</td>\n",
              "      <td>368601756</td>\n",
              "      <td>[조선대가 강동완 전 총장 거취문제를 둘러싸고 1년째 내홍에 휩싸인 가운데 임시이사...</td>\n",
              "      <td>강동완 전 총장 문제를 둘러싸고 1년째 내부갈등이 진행 중인 조선대가 2년만에 다시...</td>\n",
              "      <td>[1, 2, 0]</td>\n",
              "    </tr>\n",
              "  </tbody>\n",
              "</table>\n",
              "<p>10000 rows × 5 columns</p>\n",
              "</div>\n",
              "      <button class=\"colab-df-convert\" onclick=\"convertToInteractive('df-3690c0f2-fbd1-4d49-899d-ee227cd1a1b5')\"\n",
              "              title=\"Convert this dataframe to an interactive table.\"\n",
              "              style=\"display:none;\">\n",
              "        \n",
              "  <svg xmlns=\"http://www.w3.org/2000/svg\" height=\"24px\"viewBox=\"0 0 24 24\"\n",
              "       width=\"24px\">\n",
              "    <path d=\"M0 0h24v24H0V0z\" fill=\"none\"/>\n",
              "    <path d=\"M18.56 5.44l.94 2.06.94-2.06 2.06-.94-2.06-.94-.94-2.06-.94 2.06-2.06.94zm-11 1L8.5 8.5l.94-2.06 2.06-.94-2.06-.94L8.5 2.5l-.94 2.06-2.06.94zm10 10l.94 2.06.94-2.06 2.06-.94-2.06-.94-.94-2.06-.94 2.06-2.06.94z\"/><path d=\"M17.41 7.96l-1.37-1.37c-.4-.4-.92-.59-1.43-.59-.52 0-1.04.2-1.43.59L10.3 9.45l-7.72 7.72c-.78.78-.78 2.05 0 2.83L4 21.41c.39.39.9.59 1.41.59.51 0 1.02-.2 1.41-.59l7.78-7.78 2.81-2.81c.8-.78.8-2.07 0-2.86zM5.41 20L4 18.59l7.72-7.72 1.47 1.35L5.41 20z\"/>\n",
              "  </svg>\n",
              "      </button>\n",
              "      \n",
              "  <style>\n",
              "    .colab-df-container {\n",
              "      display:flex;\n",
              "      flex-wrap:wrap;\n",
              "      gap: 12px;\n",
              "    }\n",
              "\n",
              "    .colab-df-convert {\n",
              "      background-color: #E8F0FE;\n",
              "      border: none;\n",
              "      border-radius: 50%;\n",
              "      cursor: pointer;\n",
              "      display: none;\n",
              "      fill: #1967D2;\n",
              "      height: 32px;\n",
              "      padding: 0 0 0 0;\n",
              "      width: 32px;\n",
              "    }\n",
              "\n",
              "    .colab-df-convert:hover {\n",
              "      background-color: #E2EBFA;\n",
              "      box-shadow: 0px 1px 2px rgba(60, 64, 67, 0.3), 0px 1px 3px 1px rgba(60, 64, 67, 0.15);\n",
              "      fill: #174EA6;\n",
              "    }\n",
              "\n",
              "    [theme=dark] .colab-df-convert {\n",
              "      background-color: #3B4455;\n",
              "      fill: #D2E3FC;\n",
              "    }\n",
              "\n",
              "    [theme=dark] .colab-df-convert:hover {\n",
              "      background-color: #434B5C;\n",
              "      box-shadow: 0px 1px 3px 1px rgba(0, 0, 0, 0.15);\n",
              "      filter: drop-shadow(0px 1px 2px rgba(0, 0, 0, 0.3));\n",
              "      fill: #FFFFFF;\n",
              "    }\n",
              "  </style>\n",
              "\n",
              "      <script>\n",
              "        const buttonEl =\n",
              "          document.querySelector('#df-3690c0f2-fbd1-4d49-899d-ee227cd1a1b5 button.colab-df-convert');\n",
              "        buttonEl.style.display =\n",
              "          google.colab.kernel.accessAllowed ? 'block' : 'none';\n",
              "\n",
              "        async function convertToInteractive(key) {\n",
              "          const element = document.querySelector('#df-3690c0f2-fbd1-4d49-899d-ee227cd1a1b5');\n",
              "          const dataTable =\n",
              "            await google.colab.kernel.invokeFunction('convertToInteractive',\n",
              "                                                     [key], {});\n",
              "          if (!dataTable) return;\n",
              "\n",
              "          const docLinkHtml = 'Like what you see? Visit the ' +\n",
              "            '<a target=\"_blank\" href=https://colab.research.google.com/notebooks/data_table.ipynb>data table notebook</a>'\n",
              "            + ' to learn more about interactive tables.';\n",
              "          element.innerHTML = '';\n",
              "          dataTable['output_type'] = 'display_data';\n",
              "          await google.colab.output.renderOutput(dataTable, element);\n",
              "          const docLink = document.createElement('div');\n",
              "          docLink.innerHTML = docLinkHtml;\n",
              "          element.appendChild(docLink);\n",
              "        }\n",
              "      </script>\n",
              "    </div>\n",
              "  </div>\n",
              "  "
            ]
          },
          "metadata": {},
          "execution_count": 23
        }
      ]
    },
    {
      "cell_type": "code",
      "execution_count": null,
      "metadata": {
        "colab": {
          "base_uri": "https://localhost:8080/",
          "height": 766
        },
        "id": "sWc8_ngJnerD",
        "outputId": "1061c1a7-d994-4c94-c0da-83b2f087bdfa"
      },
      "outputs": [
        {
          "output_type": "stream",
          "name": "stderr",
          "text": [
            "100%|██████████| 10000/10000 [01:53<00:00, 88.29it/s]\n",
            "<ipython-input-24-f22866cf8b90>:5: SettingWithCopyWarning: \n",
            "A value is trying to be set on a copy of a slice from a DataFrame.\n",
            "Try using .loc[row_indexer,col_indexer] = value instead\n",
            "\n",
            "See the caveats in the documentation: https://pandas.pydata.org/pandas-docs/stable/user_guide/indexing.html#returning-a-view-versus-a-copy\n",
            "  df_news['article_preprocessed']= df_news['article_original'].progress_apply(lambda x: text_preprocess(' '.join(x)))\n"
          ]
        },
        {
          "output_type": "execute_result",
          "data": {
            "text/plain": [
              "     media         id                                   article_original  \\\n",
              "0     부산일보  360972161  [지난해 고령화와 유례가 드문 겨울 한파 등 영향으로 우리나라 사망자 수가 통계 작...   \n",
              "1     중도일보  356659913  [서산시의회(의장 임재관) 가충순·이수의 의원이 (사)한국지역신문협회에서 수여하는 ...   \n",
              "2     무등일보  351718460  [지난 2004년 시작해 조선대 학생들의 대표적인 행사로 자리매김한 ‘조선대 국토대...   \n",
              "3     이데일리  335868123  [서울시는 신학기가 시작되는 다음달 4일부터 고등학교 3학년 무상급식을 실시한다고 ...   \n",
              "4     서울신문  351443347  [미국인 선교사가 우간다에서 의사 행세를 하며 의료 시설을 운영한 혐의로 지역 시민...   \n",
              "...    ...        ...                                                ...   \n",
              "9995  서울신문  346679684  [증권사 등 금융투자업자에 대한 영업규제가 자율성과 책임성을 높이는 방향으로 개편된...   \n",
              "9996  한국경제  342862059  [배우 조유정이 거침없는 신예의 모습을 보여주고 있다., 조유정 소속사 굳피플은 2...   \n",
              "9997  아주경제  368415085  ['2019 한-아세안 스마트시티 페어'(Smart City Fair 2019)가 ...   \n",
              "9998  부산일보  361299935  [시인이자 소설가인 이상(1910~1937)은 한국 문학에서 한 줄기를 차지하고 있...   \n",
              "9999  무등일보  368601756  [조선대가 강동완 전 총장 거취문제를 둘러싸고 1년째 내홍에 휩싸인 가운데 임시이사...   \n",
              "\n",
              "                                            abstractive   extractive  \\\n",
              "0     통계청이 발표한 '2018년 사망원인통계'를 보면 지난해 총 사망자 수는 관련 통계...  [4, 11, 18]   \n",
              "1     서산시 가충순 의원과 이수의 의원이 활발한 의정활동을 펼친 감사의 표시로 한국지역신...    [1, 3, 4]   \n",
              "2      ‘조선대의 새로운 비상을 꿈꾸다’를 슬로건으로 진행되어 단체생활을 통해 협동심과 ...    [0, 2, 4]   \n",
              "3     서울시가 다음달 4일부터 서울 시내 319개 고등학교 3학년 8만4700명을 대상으...    [0, 1, 2]   \n",
              "4     미국인 선교사가 우간다에서 의사 행세를 하며 두 아이의 죽음과 관련돼 있다며 지역 ...    [0, 1, 2]   \n",
              "...                                                 ...          ...   \n",
              "9995  27일 금융위원회는 금융투자업자에 대해 정보교류 차단장치 규제는 법령에서 필수 원칙...    [0, 3, 1]   \n",
              "9996  거침없는 신예의 모습을 보여주고 있는 조유정은 25일 'KBS 2TV 새 월화드라마...    [0, 1, 2]   \n",
              "9997  2019 한-아세안 스마트시티 페어'(Smart City Fair 2019)가 25...    [0, 1, 5]   \n",
              "9998  권영민 서울대 명예교수가 한국 문학의 한 줄기를 차지하고 있는 시인이자 소설가인 이...   [0, 17, 3]   \n",
              "9999  강동완 전 총장 문제를 둘러싸고 1년째 내부갈등이 진행 중인 조선대가 2년만에 다시...    [1, 2, 0]   \n",
              "\n",
              "                                   article_preprocessed  \n",
              "0     지난해 고령화 유례 겨울 한파 영향 우리나라 사망자 통계 작성 이후 폐렴 치매 일종...  \n",
              "1     서산시 의회 의장 임재 가충 이수 의원 한국 지역 신문협회 수여 우수 대상 가충 의...  \n",
              "2     시작 조선대 학생 대표 행사 자리매김 조선대 국토 대장정 해단식 일정 마감 조선대 ...  \n",
              "3     서울시 신학기 시작 다음 고등학교 학년 무상급식 실시 서울 시내 고등학교 학년 대상...  \n",
              "4     미국인 선교사 우간다 의사 행세 의료 시설 운영 혐의 지역 시민 단체 주민 고소 원...  \n",
              "...                                                 ...  \n",
              "9995  증권사 금융 투자 업자 영업 규제 자율 책임 방향 개편 정보 교류 차단 장치 차이 ...  \n",
              "9996  배우 조유정 신예 모습 조유정 소속 피플 KBS TV 월화드라마 노래 조유정 합류 ...  \n",
              "9997  아세안 스마트 시티 페어 Smart City Fair 부산 벡스코 진행 이번 행사 ...  \n",
              "9998  시인 소설가 이상 한국 문학 줄기 차지 줄기 생김새 방향 연구자 도전 의지 좌절 권...  \n",
              "9999  조선대 강동완 총장 거취 문제 내홍 가운데 임시 이사 전환 이사 체제 전환 학교 정...  \n",
              "\n",
              "[10000 rows x 6 columns]"
            ],
            "text/html": [
              "\n",
              "  <div id=\"df-d768eb33-f66c-4f35-839a-418046d2971b\">\n",
              "    <div class=\"colab-df-container\">\n",
              "      <div>\n",
              "<style scoped>\n",
              "    .dataframe tbody tr th:only-of-type {\n",
              "        vertical-align: middle;\n",
              "    }\n",
              "\n",
              "    .dataframe tbody tr th {\n",
              "        vertical-align: top;\n",
              "    }\n",
              "\n",
              "    .dataframe thead th {\n",
              "        text-align: right;\n",
              "    }\n",
              "</style>\n",
              "<table border=\"1\" class=\"dataframe\">\n",
              "  <thead>\n",
              "    <tr style=\"text-align: right;\">\n",
              "      <th></th>\n",
              "      <th>media</th>\n",
              "      <th>id</th>\n",
              "      <th>article_original</th>\n",
              "      <th>abstractive</th>\n",
              "      <th>extractive</th>\n",
              "      <th>article_preprocessed</th>\n",
              "    </tr>\n",
              "  </thead>\n",
              "  <tbody>\n",
              "    <tr>\n",
              "      <th>0</th>\n",
              "      <td>부산일보</td>\n",
              "      <td>360972161</td>\n",
              "      <td>[지난해 고령화와 유례가 드문 겨울 한파 등 영향으로 우리나라 사망자 수가 통계 작...</td>\n",
              "      <td>통계청이 발표한 '2018년 사망원인통계'를 보면 지난해 총 사망자 수는 관련 통계...</td>\n",
              "      <td>[4, 11, 18]</td>\n",
              "      <td>지난해 고령화 유례 겨울 한파 영향 우리나라 사망자 통계 작성 이후 폐렴 치매 일종...</td>\n",
              "    </tr>\n",
              "    <tr>\n",
              "      <th>1</th>\n",
              "      <td>중도일보</td>\n",
              "      <td>356659913</td>\n",
              "      <td>[서산시의회(의장 임재관) 가충순·이수의 의원이 (사)한국지역신문협회에서 수여하는 ...</td>\n",
              "      <td>서산시 가충순 의원과 이수의 의원이 활발한 의정활동을 펼친 감사의 표시로 한국지역신...</td>\n",
              "      <td>[1, 3, 4]</td>\n",
              "      <td>서산시 의회 의장 임재 가충 이수 의원 한국 지역 신문협회 수여 우수 대상 가충 의...</td>\n",
              "    </tr>\n",
              "    <tr>\n",
              "      <th>2</th>\n",
              "      <td>무등일보</td>\n",
              "      <td>351718460</td>\n",
              "      <td>[지난 2004년 시작해 조선대 학생들의 대표적인 행사로 자리매김한 ‘조선대 국토대...</td>\n",
              "      <td>‘조선대의 새로운 비상을 꿈꾸다’를 슬로건으로 진행되어 단체생활을 통해 협동심과 ...</td>\n",
              "      <td>[0, 2, 4]</td>\n",
              "      <td>시작 조선대 학생 대표 행사 자리매김 조선대 국토 대장정 해단식 일정 마감 조선대 ...</td>\n",
              "    </tr>\n",
              "    <tr>\n",
              "      <th>3</th>\n",
              "      <td>이데일리</td>\n",
              "      <td>335868123</td>\n",
              "      <td>[서울시는 신학기가 시작되는 다음달 4일부터 고등학교 3학년 무상급식을 실시한다고 ...</td>\n",
              "      <td>서울시가 다음달 4일부터 서울 시내 319개 고등학교 3학년 8만4700명을 대상으...</td>\n",
              "      <td>[0, 1, 2]</td>\n",
              "      <td>서울시 신학기 시작 다음 고등학교 학년 무상급식 실시 서울 시내 고등학교 학년 대상...</td>\n",
              "    </tr>\n",
              "    <tr>\n",
              "      <th>4</th>\n",
              "      <td>서울신문</td>\n",
              "      <td>351443347</td>\n",
              "      <td>[미국인 선교사가 우간다에서 의사 행세를 하며 의료 시설을 운영한 혐의로 지역 시민...</td>\n",
              "      <td>미국인 선교사가 우간다에서 의사 행세를 하며 두 아이의 죽음과 관련돼 있다며 지역 ...</td>\n",
              "      <td>[0, 1, 2]</td>\n",
              "      <td>미국인 선교사 우간다 의사 행세 의료 시설 운영 혐의 지역 시민 단체 주민 고소 원...</td>\n",
              "    </tr>\n",
              "    <tr>\n",
              "      <th>...</th>\n",
              "      <td>...</td>\n",
              "      <td>...</td>\n",
              "      <td>...</td>\n",
              "      <td>...</td>\n",
              "      <td>...</td>\n",
              "      <td>...</td>\n",
              "    </tr>\n",
              "    <tr>\n",
              "      <th>9995</th>\n",
              "      <td>서울신문</td>\n",
              "      <td>346679684</td>\n",
              "      <td>[증권사 등 금융투자업자에 대한 영업규제가 자율성과 책임성을 높이는 방향으로 개편된...</td>\n",
              "      <td>27일 금융위원회는 금융투자업자에 대해 정보교류 차단장치 규제는 법령에서 필수 원칙...</td>\n",
              "      <td>[0, 3, 1]</td>\n",
              "      <td>증권사 금융 투자 업자 영업 규제 자율 책임 방향 개편 정보 교류 차단 장치 차이 ...</td>\n",
              "    </tr>\n",
              "    <tr>\n",
              "      <th>9996</th>\n",
              "      <td>한국경제</td>\n",
              "      <td>342862059</td>\n",
              "      <td>[배우 조유정이 거침없는 신예의 모습을 보여주고 있다., 조유정 소속사 굳피플은 2...</td>\n",
              "      <td>거침없는 신예의 모습을 보여주고 있는 조유정은 25일 'KBS 2TV 새 월화드라마...</td>\n",
              "      <td>[0, 1, 2]</td>\n",
              "      <td>배우 조유정 신예 모습 조유정 소속 피플 KBS TV 월화드라마 노래 조유정 합류 ...</td>\n",
              "    </tr>\n",
              "    <tr>\n",
              "      <th>9997</th>\n",
              "      <td>아주경제</td>\n",
              "      <td>368415085</td>\n",
              "      <td>['2019 한-아세안 스마트시티 페어'(Smart City Fair 2019)가 ...</td>\n",
              "      <td>2019 한-아세안 스마트시티 페어'(Smart City Fair 2019)가 25...</td>\n",
              "      <td>[0, 1, 5]</td>\n",
              "      <td>아세안 스마트 시티 페어 Smart City Fair 부산 벡스코 진행 이번 행사 ...</td>\n",
              "    </tr>\n",
              "    <tr>\n",
              "      <th>9998</th>\n",
              "      <td>부산일보</td>\n",
              "      <td>361299935</td>\n",
              "      <td>[시인이자 소설가인 이상(1910~1937)은 한국 문학에서 한 줄기를 차지하고 있...</td>\n",
              "      <td>권영민 서울대 명예교수가 한국 문학의 한 줄기를 차지하고 있는 시인이자 소설가인 이...</td>\n",
              "      <td>[0, 17, 3]</td>\n",
              "      <td>시인 소설가 이상 한국 문학 줄기 차지 줄기 생김새 방향 연구자 도전 의지 좌절 권...</td>\n",
              "    </tr>\n",
              "    <tr>\n",
              "      <th>9999</th>\n",
              "      <td>무등일보</td>\n",
              "      <td>368601756</td>\n",
              "      <td>[조선대가 강동완 전 총장 거취문제를 둘러싸고 1년째 내홍에 휩싸인 가운데 임시이사...</td>\n",
              "      <td>강동완 전 총장 문제를 둘러싸고 1년째 내부갈등이 진행 중인 조선대가 2년만에 다시...</td>\n",
              "      <td>[1, 2, 0]</td>\n",
              "      <td>조선대 강동완 총장 거취 문제 내홍 가운데 임시 이사 전환 이사 체제 전환 학교 정...</td>\n",
              "    </tr>\n",
              "  </tbody>\n",
              "</table>\n",
              "<p>10000 rows × 6 columns</p>\n",
              "</div>\n",
              "      <button class=\"colab-df-convert\" onclick=\"convertToInteractive('df-d768eb33-f66c-4f35-839a-418046d2971b')\"\n",
              "              title=\"Convert this dataframe to an interactive table.\"\n",
              "              style=\"display:none;\">\n",
              "        \n",
              "  <svg xmlns=\"http://www.w3.org/2000/svg\" height=\"24px\"viewBox=\"0 0 24 24\"\n",
              "       width=\"24px\">\n",
              "    <path d=\"M0 0h24v24H0V0z\" fill=\"none\"/>\n",
              "    <path d=\"M18.56 5.44l.94 2.06.94-2.06 2.06-.94-2.06-.94-.94-2.06-.94 2.06-2.06.94zm-11 1L8.5 8.5l.94-2.06 2.06-.94-2.06-.94L8.5 2.5l-.94 2.06-2.06.94zm10 10l.94 2.06.94-2.06 2.06-.94-2.06-.94-.94-2.06-.94 2.06-2.06.94z\"/><path d=\"M17.41 7.96l-1.37-1.37c-.4-.4-.92-.59-1.43-.59-.52 0-1.04.2-1.43.59L10.3 9.45l-7.72 7.72c-.78.78-.78 2.05 0 2.83L4 21.41c.39.39.9.59 1.41.59.51 0 1.02-.2 1.41-.59l7.78-7.78 2.81-2.81c.8-.78.8-2.07 0-2.86zM5.41 20L4 18.59l7.72-7.72 1.47 1.35L5.41 20z\"/>\n",
              "  </svg>\n",
              "      </button>\n",
              "      \n",
              "  <style>\n",
              "    .colab-df-container {\n",
              "      display:flex;\n",
              "      flex-wrap:wrap;\n",
              "      gap: 12px;\n",
              "    }\n",
              "\n",
              "    .colab-df-convert {\n",
              "      background-color: #E8F0FE;\n",
              "      border: none;\n",
              "      border-radius: 50%;\n",
              "      cursor: pointer;\n",
              "      display: none;\n",
              "      fill: #1967D2;\n",
              "      height: 32px;\n",
              "      padding: 0 0 0 0;\n",
              "      width: 32px;\n",
              "    }\n",
              "\n",
              "    .colab-df-convert:hover {\n",
              "      background-color: #E2EBFA;\n",
              "      box-shadow: 0px 1px 2px rgba(60, 64, 67, 0.3), 0px 1px 3px 1px rgba(60, 64, 67, 0.15);\n",
              "      fill: #174EA6;\n",
              "    }\n",
              "\n",
              "    [theme=dark] .colab-df-convert {\n",
              "      background-color: #3B4455;\n",
              "      fill: #D2E3FC;\n",
              "    }\n",
              "\n",
              "    [theme=dark] .colab-df-convert:hover {\n",
              "      background-color: #434B5C;\n",
              "      box-shadow: 0px 1px 3px 1px rgba(0, 0, 0, 0.15);\n",
              "      filter: drop-shadow(0px 1px 2px rgba(0, 0, 0, 0.3));\n",
              "      fill: #FFFFFF;\n",
              "    }\n",
              "  </style>\n",
              "\n",
              "      <script>\n",
              "        const buttonEl =\n",
              "          document.querySelector('#df-d768eb33-f66c-4f35-839a-418046d2971b button.colab-df-convert');\n",
              "        buttonEl.style.display =\n",
              "          google.colab.kernel.accessAllowed ? 'block' : 'none';\n",
              "\n",
              "        async function convertToInteractive(key) {\n",
              "          const element = document.querySelector('#df-d768eb33-f66c-4f35-839a-418046d2971b');\n",
              "          const dataTable =\n",
              "            await google.colab.kernel.invokeFunction('convertToInteractive',\n",
              "                                                     [key], {});\n",
              "          if (!dataTable) return;\n",
              "\n",
              "          const docLinkHtml = 'Like what you see? Visit the ' +\n",
              "            '<a target=\"_blank\" href=https://colab.research.google.com/notebooks/data_table.ipynb>data table notebook</a>'\n",
              "            + ' to learn more about interactive tables.';\n",
              "          element.innerHTML = '';\n",
              "          dataTable['output_type'] = 'display_data';\n",
              "          await google.colab.output.renderOutput(dataTable, element);\n",
              "          const docLink = document.createElement('div');\n",
              "          docLink.innerHTML = docLinkHtml;\n",
              "          element.appendChild(docLink);\n",
              "        }\n",
              "      </script>\n",
              "    </div>\n",
              "  </div>\n",
              "  "
            ]
          },
          "metadata": {},
          "execution_count": 24
        }
      ],
      "source": [
        "# tqdm.pandas를 활용하면 pandas내 apply 작업의 진행상황을 확인할 수 있습니다. \n",
        "from tqdm import tqdm\n",
        "tqdm.pandas() \n",
        "\n",
        "df_news['article_preprocessed']= df_news['article_original'].progress_apply(lambda x: text_preprocess(' '.join(x)))\n",
        "df_news"
      ]
    },
    {
      "cell_type": "code",
      "source": [
        "df_news.info()"
      ],
      "metadata": {
        "colab": {
          "base_uri": "https://localhost:8080/"
        },
        "id": "D5bnNcNiL_sr",
        "outputId": "0624a98f-6110-4314-9d31-ad298d2d1155"
      },
      "execution_count": null,
      "outputs": [
        {
          "output_type": "stream",
          "name": "stdout",
          "text": [
            "<class 'pandas.core.frame.DataFrame'>\n",
            "RangeIndex: 10000 entries, 0 to 9999\n",
            "Data columns (total 6 columns):\n",
            " #   Column                Non-Null Count  Dtype \n",
            "---  ------                --------------  ----- \n",
            " 0   media                 10000 non-null  object\n",
            " 1   id                    10000 non-null  int64 \n",
            " 2   article_original      10000 non-null  object\n",
            " 3   abstractive           10000 non-null  object\n",
            " 4   extractive            10000 non-null  object\n",
            " 5   article_preprocessed  10000 non-null  object\n",
            "dtypes: int64(1), object(5)\n",
            "memory usage: 468.9+ KB\n"
          ]
        }
      ]
    },
    {
      "cell_type": "code",
      "execution_count": null,
      "metadata": {
        "id": "yFY5ejztKUYV",
        "colab": {
          "base_uri": "https://localhost:8080/",
          "height": 641
        },
        "outputId": "c60643de-6c1f-4c8f-9f07-d1e31b337e54"
      },
      "outputs": [
        {
          "output_type": "execute_result",
          "data": {
            "text/plain": [
              "     media         id                                   article_original  \\\n",
              "0     부산일보  360972161  [지난해 고령화와 유례가 드문 겨울 한파 등 영향으로 우리나라 사망자 수가 통계 작...   \n",
              "1     중도일보  356659913  [서산시의회(의장 임재관) 가충순·이수의 의원이 (사)한국지역신문협회에서 수여하는 ...   \n",
              "2     무등일보  351718460  [지난 2004년 시작해 조선대 학생들의 대표적인 행사로 자리매김한 ‘조선대 국토대...   \n",
              "3     이데일리  335868123  [서울시는 신학기가 시작되는 다음달 4일부터 고등학교 3학년 무상급식을 실시한다고 ...   \n",
              "4     서울신문  351443347  [미국인 선교사가 우간다에서 의사 행세를 하며 의료 시설을 운영한 혐의로 지역 시민...   \n",
              "...    ...        ...                                                ...   \n",
              "9995  서울신문  346679684  [증권사 등 금융투자업자에 대한 영업규제가 자율성과 책임성을 높이는 방향으로 개편된...   \n",
              "9996  한국경제  342862059  [배우 조유정이 거침없는 신예의 모습을 보여주고 있다., 조유정 소속사 굳피플은 2...   \n",
              "9997  아주경제  368415085  ['2019 한-아세안 스마트시티 페어'(Smart City Fair 2019)가 ...   \n",
              "9998  부산일보  361299935  [시인이자 소설가인 이상(1910~1937)은 한국 문학에서 한 줄기를 차지하고 있...   \n",
              "9999  무등일보  368601756  [조선대가 강동완 전 총장 거취문제를 둘러싸고 1년째 내홍에 휩싸인 가운데 임시이사...   \n",
              "\n",
              "                                            abstractive   extractive  \\\n",
              "0     통계청이 발표한 '2018년 사망원인통계'를 보면 지난해 총 사망자 수는 관련 통계...  [4, 11, 18]   \n",
              "1     서산시 가충순 의원과 이수의 의원이 활발한 의정활동을 펼친 감사의 표시로 한국지역신...    [1, 3, 4]   \n",
              "2      ‘조선대의 새로운 비상을 꿈꾸다’를 슬로건으로 진행되어 단체생활을 통해 협동심과 ...    [0, 2, 4]   \n",
              "3     서울시가 다음달 4일부터 서울 시내 319개 고등학교 3학년 8만4700명을 대상으...    [0, 1, 2]   \n",
              "4     미국인 선교사가 우간다에서 의사 행세를 하며 두 아이의 죽음과 관련돼 있다며 지역 ...    [0, 1, 2]   \n",
              "...                                                 ...          ...   \n",
              "9995  27일 금융위원회는 금융투자업자에 대해 정보교류 차단장치 규제는 법령에서 필수 원칙...    [0, 3, 1]   \n",
              "9996  거침없는 신예의 모습을 보여주고 있는 조유정은 25일 'KBS 2TV 새 월화드라마...    [0, 1, 2]   \n",
              "9997  2019 한-아세안 스마트시티 페어'(Smart City Fair 2019)가 25...    [0, 1, 5]   \n",
              "9998  권영민 서울대 명예교수가 한국 문학의 한 줄기를 차지하고 있는 시인이자 소설가인 이...   [0, 17, 3]   \n",
              "9999  강동완 전 총장 문제를 둘러싸고 1년째 내부갈등이 진행 중인 조선대가 2년만에 다시...    [1, 2, 0]   \n",
              "\n",
              "                                   article_preprocessed  \n",
              "0     지난해 고령화 유례 겨울 한파 영향 우리나라 사망자 통계 작성 이후 폐렴 치매 일종...  \n",
              "1     서산시 의회 의장 임재 가충 이수 의원 한국 지역 신문협회 수여 우수 대상 가충 의...  \n",
              "2     시작 조선대 학생 대표 행사 자리매김 조선대 국토 대장정 해단식 일정 마감 조선대 ...  \n",
              "3     서울시 신학기 시작 다음 고등학교 학년 무상급식 실시 서울 시내 고등학교 학년 대상...  \n",
              "4     미국인 선교사 우간다 의사 행세 의료 시설 운영 혐의 지역 시민 단체 주민 고소 원...  \n",
              "...                                                 ...  \n",
              "9995  증권사 금융 투자 업자 영업 규제 자율 책임 방향 개편 정보 교류 차단 장치 차이 ...  \n",
              "9996  배우 조유정 신예 모습 조유정 소속 피플 KBS TV 월화드라마 노래 조유정 합류 ...  \n",
              "9997  아세안 스마트 시티 페어 Smart City Fair 부산 벡스코 진행 이번 행사 ...  \n",
              "9998  시인 소설가 이상 한국 문학 줄기 차지 줄기 생김새 방향 연구자 도전 의지 좌절 권...  \n",
              "9999  조선대 강동완 총장 거취 문제 내홍 가운데 임시 이사 전환 이사 체제 전환 학교 정...  \n",
              "\n",
              "[10000 rows x 6 columns]"
            ],
            "text/html": [
              "\n",
              "  <div id=\"df-6336e908-6510-45e7-92ae-f75eb6484c06\">\n",
              "    <div class=\"colab-df-container\">\n",
              "      <div>\n",
              "<style scoped>\n",
              "    .dataframe tbody tr th:only-of-type {\n",
              "        vertical-align: middle;\n",
              "    }\n",
              "\n",
              "    .dataframe tbody tr th {\n",
              "        vertical-align: top;\n",
              "    }\n",
              "\n",
              "    .dataframe thead th {\n",
              "        text-align: right;\n",
              "    }\n",
              "</style>\n",
              "<table border=\"1\" class=\"dataframe\">\n",
              "  <thead>\n",
              "    <tr style=\"text-align: right;\">\n",
              "      <th></th>\n",
              "      <th>media</th>\n",
              "      <th>id</th>\n",
              "      <th>article_original</th>\n",
              "      <th>abstractive</th>\n",
              "      <th>extractive</th>\n",
              "      <th>article_preprocessed</th>\n",
              "    </tr>\n",
              "  </thead>\n",
              "  <tbody>\n",
              "    <tr>\n",
              "      <th>0</th>\n",
              "      <td>부산일보</td>\n",
              "      <td>360972161</td>\n",
              "      <td>[지난해 고령화와 유례가 드문 겨울 한파 등 영향으로 우리나라 사망자 수가 통계 작...</td>\n",
              "      <td>통계청이 발표한 '2018년 사망원인통계'를 보면 지난해 총 사망자 수는 관련 통계...</td>\n",
              "      <td>[4, 11, 18]</td>\n",
              "      <td>지난해 고령화 유례 겨울 한파 영향 우리나라 사망자 통계 작성 이후 폐렴 치매 일종...</td>\n",
              "    </tr>\n",
              "    <tr>\n",
              "      <th>1</th>\n",
              "      <td>중도일보</td>\n",
              "      <td>356659913</td>\n",
              "      <td>[서산시의회(의장 임재관) 가충순·이수의 의원이 (사)한국지역신문협회에서 수여하는 ...</td>\n",
              "      <td>서산시 가충순 의원과 이수의 의원이 활발한 의정활동을 펼친 감사의 표시로 한국지역신...</td>\n",
              "      <td>[1, 3, 4]</td>\n",
              "      <td>서산시 의회 의장 임재 가충 이수 의원 한국 지역 신문협회 수여 우수 대상 가충 의...</td>\n",
              "    </tr>\n",
              "    <tr>\n",
              "      <th>2</th>\n",
              "      <td>무등일보</td>\n",
              "      <td>351718460</td>\n",
              "      <td>[지난 2004년 시작해 조선대 학생들의 대표적인 행사로 자리매김한 ‘조선대 국토대...</td>\n",
              "      <td>‘조선대의 새로운 비상을 꿈꾸다’를 슬로건으로 진행되어 단체생활을 통해 협동심과 ...</td>\n",
              "      <td>[0, 2, 4]</td>\n",
              "      <td>시작 조선대 학생 대표 행사 자리매김 조선대 국토 대장정 해단식 일정 마감 조선대 ...</td>\n",
              "    </tr>\n",
              "    <tr>\n",
              "      <th>3</th>\n",
              "      <td>이데일리</td>\n",
              "      <td>335868123</td>\n",
              "      <td>[서울시는 신학기가 시작되는 다음달 4일부터 고등학교 3학년 무상급식을 실시한다고 ...</td>\n",
              "      <td>서울시가 다음달 4일부터 서울 시내 319개 고등학교 3학년 8만4700명을 대상으...</td>\n",
              "      <td>[0, 1, 2]</td>\n",
              "      <td>서울시 신학기 시작 다음 고등학교 학년 무상급식 실시 서울 시내 고등학교 학년 대상...</td>\n",
              "    </tr>\n",
              "    <tr>\n",
              "      <th>4</th>\n",
              "      <td>서울신문</td>\n",
              "      <td>351443347</td>\n",
              "      <td>[미국인 선교사가 우간다에서 의사 행세를 하며 의료 시설을 운영한 혐의로 지역 시민...</td>\n",
              "      <td>미국인 선교사가 우간다에서 의사 행세를 하며 두 아이의 죽음과 관련돼 있다며 지역 ...</td>\n",
              "      <td>[0, 1, 2]</td>\n",
              "      <td>미국인 선교사 우간다 의사 행세 의료 시설 운영 혐의 지역 시민 단체 주민 고소 원...</td>\n",
              "    </tr>\n",
              "    <tr>\n",
              "      <th>...</th>\n",
              "      <td>...</td>\n",
              "      <td>...</td>\n",
              "      <td>...</td>\n",
              "      <td>...</td>\n",
              "      <td>...</td>\n",
              "      <td>...</td>\n",
              "    </tr>\n",
              "    <tr>\n",
              "      <th>9995</th>\n",
              "      <td>서울신문</td>\n",
              "      <td>346679684</td>\n",
              "      <td>[증권사 등 금융투자업자에 대한 영업규제가 자율성과 책임성을 높이는 방향으로 개편된...</td>\n",
              "      <td>27일 금융위원회는 금융투자업자에 대해 정보교류 차단장치 규제는 법령에서 필수 원칙...</td>\n",
              "      <td>[0, 3, 1]</td>\n",
              "      <td>증권사 금융 투자 업자 영업 규제 자율 책임 방향 개편 정보 교류 차단 장치 차이 ...</td>\n",
              "    </tr>\n",
              "    <tr>\n",
              "      <th>9996</th>\n",
              "      <td>한국경제</td>\n",
              "      <td>342862059</td>\n",
              "      <td>[배우 조유정이 거침없는 신예의 모습을 보여주고 있다., 조유정 소속사 굳피플은 2...</td>\n",
              "      <td>거침없는 신예의 모습을 보여주고 있는 조유정은 25일 'KBS 2TV 새 월화드라마...</td>\n",
              "      <td>[0, 1, 2]</td>\n",
              "      <td>배우 조유정 신예 모습 조유정 소속 피플 KBS TV 월화드라마 노래 조유정 합류 ...</td>\n",
              "    </tr>\n",
              "    <tr>\n",
              "      <th>9997</th>\n",
              "      <td>아주경제</td>\n",
              "      <td>368415085</td>\n",
              "      <td>['2019 한-아세안 스마트시티 페어'(Smart City Fair 2019)가 ...</td>\n",
              "      <td>2019 한-아세안 스마트시티 페어'(Smart City Fair 2019)가 25...</td>\n",
              "      <td>[0, 1, 5]</td>\n",
              "      <td>아세안 스마트 시티 페어 Smart City Fair 부산 벡스코 진행 이번 행사 ...</td>\n",
              "    </tr>\n",
              "    <tr>\n",
              "      <th>9998</th>\n",
              "      <td>부산일보</td>\n",
              "      <td>361299935</td>\n",
              "      <td>[시인이자 소설가인 이상(1910~1937)은 한국 문학에서 한 줄기를 차지하고 있...</td>\n",
              "      <td>권영민 서울대 명예교수가 한국 문학의 한 줄기를 차지하고 있는 시인이자 소설가인 이...</td>\n",
              "      <td>[0, 17, 3]</td>\n",
              "      <td>시인 소설가 이상 한국 문학 줄기 차지 줄기 생김새 방향 연구자 도전 의지 좌절 권...</td>\n",
              "    </tr>\n",
              "    <tr>\n",
              "      <th>9999</th>\n",
              "      <td>무등일보</td>\n",
              "      <td>368601756</td>\n",
              "      <td>[조선대가 강동완 전 총장 거취문제를 둘러싸고 1년째 내홍에 휩싸인 가운데 임시이사...</td>\n",
              "      <td>강동완 전 총장 문제를 둘러싸고 1년째 내부갈등이 진행 중인 조선대가 2년만에 다시...</td>\n",
              "      <td>[1, 2, 0]</td>\n",
              "      <td>조선대 강동완 총장 거취 문제 내홍 가운데 임시 이사 전환 이사 체제 전환 학교 정...</td>\n",
              "    </tr>\n",
              "  </tbody>\n",
              "</table>\n",
              "<p>10000 rows × 6 columns</p>\n",
              "</div>\n",
              "      <button class=\"colab-df-convert\" onclick=\"convertToInteractive('df-6336e908-6510-45e7-92ae-f75eb6484c06')\"\n",
              "              title=\"Convert this dataframe to an interactive table.\"\n",
              "              style=\"display:none;\">\n",
              "        \n",
              "  <svg xmlns=\"http://www.w3.org/2000/svg\" height=\"24px\"viewBox=\"0 0 24 24\"\n",
              "       width=\"24px\">\n",
              "    <path d=\"M0 0h24v24H0V0z\" fill=\"none\"/>\n",
              "    <path d=\"M18.56 5.44l.94 2.06.94-2.06 2.06-.94-2.06-.94-.94-2.06-.94 2.06-2.06.94zm-11 1L8.5 8.5l.94-2.06 2.06-.94-2.06-.94L8.5 2.5l-.94 2.06-2.06.94zm10 10l.94 2.06.94-2.06 2.06-.94-2.06-.94-.94-2.06-.94 2.06-2.06.94z\"/><path d=\"M17.41 7.96l-1.37-1.37c-.4-.4-.92-.59-1.43-.59-.52 0-1.04.2-1.43.59L10.3 9.45l-7.72 7.72c-.78.78-.78 2.05 0 2.83L4 21.41c.39.39.9.59 1.41.59.51 0 1.02-.2 1.41-.59l7.78-7.78 2.81-2.81c.8-.78.8-2.07 0-2.86zM5.41 20L4 18.59l7.72-7.72 1.47 1.35L5.41 20z\"/>\n",
              "  </svg>\n",
              "      </button>\n",
              "      \n",
              "  <style>\n",
              "    .colab-df-container {\n",
              "      display:flex;\n",
              "      flex-wrap:wrap;\n",
              "      gap: 12px;\n",
              "    }\n",
              "\n",
              "    .colab-df-convert {\n",
              "      background-color: #E8F0FE;\n",
              "      border: none;\n",
              "      border-radius: 50%;\n",
              "      cursor: pointer;\n",
              "      display: none;\n",
              "      fill: #1967D2;\n",
              "      height: 32px;\n",
              "      padding: 0 0 0 0;\n",
              "      width: 32px;\n",
              "    }\n",
              "\n",
              "    .colab-df-convert:hover {\n",
              "      background-color: #E2EBFA;\n",
              "      box-shadow: 0px 1px 2px rgba(60, 64, 67, 0.3), 0px 1px 3px 1px rgba(60, 64, 67, 0.15);\n",
              "      fill: #174EA6;\n",
              "    }\n",
              "\n",
              "    [theme=dark] .colab-df-convert {\n",
              "      background-color: #3B4455;\n",
              "      fill: #D2E3FC;\n",
              "    }\n",
              "\n",
              "    [theme=dark] .colab-df-convert:hover {\n",
              "      background-color: #434B5C;\n",
              "      box-shadow: 0px 1px 3px 1px rgba(0, 0, 0, 0.15);\n",
              "      filter: drop-shadow(0px 1px 2px rgba(0, 0, 0, 0.3));\n",
              "      fill: #FFFFFF;\n",
              "    }\n",
              "  </style>\n",
              "\n",
              "      <script>\n",
              "        const buttonEl =\n",
              "          document.querySelector('#df-6336e908-6510-45e7-92ae-f75eb6484c06 button.colab-df-convert');\n",
              "        buttonEl.style.display =\n",
              "          google.colab.kernel.accessAllowed ? 'block' : 'none';\n",
              "\n",
              "        async function convertToInteractive(key) {\n",
              "          const element = document.querySelector('#df-6336e908-6510-45e7-92ae-f75eb6484c06');\n",
              "          const dataTable =\n",
              "            await google.colab.kernel.invokeFunction('convertToInteractive',\n",
              "                                                     [key], {});\n",
              "          if (!dataTable) return;\n",
              "\n",
              "          const docLinkHtml = 'Like what you see? Visit the ' +\n",
              "            '<a target=\"_blank\" href=https://colab.research.google.com/notebooks/data_table.ipynb>data table notebook</a>'\n",
              "            + ' to learn more about interactive tables.';\n",
              "          element.innerHTML = '';\n",
              "          dataTable['output_type'] = 'display_data';\n",
              "          await google.colab.output.renderOutput(dataTable, element);\n",
              "          const docLink = document.createElement('div');\n",
              "          docLink.innerHTML = docLinkHtml;\n",
              "          element.appendChild(docLink);\n",
              "        }\n",
              "      </script>\n",
              "    </div>\n",
              "  </div>\n",
              "  "
            ]
          },
          "metadata": {},
          "execution_count": 26
        }
      ],
      "source": [
        "# 전처리 완료된 데이터프레임을 피클파일로 저장\n",
        "df_news.to_pickle('./news_tokenized.pickle')\n",
        "df_news"
      ]
    },
    {
      "cell_type": "code",
      "execution_count": null,
      "metadata": {
        "id": "PycYkiDgLXby",
        "colab": {
          "base_uri": "https://localhost:8080/",
          "height": 641
        },
        "outputId": "57f7af1c-4a28-4873-9dcc-420bc3fc9869"
      },
      "outputs": [
        {
          "output_type": "execute_result",
          "data": {
            "text/plain": [
              "     media         id                                   article_original  \\\n",
              "0     부산일보  360972161  [지난해 고령화와 유례가 드문 겨울 한파 등 영향으로 우리나라 사망자 수가 통계 작...   \n",
              "1     중도일보  356659913  [서산시의회(의장 임재관) 가충순·이수의 의원이 (사)한국지역신문협회에서 수여하는 ...   \n",
              "2     무등일보  351718460  [지난 2004년 시작해 조선대 학생들의 대표적인 행사로 자리매김한 ‘조선대 국토대...   \n",
              "3     이데일리  335868123  [서울시는 신학기가 시작되는 다음달 4일부터 고등학교 3학년 무상급식을 실시한다고 ...   \n",
              "4     서울신문  351443347  [미국인 선교사가 우간다에서 의사 행세를 하며 의료 시설을 운영한 혐의로 지역 시민...   \n",
              "...    ...        ...                                                ...   \n",
              "9995  서울신문  346679684  [증권사 등 금융투자업자에 대한 영업규제가 자율성과 책임성을 높이는 방향으로 개편된...   \n",
              "9996  한국경제  342862059  [배우 조유정이 거침없는 신예의 모습을 보여주고 있다., 조유정 소속사 굳피플은 2...   \n",
              "9997  아주경제  368415085  ['2019 한-아세안 스마트시티 페어'(Smart City Fair 2019)가 ...   \n",
              "9998  부산일보  361299935  [시인이자 소설가인 이상(1910~1937)은 한국 문학에서 한 줄기를 차지하고 있...   \n",
              "9999  무등일보  368601756  [조선대가 강동완 전 총장 거취문제를 둘러싸고 1년째 내홍에 휩싸인 가운데 임시이사...   \n",
              "\n",
              "                                            abstractive   extractive  \\\n",
              "0     통계청이 발표한 '2018년 사망원인통계'를 보면 지난해 총 사망자 수는 관련 통계...  [4, 11, 18]   \n",
              "1     서산시 가충순 의원과 이수의 의원이 활발한 의정활동을 펼친 감사의 표시로 한국지역신...    [1, 3, 4]   \n",
              "2      ‘조선대의 새로운 비상을 꿈꾸다’를 슬로건으로 진행되어 단체생활을 통해 협동심과 ...    [0, 2, 4]   \n",
              "3     서울시가 다음달 4일부터 서울 시내 319개 고등학교 3학년 8만4700명을 대상으...    [0, 1, 2]   \n",
              "4     미국인 선교사가 우간다에서 의사 행세를 하며 두 아이의 죽음과 관련돼 있다며 지역 ...    [0, 1, 2]   \n",
              "...                                                 ...          ...   \n",
              "9995  27일 금융위원회는 금융투자업자에 대해 정보교류 차단장치 규제는 법령에서 필수 원칙...    [0, 3, 1]   \n",
              "9996  거침없는 신예의 모습을 보여주고 있는 조유정은 25일 'KBS 2TV 새 월화드라마...    [0, 1, 2]   \n",
              "9997  2019 한-아세안 스마트시티 페어'(Smart City Fair 2019)가 25...    [0, 1, 5]   \n",
              "9998  권영민 서울대 명예교수가 한국 문학의 한 줄기를 차지하고 있는 시인이자 소설가인 이...   [0, 17, 3]   \n",
              "9999  강동완 전 총장 문제를 둘러싸고 1년째 내부갈등이 진행 중인 조선대가 2년만에 다시...    [1, 2, 0]   \n",
              "\n",
              "                                   article_preprocessed  \n",
              "0     지난해 고령화 유례 겨울 한파 영향 우리나라 사망자 통계 작성 이후 폐렴 치매 일종...  \n",
              "1     서산시 의회 의장 임재 가충 이수 의원 한국 지역 신문협회 수여 우수 대상 가충 의...  \n",
              "2     시작 조선대 학생 대표 행사 자리매김 조선대 국토 대장정 해단식 일정 마감 조선대 ...  \n",
              "3     서울시 신학기 시작 다음 고등학교 학년 무상급식 실시 서울 시내 고등학교 학년 대상...  \n",
              "4     미국인 선교사 우간다 의사 행세 의료 시설 운영 혐의 지역 시민 단체 주민 고소 원...  \n",
              "...                                                 ...  \n",
              "9995  증권사 금융 투자 업자 영업 규제 자율 책임 방향 개편 정보 교류 차단 장치 차이 ...  \n",
              "9996  배우 조유정 신예 모습 조유정 소속 피플 KBS TV 월화드라마 노래 조유정 합류 ...  \n",
              "9997  아세안 스마트 시티 페어 Smart City Fair 부산 벡스코 진행 이번 행사 ...  \n",
              "9998  시인 소설가 이상 한국 문학 줄기 차지 줄기 생김새 방향 연구자 도전 의지 좌절 권...  \n",
              "9999  조선대 강동완 총장 거취 문제 내홍 가운데 임시 이사 전환 이사 체제 전환 학교 정...  \n",
              "\n",
              "[10000 rows x 6 columns]"
            ],
            "text/html": [
              "\n",
              "  <div id=\"df-05c690a3-afe7-4392-b40d-7a20fb1a89fd\">\n",
              "    <div class=\"colab-df-container\">\n",
              "      <div>\n",
              "<style scoped>\n",
              "    .dataframe tbody tr th:only-of-type {\n",
              "        vertical-align: middle;\n",
              "    }\n",
              "\n",
              "    .dataframe tbody tr th {\n",
              "        vertical-align: top;\n",
              "    }\n",
              "\n",
              "    .dataframe thead th {\n",
              "        text-align: right;\n",
              "    }\n",
              "</style>\n",
              "<table border=\"1\" class=\"dataframe\">\n",
              "  <thead>\n",
              "    <tr style=\"text-align: right;\">\n",
              "      <th></th>\n",
              "      <th>media</th>\n",
              "      <th>id</th>\n",
              "      <th>article_original</th>\n",
              "      <th>abstractive</th>\n",
              "      <th>extractive</th>\n",
              "      <th>article_preprocessed</th>\n",
              "    </tr>\n",
              "  </thead>\n",
              "  <tbody>\n",
              "    <tr>\n",
              "      <th>0</th>\n",
              "      <td>부산일보</td>\n",
              "      <td>360972161</td>\n",
              "      <td>[지난해 고령화와 유례가 드문 겨울 한파 등 영향으로 우리나라 사망자 수가 통계 작...</td>\n",
              "      <td>통계청이 발표한 '2018년 사망원인통계'를 보면 지난해 총 사망자 수는 관련 통계...</td>\n",
              "      <td>[4, 11, 18]</td>\n",
              "      <td>지난해 고령화 유례 겨울 한파 영향 우리나라 사망자 통계 작성 이후 폐렴 치매 일종...</td>\n",
              "    </tr>\n",
              "    <tr>\n",
              "      <th>1</th>\n",
              "      <td>중도일보</td>\n",
              "      <td>356659913</td>\n",
              "      <td>[서산시의회(의장 임재관) 가충순·이수의 의원이 (사)한국지역신문협회에서 수여하는 ...</td>\n",
              "      <td>서산시 가충순 의원과 이수의 의원이 활발한 의정활동을 펼친 감사의 표시로 한국지역신...</td>\n",
              "      <td>[1, 3, 4]</td>\n",
              "      <td>서산시 의회 의장 임재 가충 이수 의원 한국 지역 신문협회 수여 우수 대상 가충 의...</td>\n",
              "    </tr>\n",
              "    <tr>\n",
              "      <th>2</th>\n",
              "      <td>무등일보</td>\n",
              "      <td>351718460</td>\n",
              "      <td>[지난 2004년 시작해 조선대 학생들의 대표적인 행사로 자리매김한 ‘조선대 국토대...</td>\n",
              "      <td>‘조선대의 새로운 비상을 꿈꾸다’를 슬로건으로 진행되어 단체생활을 통해 협동심과 ...</td>\n",
              "      <td>[0, 2, 4]</td>\n",
              "      <td>시작 조선대 학생 대표 행사 자리매김 조선대 국토 대장정 해단식 일정 마감 조선대 ...</td>\n",
              "    </tr>\n",
              "    <tr>\n",
              "      <th>3</th>\n",
              "      <td>이데일리</td>\n",
              "      <td>335868123</td>\n",
              "      <td>[서울시는 신학기가 시작되는 다음달 4일부터 고등학교 3학년 무상급식을 실시한다고 ...</td>\n",
              "      <td>서울시가 다음달 4일부터 서울 시내 319개 고등학교 3학년 8만4700명을 대상으...</td>\n",
              "      <td>[0, 1, 2]</td>\n",
              "      <td>서울시 신학기 시작 다음 고등학교 학년 무상급식 실시 서울 시내 고등학교 학년 대상...</td>\n",
              "    </tr>\n",
              "    <tr>\n",
              "      <th>4</th>\n",
              "      <td>서울신문</td>\n",
              "      <td>351443347</td>\n",
              "      <td>[미국인 선교사가 우간다에서 의사 행세를 하며 의료 시설을 운영한 혐의로 지역 시민...</td>\n",
              "      <td>미국인 선교사가 우간다에서 의사 행세를 하며 두 아이의 죽음과 관련돼 있다며 지역 ...</td>\n",
              "      <td>[0, 1, 2]</td>\n",
              "      <td>미국인 선교사 우간다 의사 행세 의료 시설 운영 혐의 지역 시민 단체 주민 고소 원...</td>\n",
              "    </tr>\n",
              "    <tr>\n",
              "      <th>...</th>\n",
              "      <td>...</td>\n",
              "      <td>...</td>\n",
              "      <td>...</td>\n",
              "      <td>...</td>\n",
              "      <td>...</td>\n",
              "      <td>...</td>\n",
              "    </tr>\n",
              "    <tr>\n",
              "      <th>9995</th>\n",
              "      <td>서울신문</td>\n",
              "      <td>346679684</td>\n",
              "      <td>[증권사 등 금융투자업자에 대한 영업규제가 자율성과 책임성을 높이는 방향으로 개편된...</td>\n",
              "      <td>27일 금융위원회는 금융투자업자에 대해 정보교류 차단장치 규제는 법령에서 필수 원칙...</td>\n",
              "      <td>[0, 3, 1]</td>\n",
              "      <td>증권사 금융 투자 업자 영업 규제 자율 책임 방향 개편 정보 교류 차단 장치 차이 ...</td>\n",
              "    </tr>\n",
              "    <tr>\n",
              "      <th>9996</th>\n",
              "      <td>한국경제</td>\n",
              "      <td>342862059</td>\n",
              "      <td>[배우 조유정이 거침없는 신예의 모습을 보여주고 있다., 조유정 소속사 굳피플은 2...</td>\n",
              "      <td>거침없는 신예의 모습을 보여주고 있는 조유정은 25일 'KBS 2TV 새 월화드라마...</td>\n",
              "      <td>[0, 1, 2]</td>\n",
              "      <td>배우 조유정 신예 모습 조유정 소속 피플 KBS TV 월화드라마 노래 조유정 합류 ...</td>\n",
              "    </tr>\n",
              "    <tr>\n",
              "      <th>9997</th>\n",
              "      <td>아주경제</td>\n",
              "      <td>368415085</td>\n",
              "      <td>['2019 한-아세안 스마트시티 페어'(Smart City Fair 2019)가 ...</td>\n",
              "      <td>2019 한-아세안 스마트시티 페어'(Smart City Fair 2019)가 25...</td>\n",
              "      <td>[0, 1, 5]</td>\n",
              "      <td>아세안 스마트 시티 페어 Smart City Fair 부산 벡스코 진행 이번 행사 ...</td>\n",
              "    </tr>\n",
              "    <tr>\n",
              "      <th>9998</th>\n",
              "      <td>부산일보</td>\n",
              "      <td>361299935</td>\n",
              "      <td>[시인이자 소설가인 이상(1910~1937)은 한국 문학에서 한 줄기를 차지하고 있...</td>\n",
              "      <td>권영민 서울대 명예교수가 한국 문학의 한 줄기를 차지하고 있는 시인이자 소설가인 이...</td>\n",
              "      <td>[0, 17, 3]</td>\n",
              "      <td>시인 소설가 이상 한국 문학 줄기 차지 줄기 생김새 방향 연구자 도전 의지 좌절 권...</td>\n",
              "    </tr>\n",
              "    <tr>\n",
              "      <th>9999</th>\n",
              "      <td>무등일보</td>\n",
              "      <td>368601756</td>\n",
              "      <td>[조선대가 강동완 전 총장 거취문제를 둘러싸고 1년째 내홍에 휩싸인 가운데 임시이사...</td>\n",
              "      <td>강동완 전 총장 문제를 둘러싸고 1년째 내부갈등이 진행 중인 조선대가 2년만에 다시...</td>\n",
              "      <td>[1, 2, 0]</td>\n",
              "      <td>조선대 강동완 총장 거취 문제 내홍 가운데 임시 이사 전환 이사 체제 전환 학교 정...</td>\n",
              "    </tr>\n",
              "  </tbody>\n",
              "</table>\n",
              "<p>10000 rows × 6 columns</p>\n",
              "</div>\n",
              "      <button class=\"colab-df-convert\" onclick=\"convertToInteractive('df-05c690a3-afe7-4392-b40d-7a20fb1a89fd')\"\n",
              "              title=\"Convert this dataframe to an interactive table.\"\n",
              "              style=\"display:none;\">\n",
              "        \n",
              "  <svg xmlns=\"http://www.w3.org/2000/svg\" height=\"24px\"viewBox=\"0 0 24 24\"\n",
              "       width=\"24px\">\n",
              "    <path d=\"M0 0h24v24H0V0z\" fill=\"none\"/>\n",
              "    <path d=\"M18.56 5.44l.94 2.06.94-2.06 2.06-.94-2.06-.94-.94-2.06-.94 2.06-2.06.94zm-11 1L8.5 8.5l.94-2.06 2.06-.94-2.06-.94L8.5 2.5l-.94 2.06-2.06.94zm10 10l.94 2.06.94-2.06 2.06-.94-2.06-.94-.94-2.06-.94 2.06-2.06.94z\"/><path d=\"M17.41 7.96l-1.37-1.37c-.4-.4-.92-.59-1.43-.59-.52 0-1.04.2-1.43.59L10.3 9.45l-7.72 7.72c-.78.78-.78 2.05 0 2.83L4 21.41c.39.39.9.59 1.41.59.51 0 1.02-.2 1.41-.59l7.78-7.78 2.81-2.81c.8-.78.8-2.07 0-2.86zM5.41 20L4 18.59l7.72-7.72 1.47 1.35L5.41 20z\"/>\n",
              "  </svg>\n",
              "      </button>\n",
              "      \n",
              "  <style>\n",
              "    .colab-df-container {\n",
              "      display:flex;\n",
              "      flex-wrap:wrap;\n",
              "      gap: 12px;\n",
              "    }\n",
              "\n",
              "    .colab-df-convert {\n",
              "      background-color: #E8F0FE;\n",
              "      border: none;\n",
              "      border-radius: 50%;\n",
              "      cursor: pointer;\n",
              "      display: none;\n",
              "      fill: #1967D2;\n",
              "      height: 32px;\n",
              "      padding: 0 0 0 0;\n",
              "      width: 32px;\n",
              "    }\n",
              "\n",
              "    .colab-df-convert:hover {\n",
              "      background-color: #E2EBFA;\n",
              "      box-shadow: 0px 1px 2px rgba(60, 64, 67, 0.3), 0px 1px 3px 1px rgba(60, 64, 67, 0.15);\n",
              "      fill: #174EA6;\n",
              "    }\n",
              "\n",
              "    [theme=dark] .colab-df-convert {\n",
              "      background-color: #3B4455;\n",
              "      fill: #D2E3FC;\n",
              "    }\n",
              "\n",
              "    [theme=dark] .colab-df-convert:hover {\n",
              "      background-color: #434B5C;\n",
              "      box-shadow: 0px 1px 3px 1px rgba(0, 0, 0, 0.15);\n",
              "      filter: drop-shadow(0px 1px 2px rgba(0, 0, 0, 0.3));\n",
              "      fill: #FFFFFF;\n",
              "    }\n",
              "  </style>\n",
              "\n",
              "      <script>\n",
              "        const buttonEl =\n",
              "          document.querySelector('#df-05c690a3-afe7-4392-b40d-7a20fb1a89fd button.colab-df-convert');\n",
              "        buttonEl.style.display =\n",
              "          google.colab.kernel.accessAllowed ? 'block' : 'none';\n",
              "\n",
              "        async function convertToInteractive(key) {\n",
              "          const element = document.querySelector('#df-05c690a3-afe7-4392-b40d-7a20fb1a89fd');\n",
              "          const dataTable =\n",
              "            await google.colab.kernel.invokeFunction('convertToInteractive',\n",
              "                                                     [key], {});\n",
              "          if (!dataTable) return;\n",
              "\n",
              "          const docLinkHtml = 'Like what you see? Visit the ' +\n",
              "            '<a target=\"_blank\" href=https://colab.research.google.com/notebooks/data_table.ipynb>data table notebook</a>'\n",
              "            + ' to learn more about interactive tables.';\n",
              "          element.innerHTML = '';\n",
              "          dataTable['output_type'] = 'display_data';\n",
              "          await google.colab.output.renderOutput(dataTable, element);\n",
              "          const docLink = document.createElement('div');\n",
              "          docLink.innerHTML = docLinkHtml;\n",
              "          element.appendChild(docLink);\n",
              "        }\n",
              "      </script>\n",
              "    </div>\n",
              "  </div>\n",
              "  "
            ]
          },
          "metadata": {},
          "execution_count": 27
        }
      ],
      "source": [
        "df_news = pd.read_pickle('./news_tokenized.pickle')\n",
        "df_news"
      ]
    },
    {
      "cell_type": "markdown",
      "metadata": {
        "id": "LZbDUEKm4gzq"
      },
      "source": [
        "pickle파일로 저장하면 리스트가 그대로 살아 있는 것을 확인할 수 있습니다. \n"
      ]
    },
    {
      "cell_type": "code",
      "execution_count": null,
      "metadata": {
        "id": "MvoWvByaIBbI"
      },
      "outputs": [],
      "source": [
        "# 한 문장으로 join 해놓은 전처리 완료된 문장들을 공백 기준으로 분리하는 함수입니다. \n",
        "\n",
        "def my_tokenizer(text):\n",
        "  return text.split()"
      ]
    },
    {
      "cell_type": "code",
      "execution_count": null,
      "metadata": {
        "id": "euhgPCjE4LOp",
        "colab": {
          "base_uri": "https://localhost:8080/"
        },
        "outputId": "126ad730-95b8-4b41-c5a6-0462e641d03d"
      },
      "outputs": [
        {
          "output_type": "stream",
          "name": "stdout",
          "text": [
            "['지난해', '고령화', '유례', '겨울', '한파', '영향', '우리나라', '사망자', '통계', '작성', '이후', '폐렴', '치매', '일종', '알츠하이머병', '지난해', '사망', '원인', '순위', '전년', '단계', '단계', '상승', '노인', '질병', '사망', '급증', '추세', '연령', '표준', '사망률', '표준', '인구', '사망자', '울산', '충북', '부산', '작년', '사망자', '역대', '최다', '통계청', '발표', '망원', '통계', '지난해', '사망자', '전년', '대비', '증가', '관련', '통계', '작성', '이후', '연속', '증가세', '통계청', '인구', '구조', '고령화', '지난해', '유례', '한파', '원인', '지난해', '조사망', '인구', '사망자', '전년', '증가', '연속', '이상', '사망자', '전체', '사망자', '절반', '포인트', '증가', '폐렴', '알츠하이머병', '사망률', '순위', '사망', '원인', '지난해', '악성', '생물', '사망률', '이하', '인구', '사망자', '전년', '증가', '관련', '통계', '집계', '사망', '원인', '집계', '폐렴', '치매', '일종', '알츠하이머병', '사망률', '순위', '상승', '폐렴', '사망', '순위', '상승', '알츠하이머병', '사망', '통계', '작성', '사인', '처음', '포함', '지난해', '알츠하이머병', '사망률', '전년', '대비', '증가', '알츠하이머병', '사망', '비교', '증가', '폐렴', '사망', '전년', '대비', '증가', '알코올', '관련', '사망', '전년', '자살', '증가', '베르테르', '효과', '영향', '지난해', '자살', '사망자', '전년', '증가', '자살', '전년', '증가', '자살', '연속', '증가세', '자살', '사망', '원인', '순위', '차지', '기록', '김진', '통계청', '인구', '동향', '과장', '자살', '베르테르', '효과', '유명', '자살', '영향', '이후', '유명', '자살', '자살', '지난해', '유명', '자살', '영향', '설명', '지역', '연령', '구조', '차이', '표준', '사망률', '표준', '인구', '사망자', '울산', '충북', '부산', '서울', '경기', '사인', '연령', '표준', '사망', '지역', '경남', '심장', '질환', '경남', '뇌혈관', '질환', '울산', '폐렴', '경북', '운수', '사고', '전남', '고의', '자해', '자살', '충남']\n"
          ]
        }
      ],
      "source": [
        "print(my_tokenizer(df_news['article_preprocessed'].iloc[0]))"
      ]
    },
    {
      "cell_type": "markdown",
      "metadata": {
        "id": "k10pogw0AonR"
      },
      "source": [
        "### 2. TF-IDF 행렬 만들기(TF-IDF(Term Frequency-Inverse Document Frequency)    \n",
        "- 본격적인 자연어 처리를 위해서는 문자를 숫자로 수치화할 필요가 있습니다.  \n",
        "\n",
        "- TF-IDF는 단어의 빈도와 역 문서 빈도(문서의 빈도에 특정 식을 취함)를 사용하여 DTM(문서 단어 행렬(Document-Term Matrix)) 내의 각 단어들마다 중요한 정도를 가중치로 주는 방법입니다.\n",
        "\n",
        "- https://wikidocs.net/24559\n"
      ]
    },
    {
      "cell_type": "code",
      "source": [
        "# sklearn을 통해서 TF-IDF 행렬을 만들어 줍니다. \n",
        "from sklearn.feature_extraction.text import TfidfVectorizer"
      ],
      "metadata": {
        "id": "qslrRkG3PL3q"
      },
      "execution_count": null,
      "outputs": []
    },
    {
      "cell_type": "code",
      "execution_count": null,
      "metadata": {
        "colab": {
          "base_uri": "https://localhost:8080/"
        },
        "id": "5y0wi8HbArIL",
        "outputId": "ca4864aa-9a46-4aba-aafc-406581c16f6c"
      },
      "outputs": [
        {
          "output_type": "execute_result",
          "data": {
            "text/plain": [
              "<260697x199862 sparse matrix of type '<class 'numpy.float64'>'\n",
              "\twith 26129689 stored elements in Compressed Sparse Row format>"
            ]
          },
          "metadata": {},
          "execution_count": 58
        }
      ],
      "source": [
        "# sklearn을 통해서 TF-IDF 행렬을 만들어 줍니다. \n",
        "from sklearn.feature_extraction.text import TfidfVectorizer\n",
        "\n",
        "tfidf_vect = TfidfVectorizer(tokenizer=my_tokenizer) # split() 뿐\n",
        "tfidf = tfidf_vect.fit_transform(raw_documents = df_news['article_preprocessed']) # 기사 개수는 1000개로 조절하겠습니다\n",
        "\n",
        "tfidf"
      ]
    },
    {
      "cell_type": "markdown",
      "metadata": {
        "id": "R6KAOjuvAvSN"
      },
      "source": [
        "### 3. LDA 학습   \n",
        "토픽의 개수를 5으로 하여 LDA 모델을 학습시켜보도록 하겠습니다."
      ]
    },
    {
      "cell_type": "code",
      "source": [
        "from sklearn.decomposition import LatentDirichletAllocation\n",
        "\n",
        "lda = LatentDirichletAllocation?"
      ],
      "metadata": {
        "id": "ZjhA2xLEXAvq"
      },
      "execution_count": null,
      "outputs": []
    },
    {
      "cell_type": "code",
      "execution_count": null,
      "metadata": {
        "id": "WUfWC84l70EC"
      },
      "outputs": [],
      "source": [
        "from sklearn.decomposition import LatentDirichletAllocation\n",
        "\n",
        "lda = LatentDirichletAllocation(n_components = 5, \n",
        "                                max_iter = 20,\n",
        "                                learning_method='online',\n",
        "                                random_state=100)\n",
        "lda_output = lda.fit_transform(tfidf)"
      ]
    },
    {
      "cell_type": "code",
      "execution_count": null,
      "metadata": {
        "colab": {
          "base_uri": "https://localhost:8080/"
        },
        "id": "yon_ttK7D7_p",
        "outputId": "0fd40382-e899-4e60-891b-a7c97d7475a2"
      },
      "outputs": [
        {
          "output_type": "stream",
          "name": "stdout",
          "text": [
            "lda components:\n",
            " [[ 0.20010305  0.20015689  0.20004205 ...  0.20001791  0.20433103\n",
            "   0.20003558]\n",
            " [16.39315952  7.47307038  1.18663042 ...  0.20013915  0.2000518\n",
            "   0.77528171]\n",
            " [ 0.73065017  1.42369335  0.20119336 ...  1.40115011 42.31411924\n",
            "   0.20001288]\n",
            " [ 0.20203033  0.20293658  0.2000232  ...  0.2000107   0.20124599\n",
            "   0.2000201 ]\n",
            " [ 7.7947901   0.22940857  0.20020217 ...  0.2001143   0.20190531\n",
            "   0.20000499]]\n",
            "shape: (5, 199862)\n"
          ]
        }
      ],
      "source": [
        "print('lda components:\\n',lda.components_) \n",
        "print('shape:', lda.components_.shape) "
      ]
    },
    {
      "cell_type": "markdown",
      "metadata": {
        "id": "l3Q-XV216TrD"
      },
      "source": [
        "LDA 과정에서 얻은 토픽들을 프린트해 봅시다. 토픽당 7개의 단어를 default로 설정하였습니다. "
      ]
    },
    {
      "cell_type": "code",
      "source": [
        "sample = list(range(10))\n",
        "print(sample[:])\n",
        "# print(sample[:-4:-1])\n",
        "\n",
        "n = 1\n",
        "print(sample[:-n-1:-1])"
      ],
      "metadata": {
        "colab": {
          "base_uri": "https://localhost:8080/"
        },
        "id": "hIY0M5gxMYBA",
        "outputId": "969881e9-146e-4134-8534-6d9011a54905"
      },
      "execution_count": null,
      "outputs": [
        {
          "output_type": "stream",
          "name": "stdout",
          "text": [
            "[0, 1, 2, 3, 4, 5, 6, 7, 8, 9]\n",
            "[9]\n"
          ]
        }
      ]
    },
    {
      "cell_type": "code",
      "execution_count": null,
      "metadata": {
        "colab": {
          "base_uri": "https://localhost:8080/"
        },
        "id": "-dVwqbxqDyOf",
        "outputId": "0b0ba302-ba77-42c7-f2d1-4139fe0f3702"
      },
      "outputs": [
        {
          "output_type": "stream",
          "name": "stderr",
          "text": [
            "/usr/local/lib/python3.8/dist-packages/sklearn/utils/deprecation.py:87: FutureWarning: Function get_feature_names is deprecated; get_feature_names is deprecated in 1.0 and will be removed in 1.2. Please use get_feature_names_out instead.\n",
            "  warnings.warn(msg, category=FutureWarning)\n"
          ]
        },
        {
          "output_type": "stream",
          "name": "stdout",
          "text": [
            "Topic 1: [('대회', 1176.26), ('선수', 1111.45), ('경기', 725.02), ('리그', 588.13), ('시즌', 499.94), ('축구', 476.26), ('우승', 444.85)]\n",
            "Topic 2: [('기업', 2918.77), ('기술', 1934.83), ('금융', 1788.54), ('투자', 1641.38), ('산업', 1571.77), ('시장', 1507.54), ('수출', 1365.81)]\n",
            "Topic 3: [('공연', 886.24), ('방송', 853.07), ('제품', 681.25), ('작품', 647.33), ('영화', 623.03), ('브랜드', 593.22), ('축제', 586.04)]\n",
            "Topic 4: [('대통령', 1321.59), ('의원', 1255.26), ('국회', 886.33), ('후보', 797.41), ('민주당', 790.52), ('일본', 731.97), ('장관', 695.93)]\n",
            "Topic 5: [('사업', 4166.76), ('지역', 3926.84), ('교육', 2913.69), ('지원', 2910.56), ('도시', 2306.58), ('주민', 2129.76), ('시민', 2092.35)]\n"
          ]
        }
      ],
      "source": [
        "terms = tfidf_vect.get_feature_names() # 단어 집합\n",
        "\n",
        "def get_topics(components, feature_names, n=7):\n",
        "    for idx, topic in enumerate(components):\n",
        "        print(\"Topic %d:\" % (idx+1), [(feature_names[i], topic[i].round(2)) for i in topic.argsort()[:-n - 1:-1]])\n",
        "get_topics(lda.components_,terms)"
      ]
    },
    {
      "cell_type": "markdown",
      "metadata": {
        "id": "cktzNVtJbqm4"
      },
      "source": [
        "### 4. LDA 시각화"
      ]
    },
    {
      "cell_type": "code",
      "execution_count": null,
      "metadata": {
        "id": "TWJVaklXAHNF"
      },
      "outputs": [],
      "source": [
        "# LDAvis 는 토픽 모델링에 자주 이용되는 Latent Dirichlet Allocation (LDA) 모델의 학습 결과를 시각적으로 표현하는 라이브러리입니다\n",
        "!pip install pyLDAvis"
      ]
    },
    {
      "cell_type": "code",
      "execution_count": null,
      "metadata": {
        "colab": {
          "base_uri": "https://localhost:8080/",
          "height": 1000
        },
        "id": "TFOMBDYs8qs_",
        "outputId": "57725efa-a32f-4d2e-e06b-2d5ea4c37b68"
      },
      "outputs": [
        {
          "output_type": "stream",
          "name": "stderr",
          "text": [
            "/usr/local/lib/python3.8/dist-packages/pyLDAvis/_prepare.py:246: FutureWarning: In a future version of pandas all arguments of DataFrame.drop except for the argument 'labels' will be keyword-only\n",
            "  default_term_info = default_term_info.sort_values(\n",
            "/usr/local/lib/python3.8/dist-packages/sklearn/manifold/_t_sne.py:780: FutureWarning: The default initialization in TSNE will change from 'random' to 'pca' in 1.2.\n",
            "  warnings.warn(\n",
            "/usr/local/lib/python3.8/dist-packages/sklearn/manifold/_t_sne.py:790: FutureWarning: The default learning rate in TSNE will change from 200.0 to 'auto' in 1.2.\n",
            "  warnings.warn(\n",
            "/usr/local/lib/python3.8/dist-packages/sklearn/manifold/_t_sne.py:819: FutureWarning: 'square_distances' has been introduced in 0.24 to help phase out legacy squaring behavior. The 'legacy' setting will be removed in 1.1 (renaming of 0.26), and the default setting will be changed to True. In 1.3, 'square_distances' will be removed altogether, and distances will be squared by default. Set 'square_distances'=True to silence this warning.\n",
            "  warnings.warn(\n"
          ]
        },
        {
          "output_type": "execute_result",
          "data": {
            "text/plain": [
              "<IPython.core.display.HTML object>"
            ],
            "text/html": [
              "\n",
              "<link rel=\"stylesheet\" type=\"text/css\" href=\"https://cdn.jsdelivr.net/gh/bmabey/pyLDAvis@3.3.1/pyLDAvis/js/ldavis.v1.0.0.css\">\n",
              "\n",
              "\n",
              "<div id=\"ldavis_el979451397890683827202243569776\"></div>\n",
              "<script type=\"text/javascript\">\n",
              "\n",
              "var ldavis_el979451397890683827202243569776_data = {\"mdsDat\": {\"x\": [150.22215270996094, 51.16336441040039, -73.1445541381836, -66.4101333618164, 54.41732406616211], \"y\": [-72.2695541381836, -159.968017578125, 21.523815155029297, -110.60643768310547, 12.44344425201416], \"topics\": [1, 2, 3, 4, 5], \"cluster\": [1, 1, 1, 1, 1], \"Freq\": [45.890508598253895, 23.12448569592537, 15.913354079392223, 9.4099900684251, 5.661661558003416]}, \"tinfo\": {\"Term\": [\"\\ub300\\ud68c\", \"\\uc758\\uc6d0\", \"\\uae30\\uc5c5\", \"\\uacbd\\uae30\", \"\\uc120\\uc218\", \"\\ub300\\ud1b5\\ub839\", \"\\uae08\\uc735\", \"\\uad6d\\ud68c\", \"\\uae30\\uc220\", \"\\ud22c\\uc790\", \"\\ubbfc\\uc8fc\\ub2f9\", \"\\uc77c\\ubcf8\", \"\\uc7a5\\uad00\", \"\\uc0b0\\uc5c5\", \"\\uc0ac\\uc5c5\", \"\\ud6c4\\ubcf4\", \"\\uc815\\ubd80\", \"\\ub9ac\\uadf8\", \"\\uc2dc\\uc98c\", \"\\uac80\\ucc30\", \"\\uc885\\ubaa9\", \"\\uc218\\ucd9c\", \"\\ud55c\\uad6d\", \"\\ubd81\\ud55c\", \"\\uad50\\uc721\", \"\\ud3c9\\ud654\", \"\\uccb4\\uc721\", \"\\uc704\\uc6d0\\uc7a5\", \"\\uc8fc\\ubbfc\", \"\\uad11\\uc8fc\", \"\\uc8fc\\ubbfc\", \"\\uad50\\uc721\\uccad\", \"\\ub18d\\uac00\", \"\\uc870\\ub840\", \"\\ubd09\\uc0ac\", \"\\ub3c4\\ubbfc\", \"\\uad70\\uc218\", \"\\uad50\\uc0ac\", \"\\ub18d\\ucd0c\", \"\\uad70\\ubbfc\", \"\\ub2e8\\uc18d\", \"\\ud559\\ubd80\\ubaa8\", \"\\ub2f9\\uc9c4\", \"\\uc720\\uce58\\uc6d0\", \"\\uad50\\uc721\\ubd80\", \"\\uc120\\uace0\", \"\\uad6c\\uccad\\uc7a5\", \"\\uc18c\\ubc29\", \"\\uad00\\ub0b4\", \"\\ud0dc\\ud48d\", \"lh\", \"\\ucda9\\uc8fc\", \"\\uc0b0\\ub9bc\", \"\\uc5b4\\ub9b0\\uc774\\uc9d1\", \"\\uc885\\uc2dc\", \"\\ub3d9\\uad6c\", \"\\uacbd\\ucc30\\uccad\", \"\\uad50\\uc721\\uac10\", \"\\uae30\\uc18c\", \"\\ub2f9\\uc9c4\\uc2dc\", \"\\ud559\\uc0dd\", \"\\ubcf5\\uc9c0\", \"\\ud559\\uad50\", \"\\uc790\\uce58\", \"\\uc2dc\\ubbfc\", \"\\uacbd\\ucc30\", \"\\ub18d\\uc5c5\", \"\\uacf5\\ubb34\\uc6d0\", \"\\ud610\\uc758\", \"\\ub9c8\\uc744\", \"\\uad50\\uc721\", \"\\ud589\\uc815\", \"\\ub178\\uc778\", \"\\ub3c4\\uc2dc\", \"\\uc2dc\\uc124\", \"\\uccad\\ub144\", \"\\ubd84\\uc591\", \"\\uad00\\uad11\", \"\\uccad\\uc18c\\ub144\", \"\\uacf5\\uc6d0\", \"\\uc9c0\\uc5ed\", \"\\uc870\\uc131\", \"\\uc608\\uc0b0\", \"\\uc0ac\\uc5c5\", \"\\uc7a5\\uc560\", \"\\ucda9\\ubd81\", \"\\uc548\\uc804\", \"\\uc0ac\\ud68c\", \"\\ucd94\\uc9c4\", \"\\uc9c0\\uc6d0\", \"\\uacf5\\uc0ac\", \"\\ubb38\\ud654\", \"\\uc6b4\\uc601\", \"\\ub300\\ud559\", \"\\uacc4\\ud68d\", \"\\uc13c\\ud130\", \"\\uc8fc\\ud0dd\", \"\\uad00\\ub9ac\", \"\\ucc38\\uc5ec\", \"\\uae30\\uad00\", \"\\ud65c\\ub3d9\", \"\\ub300\\uc0c1\", \"\\ud658\\uacbd\", \"\\uc870\\uc0ac\", \"\\uc815\\ucc45\", \"\\uc9c4\\ud589\", \"\\uae08\\ub9ac\", \"\\uc99d\\uad8c\", \"\\ube14\\ub85d\\uccb4\\uc778\", \"\\uc804\\uc6d4\", \"\\ud154\\ub808\\ucf64\", \"\\uae30\\uc544\\ucc28\", \"\\ub454\\ud654\", \"\\uc99d\\uc2dc\", \"\\uc21c\\uc774\\uc775\", \"\\uad00\\uc138\", \"\\uac70\\ub798\\uc18c\", \"\\ub3d9\\uc6d4\", \"\\ud540\\ud14c\\ud06c\", \"\\ud658\\uc728\", \"suv\", \"\\uc774\\ub178\\ubca0\\uc774\\uc158\", \"\\uc544\\uc2dc\\uc544\\ub098\\ud56d\\uacf5\", \"\\uacf5\\uc815\\uc704\", \"\\ud751\\uc790\", \"\\uad6d\\uc0b0\\ud654\", \"\\uae08\\uac10\\uc6d0\", \"\\uc99d\\uad8c\\uc0ac\", \"eu\", \"\\uc554\\ud638\", \"\\uc740\\ud589\\uc7a5\", \"\\ud654\\uc6e8\\uc774\", \"\\uad6d\\ubbfc\\uc740\\ud589\", \"oled\", \"\\uc591\\uc0ac\", \"\\uac70\\ub798\\uc77c\", \"\\ud074\\ub77c\\uc6b0\\ub4dc\", \"\\ud604\\ub300\\ucc28\", \"\\uae08\\uc735\", \"\\ubc18\\ub3c4\\uccb4\", \"\\uc8fc\\uac00\", \"\\uc8fc\\uc2dd\", \"\\uc0bc\\uc131\\uc804\\uc790\", \"\\ubd80\\ud488\", \"kb\", \"\\uac24\\ub7ed\\uc2dc\", \"\\uc218\\ucd9c\", \"\\ubc30\\ud130\\ub9ac\", \"\\ubd84\\uae30\", \"\\uc740\\ud589\", \"\\uc2a4\\ud0c0\\ud2b8\\uc5c5\", \"\\ubb34\\uc5ed\", \"\\ub514\\uc2a4\\ud50c\\ub808\\uc774\", \"\\ud380\\ub4dc\", \"\\ud558\\ub77d\", \"\\ud22c\\uc790\", \"\\ub370\\uc774\\ud130\", \"\\uae30\\uc5c5\", \"\\uae30\\uc220\", \"\\uc911\\uc18c\\uae30\\uc5c5\", \"lg\", \"ai\", \"\\ub300\\ucd9c\", \"\\uc218\\uc18c\", \"\\ubca4\\ucc98\", \"\\uae00\\ub85c\\ubc8c\", \"\\uc601\\uc5c5\", \"\\uc790\\ub3d9\\ucc28\", \"\\uc804\\uc790\", \"\\uc804\\ub144\", \"\\uc0b0\\uc5c5\", \"sk\", \"\\uc911\\uad6d\", \"\\uc11c\\ube44\\uc2a4\", \"\\uad6d\\ub0b4\", \"\\uc2dc\\uc7a5\", \"\\uc131\\uc7a5\", \"\\uaddc\\uc81c\", \"\\uc99d\\uac00\", \"\\ub300\\ube44\", \"\\uac1c\\ubc1c\", \"\\ud574\\uc678\", \"\\uc81c\\ud488\", \"\\uace0\\uac1d\", \"\\uacbd\\uc81c\", \"\\ubbf8\\uad6d\", \"\\uc9c0\\uc6d0\", \"\\uc5c5\\uccb4\", \"\\ud55c\\uad6d\", \"\\uc0ac\\uc5c5\", \"\\uc77c\\ubcf8\", \"\\uc815\\ubcf4\", \"\\ubc30\\uc6b0\", \"\\uad00\\uac1d\", \"\\uc2dc\\uccad\\uc790\", \"\\uc568\\ubc94\", \"\\uc640\\uc778\", \"\\uc138\\ud3ec\", \"\\ubba4\\uc9c1\", \"\\uc608\\ub2a5\", \"tvn\", \"\\uc7a5\\ub974\", \"\\uc544\\ud2f0\\uc2a4\\ud2b8\", \"\\uc81c\\uc791\\uc9c4\", \"\\ubc29\\ud0c4\\uc18c\\ub144\\ub2e8\", \"\\uac1c\\ubd09\", \"\\ub4dc\\ub77c\\ub9c8\", \"\\uc624\\ucf00\\uc2a4\\ud2b8\\ub77c\", \"\\uc74c\\uc6d0\", \"\\ud551\\ud06c\", \"\\ucc28\\ud2b8\", \"\\uc624\\ud398\\ub77c\", \"\\uc5f0\\uc560\", \"\\ub2e4\\uc774\\uc5b4\\ud2b8\", \"\\uce58\\ud0a8\", \"\\ube44\\ud0c0\\ubbfc\", \"\\ub9e4\\ud2b8\\ub9ac\\uc2a4\", \"\\uac04\\uc5fc\", \"\\ub2e8\\ubc31\\uc9c8\", \"\\uc62c\\ub9ac\\ube0c\", \"\\ud2f0\\uc800\", \"\\ub85c\\ub9e8\\uc2a4\", \"\\uc791\\uac00\", \"\\uce90\\ub9ad\\ud130\", \"\\uc5f0\\uc8fc\", \"\\uc601\\ud654\", \"\\uad6d\\uc545\", \"\\ubba4\\uc9c0\\uceec\", \"sbs\", \"\\uc74c\\uc545\", \"\\uac00\\uc218\", \"\\uc791\\ud488\", \"\\uc601\\ud654\\uc81c\", \"\\uc99d\\uc815\", \"\\uacf5\\uc5f0\", \"\\ucee4\\ud53c\", \"\\ud53c\\ubd80\", \"\\ubc29\\uc1a1\", \"\\ubb34\\ub300\", \"\\uc6c3\\uc74c\", \"\\uc774\\ubca4\\ud2b8\", \"\\uba64\\ubc84\", \"mbc\", \"\\uc5f0\\ucd9c\", \"kbs\", \"\\uc778\\uae30\", \"\\ube0c\\ub79c\\ub4dc\", \"\\ucd9c\\uc5f0\", \"\\ucd95\\uc81c\", \"\\uc2a4\\ud0c0\", \"\\uc138\\ud2b8\", \"\\uc120\\ubb3c\", \"\\ubaa8\\uc2b5\", \"\\ud560\\uc778\", \"\\uc774\\uc57c\\uae30\", \"\\uc601\\uc0c1\", \"\\uc0ac\\ub791\", \"\\uc81c\\ud488\", \"\\uc0ac\\ub78c\", \"\\uc608\\uc220\", \"\\uce58\\ub8cc\", \"\\uacf5\\uac1c\", \"\\ud589\\uc0ac\", \"\\uc0c1\\ud488\", \"\\ud310\\ub9e4\", \"\\uac8c\\uc784\", \"\\ucf58\\ud150\\uce20\", \"\\uc9c4\\ud589\", \"\\uace0\\uac1d\", \"\\uc790\\uc2e0\", \"\\uccb4\\ud5d8\", \"\\ubb38\\ud654\", \"\\uc774\\ubc88\", \"\\ud638\\uac00\", \"\\uc6d0\\ub0b4\\ub300\\ud45c\", \"\\ucd1d\\uc120\", \"\\uc870\\uad6d\", \"\\uc5ec\\uc57c\", \"\\uccad\\ubb38\\ud68c\", \"\\ucd9c\\ub9c8\", \"\\uc57c\\ub2f9\", \"\\ub3c5\\ub9bd\\uc6b4\\ub3d9\", \"\\ube44\\ud575\\ud654\", \"\\ub9cc\\uc138\", \"\\ub2f9\\uc6d0\", \"\\uacf5\\ucc9c\", \"\\ud669\\uad50\\uc548\", \"\\ub300\\ubd81\", \"\\uc9c0\\uc9c0\\uc728\", \"\\uc544\\ubca0\", \"\\uc6d0\\ub0b4\", \"\\ub098\\uacbd\\uc6d0\", \"\\uc9c0\\ub3c4\\ubd80\", \"dmz\", \"\\ub3c5\\ub9bd\\uc6b4\\ub3d9\\uac00\", \"\\uc218\\ucc98\", \"\\ud6c4\\ubcf4\\uc790\", \"\\uacbd\\uc120\", \"\\uc9d5\\uc6a9\", \"\\uc704\\uc548\\ubd80\", \"\\ub2f9\\ub0b4\", \"\\uc774\\ud574\\ucc2c\", \"\\uc120\\uac70\\uc81c\", \"\\uc120\\uac70\\ubc95\", \"\\ubd81\\ud55c\", \"\\ud68c\\ub3d9\", \"\\ub4f1\\ub77d\", \"\\ub300\\ubcc0\\uc778\", \"\\ud68c\\ub2f4\", \"\\uc815\\uad8c\", \"\\uc5ec\\ub2f9\", \"\\uccad\\uc640\\ub300\", \"\\uc120\\uac70\", \"\\ub300\\ud1b5\\ub839\", \"\\uc678\\uad50\", \"\\uc815\\uce58\", \"\\uad6d\\ub2f9\", \"\\ucd1d\\ub9ac\", \"\\ud6c4\\ubcf4\", \"\\ud3c9\\ud654\", \"\\ubbfc\\uc8fc\\ub2f9\", \"\\ud328\\uc2a4\\ud2b8\", \"\\ub0a8\\ubd81\", \"\\ud2b8\\ub7fc\\ud504\", \"\\uad6d\\ud68c\", \"\\uac1c\\ud601\", \"\\ubc95\\ubb34\\ubd80\", \"\\ubb38\\uc7ac\\uc778\", \"\\uc758\\uc6d0\", \"\\uac80\\ucc30\", \"\\uc7a5\\uad00\", \"\\uc885\\ubaa9\", \"\\ubbfc\\uc8fc\", \"\\uc77c\\ubcf8\", \"\\uc704\\uc6d0\\uc7a5\", \"\\uc815\\uc0c1\", \"\\uc790\\uc720\", \"\\uc6b4\\ub3d9\", \"\\uad6d\\ubbfc\", \"\\ud55c\\uad6d\", \"\\uc815\\ubd80\", \"\\ub300\\ud45c\", \"\\uc774\\ub0a0\", \"\\uc120\\uc218\", \"\\ub9ac\\uadf8\", \"\\ucd95\\uad6c\", \"\\uc6b0\\uc2b9\", \"\\ucd9c\\uc804\", \"\\uc57c\\uad6c\", \"\\uc120\\uc218\\ub2e8\", \"fc\", \"\\ud648\\ub7f0\", \"\\uae08\\uba54\\ub2ec\", \"\\ub4dd\\uc810\", \"\\ud22c\\uc218\", \"\\uc2e4\\uc810\", \"\\ub958\\ud604\\uc9c4\", \"\\uc190\\ud765\\ubbfc\", \"\\uacb0\\uc2b9\", \"kia\", \"\\uc2b9\\uc810\", \"kbo\", \"\\uc790\\ucc45\\uc810\", \"\\ubc84\\ub514\", \"\\ud1a0\\ud2b8\\ub118\", \"\\uba54\\ub2ec\", \"\\ud0c0\\uc790\", \"\\uc740\\uba54\\ub2ec\", \"\\ub4f1\\ud310\", \"\\uc0bc\\uc9c4\", \"\\ubc30\\uad6c\", \"\\ub3d9\\uba54\\ub2ec\", \"\\uc5f0\\ud328\", \"\\ub2e8\\uccb4\\uc804\", \"\\uc548\\ud0c0\", \"\\uad6c\\ub2e8\", \"\\uc774\\ub2dd\", \"\\uc5b8\\ub354\", \"\\uccb4\\uc804\", \"\\uccb4\\uc721\\ud68c\", \"\\uc6d4\\ub4dc\\ucef5\", \"\\ub300\\ud68c\", \"\\uc2dc\\uc98c\", \"\\ub77c\\uc6b4\\ub4dc\", \"\\uacbd\\uae30\\uc7a5\", \"\\uc218\\uc601\", \"\\uace8\\ud504\", \"\\uc2a4\\ud3ec\\uce20\", \"\\uacbd\\uae30\", \"\\uccb4\\uc721\", \"\\uac10\\ub3c5\", \"\\ud504\\ub85c\", \"\\uc5ec\\uc790\", \"\\uc62c\\ub9bc\\ud53d\", \"\\uc2b9\\ub9ac\", \"\\uae30\\ub85d\", \"\\uad11\\uc8fc\", \"\\uc885\\ubaa9\", \"\\ud55c\\uad6d\"], \"Freq\": [1736.0, 2146.0, 3320.0, 1689.0, 1080.0, 1421.0, 1703.0, 1177.0, 2182.0, 1759.0, 903.0, 1657.0, 1085.0, 2300.0, 4655.0, 894.0, 2023.0, 572.0, 661.0, 811.0, 965.0, 1323.0, 2450.0, 645.0, 2693.0, 679.0, 650.0, 938.0, 1884.0, 1555.0, 1883.6685439321634, 860.8446054802314, 666.4470954795253, 607.902744134337, 564.4912532400599, 520.0372711624889, 505.3639006011274, 480.57022281827165, 471.41400609192755, 428.7449077889935, 398.0805519162253, 395.50688404821443, 370.28408195038514, 350.8954078828108, 347.17555184596904, 348.2786352371948, 319.9239886039312, 315.33611437994534, 313.83430361591644, 353.94323020333724, 308.4216074452304, 314.24747631320764, 297.19067326909817, 292.9238501897832, 311.134865484945, 312.17126493061755, 287.6095618284552, 266.73647429446646, 302.89231587978304, 264.98662439571274, 1630.7649736159456, 1329.7353330590197, 1695.8501488309576, 737.8072474658117, 1850.583593227452, 1085.388747326949, 912.7661355009828, 656.5818532870164, 771.7858865002585, 1058.180795209296, 2577.018517772457, 1112.5772281413203, 629.1550672052889, 2040.0546918506832, 1723.9045863978397, 1209.5509451195048, 853.2352726132767, 1016.342925699901, 904.507547409209, 835.6335229599673, 3473.0988750230354, 1333.5804665755118, 1124.6694207663097, 3685.295714856282, 906.1597019757452, 1070.4396677848526, 1425.2971525034798, 1706.3527945377589, 1802.568611883813, 2574.245010888996, 1108.904303765683, 1645.6301148664943, 1653.5620124574882, 1059.891968983758, 1713.9593351516653, 1577.400593555005, 1216.3034258751381, 1279.0263212020911, 1333.9407402310794, 1296.1435535557391, 1236.4416845054131, 1262.8161472404936, 1200.3950039016001, 1195.791398984396, 1165.2723524944408, 1172.467948787012, 619.7881082451437, 437.13776049624937, 235.8376226764743, 236.35190084519394, 244.63876968334975, 227.69120513525033, 195.34385393696846, 169.5728145233116, 164.87521889936397, 167.90140542935734, 164.36309327238573, 160.24372730726762, 156.2686610018643, 154.8185172262172, 156.1273910729538, 151.01233084970667, 136.59755315239528, 132.19952787257802, 130.51020078675316, 126.58139713590273, 123.02671667941692, 119.575059523711, 120.3250490125116, 117.66089315526189, 113.90258838066875, 108.77845880270584, 113.65138319097926, 102.27670985982036, 101.43239843321986, 95.49767118706518, 282.5323509657848, 340.3925592149678, 1609.079796482198, 556.0960406498459, 285.4499615943133, 349.2338456291903, 515.5058028737648, 553.8994632107954, 254.69952681337946, 279.9097942599161, 1228.7646181399807, 251.95580447939776, 881.588231021557, 877.4173679951101, 398.56304531851566, 593.6481858572241, 278.1881716587053, 448.29680372473644, 609.9546222843609, 1476.691434342834, 713.8382176106903, 2625.9115900988713, 1740.693815440577, 789.9939400227868, 746.9721507369909, 513.0260531628849, 600.120582349938, 452.9925948409126, 507.40910981001736, 793.2555252824297, 612.1947135839428, 763.5763756681602, 591.6704078387027, 638.7726222974997, 1414.0635033495828, 641.6026736880092, 894.2876109520367, 1135.2754547673892, 915.5990255798699, 1356.2785408763793, 797.2204441217267, 693.5796672640668, 890.5544293833227, 835.6385504529666, 983.4254122989821, 690.3371624585573, 793.7827086225569, 728.8935673239931, 890.0338923941605, 753.2615433843782, 991.5645917622635, 740.9382670835008, 866.7552061067286, 969.1394521662248, 772.3767030701116, 727.829584756507, 373.58947471967923, 239.2329786357632, 231.6926550856744, 214.91833172140608, 166.2610828846282, 156.90325524176183, 154.3531265496575, 142.646845689319, 117.84465151893215, 115.10958829298852, 114.1864078341668, 113.47590604247101, 113.19619046886295, 107.00878720246264, 347.6273104045777, 97.45780066193124, 97.0879540108448, 97.0755764491112, 96.05217460412692, 94.26764370959793, 87.74845782598092, 87.18077360047728, 85.17672783738614, 77.92504333811115, 78.82964614877964, 77.19457573155759, 74.18738373347455, 75.263187445639, 71.32333931759985, 75.88966284574839, 519.8662704574846, 262.9428428228714, 136.72832941672056, 563.0265937151412, 180.5783757115524, 193.6390048800022, 156.28574731125684, 395.8545000346297, 248.86267382945843, 584.9817618250693, 157.59477807043643, 192.947034430003, 800.8835637708214, 224.27561792814583, 226.9339457056668, 770.9080323036152, 375.00754631257587, 163.9607975689359, 472.17213354240226, 181.0705212203403, 196.85139228117538, 196.87395948236352, 203.6793655389814, 355.93663098204064, 536.0853196822045, 307.8209829610337, 529.5943880537842, 293.8799577945756, 251.520630706119, 274.83034617634496, 436.4153154846897, 360.1362780433715, 332.62093433251516, 398.12077338609765, 406.75813437383357, 615.6343908946415, 449.62158490807917, 382.13724554432264, 314.70242134435927, 407.0049304472125, 478.03009014910396, 399.99476990039574, 409.6258185287851, 319.06037990048065, 334.7265760746399, 444.69777540305944, 376.19245857392264, 338.3167585731793, 360.3308836795764, 375.38430112575725, 345.4702985486858, 562.7997384458812, 433.7207442557077, 388.8882874433738, 323.7102531328234, 296.47565381291946, 243.97126130197478, 213.567661365313, 198.92623020179565, 165.08983417090909, 162.69735904792483, 156.5030851794245, 135.71615693880435, 133.14698892373892, 132.63836509586795, 130.9814369894205, 128.6996793727094, 130.33167920976288, 129.7099212780059, 113.32094185700035, 114.59030853243412, 104.15471024264727, 101.7411416484018, 99.3063526712077, 98.13418311258864, 93.75548854654113, 87.87157570388678, 87.61734238632889, 83.82254102164461, 84.82588064734648, 80.73108618608573, 165.67842822732487, 629.2254464837309, 131.0659795432951, 542.2383389319173, 301.2456815267628, 401.4980433362234, 191.75817440941398, 180.68202711854929, 584.757513361446, 570.7155273478314, 1237.3571176069481, 237.3502334670785, 574.5692907581881, 414.20170742421135, 306.3476282920934, 746.5859259291051, 580.1693364764698, 740.1392908491825, 193.11891901928743, 315.061347503143, 276.66002794817933, 829.8383294768275, 360.8990885894331, 259.8005622800614, 324.37453360062034, 1175.2510187015616, 559.8689734805289, 651.5743419097836, 587.144506168599, 381.9301573642559, 685.3196728139296, 493.0373736573202, 394.356368949682, 413.3856410443393, 431.73205625791826, 474.83985959338594, 561.5288928204898, 514.8654563256589, 516.4147113694307, 375.8562382619966, 1080.0403807464052, 571.5073737316128, 462.7966241956223, 432.2808233726477, 316.7649087262539, 219.78148896870582, 211.32004706146162, 200.64163267676915, 175.72674733383448, 168.6299470558767, 151.57136160957978, 147.63337751565086, 136.25654120754717, 126.91938782442864, 127.15618391383003, 127.03625832977713, 115.96985730060632, 111.89574671094437, 107.08964799958197, 98.37576712354456, 99.62129707985378, 96.09913650995402, 96.59020727712182, 91.19032611740504, 85.26484420298098, 91.97841393095604, 84.61149366463192, 82.2187411036763, 80.12886241738033, 79.83451626354294, 81.77796477375475, 174.3710476698132, 168.54131425460497, 160.71258901437128, 140.58815557109688, 152.59118235162177, 204.42806363649254, 165.4666459399252, 1143.0190895340143, 485.8124144954568, 210.8745722328697, 219.93079582909283, 261.914838931207, 225.67785307074388, 333.94805282319595, 704.5356723359141, 301.6065386097804, 288.23802315823764, 217.1696671290432, 226.56925071419244, 176.94613678620607, 200.78636486075084, 259.5733650541397, 237.0269060027116, 217.41693192463254, 187.8343820876679], \"Total\": [1736.0, 2146.0, 3320.0, 1689.0, 1080.0, 1421.0, 1703.0, 1177.0, 2182.0, 1759.0, 903.0, 1657.0, 1085.0, 2300.0, 4655.0, 894.0, 2023.0, 572.0, 661.0, 811.0, 965.0, 1323.0, 2450.0, 645.0, 2693.0, 679.0, 650.0, 938.0, 1884.0, 1555.0, 1884.4292743120798, 861.592543768571, 667.207063419353, 608.6510864151104, 565.2529235078098, 520.8227517226084, 506.14115057678623, 481.35507031769373, 472.19502206874046, 429.4931165147805, 398.8477662335351, 396.2733987256136, 371.0818527815179, 351.67321740807773, 347.94884425132955, 349.0548987383349, 320.6834968031127, 316.09294551498687, 314.59799602332214, 354.83390156159976, 309.2053023272725, 315.0496570036877, 297.9507820604814, 293.67434490003865, 311.93301457091366, 312.9991835088917, 288.3805950984084, 267.4852777092639, 303.743825648459, 265.7378242879428, 1658.9049219853093, 1355.0598592731712, 1733.4259205198318, 747.9029841641938, 1912.9798822094062, 1110.2397998661265, 931.3175751799386, 666.1558770288676, 786.1987668185527, 1084.9204150405847, 2693.9199763392267, 1145.6693191527606, 639.8647048776246, 2158.0498878123167, 1816.136570177513, 1264.946755580152, 883.7689367559632, 1065.396127259938, 952.0077882522701, 875.4423130679207, 3987.999619381599, 1459.3356632138702, 1212.8163261894479, 4655.008208724443, 971.1174478540305, 1172.617234468192, 1624.661344644386, 2005.7922090895947, 2142.2781163654763, 3566.4211268646186, 1253.4897253423685, 2070.807278596299, 2086.7614107744703, 1190.3735448320513, 2256.7593619127447, 2023.7226211496761, 1446.3563021661237, 1677.2743082143056, 1814.1125843324533, 1764.340550224513, 1615.7689855673393, 1750.4388432591545, 1540.707886934916, 1734.1097125734595, 1719.756718752787, 2036.2899011181494, 620.5379179813466, 437.8959676814108, 236.58291973624594, 237.1101231631316, 245.43421568236508, 228.44954858459116, 196.15590014545853, 170.3158740643467, 165.6199359634978, 168.6623853455789, 165.11177449517234, 160.99261166250952, 157.00894338153756, 155.56226331405946, 156.8898939409898, 151.76849970028775, 137.3485665471691, 132.951140450766, 131.29011062292759, 127.34332818191469, 123.7709653557149, 120.32056549576163, 121.09079311037644, 118.43681077517783, 114.6663923853049, 109.52603253901097, 114.44989778890908, 103.02002318812393, 102.20785886092222, 96.2378807119574, 286.637763401802, 348.4573913836041, 1703.2161344702288, 576.174733026942, 292.2338217943634, 359.07520868907733, 534.4151334129408, 579.099655078514, 260.8235272400792, 287.84945213698387, 1323.9737046284458, 258.5427232066675, 941.9677855469669, 937.6716627373282, 416.30033372748034, 636.7166649102252, 287.0935816185761, 477.6320937709799, 666.4483026871682, 1759.274979696952, 803.7304031535657, 3320.9457758641647, 2182.622020678785, 920.0670500810555, 866.1959583241251, 570.9048187858416, 683.3772507396149, 501.5993803083108, 572.0075902171149, 969.735148456943, 722.0660228107436, 944.8586780145124, 713.325776286778, 784.2547898293211, 2300.1586502956043, 803.9738505519996, 1306.6131504321943, 1923.614250544634, 1404.4971226845682, 2568.5314019666093, 1162.9815863198503, 939.4429991366328, 1435.225552629926, 1288.6985765278087, 2054.6328937616922, 954.8870539631151, 1461.6485399472647, 1169.2516869990152, 2050.5019762280635, 1343.97788535131, 3566.4211268646186, 1342.2138664208926, 2450.696799641133, 4655.008208724443, 1657.4869709784616, 1445.2018431982744, 374.3408317810854, 240.00626254032105, 232.44267665028084, 215.65922618255715, 167.0207612965194, 157.66419122668805, 155.1123607463622, 143.3988696709957, 118.58430727201738, 115.8567710737919, 114.93161532156668, 114.21766214364509, 113.93979378277521, 107.7649467825177, 350.312019163903, 98.21234458027409, 97.84215695992528, 97.83231032892607, 96.81394639544548, 95.04898722981004, 88.49233244465621, 87.95106342349652, 85.97598356153175, 78.67355259746142, 79.58775060555092, 77.9426980100653, 74.94720581413297, 76.03718039216241, 72.06537154135457, 76.69038547368551, 527.389027337723, 266.72718647733564, 138.9595301515561, 590.1244969230835, 186.29074949192687, 200.33984211090328, 161.03875297285592, 420.44285892981287, 260.75349153821657, 640.829814146715, 163.1261034987574, 203.42712099875644, 940.6403891290811, 239.49529145702977, 247.94947059506936, 969.5010862264868, 447.2887884245351, 173.74272085851092, 600.7032837812608, 200.54023039215406, 222.43213140020399, 223.02892998585108, 233.76625615382832, 494.7666253094592, 874.4599702718098, 429.10533424738406, 963.1226999801655, 405.5839226965432, 324.4204450238178, 372.2834095231513, 779.2061800215421, 578.4402950633557, 510.87676200433907, 683.0064612737507, 720.609980047704, 1461.6485399472647, 976.9663202205003, 722.163110613136, 523.1776966052572, 977.1545087752335, 1587.4745230304616, 1073.7315850892467, 1179.2655430583804, 597.9422861253348, 706.2905461008569, 2036.2899011181494, 1169.2516869990152, 739.9790262862124, 1215.210699790644, 2070.807278596299, 2189.7241705027577, 563.5454576519461, 434.45411532651286, 389.6281389908863, 324.45036385834976, 297.21516284058316, 244.70838506237038, 214.30538056146804, 199.66311449303416, 165.8307432968321, 163.43007010710917, 157.26177317125442, 136.44999054902217, 133.88134376686153, 133.37105210355188, 131.7228932414052, 129.43741141482695, 131.07915491535456, 130.46789613544388, 114.05365539752064, 115.3316111685619, 104.91672005033924, 102.48636013891553, 100.04729194374895, 98.8790921342838, 94.49334031092278, 88.61135769351421, 88.35777544927959, 84.55671839680566, 85.58018586495056, 81.46358154422244, 167.59368329546552, 645.6627353707435, 132.78268614603317, 561.4170659316852, 310.46436824162754, 419.6679830038051, 196.58074325639186, 185.13615594726195, 636.0716778068593, 620.2560611159097, 1421.5053497344697, 252.10781675889115, 657.0998491157923, 463.93369154748973, 335.38781349409516, 894.3451238432259, 679.1975530456712, 903.2652034032072, 206.04823447902035, 365.8030549054565, 314.69404141791915, 1177.7093615369959, 440.26209786001976, 297.71944973566593, 396.5646755387959, 2146.5075686114187, 811.6631317106965, 1085.8110340370165, 965.3213730100679, 526.1603515780818, 1657.4869709784616, 938.0455927356885, 701.6174438138543, 784.1017311929331, 909.1059738614812, 1224.8684309175371, 2450.696799641133, 2023.176289465823, 2097.3361260075394, 1571.429904133454, 1080.7817535433715, 572.2396841678653, 463.55324281399606, 433.0346103022605, 317.50480659263525, 220.52725722674083, 212.0498147433252, 201.37293341878527, 176.45524026234534, 169.3604980850664, 152.30199585461108, 148.3709988912507, 137.00563978947974, 127.64478167560924, 127.88390773176477, 127.76396618347879, 116.70959179632459, 112.62081291115142, 107.81529246425578, 99.10062580365472, 100.35603133606126, 96.8243195735533, 97.3444539183882, 91.93929141471752, 85.99175610217615, 92.77521875858552, 85.348059703118, 82.94990211721142, 80.85551861243256, 80.56248444332202, 82.52568891660746, 181.48549947371748, 175.30853720682978, 170.0867501225528, 147.5350320910163, 161.66080174736584, 227.85110408637865, 180.14673017984947, 1736.613270958252, 661.7342154486238, 245.59584037962088, 262.45703588600753, 336.23831219469906, 283.69174956759264, 538.2973526092846, 1689.9955556519749, 650.1391451993153, 615.2866770505423, 367.8920365692416, 415.11146959601143, 244.46982577962942, 361.0372103122438, 1235.2768869804618, 1555.4031057606608, 965.3213730100679, 2450.696799641133], \"Category\": [\"Default\", \"Default\", \"Default\", \"Default\", \"Default\", \"Default\", \"Default\", \"Default\", \"Default\", \"Default\", \"Default\", \"Default\", \"Default\", \"Default\", \"Default\", \"Default\", \"Default\", \"Default\", \"Default\", \"Default\", \"Default\", \"Default\", \"Default\", \"Default\", \"Default\", \"Default\", \"Default\", \"Default\", \"Default\", \"Default\", \"Topic1\", \"Topic1\", \"Topic1\", \"Topic1\", \"Topic1\", \"Topic1\", \"Topic1\", \"Topic1\", \"Topic1\", \"Topic1\", \"Topic1\", \"Topic1\", \"Topic1\", \"Topic1\", \"Topic1\", \"Topic1\", \"Topic1\", \"Topic1\", \"Topic1\", \"Topic1\", \"Topic1\", \"Topic1\", \"Topic1\", \"Topic1\", \"Topic1\", \"Topic1\", \"Topic1\", \"Topic1\", \"Topic1\", \"Topic1\", \"Topic1\", \"Topic1\", \"Topic1\", \"Topic1\", \"Topic1\", \"Topic1\", \"Topic1\", \"Topic1\", \"Topic1\", \"Topic1\", \"Topic1\", \"Topic1\", \"Topic1\", \"Topic1\", \"Topic1\", \"Topic1\", \"Topic1\", \"Topic1\", \"Topic1\", \"Topic1\", \"Topic1\", \"Topic1\", \"Topic1\", \"Topic1\", \"Topic1\", \"Topic1\", \"Topic1\", \"Topic1\", \"Topic1\", \"Topic1\", \"Topic1\", \"Topic1\", \"Topic1\", \"Topic1\", \"Topic1\", \"Topic1\", \"Topic1\", \"Topic1\", \"Topic1\", \"Topic1\", \"Topic1\", \"Topic1\", \"Topic1\", \"Topic1\", \"Topic1\", \"Topic1\", \"Topic2\", \"Topic2\", \"Topic2\", \"Topic2\", \"Topic2\", \"Topic2\", \"Topic2\", \"Topic2\", \"Topic2\", \"Topic2\", \"Topic2\", \"Topic2\", \"Topic2\", \"Topic2\", \"Topic2\", \"Topic2\", \"Topic2\", \"Topic2\", \"Topic2\", \"Topic2\", \"Topic2\", \"Topic2\", \"Topic2\", \"Topic2\", \"Topic2\", \"Topic2\", \"Topic2\", \"Topic2\", \"Topic2\", \"Topic2\", \"Topic2\", \"Topic2\", \"Topic2\", \"Topic2\", \"Topic2\", \"Topic2\", \"Topic2\", \"Topic2\", \"Topic2\", \"Topic2\", \"Topic2\", \"Topic2\", \"Topic2\", \"Topic2\", \"Topic2\", \"Topic2\", \"Topic2\", \"Topic2\", \"Topic2\", \"Topic2\", \"Topic2\", \"Topic2\", \"Topic2\", \"Topic2\", \"Topic2\", \"Topic2\", \"Topic2\", \"Topic2\", \"Topic2\", \"Topic2\", \"Topic2\", \"Topic2\", \"Topic2\", \"Topic2\", \"Topic2\", \"Topic2\", \"Topic2\", \"Topic2\", \"Topic2\", \"Topic2\", \"Topic2\", \"Topic2\", \"Topic2\", \"Topic2\", \"Topic2\", \"Topic2\", \"Topic2\", \"Topic2\", \"Topic2\", \"Topic2\", \"Topic2\", \"Topic2\", \"Topic2\", \"Topic2\", \"Topic2\", \"Topic2\", \"Topic3\", \"Topic3\", \"Topic3\", \"Topic3\", \"Topic3\", \"Topic3\", \"Topic3\", \"Topic3\", \"Topic3\", \"Topic3\", \"Topic3\", \"Topic3\", \"Topic3\", \"Topic3\", \"Topic3\", \"Topic3\", \"Topic3\", \"Topic3\", \"Topic3\", \"Topic3\", \"Topic3\", \"Topic3\", \"Topic3\", \"Topic3\", \"Topic3\", \"Topic3\", \"Topic3\", \"Topic3\", \"Topic3\", \"Topic3\", \"Topic3\", \"Topic3\", \"Topic3\", \"Topic3\", \"Topic3\", \"Topic3\", \"Topic3\", \"Topic3\", \"Topic3\", \"Topic3\", \"Topic3\", \"Topic3\", \"Topic3\", \"Topic3\", \"Topic3\", \"Topic3\", \"Topic3\", \"Topic3\", \"Topic3\", \"Topic3\", \"Topic3\", \"Topic3\", \"Topic3\", \"Topic3\", \"Topic3\", \"Topic3\", \"Topic3\", \"Topic3\", \"Topic3\", \"Topic3\", \"Topic3\", \"Topic3\", \"Topic3\", \"Topic3\", \"Topic3\", \"Topic3\", \"Topic3\", \"Topic3\", \"Topic3\", \"Topic3\", \"Topic3\", \"Topic3\", \"Topic3\", \"Topic3\", \"Topic3\", \"Topic3\", \"Topic3\", \"Topic3\", \"Topic3\", \"Topic3\", \"Topic3\", \"Topic4\", \"Topic4\", \"Topic4\", \"Topic4\", \"Topic4\", \"Topic4\", \"Topic4\", \"Topic4\", \"Topic4\", \"Topic4\", \"Topic4\", \"Topic4\", \"Topic4\", \"Topic4\", \"Topic4\", \"Topic4\", \"Topic4\", \"Topic4\", \"Topic4\", \"Topic4\", \"Topic4\", \"Topic4\", \"Topic4\", \"Topic4\", \"Topic4\", \"Topic4\", \"Topic4\", \"Topic4\", \"Topic4\", \"Topic4\", \"Topic4\", \"Topic4\", \"Topic4\", \"Topic4\", \"Topic4\", \"Topic4\", \"Topic4\", \"Topic4\", \"Topic4\", \"Topic4\", \"Topic4\", \"Topic4\", \"Topic4\", \"Topic4\", \"Topic4\", \"Topic4\", \"Topic4\", \"Topic4\", \"Topic4\", \"Topic4\", \"Topic4\", \"Topic4\", \"Topic4\", \"Topic4\", \"Topic4\", \"Topic4\", \"Topic4\", \"Topic4\", \"Topic4\", \"Topic4\", \"Topic4\", \"Topic4\", \"Topic4\", \"Topic4\", \"Topic4\", \"Topic4\", \"Topic4\", \"Topic4\", \"Topic4\", \"Topic4\", \"Topic5\", \"Topic5\", \"Topic5\", \"Topic5\", \"Topic5\", \"Topic5\", \"Topic5\", \"Topic5\", \"Topic5\", \"Topic5\", \"Topic5\", \"Topic5\", \"Topic5\", \"Topic5\", \"Topic5\", \"Topic5\", \"Topic5\", \"Topic5\", \"Topic5\", \"Topic5\", \"Topic5\", \"Topic5\", \"Topic5\", \"Topic5\", \"Topic5\", \"Topic5\", \"Topic5\", \"Topic5\", \"Topic5\", \"Topic5\", \"Topic5\", \"Topic5\", \"Topic5\", \"Topic5\", \"Topic5\", \"Topic5\", \"Topic5\", \"Topic5\", \"Topic5\", \"Topic5\", \"Topic5\", \"Topic5\", \"Topic5\", \"Topic5\", \"Topic5\", \"Topic5\", \"Topic5\", \"Topic5\", \"Topic5\", \"Topic5\", \"Topic5\", \"Topic5\", \"Topic5\", \"Topic5\", \"Topic5\", \"Topic5\"], \"logprob\": [30.0, 29.0, 28.0, 27.0, 26.0, 25.0, 24.0, 23.0, 22.0, 21.0, 20.0, 19.0, 18.0, 17.0, 16.0, 15.0, 14.0, 13.0, 12.0, 11.0, 10.0, 9.0, 8.0, 7.0, 6.0, 5.0, 4.0, 3.0, 2.0, 1.0, -6.0876, -6.8706, -7.1266, -7.2185, -7.2926, -7.3746, -7.4033, -7.4536, -7.4728, -7.5677, -7.6419, -7.6484, -7.7143, -7.7681, -7.7787, -7.7755, -7.8605, -7.8749, -7.8797, -7.7594, -7.8971, -7.8784, -7.9342, -7.9486, -7.8883, -7.885, -7.9669, -8.0423, -7.9152, -8.0489, -6.2317, -6.4358, -6.1926, -7.0249, -6.1053, -6.6389, -6.8121, -7.1415, -6.9798, -6.6642, -5.7742, -6.6141, -7.1842, -6.0078, -6.1762, -6.5305, -6.8795, -6.7046, -6.8212, -6.9004, -5.4757, -6.4329, -6.6033, -5.4164, -6.8193, -6.6527, -6.3664, -6.1864, -6.1316, -5.7752, -6.6174, -6.2227, -6.2179, -6.6626, -6.182, -6.265, -6.525, -6.4747, -6.4327, -6.4614, -6.5086, -6.4874, -6.5381, -6.542, -6.5678, -6.5617, -6.5138, -6.8629, -7.48, -7.4779, -7.4434, -7.5152, -7.6684, -7.8099, -7.838, -7.8198, -7.8411, -7.8665, -7.8916, -7.9009, -7.8925, -7.9258, -8.0261, -8.0589, -8.0717, -8.1023, -8.1308, -8.1592, -8.153, -8.1754, -8.2078, -8.2539, -8.21, -8.3155, -8.3238, -8.3841, -7.2994, -7.1131, -5.5598, -6.6222, -7.2891, -7.0874, -6.698, -6.6262, -7.4031, -7.3087, -5.8294, -7.4139, -6.1615, -6.1662, -6.9553, -6.5569, -7.3149, -6.8377, -6.5298, -5.6456, -6.3725, -5.07, -5.4811, -6.2712, -6.3272, -6.7029, -6.546, -6.8273, -6.7139, -6.267, -6.5261, -6.3052, -6.5602, -6.4836, -5.689, -6.4792, -6.1472, -5.9085, -6.1236, -5.7307, -6.262, -6.4013, -6.1513, -6.215, -6.0521, -6.406, -6.2664, -6.3517, -6.1519, -6.3188, -6.0439, -6.3353, -6.1784, -6.0668, -6.2937, -6.3531, -6.6463, -7.092, -7.124, -7.1992, -7.4559, -7.5138, -7.5302, -7.6091, -7.8001, -7.8236, -7.8316, -7.8379, -7.8403, -7.8965, -6.7183, -7.99, -7.9938, -7.994, -8.0046, -8.0233, -8.095, -8.1015, -8.1247, -8.2137, -8.2022, -8.2231, -8.2629, -8.2485, -8.3022, -8.2402, -6.3159, -6.9975, -7.6514, -6.2361, -7.3733, -7.3034, -7.5178, -6.5884, -7.0525, -6.1979, -7.5094, -7.307, -5.8837, -7.1566, -7.1448, -5.9219, -6.6425, -7.4698, -6.4121, -7.3706, -7.287, -7.2869, -7.2529, -6.6947, -6.2852, -6.8399, -6.2973, -6.8863, -7.0419, -6.9533, -6.4909, -6.683, -6.7624, -6.5827, -6.5612, -6.1468, -6.461, -6.6237, -6.8178, -6.5606, -6.3998, -6.578, -6.5542, -6.8041, -6.7561, -6.472, -6.6393, -6.7455, -6.6824, -6.6415, -6.7245, -5.7111, -5.9717, -6.0808, -6.2642, -6.3521, -6.547, -6.6801, -6.7511, -6.9376, -6.9522, -6.991, -7.1335, -7.1526, -7.1564, -7.169, -7.1866, -7.174, -7.1788, -7.3138, -7.3027, -7.3982, -7.4216, -7.4458, -7.4577, -7.5034, -7.5682, -7.5711, -7.6154, -7.6035, -7.6529, -6.934, -5.5996, -7.1684, -5.7484, -6.3361, -6.0489, -6.7878, -6.8473, -5.6729, -5.6972, -4.9233, -6.5745, -5.6904, -6.0177, -6.3193, -5.4285, -5.6807, -5.4372, -6.7808, -6.2913, -6.4213, -5.3228, -6.1555, -6.4841, -6.2622, -4.9748, -5.7164, -5.5647, -5.6688, -6.0988, -5.5142, -5.8435, -6.0668, -6.0197, -5.9763, -5.8811, -5.7134, -5.8002, -5.7971, -6.1149, -4.5512, -5.1877, -5.3987, -5.4669, -5.7778, -6.1434, -6.1826, -6.2345, -6.3671, -6.4083, -6.5149, -6.5413, -6.6215, -6.6925, -6.6906, -6.6915, -6.7827, -6.8184, -6.8623, -6.9472, -6.9346, -6.9706, -6.9655, -7.0231, -7.0902, -7.0144, -7.0979, -7.1266, -7.1524, -7.156, -7.132, -6.3748, -6.4088, -6.4564, -6.5902, -6.5082, -6.2158, -6.4272, -4.4946, -5.3502, -6.1847, -6.1427, -5.968, -6.1169, -5.725, -4.9785, -5.8269, -5.8722, -6.1553, -6.113, -6.3602, -6.2338, -5.977, -6.0678, -6.1542, -6.3004], \"loglift\": [30.0, 29.0, 28.0, 27.0, 26.0, 25.0, 24.0, 23.0, 22.0, 21.0, 20.0, 19.0, 18.0, 17.0, 16.0, 15.0, 14.0, 13.0, 12.0, 11.0, 10.0, 9.0, 8.0, 7.0, 6.0, 5.0, 4.0, 3.0, 2.0, 1.0, 0.7785, 0.778, 0.7778, 0.7777, 0.7776, 0.7774, 0.7774, 0.7773, 0.7773, 0.7772, 0.777, 0.777, 0.7768, 0.7767, 0.7767, 0.7767, 0.7765, 0.7765, 0.7765, 0.7764, 0.7764, 0.7764, 0.7764, 0.7764, 0.7763, 0.7763, 0.7762, 0.7761, 0.7761, 0.7761, 0.7618, 0.76, 0.757, 0.7653, 0.7458, 0.7563, 0.7588, 0.7644, 0.7604, 0.754, 0.7345, 0.7496, 0.762, 0.7227, 0.7268, 0.7341, 0.7438, 0.7318, 0.7277, 0.7324, 0.6407, 0.6888, 0.7035, 0.5453, 0.7097, 0.6877, 0.648, 0.6172, 0.6063, 0.4529, 0.6564, 0.5491, 0.5462, 0.6628, 0.5038, 0.5298, 0.6057, 0.5078, 0.4715, 0.4705, 0.5113, 0.4524, 0.5293, 0.4072, 0.3897, 0.2269, 1.4631, 1.4625, 1.4611, 1.4611, 1.461, 1.461, 1.4601, 1.4599, 1.4598, 1.4598, 1.4597, 1.4596, 1.4596, 1.4595, 1.4594, 1.4593, 1.4588, 1.4586, 1.4583, 1.4583, 1.4582, 1.4581, 1.4579, 1.4577, 1.4576, 1.4574, 1.4573, 1.457, 1.4567, 1.4566, 1.4499, 1.4409, 1.4074, 1.4288, 1.4408, 1.4365, 1.4283, 1.4198, 1.4405, 1.4363, 1.3896, 1.4385, 1.398, 1.3979, 1.4207, 1.3942, 1.4328, 1.4009, 1.3757, 1.2892, 1.3457, 1.2295, 1.238, 1.3119, 1.3162, 1.3574, 1.3344, 1.3624, 1.3444, 1.2634, 1.2992, 1.2513, 1.2773, 1.2591, 0.9778, 1.2387, 1.0851, 0.9369, 1.0364, 0.8257, 1.0867, 1.1609, 0.987, 1.0311, 0.7275, 1.1399, 0.8538, 0.9917, 0.6297, 0.8853, 0.1842, 0.8701, 0.4249, -0.105, 0.7007, 0.7783, 1.836, 1.8348, 1.8348, 1.8346, 1.8335, 1.8332, 1.8331, 1.8328, 1.8318, 1.8315, 1.8315, 1.8315, 1.8315, 1.831, 1.8303, 1.8303, 1.8303, 1.8302, 1.8301, 1.8298, 1.8296, 1.8292, 1.8287, 1.8285, 1.8284, 1.8284, 1.8278, 1.8278, 1.8277, 1.8275, 1.8236, 1.8237, 1.8218, 1.791, 1.8069, 1.804, 1.8081, 1.7777, 1.7913, 1.7468, 1.8035, 1.7851, 1.6772, 1.7724, 1.7494, 1.6088, 1.6618, 1.7801, 1.5973, 1.7359, 1.7158, 1.7133, 1.7002, 1.5087, 1.3487, 1.5058, 1.2399, 1.5159, 1.5835, 1.5345, 1.2583, 1.3642, 1.4089, 1.2983, 1.2661, 0.9733, 1.062, 1.2015, 1.3297, 0.9622, 0.6378, 0.8506, 0.7806, 1.2099, 1.0913, 0.3165, 0.704, 1.0554, 0.6224, 0.1303, -0.0086, 2.3621, 2.3617, 2.3615, 2.3611, 2.3609, 2.3604, 2.3599, 2.3597, 2.3589, 2.3589, 2.3586, 2.358, 2.3579, 2.3579, 2.3578, 2.3577, 2.3577, 2.3576, 2.357, 2.3569, 2.3561, 2.3561, 2.356, 2.3558, 2.3556, 2.355, 2.355, 2.3547, 2.3545, 2.3544, 2.3519, 2.3376, 2.3504, 2.3286, 2.3333, 2.3191, 2.3386, 2.339, 2.2793, 2.2802, 2.2247, 2.3031, 2.2292, 2.25, 2.2728, 2.1828, 2.2058, 2.1642, 2.2986, 2.2141, 2.2346, 2.0133, 2.1646, 2.2272, 2.1625, 1.761, 1.992, 1.8527, 1.8662, 2.043, 1.4802, 1.7202, 1.7873, 1.7232, 1.6187, 1.4158, 0.8899, 0.9949, 0.9619, 0.9329, 2.8708, 2.8702, 2.8698, 2.8697, 2.8691, 2.8681, 2.868, 2.8678, 2.8673, 2.8671, 2.8666, 2.8665, 2.866, 2.8658, 2.8657, 2.8657, 2.8651, 2.865, 2.8647, 2.8641, 2.8641, 2.8639, 2.8637, 2.8633, 2.863, 2.8628, 2.8628, 2.8626, 2.8624, 2.8624, 2.8624, 2.8315, 2.8321, 2.8148, 2.8232, 2.8137, 2.763, 2.7865, 2.4532, 2.5624, 2.719, 2.6947, 2.6217, 2.6427, 2.394, 1.9965, 2.1034, 2.1132, 2.3443, 2.266, 2.5482, 2.2847, 1.3114, 0.9901, 1.3808, 0.3029]}, \"token.table\": {\"Topic\": [1, 2, 4, 2, 5, 2, 5, 5, 1, 3, 4, 5, 5, 1, 2, 3, 5, 1, 1, 3, 4, 2, 1, 3, 5, 1, 2, 5, 2, 3, 1, 3, 3, 1, 2, 3, 5, 1, 2, 3, 3, 1, 2, 4, 2, 3, 2, 2, 1, 4, 1, 2, 3, 5, 5, 1, 2, 5, 1, 3, 5, 4, 1, 2, 3, 4, 1, 3, 1, 1, 2, 3, 1, 2, 3, 1, 3, 5, 1, 2, 3, 4, 5, 1, 2, 1, 2, 1, 3, 4, 1, 3, 2, 4, 3, 1, 2, 4, 1, 1, 2, 3, 2, 1, 2, 4, 5, 1, 1, 2, 1, 1, 1, 1, 5, 1, 1, 2, 3, 5, 1, 4, 1, 2, 3, 4, 2, 2, 3, 4, 1, 2, 4, 1, 1, 1, 2, 1, 2, 3, 2, 2, 5, 1, 2, 1, 2, 1, 2, 3, 4, 5, 1, 1, 2, 3, 2, 1, 2, 4, 1, 4, 1, 3, 1, 1, 2, 1, 3, 3, 1, 5, 4, 4, 1, 1, 1, 4, 4, 1, 2, 3, 5, 1, 2, 3, 1, 2, 1, 2, 4, 1, 2, 3, 4, 5, 1, 2, 3, 1, 3, 4, 5, 1, 2, 1, 1, 2, 3, 4, 4, 1, 5, 2, 2, 3, 5, 5, 2, 4, 5, 1, 2, 3, 2, 3, 5, 3, 5, 5, 1, 3, 4, 3, 5, 2, 3, 4, 5, 1, 2, 3, 4, 5, 1, 3, 4, 5, 1, 2, 4, 1, 2, 4, 1, 2, 3, 4, 1, 3, 4, 3, 1, 2, 3, 4, 5, 1, 4, 1, 4, 1, 2, 1, 2, 3, 4, 3, 5, 3, 1, 2, 3, 5, 5, 1, 4, 1, 2, 1, 2, 1, 1, 2, 1, 4, 1, 2, 1, 2, 1, 2, 3, 2, 3, 4, 1, 2, 3, 4, 1, 3, 4, 1, 2, 1, 2, 3, 4, 1, 1, 2, 1, 2, 3, 5, 1, 2, 3, 1, 2, 3, 1, 4, 1, 4, 4, 1, 1, 2, 3, 5, 5, 5, 1, 2, 3, 1, 2, 3, 5, 3, 1, 2, 3, 5, 1, 5, 1, 2, 1, 3, 5, 4, 1, 2, 4, 2, 1, 2, 3, 5, 1, 2, 1, 2, 3, 5, 1, 3, 4, 5, 5, 1, 4, 1, 2, 1, 2, 3, 4, 1, 2, 3, 5, 3, 5, 4, 2, 3, 1, 2, 3, 2, 5, 2, 3, 5, 4, 2, 1, 3, 5, 1, 2, 3, 1, 4, 4, 1, 3, 5, 3, 3, 4, 1, 3, 4, 5, 5, 1, 2, 3, 5, 1, 2, 3, 1, 3, 4, 1, 3, 3, 1, 2, 1, 3, 3, 3, 3, 1, 2, 3, 4, 5, 3, 1, 2, 4, 5, 1, 2, 3, 4, 1, 2, 3, 1, 3, 4, 4, 1, 5, 4, 1, 2, 4, 1, 5, 1, 2, 5, 2, 1, 3, 3, 1, 4, 1, 2, 3, 4, 5, 2, 3, 5, 1, 2, 3, 4, 5, 1, 2, 3, 1, 2, 3, 4, 5, 4, 1, 2, 3, 1, 2, 3, 4, 5, 1, 2, 1, 2, 3, 4, 5, 1, 2, 3, 4, 5, 1, 2, 3, 4, 1, 3, 4, 1, 2, 4, 3, 1, 2, 3, 1, 2, 2, 1, 2, 3, 1, 4, 1, 2, 3, 1, 2, 4, 1, 2, 3, 4, 5, 1, 2, 4, 1, 2, 4, 3, 1, 2, 3, 4, 1, 1, 2, 3, 4, 1, 2, 2, 4, 5, 1, 1, 2, 1, 1, 2, 1, 2, 1, 2, 3, 4, 5, 1, 2, 1, 2, 3, 2, 2, 2, 1, 3, 4, 1, 2, 3, 5, 1, 2, 4, 1, 2, 3, 4, 5, 4, 3, 1, 2, 3, 4, 1, 2, 3, 4, 1, 3, 1, 2, 4, 1, 5, 1, 5, 1, 5, 1, 2, 3, 1, 2, 4, 4, 1, 2, 5, 1, 3, 4, 1, 2, 3, 4, 5, 1, 2, 1, 1, 3, 3, 1, 3, 1, 3, 1, 2, 3, 2, 3, 5, 1, 2, 5, 5, 1, 2, 2, 4, 3, 1, 2, 3, 2, 4, 1, 2, 4, 1, 4, 1, 2, 3, 5, 1, 3, 2, 3, 1, 2, 1, 3, 1, 1, 3, 1, 2, 3, 4, 5, 1, 2, 3, 1, 2, 3, 4, 1, 2, 3, 4, 1, 2, 1, 2, 5, 1, 2, 4, 5, 2, 1, 2, 3, 2, 1, 2, 3, 4, 4, 2, 4, 2, 4, 1, 2, 4, 5, 4, 2], \"Freq\": [0.09984151144708046, 0.8985736030237241, 0.9912624026952102, 0.9909919401602881, 0.9981480459540722, 0.9776725385869088, 0.023004059731456677, 0.9924380628608315, 0.038499996312887905, 0.8726665830921259, 0.07272221525767715, 0.017111109472394626, 0.9939200216074534, 0.004617892708410936, 0.8623914632957422, 0.0611870783864449, 0.0715773369803695, 0.9961019351278888, 0.0359660268039524, 0.885663410047328, 0.08092356030889292, 0.9900987870458806, 0.006209685442413704, 0.9687109290165379, 0.01862905632724111, 0.06343489898954296, 0.7985334343389525, 0.13806419191841704, 0.9943279078171567, 0.995072642532059, 0.04218543703905808, 0.9549248929750421, 0.9879052427727923, 0.17390267657495623, 0.06501034638316121, 0.29254655872422547, 0.4680744939587607, 0.4920587045353034, 0.47843096593294093, 0.02920229700506252, 0.9929017105714213, 0.10902596483620418, 0.07041260229004853, 0.8199661105389523, 0.972730703224516, 0.024318267580612903, 0.9932665341489328, 0.987137282088927, 0.3092415932099583, 0.6899414031775962, 0.06689608834859288, 0.2809635710640901, 0.5334963045800282, 0.11874055681875235, 0.9940204878863758, 0.33017838309328096, 0.2526633863455752, 0.4171608603597905, 0.12954501252070513, 0.0304811794166365, 0.8382324339575038, 0.9947790996772949, 0.4213602376474389, 0.4340400596136813, 0.016093620187923013, 0.1287489615033841, 0.977266352846322, 0.021616951583697447, 0.9986802333274938, 0.7594961292405044, 0.21623927133568618, 0.024371229351358072, 0.05473586286991939, 0.6234756880026755, 0.3215731943607764, 0.11279848655724002, 0.08812381762284377, 0.7966393113105076, 0.30292036452966553, 0.15964721914401292, 0.4165155012282901, 0.1146185163085221, 0.006140277659385113, 0.986255653752236, 0.013510351421263507, 0.8847300281596615, 0.11487928228583522, 0.1382037189795393, 0.8515475300200843, 0.010631055306118407, 0.9549458456837685, 0.04454890906897963, 0.9928459398878327, 0.9934169784821081, 0.9958073488180251, 0.9536359049971596, 0.038483338685908995, 0.006570326117106414, 0.9980991740860364, 0.7625467067230496, 0.2015174252325182, 0.03517611860567625, 0.9960727144690754, 0.6609219154781504, 0.12086898843374734, 0.06557785542682036, 0.15237207584467086, 0.9992623525966822, 0.9565985710911468, 0.043059927918732255, 0.9981857778737587, 0.9972730351975413, 0.9993122691545365, 0.034225372566546335, 0.9640146606243886, 0.9978686249528695, 0.16091168600475422, 0.6521907273467029, 0.16874367072179977, 0.017799965266012633, 0.10561854181479338, 0.8923689043127441, 0.46290686059666486, 0.11593081870322118, 0.033472982865014565, 0.3877967527044371, 0.9960690415841272, 0.997303917002827, 0.9715995050406078, 0.026839765332613473, 0.2538826723851319, 0.040757084530054624, 0.7047579199988612, 0.9988518639861285, 0.9977453906376001, 0.2607928317366354, 0.7387356131641836, 0.09177763654500729, 0.8177490537100088, 0.08971521774624308, 0.9937710322166498, 0.999133142446643, 0.9978714157720218, 0.05518970734106973, 0.944683394806183, 0.7345520680999388, 0.2652549134805335, 0.1942884243440038, 0.4573873323098423, 0.10604909828776875, 0.03157186895590062, 0.2104791263726708, 0.9975511415026429, 0.1887637878187768, 0.7976644528943941, 0.013286771472680892, 0.9980321756493876, 0.20897661294075473, 0.7907385959400892, 0.9907617568779514, 0.13668557254920335, 0.8611191070599812, 0.983020309145349, 0.01562830380199283, 0.9981908713418487, 0.9803315478327579, 0.01932745658377836, 0.9974692192571092, 0.9891864477076642, 0.9873616927563381, 0.9978744616234388, 0.9936299966288233, 0.9934160359181264, 0.9967021577120556, 0.9970845979844913, 0.9972234878872821, 0.028988833890900807, 0.9695154445734603, 0.9945120151583646, 0.31427054190686504, 0.6487164766275041, 0.03336699580739555, 0.0038798832334180867, 0.721533348544992, 0.2136607065366801, 0.06512652552187576, 0.12145560875807561, 0.8779923524680164, 0.06612708141939722, 0.063313163061125, 0.8702042522956847, 0.27701806724989936, 0.2546086883157423, 0.15495847135321394, 0.24602637297925659, 0.06722813680247128, 0.8904767789925594, 0.07812673627010192, 0.031082680021438394, 0.2712175519308943, 0.04088417449489065, 0.02936750562309047, 0.6581776260233805, 0.11073364856025623, 0.8883575850789095, 0.9984202845979997, 0.9452978874682144, 0.03799726802568313, 0.016681727425909666, 0.9949904144411564, 0.9952543915282357, 0.9968077120914812, 0.9894191685723599, 0.9938344272307953, 0.9941072374340951, 0.9934001146480181, 0.005709196061195507, 0.9980171247729455, 0.033842932737481075, 0.9654141865113022, 0.991644118235897, 0.02089910880686779, 0.9683253747182076, 0.010449554403433895, 0.0855063341770773, 0.05700422278471821, 0.8591350719696815, 0.9909977571579374, 0.9949486248701662, 0.9995811472456443, 0.9751867375086885, 0.02396489146996777, 0.9983354303720755, 0.992615061977767, 0.9964614941630164, 0.03490571436121113, 0.9025620427684592, 0.019946122492120643, 0.039892244984241286, 0.21432068210160127, 0.08855165907191909, 0.5595438167443003, 0.08983501644977299, 0.04748422298059429, 0.040242457369433694, 0.8383845285298687, 0.024592612836876145, 0.09613475927142494, 0.010993901032866755, 0.9329110305032646, 0.05496950516433378, 0.10843124123846304, 0.07312804641663787, 0.817016794447954, 0.794859095297243, 0.018833234943251807, 0.1810887975312674, 0.005311938060917176, 0.0249575917966039, 0.9683545617082313, 0.00499151835932078, 0.9928286776049967, 0.011904957793124452, 0.5602770761389195, 0.12202581737952563, 0.22693825793143485, 0.0788703453794495, 0.27368082670636296, 0.7260144152904906, 0.18045641455673198, 0.8192499801962065, 0.03471169222386709, 0.9649850438235051, 0.06188750157416874, 0.08664250220383624, 0.7952543952280683, 0.05673020977632134, 0.9917518388301902, 0.9885484841697683, 0.9990895148160468, 0.011603498109679667, 0.9746938412130921, 0.007735665406453112, 0.003867832703226556, 0.9964523175007886, 0.12427807465333866, 0.8733053894558933, 0.11188662719616667, 0.8863518748196328, 0.9815064558944187, 0.0184493694716996, 0.9977834285225197, 0.043170462597858936, 0.9566574511685539, 0.02478073942243655, 0.9741928185445369, 0.06369644580271941, 0.9363377532999754, 0.9651844102272861, 0.033945524392518855, 0.12693548449736092, 0.25958878361172005, 0.6129497269422113, 0.9975360869800076, 0.9914386401119103, 0.9973684762735076, 0.3705347794571843, 0.051178836941600046, 0.4606095324744004, 0.1166877482268481, 0.4288033867912076, 0.5647992829256359, 0.005550852903446053, 0.7916205159624751, 0.20816289822731027, 0.8505367566335962, 0.1086852361935076, 0.014956683879840496, 0.025426362595728842, 0.9968089291328378, 0.38519082146187433, 0.6147402049064226, 0.02058324944832791, 0.9655415195761092, 0.01309843146711776, 0.9959218791343504, 0.08381983099856316, 0.543897570035121, 0.3725325822158363, 0.36701745154991955, 0.5900351381149557, 0.0426280892735034, 0.07899963107469445, 0.920587537625521, 0.005966811996350798, 0.9904907913942325, 0.9943093400089367, 0.9969778429062367, 0.11818952678111153, 0.13162015482441966, 0.738684542381947, 0.013430628043308128, 0.9992766777003697, 0.9950492069771627, 0.2527984995276979, 0.6853074970189633, 0.061909836619028054, 0.04931871663891385, 0.02157693852952481, 0.7767697870628931, 0.15103856970667368, 0.9957873045139776, 0.7792569908143374, 0.1946907129872219, 0.02174211007979128, 0.0034589720581486125, 0.9965423286710616, 0.9930882020463532, 0.09569389812741902, 0.903111163577517, 0.1933152696839666, 0.02676672964854922, 0.7792092408799884, 0.9895320310684893, 0.02416966431291801, 0.9282661700180074, 0.04758402661605734, 0.9962568759618744, 0.05670836222275146, 0.16272834376963463, 0.7248808040647361, 0.05424278125654488, 0.04083590288718958, 0.9584426618816848, 0.15976300010232794, 0.12818194194256544, 0.09288546517577205, 0.6204749073741573, 0.013848988018923975, 0.20219522507629004, 0.22712340351035318, 0.5567293183607438, 0.994487582755763, 0.9676003481344392, 0.03241016833297419, 0.9492678184611923, 0.05065698335175737, 0.42047373809527594, 0.5279281378307353, 0.027252927469138256, 0.02452763472222443, 0.022667711068605885, 0.022667711068605885, 0.2206323877344306, 0.7344338386228306, 0.998095544860091, 0.9926598657469503, 0.9917671508024946, 0.9974621755732019, 0.9918941770812137, 0.8771058686768418, 0.11202334603451593, 0.010463719135092147, 0.03857057462055657, 0.9587542834252633, 0.9963118664516643, 0.9969432043589032, 0.997609106314696, 0.9966788332701417, 0.9881823288895447, 0.9977037663937987, 0.040668307146864764, 0.9557052179513219, 0.4269066311525634, 0.5520729732705925, 0.02086105701967151, 0.02160572028480187, 0.9776588428872847, 0.9959115045512166, 0.20235528563387858, 0.2505351155467068, 0.5468410695106005, 0.9944364395077492, 0.9858985551446602, 0.014392679637148324, 0.06725584883069473, 0.8832934813097908, 0.026902339532277893, 0.022418616276898246, 0.9930180350418842, 0.25182777872881934, 0.14201915428311324, 0.582717767058547, 0.023425839881750635, 0.12879708650184704, 0.8475679240766709, 0.02215863853795218, 0.044058499749738106, 0.9540359753500982, 0.001694557682682235, 0.030651133649116355, 0.9685758233120768, 0.9972184601460887, 0.9275930540402946, 0.07255839000492971, 0.4694230361783224, 0.5289663711507939, 0.9876558839374496, 0.9889637200733787, 0.9863595626927097, 0.04499532801203714, 0.0490858123767678, 0.10226210911826623, 0.08180968729461299, 0.724015732557325, 0.9938884166938552, 0.015866227598271925, 0.039665568995679815, 0.9400739851976115, 0.9976107907367073, 0.3585940576490723, 0.03079948961403075, 0.13529775794734936, 0.4751921254736173, 0.7926157688463975, 0.16293189927918691, 0.0445666665675423, 0.051800731308503205, 0.9439244371771696, 0.9964137067485311, 0.9989547450225634, 0.07771442748931996, 0.9159200382669853, 0.9959508323126021, 0.3976352566320298, 0.07675533103889047, 0.5255608083635139, 0.9980856733616523, 0.9884668467405441, 0.04905768386528075, 0.9352954076054613, 0.014930599437259358, 0.9941884245990257, 0.05708266769255907, 0.9418640169272247, 0.9913926983409594, 0.45236271895754016, 0.5474008185119564, 0.4645450605717915, 0.15590895868505333, 0.08463629185760038, 0.23927252434930632, 0.05536358941061077, 0.9949363688657041, 0.05291417464038334, 0.9465757907890797, 0.5055431249799075, 0.22833926150853998, 0.15755409044089258, 0.055258101285066676, 0.052974708669981274, 0.09322406171562025, 0.11985950792008318, 0.7857456630316564, 0.18986966566934227, 0.013701934635931917, 0.6518206048236184, 0.13897676559302372, 0.005872257701113679, 0.9932205584845758, 0.1556289289962499, 0.12329045024378238, 0.7195311522424022, 0.03257944161583501, 0.4657653505078634, 0.05007580840952418, 0.4132762501267959, 0.037406025558921675, 0.19156303922650744, 0.8085865302157551, 0.31217100998029207, 0.03378474133985845, 0.4567697029148862, 0.1648695377385092, 0.03243335168626411, 0.28950325062366844, 0.14283860823722846, 0.04081103092492242, 0.52671736787478, 0.9888938561716516, 0.9867589989960253, 0.013370718143577579, 0.9859894177642963, 0.013272934469903989, 0.08426574233582233, 0.912878875304742, 0.001560476709922636, 0.2532669049950223, 0.14643431961530382, 0.6004728074791075, 0.9926049115140089, 0.9329458573749997, 0.017505606595336638, 0.049427595092715215, 0.1848888931001067, 0.8147862254549529, 0.9953181114820314, 0.13037521296946833, 0.8299153341712392, 0.039252752291882936, 0.020347873010038278, 0.9766979044818374, 0.4725983454937345, 0.5037358645965427, 0.02352612554434403, 0.44385652633221495, 0.30150610363324176, 0.25455023503462215, 0.19526310414304265, 0.11829808499177036, 0.07268918475397938, 0.5615595841778015, 0.05131001276751486, 0.6774213976293628, 0.24945388805407437, 0.07268469931645524, 0.10652871111474689, 0.01826206476252804, 0.8750572698711351, 0.9893391081484955, 0.03557626787755429, 0.5432222441303481, 0.4214419425494893, 0.9986119175426588, 0.9989302797125604, 0.6896910797097768, 0.17991941209820264, 0.01672327868861499, 0.11360296212610872, 0.91411457530076, 0.08565541372758247, 0.165747909943284, 0.6080876446044232, 0.22479560286057892, 0.9970089265087985, 0.02053150440684456, 0.9752464593251167, 0.9997721992977229, 0.025064387020361203, 0.9719412300117845, 0.8407333643714675, 0.15832889838903458, 0.08418712146254981, 0.6842116962501775, 0.05586963515241942, 0.13623006927576242, 0.039797548327750815, 0.1412940502418246, 0.8586330745464725, 0.3372292244331298, 0.6208083449791707, 0.04250203035210933, 0.9979539257094446, 0.9973357381222339, 0.9981453633369056, 0.04915765386101655, 0.9487427195176193, 0.9971247157201573, 0.870862670879227, 0.12437313122836066, 0.0025075228070234002, 0.0020060182456187203, 0.72173192913505, 0.278149989783205, 0.9966206724157584, 0.5755565547697515, 0.16697033158849447, 0.218534698696706, 0.028974263422709333, 0.009330695000533514, 0.993100684726796, 0.9915926741368352, 0.735345761625306, 0.14276952943100019, 0.11079797457772601, 0.011024674087335921, 0.9565620012559727, 0.03241243144751643, 0.011067659518664147, 0.9971051868035097, 0.9506224751180149, 0.04936934401165381, 0.07389104347807696, 0.0062885994449427204, 0.9197076688228728, 0.5352700303768242, 0.46451594590172673, 0.10094311411052312, 0.8953215338498571, 0.05567212275777699, 0.9464260868822089, 0.6813633225436935, 0.022218369213381307, 0.29624492284508414, 0.03577947533329583, 0.05068759005550243, 0.9123766209990437, 0.9983878500343605, 0.8416274181332323, 0.15824275914984234, 0.9988065172176607, 0.4495792696080335, 0.550293332314683, 0.9985750214919105, 0.1374953776873485, 0.0978780654723498, 0.7177724801305652, 0.04660860260588085, 0.9984100820455203, 0.9124887205715246, 0.08698490607317337, 0.9966682807603393, 0.3975704647764029, 0.6020898865604178, 0.9886481838171325, 0.011247447399798206, 0.986026222048976, 0.06263171149939413, 0.935300225057619, 0.24777338584822337, 0.27750619215001016, 0.47430905290945613, 0.9873088480783928, 0.013954895379199897, 0.9897835691328033, 0.9976498819365066, 0.9982308266141383, 0.9914864408323872, 0.9974995188141678, 0.1602933044887483, 0.8395503926591533, 0.11757451724630323, 0.8802200345196215, 0.9852165954525995, 0.13398169812562571, 0.5181190984478311, 0.34767402678168696, 0.05823879069064205, 0.9366738836078262, 0.00837464662062253, 0.9379604215097233, 0.052341541378890806, 0.1442879167637552, 0.8539488951324287, 0.0027181887635444597, 0.12231849435950068, 0.28540982017216826, 0.5898469616891477, 0.08066159589694125, 0.9155091134302831, 0.9935739750882484, 0.9914924800801727, 0.08402752287642405, 0.9152998027610476, 0.9784092760603186, 0.021345013687636666, 0.999310075502184, 0.9831787092705024, 0.01687860445099575, 0.2538053667394034, 0.3537769340242166, 0.0869140564557764, 0.22932253393495933, 0.07671287612059138, 0.07952419703914591, 0.2973513454507195, 0.6223632811759245, 0.1707008167337624, 0.7225985493637794, 0.09425198469962341, 0.01151968701884286, 0.49071653667417753, 0.1562229795830501, 0.30110719451894336, 0.051654372281492375, 0.9714845124970964, 0.028804123012043287, 0.014348956640428045, 0.975729051549107, 0.008609373984256827, 0.9819399782627366, 0.017807201678339782, 0.9990320964448568, 0.9974200807997059, 0.9951971916920883, 0.778862761835587, 0.1986100042680747, 0.0220677782520083, 0.9963856059812891, 0.7649608397242553, 0.07612474375896715, 0.14110928111418303, 0.017329209961390896, 0.9972178962548501, 0.04289104894579674, 0.9555172570702497, 0.007531102352457377, 0.9865744081719164, 0.06149751201600023, 0.06485192176232751, 0.835248026835494, 0.03913478037381833, 0.9911094234857059, 0.9977903086412898], \"Term\": [\"ai\", \"ai\", \"dmz\", \"eu\", \"fc\", \"kb\", \"kb\", \"kbo\", \"kbs\", \"kbs\", \"kbs\", \"kbs\", \"kia\", \"lg\", \"lg\", \"lg\", \"lg\", \"lh\", \"mbc\", \"mbc\", \"mbc\", \"oled\", \"sbs\", \"sbs\", \"sbs\", \"sk\", \"sk\", \"sk\", \"suv\", \"tvn\", \"\\uac00\\uc218\", \"\\uac00\\uc218\", \"\\uac04\\uc5fc\", \"\\uac10\\ub3c5\", \"\\uac10\\ub3c5\", \"\\uac10\\ub3c5\", \"\\uac10\\ub3c5\", \"\\uac1c\\ubc1c\", \"\\uac1c\\ubc1c\", \"\\uac1c\\ubc1c\", \"\\uac1c\\ubd09\", \"\\uac1c\\ud601\", \"\\uac1c\\ud601\", \"\\uac1c\\ud601\", \"\\uac24\\ub7ed\\uc2dc\", \"\\uac24\\ub7ed\\uc2dc\", \"\\uac70\\ub798\\uc18c\", \"\\uac70\\ub798\\uc77c\", \"\\uac80\\ucc30\", \"\\uac80\\ucc30\", \"\\uac8c\\uc784\", \"\\uac8c\\uc784\", \"\\uac8c\\uc784\", \"\\uac8c\\uc784\", \"\\uacb0\\uc2b9\", \"\\uacbd\\uae30\", \"\\uacbd\\uae30\", \"\\uacbd\\uae30\", \"\\uacbd\\uae30\\uc7a5\", \"\\uacbd\\uae30\\uc7a5\", \"\\uacbd\\uae30\\uc7a5\", \"\\uacbd\\uc120\", \"\\uacbd\\uc81c\", \"\\uacbd\\uc81c\", \"\\uacbd\\uc81c\", \"\\uacbd\\uc81c\", \"\\uacbd\\ucc30\", \"\\uacbd\\ucc30\", \"\\uacbd\\ucc30\\uccad\", \"\\uacc4\\ud68d\", \"\\uacc4\\ud68d\", \"\\uacc4\\ud68d\", \"\\uace0\\uac1d\", \"\\uace0\\uac1d\", \"\\uace0\\uac1d\", \"\\uace8\\ud504\", \"\\uace8\\ud504\", \"\\uace8\\ud504\", \"\\uacf5\\uac1c\", \"\\uacf5\\uac1c\", \"\\uacf5\\uac1c\", \"\\uacf5\\uac1c\", \"\\uacf5\\uac1c\", \"\\uacf5\\ubb34\\uc6d0\", \"\\uacf5\\ubb34\\uc6d0\", \"\\uacf5\\uc0ac\", \"\\uacf5\\uc0ac\", \"\\uacf5\\uc5f0\", \"\\uacf5\\uc5f0\", \"\\uacf5\\uc5f0\", \"\\uacf5\\uc6d0\", \"\\uacf5\\uc6d0\", \"\\uacf5\\uc815\\uc704\", \"\\uacf5\\ucc9c\", \"\\uad00\\uac1d\", \"\\uad00\\uad11\", \"\\uad00\\uad11\", \"\\uad00\\uad11\", \"\\uad00\\ub0b4\", \"\\uad00\\ub9ac\", \"\\uad00\\ub9ac\", \"\\uad00\\ub9ac\", \"\\uad00\\uc138\", \"\\uad11\\uc8fc\", \"\\uad11\\uc8fc\", \"\\uad11\\uc8fc\", \"\\uad11\\uc8fc\", \"\\uad50\\uc0ac\", \"\\uad50\\uc721\", \"\\uad50\\uc721\", \"\\uad50\\uc721\\uac10\", \"\\uad50\\uc721\\ubd80\", \"\\uad50\\uc721\\uccad\", \"\\uad6c\\ub2e8\", \"\\uad6c\\ub2e8\", \"\\uad6c\\uccad\\uc7a5\", \"\\uad6d\\ub0b4\", \"\\uad6d\\ub0b4\", \"\\uad6d\\ub0b4\", \"\\uad6d\\ub0b4\", \"\\uad6d\\ub2f9\", \"\\uad6d\\ub2f9\", \"\\uad6d\\ubbfc\", \"\\uad6d\\ubbfc\", \"\\uad6d\\ubbfc\", \"\\uad6d\\ubbfc\", \"\\uad6d\\ubbfc\\uc740\\ud589\", \"\\uad6d\\uc0b0\\ud654\", \"\\uad6d\\uc545\", \"\\uad6d\\uc545\", \"\\uad6d\\ud68c\", \"\\uad6d\\ud68c\", \"\\uad6d\\ud68c\", \"\\uad70\\ubbfc\", \"\\uad70\\uc218\", \"\\uaddc\\uc81c\", \"\\uaddc\\uc81c\", \"\\uae00\\ub85c\\ubc8c\", \"\\uae00\\ub85c\\ubc8c\", \"\\uae00\\ub85c\\ubc8c\", \"\\uae08\\uac10\\uc6d0\", \"\\uae08\\ub9ac\", \"\\uae08\\uba54\\ub2ec\", \"\\uae08\\uc735\", \"\\uae08\\uc735\", \"\\uae30\\uad00\", \"\\uae30\\uad00\", \"\\uae30\\ub85d\", \"\\uae30\\ub85d\", \"\\uae30\\ub85d\", \"\\uae30\\ub85d\", \"\\uae30\\ub85d\", \"\\uae30\\uc18c\", \"\\uae30\\uc220\", \"\\uae30\\uc220\", \"\\uae30\\uc220\", \"\\uae30\\uc544\\ucc28\", \"\\uae30\\uc5c5\", \"\\uae30\\uc5c5\", \"\\ub098\\uacbd\\uc6d0\", \"\\ub0a8\\ubd81\", \"\\ub0a8\\ubd81\", \"\\ub178\\uc778\", \"\\ub178\\uc778\", \"\\ub18d\\uac00\", \"\\ub18d\\uc5c5\", \"\\ub18d\\uc5c5\", \"\\ub18d\\ucd0c\", \"\\ub2e4\\uc774\\uc5b4\\ud2b8\", \"\\ub2e8\\ubc31\\uc9c8\", \"\\ub2e8\\uc18d\", \"\\ub2e8\\uccb4\\uc804\", \"\\ub2f9\\ub0b4\", \"\\ub2f9\\uc6d0\", \"\\ub2f9\\uc9c4\", \"\\ub2f9\\uc9c4\\uc2dc\", \"\\ub300\\ubcc0\\uc778\", \"\\ub300\\ubcc0\\uc778\", \"\\ub300\\ubd81\", \"\\ub300\\ube44\", \"\\ub300\\ube44\", \"\\ub300\\ube44\", \"\\ub300\\ube44\", \"\\ub300\\uc0c1\", \"\\ub300\\uc0c1\", \"\\ub300\\uc0c1\", \"\\ub300\\ucd9c\", \"\\ub300\\ucd9c\", \"\\ub300\\ud1b5\\ub839\", \"\\ub300\\ud1b5\\ub839\", \"\\ub300\\ud1b5\\ub839\", \"\\ub300\\ud45c\", \"\\ub300\\ud45c\", \"\\ub300\\ud45c\", \"\\ub300\\ud45c\", \"\\ub300\\ud45c\", \"\\ub300\\ud559\", \"\\ub300\\ud559\", \"\\ub300\\ud559\", \"\\ub300\\ud68c\", \"\\ub300\\ud68c\", \"\\ub300\\ud68c\", \"\\ub300\\ud68c\", \"\\ub370\\uc774\\ud130\", \"\\ub370\\uc774\\ud130\", \"\\ub3c4\\ubbfc\", \"\\ub3c4\\uc2dc\", \"\\ub3c4\\uc2dc\", \"\\ub3c4\\uc2dc\", \"\\ub3c5\\ub9bd\\uc6b4\\ub3d9\", \"\\ub3c5\\ub9bd\\uc6b4\\ub3d9\\uac00\", \"\\ub3d9\\uad6c\", \"\\ub3d9\\uba54\\ub2ec\", \"\\ub3d9\\uc6d4\", \"\\ub454\\ud654\", \"\\ub4dc\\ub77c\\ub9c8\", \"\\ub4dc\\ub77c\\ub9c8\", \"\\ub4dd\\uc810\", \"\\ub4f1\\ub77d\", \"\\ub4f1\\ub77d\", \"\\ub4f1\\ud310\", \"\\ub514\\uc2a4\\ud50c\\ub808\\uc774\", \"\\ub514\\uc2a4\\ud50c\\ub808\\uc774\", \"\\ub514\\uc2a4\\ud50c\\ub808\\uc774\", \"\\ub77c\\uc6b4\\ub4dc\", \"\\ub77c\\uc6b4\\ub4dc\", \"\\ub77c\\uc6b4\\ub4dc\", \"\\ub85c\\ub9e8\\uc2a4\", \"\\ub958\\ud604\\uc9c4\", \"\\ub9ac\\uadf8\", \"\\ub9c8\\uc744\", \"\\ub9c8\\uc744\", \"\\ub9cc\\uc138\", \"\\ub9e4\\ud2b8\\ub9ac\\uc2a4\", \"\\uba54\\ub2ec\", \"\\uba64\\ubc84\", \"\\uba64\\ubc84\", \"\\uba64\\ubc84\", \"\\uba64\\ubc84\", \"\\ubaa8\\uc2b5\", \"\\ubaa8\\uc2b5\", \"\\ubaa8\\uc2b5\", \"\\ubaa8\\uc2b5\", \"\\ubaa8\\uc2b5\", \"\\ubb34\\ub300\", \"\\ubb34\\ub300\", \"\\ubb34\\ub300\", \"\\ubb34\\ub300\", \"\\ubb34\\uc5ed\", \"\\ubb34\\uc5ed\", \"\\ubb34\\uc5ed\", \"\\ubb38\\uc7ac\\uc778\", \"\\ubb38\\uc7ac\\uc778\", \"\\ubb38\\uc7ac\\uc778\", \"\\ubb38\\ud654\", \"\\ubb38\\ud654\", \"\\ubb38\\ud654\", \"\\ubb38\\ud654\", \"\\ubba4\\uc9c0\\uceec\", \"\\ubba4\\uc9c0\\uceec\", \"\\ubba4\\uc9c0\\uceec\", \"\\ubba4\\uc9c1\", \"\\ubbf8\\uad6d\", \"\\ubbf8\\uad6d\", \"\\ubbf8\\uad6d\", \"\\ubbf8\\uad6d\", \"\\ubbf8\\uad6d\", \"\\ubbfc\\uc8fc\", \"\\ubbfc\\uc8fc\", \"\\ubbfc\\uc8fc\\ub2f9\", \"\\ubbfc\\uc8fc\\ub2f9\", \"\\ubc18\\ub3c4\\uccb4\", \"\\ubc18\\ub3c4\\uccb4\", \"\\ubc29\\uc1a1\", \"\\ubc29\\uc1a1\", \"\\ubc29\\uc1a1\", \"\\ubc29\\uc1a1\", \"\\ubc29\\ud0c4\\uc18c\\ub144\\ub2e8\", \"\\ubc30\\uad6c\", \"\\ubc30\\uc6b0\", \"\\ubc30\\ud130\\ub9ac\", \"\\ubc30\\ud130\\ub9ac\", \"\\ubc30\\ud130\\ub9ac\", \"\\ubc30\\ud130\\ub9ac\", \"\\ubc84\\ub514\", \"\\ubc95\\ubb34\\ubd80\", \"\\ubc95\\ubb34\\ubd80\", \"\\ubca4\\ucc98\", \"\\ubca4\\ucc98\", \"\\ubcf5\\uc9c0\", \"\\ubcf5\\uc9c0\", \"\\ubd09\\uc0ac\", \"\\ubd80\\ud488\", \"\\ubd80\\ud488\", \"\\ubd81\\ud55c\", \"\\ubd81\\ud55c\", \"\\ubd84\\uae30\", \"\\ubd84\\uae30\", \"\\ubd84\\uc591\", \"\\ubd84\\uc591\", \"\\ube0c\\ub79c\\ub4dc\", \"\\ube0c\\ub79c\\ub4dc\", \"\\ube0c\\ub79c\\ub4dc\", \"\\ube14\\ub85d\\uccb4\\uc778\", \"\\ube44\\ud0c0\\ubbfc\", \"\\ube44\\ud575\\ud654\", \"\\uc0ac\\ub78c\", \"\\uc0ac\\ub78c\", \"\\uc0ac\\ub78c\", \"\\uc0ac\\ub78c\", \"\\uc0ac\\ub791\", \"\\uc0ac\\ub791\", \"\\uc0ac\\ub791\", \"\\uc0ac\\uc5c5\", \"\\uc0ac\\uc5c5\", \"\\uc0ac\\ud68c\", \"\\uc0ac\\ud68c\", \"\\uc0ac\\ud68c\", \"\\uc0ac\\ud68c\", \"\\uc0b0\\ub9bc\", \"\\uc0b0\\uc5c5\", \"\\uc0b0\\uc5c5\", \"\\uc0bc\\uc131\\uc804\\uc790\", \"\\uc0bc\\uc131\\uc804\\uc790\", \"\\uc0bc\\uc131\\uc804\\uc790\", \"\\uc0bc\\uc9c4\", \"\\uc0c1\\ud488\", \"\\uc0c1\\ud488\", \"\\uc0c1\\ud488\", \"\\uc11c\\ube44\\uc2a4\", \"\\uc11c\\ube44\\uc2a4\", \"\\uc11c\\ube44\\uc2a4\", \"\\uc120\\uac70\", \"\\uc120\\uac70\", \"\\uc120\\uac70\\ubc95\", \"\\uc120\\uac70\\ubc95\", \"\\uc120\\uac70\\uc81c\", \"\\uc120\\uace0\", \"\\uc120\\ubb3c\", \"\\uc120\\ubb3c\", \"\\uc120\\ubb3c\", \"\\uc120\\ubb3c\", \"\\uc120\\uc218\", \"\\uc120\\uc218\\ub2e8\", \"\\uc131\\uc7a5\", \"\\uc131\\uc7a5\", \"\\uc131\\uc7a5\", \"\\uc138\\ud2b8\", \"\\uc138\\ud2b8\", \"\\uc138\\ud2b8\", \"\\uc138\\ud2b8\", \"\\uc138\\ud3ec\", \"\\uc13c\\ud130\", \"\\uc13c\\ud130\", \"\\uc13c\\ud130\", \"\\uc13c\\ud130\", \"\\uc18c\\ubc29\", \"\\uc190\\ud765\\ubbfc\", \"\\uc218\\uc18c\", \"\\uc218\\uc18c\", \"\\uc218\\uc601\", \"\\uc218\\uc601\", \"\\uc218\\uc601\", \"\\uc218\\ucc98\", \"\\uc218\\ucd9c\", \"\\uc218\\ucd9c\", \"\\uc218\\ucd9c\", \"\\uc21c\\uc774\\uc775\", \"\\uc2a4\\ud0c0\", \"\\uc2a4\\ud0c0\", \"\\uc2a4\\ud0c0\", \"\\uc2a4\\ud0c0\", \"\\uc2a4\\ud0c0\\ud2b8\\uc5c5\", \"\\uc2a4\\ud0c0\\ud2b8\\uc5c5\", \"\\uc2a4\\ud3ec\\uce20\", \"\\uc2a4\\ud3ec\\uce20\", \"\\uc2a4\\ud3ec\\uce20\", \"\\uc2a4\\ud3ec\\uce20\", \"\\uc2b9\\ub9ac\", \"\\uc2b9\\ub9ac\", \"\\uc2b9\\ub9ac\", \"\\uc2b9\\ub9ac\", \"\\uc2b9\\uc810\", \"\\uc2dc\\ubbfc\", \"\\uc2dc\\ubbfc\", \"\\uc2dc\\uc124\", \"\\uc2dc\\uc124\", \"\\uc2dc\\uc7a5\", \"\\uc2dc\\uc7a5\", \"\\uc2dc\\uc7a5\", \"\\uc2dc\\uc7a5\", \"\\uc2dc\\uc98c\", \"\\uc2dc\\uc98c\", \"\\uc2dc\\uc98c\", \"\\uc2dc\\uc98c\", \"\\uc2dc\\uccad\\uc790\", \"\\uc2e4\\uc810\", \"\\uc544\\ubca0\", \"\\uc544\\uc2dc\\uc544\\ub098\\ud56d\\uacf5\", \"\\uc544\\ud2f0\\uc2a4\\ud2b8\", \"\\uc548\\uc804\", \"\\uc548\\uc804\", \"\\uc548\\uc804\", \"\\uc548\\ud0c0\", \"\\uc548\\ud0c0\", \"\\uc554\\ud638\", \"\\uc568\\ubc94\", \"\\uc57c\\uad6c\", \"\\uc57c\\ub2f9\", \"\\uc591\\uc0ac\", \"\\uc5b4\\ub9b0\\uc774\\uc9d1\", \"\\uc5b8\\ub354\", \"\\uc5b8\\ub354\", \"\\uc5c5\\uccb4\", \"\\uc5c5\\uccb4\", \"\\uc5c5\\uccb4\", \"\\uc5ec\\ub2f9\", \"\\uc5ec\\ub2f9\", \"\\uc5ec\\uc57c\", \"\\uc5ec\\uc790\", \"\\uc5ec\\uc790\", \"\\uc5ec\\uc790\", \"\\uc5f0\\uc560\", \"\\uc5f0\\uc8fc\", \"\\uc5f0\\uc8fc\", \"\\uc5f0\\ucd9c\", \"\\uc5f0\\ucd9c\", \"\\uc5f0\\ucd9c\", \"\\uc5f0\\ucd9c\", \"\\uc5f0\\ud328\", \"\\uc601\\uc0c1\", \"\\uc601\\uc0c1\", \"\\uc601\\uc0c1\", \"\\uc601\\uc0c1\", \"\\uc601\\uc5c5\", \"\\uc601\\uc5c5\", \"\\uc601\\uc5c5\", \"\\uc601\\ud654\", \"\\uc601\\ud654\", \"\\uc601\\ud654\", \"\\uc601\\ud654\\uc81c\", \"\\uc601\\ud654\\uc81c\", \"\\uc608\\ub2a5\", \"\\uc608\\uc0b0\", \"\\uc608\\uc0b0\", \"\\uc608\\uc220\", \"\\uc608\\uc220\", \"\\uc624\\ucf00\\uc2a4\\ud2b8\\ub77c\", \"\\uc624\\ud398\\ub77c\", \"\\uc62c\\ub9ac\\ube0c\", \"\\uc62c\\ub9bc\\ud53d\", \"\\uc62c\\ub9bc\\ud53d\", \"\\uc62c\\ub9bc\\ud53d\", \"\\uc62c\\ub9bc\\ud53d\", \"\\uc62c\\ub9bc\\ud53d\", \"\\uc640\\uc778\", \"\\uc678\\uad50\", \"\\uc678\\uad50\", \"\\uc678\\uad50\", \"\\uc6b0\\uc2b9\", \"\\uc6b4\\ub3d9\", \"\\uc6b4\\ub3d9\", \"\\uc6b4\\ub3d9\", \"\\uc6b4\\ub3d9\", \"\\uc6b4\\uc601\", \"\\uc6b4\\uc601\", \"\\uc6b4\\uc601\", \"\\uc6c3\\uc74c\", \"\\uc6c3\\uc74c\", \"\\uc6d0\\ub0b4\", \"\\uc6d0\\ub0b4\\ub300\\ud45c\", \"\\uc6d4\\ub4dc\\ucef5\", \"\\uc6d4\\ub4dc\\ucef5\", \"\\uc704\\uc548\\ubd80\", \"\\uc704\\uc6d0\\uc7a5\", \"\\uc704\\uc6d0\\uc7a5\", \"\\uc704\\uc6d0\\uc7a5\", \"\\uc720\\uce58\\uc6d0\", \"\\uc740\\uba54\\ub2ec\", \"\\uc740\\ud589\", \"\\uc740\\ud589\", \"\\uc740\\ud589\", \"\\uc740\\ud589\\uc7a5\", \"\\uc74c\\uc545\", \"\\uc74c\\uc545\", \"\\uc74c\\uc6d0\", \"\\uc758\\uc6d0\", \"\\uc758\\uc6d0\", \"\\uc774\\ub0a0\", \"\\uc774\\ub0a0\", \"\\uc774\\ub0a0\", \"\\uc774\\ub0a0\", \"\\uc774\\ub0a0\", \"\\uc774\\ub178\\ubca0\\uc774\\uc158\", \"\\uc774\\ub2dd\", \"\\uc774\\ub2dd\", \"\\uc774\\ubc88\", \"\\uc774\\ubc88\", \"\\uc774\\ubc88\", \"\\uc774\\ubc88\", \"\\uc774\\ubc88\", \"\\uc774\\ubca4\\ud2b8\", \"\\uc774\\ubca4\\ud2b8\", \"\\uc774\\ubca4\\ud2b8\", \"\\uc774\\uc57c\\uae30\", \"\\uc774\\uc57c\\uae30\", \"\\uc774\\uc57c\\uae30\", \"\\uc774\\uc57c\\uae30\", \"\\uc774\\uc57c\\uae30\", \"\\uc774\\ud574\\ucc2c\", \"\\uc778\\uae30\", \"\\uc778\\uae30\", \"\\uc778\\uae30\", \"\\uc77c\\ubcf8\", \"\\uc77c\\ubcf8\", \"\\uc77c\\ubcf8\", \"\\uc77c\\ubcf8\", \"\\uc77c\\ubcf8\", \"\\uc790\\ub3d9\\ucc28\", \"\\uc790\\ub3d9\\ucc28\", \"\\uc790\\uc2e0\", \"\\uc790\\uc2e0\", \"\\uc790\\uc2e0\", \"\\uc790\\uc2e0\", \"\\uc790\\uc2e0\", \"\\uc790\\uc720\", \"\\uc790\\uc720\", \"\\uc790\\uc720\", \"\\uc790\\uc720\", \"\\uc790\\ucc45\\uc810\", \"\\uc790\\uce58\", \"\\uc790\\uce58\", \"\\uc791\\uac00\", \"\\uc791\\uac00\", \"\\uc791\\ud488\", \"\\uc791\\ud488\", \"\\uc791\\ud488\", \"\\uc7a5\\uad00\", \"\\uc7a5\\uad00\", \"\\uc7a5\\uad00\", \"\\uc7a5\\ub974\", \"\\uc7a5\\uc560\", \"\\uc7a5\\uc560\", \"\\uc7a5\\uc560\", \"\\uc804\\ub144\", \"\\uc804\\ub144\", \"\\uc804\\uc6d4\", \"\\uc804\\uc790\", \"\\uc804\\uc790\", \"\\uc804\\uc790\", \"\\uc815\\uad8c\", \"\\uc815\\uad8c\", \"\\uc815\\ubcf4\", \"\\uc815\\ubcf4\", \"\\uc815\\ubcf4\", \"\\uc815\\ubd80\", \"\\uc815\\ubd80\", \"\\uc815\\ubd80\", \"\\uc815\\uc0c1\", \"\\uc815\\uc0c1\", \"\\uc815\\uc0c1\", \"\\uc815\\uc0c1\", \"\\uc815\\uc0c1\", \"\\uc815\\ucc45\", \"\\uc815\\ucc45\", \"\\uc815\\ucc45\", \"\\uc815\\uce58\", \"\\uc815\\uce58\", \"\\uc815\\uce58\", \"\\uc81c\\uc791\\uc9c4\", \"\\uc81c\\ud488\", \"\\uc81c\\ud488\", \"\\uc81c\\ud488\", \"\\uc870\\uad6d\", \"\\uc870\\ub840\", \"\\uc870\\uc0ac\", \"\\uc870\\uc0ac\", \"\\uc870\\uc0ac\", \"\\uc870\\uc0ac\", \"\\uc870\\uc131\", \"\\uc870\\uc131\", \"\\uc885\\ubaa9\", \"\\uc885\\ubaa9\", \"\\uc885\\ubaa9\", \"\\uc885\\uc2dc\", \"\\uc8fc\\uac00\", \"\\uc8fc\\uac00\", \"\\uc8fc\\ubbfc\", \"\\uc8fc\\uc2dd\", \"\\uc8fc\\uc2dd\", \"\\uc8fc\\ud0dd\", \"\\uc8fc\\ud0dd\", \"\\uc911\\uad6d\", \"\\uc911\\uad6d\", \"\\uc911\\uad6d\", \"\\uc911\\uad6d\", \"\\uc911\\uad6d\", \"\\uc911\\uc18c\\uae30\\uc5c5\", \"\\uc911\\uc18c\\uae30\\uc5c5\", \"\\uc99d\\uac00\", \"\\uc99d\\uac00\", \"\\uc99d\\uac00\", \"\\uc99d\\uad8c\", \"\\uc99d\\uad8c\\uc0ac\", \"\\uc99d\\uc2dc\", \"\\uc99d\\uc815\", \"\\uc99d\\uc815\", \"\\uc9c0\\ub3c4\\ubd80\", \"\\uc9c0\\uc5ed\", \"\\uc9c0\\uc5ed\", \"\\uc9c0\\uc5ed\", \"\\uc9c0\\uc5ed\", \"\\uc9c0\\uc6d0\", \"\\uc9c0\\uc6d0\", \"\\uc9c0\\uc9c0\\uc728\", \"\\uc9c4\\ud589\", \"\\uc9c4\\ud589\", \"\\uc9c4\\ud589\", \"\\uc9c4\\ud589\", \"\\uc9c4\\ud589\", \"\\uc9d5\\uc6a9\", \"\\ucc28\\ud2b8\", \"\\ucc38\\uc5ec\", \"\\ucc38\\uc5ec\", \"\\ucc38\\uc5ec\", \"\\ucc38\\uc5ec\", \"\\uccad\\ub144\", \"\\uccad\\ub144\", \"\\uccad\\ub144\", \"\\uccad\\ubb38\\ud68c\", \"\\uccad\\uc18c\\ub144\", \"\\uccad\\uc18c\\ub144\", \"\\uccad\\uc640\\ub300\", \"\\uccad\\uc640\\ub300\", \"\\uccad\\uc640\\ub300\", \"\\uccb4\\uc721\", \"\\uccb4\\uc721\", \"\\uccb4\\uc721\\ud68c\", \"\\uccb4\\uc721\\ud68c\", \"\\uccb4\\uc804\", \"\\uccb4\\uc804\", \"\\uccb4\\ud5d8\", \"\\uccb4\\ud5d8\", \"\\uccb4\\ud5d8\", \"\\ucd1d\\ub9ac\", \"\\ucd1d\\ub9ac\", \"\\ucd1d\\ub9ac\", \"\\ucd1d\\uc120\", \"\\ucd94\\uc9c4\", \"\\ucd94\\uc9c4\", \"\\ucd95\\uad6c\", \"\\ucd95\\uc81c\", \"\\ucd95\\uc81c\", \"\\ucd9c\\ub9c8\", \"\\ucd9c\\uc5f0\", \"\\ucd9c\\uc5f0\", \"\\ucd9c\\uc5f0\", \"\\ucd9c\\uc5f0\", \"\\ucd9c\\uc804\", \"\\ucda9\\ubd81\", \"\\ucda9\\ubd81\", \"\\ucda9\\uc8fc\", \"\\uce58\\ub8cc\", \"\\uce58\\ub8cc\", \"\\uce58\\ud0a8\", \"\\uce90\\ub9ad\\ud130\", \"\\uce90\\ub9ad\\ud130\", \"\\ucee4\\ud53c\", \"\\ucee4\\ud53c\", \"\\ucf58\\ud150\\uce20\", \"\\ucf58\\ud150\\uce20\", \"\\ucf58\\ud150\\uce20\", \"\\ud074\\ub77c\\uc6b0\\ub4dc\", \"\\ud074\\ub77c\\uc6b0\\ub4dc\", \"\\ud0c0\\uc790\", \"\\ud0dc\\ud48d\", \"\\ud154\\ub808\\ucf64\", \"\\ud1a0\\ud2b8\\ub118\", \"\\ud22c\\uc218\", \"\\ud22c\\uc790\", \"\\ud22c\\uc790\", \"\\ud2b8\\ub7fc\\ud504\", \"\\ud2b8\\ub7fc\\ud504\", \"\\ud2f0\\uc800\", \"\\ud310\\ub9e4\", \"\\ud310\\ub9e4\", \"\\ud310\\ub9e4\", \"\\ud328\\uc2a4\\ud2b8\", \"\\ud328\\uc2a4\\ud2b8\", \"\\ud380\\ub4dc\", \"\\ud380\\ub4dc\", \"\\ud380\\ub4dc\", \"\\ud3c9\\ud654\", \"\\ud3c9\\ud654\", \"\\ud504\\ub85c\", \"\\ud504\\ub85c\", \"\\ud504\\ub85c\", \"\\ud504\\ub85c\", \"\\ud53c\\ubd80\", \"\\ud53c\\ubd80\", \"\\ud540\\ud14c\\ud06c\", \"\\ud551\\ud06c\", \"\\ud558\\ub77d\", \"\\ud558\\ub77d\", \"\\ud559\\uad50\", \"\\ud559\\uad50\", \"\\ud559\\ubd80\\ubaa8\", \"\\ud559\\uc0dd\", \"\\ud559\\uc0dd\", \"\\ud55c\\uad6d\", \"\\ud55c\\uad6d\", \"\\ud55c\\uad6d\", \"\\ud55c\\uad6d\", \"\\ud55c\\uad6d\", \"\\ud560\\uc778\", \"\\ud560\\uc778\", \"\\ud560\\uc778\", \"\\ud574\\uc678\", \"\\ud574\\uc678\", \"\\ud574\\uc678\", \"\\ud574\\uc678\", \"\\ud589\\uc0ac\", \"\\ud589\\uc0ac\", \"\\ud589\\uc0ac\", \"\\ud589\\uc0ac\", \"\\ud589\\uc815\", \"\\ud589\\uc815\", \"\\ud604\\ub300\\ucc28\", \"\\ud604\\ub300\\ucc28\", \"\\ud604\\ub300\\ucc28\", \"\\ud610\\uc758\", \"\\ud610\\uc758\", \"\\ud638\\uac00\", \"\\ud648\\ub7f0\", \"\\ud654\\uc6e8\\uc774\", \"\\ud658\\uacbd\", \"\\ud658\\uacbd\", \"\\ud658\\uacbd\", \"\\ud658\\uc728\", \"\\ud65c\\ub3d9\", \"\\ud65c\\ub3d9\", \"\\ud65c\\ub3d9\", \"\\ud65c\\ub3d9\", \"\\ud669\\uad50\\uc548\", \"\\ud68c\\ub2f4\", \"\\ud68c\\ub2f4\", \"\\ud68c\\ub3d9\", \"\\ud68c\\ub3d9\", \"\\ud6c4\\ubcf4\", \"\\ud6c4\\ubcf4\", \"\\ud6c4\\ubcf4\", \"\\ud6c4\\ubcf4\", \"\\ud6c4\\ubcf4\\uc790\", \"\\ud751\\uc790\"]}, \"R\": 30, \"lambda.step\": 0.01, \"plot.opts\": {\"xlab\": \"PC1\", \"ylab\": \"PC2\"}, \"topic.order\": [5, 2, 3, 4, 1]};\n",
              "\n",
              "function LDAvis_load_lib(url, callback){\n",
              "  var s = document.createElement('script');\n",
              "  s.src = url;\n",
              "  s.async = true;\n",
              "  s.onreadystatechange = s.onload = callback;\n",
              "  s.onerror = function(){console.warn(\"failed to load library \" + url);};\n",
              "  document.getElementsByTagName(\"head\")[0].appendChild(s);\n",
              "}\n",
              "\n",
              "if(typeof(LDAvis) !== \"undefined\"){\n",
              "   // already loaded: just create the visualization\n",
              "   !function(LDAvis){\n",
              "       new LDAvis(\"#\" + \"ldavis_el979451397890683827202243569776\", ldavis_el979451397890683827202243569776_data);\n",
              "   }(LDAvis);\n",
              "}else if(typeof define === \"function\" && define.amd){\n",
              "   // require.js is available: use it to load d3/LDAvis\n",
              "   require.config({paths: {d3: \"https://d3js.org/d3.v5\"}});\n",
              "   require([\"d3\"], function(d3){\n",
              "      window.d3 = d3;\n",
              "      LDAvis_load_lib(\"https://cdn.jsdelivr.net/gh/bmabey/pyLDAvis@3.3.1/pyLDAvis/js/ldavis.v3.0.0.js\", function(){\n",
              "        new LDAvis(\"#\" + \"ldavis_el979451397890683827202243569776\", ldavis_el979451397890683827202243569776_data);\n",
              "      });\n",
              "    });\n",
              "}else{\n",
              "    // require.js not available: dynamically load d3 & LDAvis\n",
              "    LDAvis_load_lib(\"https://d3js.org/d3.v5.js\", function(){\n",
              "         LDAvis_load_lib(\"https://cdn.jsdelivr.net/gh/bmabey/pyLDAvis@3.3.1/pyLDAvis/js/ldavis.v3.0.0.js\", function(){\n",
              "                 new LDAvis(\"#\" + \"ldavis_el979451397890683827202243569776\", ldavis_el979451397890683827202243569776_data);\n",
              "            })\n",
              "         });\n",
              "}\n",
              "</script>"
            ]
          },
          "metadata": {},
          "execution_count": 64
        }
      ],
      "source": [
        "# LDA 시각화를 진행해봅시다. \n",
        "import pyLDAvis\n",
        "import pyLDAvis.sklearn\n",
        "\n",
        "pyLDAvis.enable_notebook()\n",
        "vis = pyLDAvis.sklearn.prepare(lda, tfidf, tfidf_vect, mds='tsne')\n",
        "pyLDAvis.display(vis)\n"
      ]
    },
    {
      "cell_type": "markdown",
      "metadata": {
        "id": "HeZWz9iCIMyG"
      },
      "source": [
        "LDAvis 는 두 가지 정보를 출력합니다. 첫째는 HTML 의 좌측에 출력되는 topic 의 2 차원 embedding vector 입니다. 비슷한 위치에 존재하는 토픽들은 서로 비슷한 문맥을 지니고 있습니다. 그리고 둘째는 오른쪽에 출력되는 각 토픽의 키워드 입니다."
      ]
    },
    {
      "cell_type": "markdown",
      "metadata": {
        "id": "S03-qeLAJcDS"
      },
      "source": [
        "좌측의 원들은 각각의 20개의 토픽을 나타냅니다.   \n",
        "각 원과의 거리는 각 토픽들이 서로 얼마나 다른지를 보여줍니다.만약 두 개의 원이 겹친다면, 이 두 개의 토픽은 유사한 토픽이라는 의미입니다.   \n",
        "각 원을 클릭하면 우측에 해당 토픽에 관한 정보가 나타납니다. "
      ]
    },
    {
      "cell_type": "markdown",
      "metadata": {
        "id": "TkJXrKMwHVuv"
      },
      "source": [
        "위의 예시에서 1번 토픽은 사업, 지역, 산업, 지원, 한국 등 가장 광범위한 키워드들을 포함하고 있습니다. \n",
        "1번토픽과 겹치는 부분이 거의 없고 거리가 먼 15번 토픽은 조광조, 영의정, 기묘사화 등 역사와 관련된 토픽을 가지고 있습니다. 반면 1번 토픽에 포함된 3번 토픽은 코스피, 거래와 관련한 키워드를 갖고 있습니다.   \n"
      ]
    },
    {
      "cell_type": "markdown",
      "metadata": {
        "id": "4VK_XffeK-i7"
      },
      "source": [
        "LDAvis 에서는 두 관점의 중요도를 사람이 직접 정할 수 있도록 하였습니다.  우측상단에 \n",
        "λ 라는 값이 있습니다. 이 값은 [0, 1] 사이에서 조절가능한 값입니다. 그리고 그 아래 키워드 랭킹은 다음의 점수로 계산됩니다. \n",
        "λ를 1 로 설정하면 토픽 별로 가장 자주 등장하는 단어들을 우선적으로 키워드로 선택한다는 의미이며, \n",
        "λ 를 0 에 가깝게 설정할수록 토픽 간에 차이가 많이 나는 단어를 선택한다는 의미입니다.\n",
        "https://lovit.github.io/nlp/2018/09/27/pyldavis_lda/"
      ]
    },
    {
      "cell_type": "code",
      "source": [
        "for i, topic_list in enumerate(lda[tfidf]):\n",
        "    if i==5:\n",
        "        break\n",
        "    print(i,'번째 문서의 topic 비율은',topic_list)"
      ],
      "metadata": {
        "id": "_KJtcRGLbC_k"
      },
      "execution_count": null,
      "outputs": []
    },
    {
      "cell_type": "code",
      "source": [],
      "metadata": {
        "id": "YiKpb6qkbC6w"
      },
      "execution_count": null,
      "outputs": []
    },
    {
      "cell_type": "code",
      "source": [],
      "metadata": {
        "id": "qwRg36OTbC15"
      },
      "execution_count": null,
      "outputs": []
    },
    {
      "cell_type": "code",
      "source": [],
      "metadata": {
        "id": "nQ_jXGujbCv8"
      },
      "execution_count": null,
      "outputs": []
    },
    {
      "cell_type": "markdown",
      "source": [
        "# N-gram 활용하여 토픽모델링"
      ],
      "metadata": {
        "id": "lHFPEoNpN2v_"
      }
    },
    {
      "cell_type": "markdown",
      "source": [
        "### 1. 데이터 로드"
      ],
      "metadata": {
        "id": "pIg35RkQKLBA"
      }
    },
    {
      "cell_type": "code",
      "source": [
        "!gdown https://drive.google.com/uc?id=1lLlGIq1EPJpGUFjXrXSlD3Cu0R-s9YSj"
      ],
      "metadata": {
        "colab": {
          "base_uri": "https://localhost:8080/"
        },
        "id": "psJEyPwINGjy",
        "outputId": "ca10346c-bb5c-4181-84a3-50527fe3b4c9"
      },
      "execution_count": null,
      "outputs": [
        {
          "output_type": "stream",
          "name": "stdout",
          "text": [
            "Downloading...\n",
            "From: https://drive.google.com/uc?id=1lLlGIq1EPJpGUFjXrXSlD3Cu0R-s9YSj\n",
            "To: /content/news_tokenized.pickle\n",
            "100% 1.05G/1.05G [00:26<00:00, 39.7MB/s]\n"
          ]
        }
      ]
    },
    {
      "cell_type": "code",
      "execution_count": null,
      "metadata": {
        "colab": {
          "base_uri": "https://localhost:8080/",
          "height": 641
        },
        "outputId": "ed2bbf72-37ea-410a-bae2-25c0b57e9f5f",
        "id": "ksvHNp15Tv4p"
      },
      "outputs": [
        {
          "output_type": "execute_result",
          "data": {
            "text/plain": [
              "        media         id                                   article_original  \\\n",
              "0        부산일보  360972161  [지난해 고령화와 유례가 드문 겨울 한파 등 영향으로 우리나라 사망자 수가 통계 작...   \n",
              "1        중도일보  356659913  [서산시의회(의장 임재관) 가충순·이수의 의원이 (사)한국지역신문협회에서 수여하는 ...   \n",
              "2        무등일보  351718460  [지난 2004년 시작해 조선대 학생들의 대표적인 행사로 자리매김한 ‘조선대 국토대...   \n",
              "3        이데일리  335868123  [서울시는 신학기가 시작되는 다음달 4일부터 고등학교 3학년 무상급식을 실시한다고 ...   \n",
              "4        서울신문  351443347  [미국인 선교사가 우간다에서 의사 행세를 하며 의료 시설을 운영한 혐의로 지역 시민...   \n",
              "...       ...        ...                                                ...   \n",
              "260692   매일경제  353316985  [두통과 어지럼증은 우리에게 매우 익숙하다., 하루 이틀 정도만 참으면 자연스럽게 ...   \n",
              "260693   부산일보  360784906  [파주 최대 테마파크 퍼스트가든이 ㈜투바앤의 캐릭터 '라바'와 할로윈 페스티벌(사진...   \n",
              "260694   부산일보  357253753  [민원과 난공사로 완공이 늦어지고 있는 양산시 한일아파트 인근 옹벽 보수·보강공사 ...   \n",
              "260695   매일신문  347655953  [사단법인 전국자원봉사연맹이 호국보훈의 달을 맞이하여, 오는 2019년 6월 23일...   \n",
              "260696  아시아경제  369524558  [라이프스타일 투자플랫폼 와디즈는 서강대학교 경영전문대학원, 한국전문경영컨설팅과 함...   \n",
              "\n",
              "                                              abstractive   extractive  \\\n",
              "0       통계청이 발표한 '2018년 사망원인통계'를 보면 지난해 총 사망자 수는 관련 통계...  [4, 11, 18]   \n",
              "1       서산시 가충순 의원과 이수의 의원이 활발한 의정활동을 펼친 감사의 표시로 한국지역신...    [1, 3, 4]   \n",
              "2        ‘조선대의 새로운 비상을 꿈꾸다’를 슬로건으로 진행되어 단체생활을 통해 협동심과 ...    [0, 2, 4]   \n",
              "3       서울시가 다음달 4일부터 서울 시내 319개 고등학교 3학년 8만4700명을 대상으...    [0, 1, 2]   \n",
              "4       미국인 선교사가 우간다에서 의사 행세를 하며 두 아이의 죽음과 관련돼 있다며 지역 ...    [0, 1, 2]   \n",
              "...                                                   ...          ...   \n",
              "260692  두통과 어지럼증은 우리에게 매우 익숙한 증상이며, 이 두통은 크게 긴장성 두통, 혈...  [3, 12, 16]   \n",
              "260693  파주 최대 테마파크 퍼스트가든이 오는 10월 12일부터 31일까지 가족들이 함께 즐...    [0, 4, 1]   \n",
              "260694  양산시는 지난해 10월부터 43억 원을 들여 진행 중인 한일아파트 뒤편 옹벽 보수·...    [4, 6, 7]   \n",
              "260695  국가를 위해 헌신한 분들의 숭고한 희생을 기리고, 유가족 들을 위로하기 위해 열리는...    [0, 1, 2]   \n",
              "260696  지난 4일 라이프스타일 투자플랫롬 와디즈는 스타트업 투자 시장에서의 자금 조달 수요...    [0, 1, 2]   \n",
              "\n",
              "                                     article_preprocessed  \n",
              "0       지난해 고령화 유례 겨울 한파 영향 우리나라 사망자 통계 작성 이후 폐렴 치매 일종...  \n",
              "1       서산시 의회 의장 임재 가충 이수 의원 한국 지역 신문협회 수여 우수 대상 가충 의...  \n",
              "2       시작 조선대 학생 대표 행사 자리매김 조선대 국토 대장정 해단식 일정 마감 조선대 ...  \n",
              "3       서울시 신학기 시작 다음 고등학교 학년 무상급식 실시 서울 시내 고등학교 학년 대상...  \n",
              "4       미국인 선교사 우간다 의사 행세 의료 시설 운영 혐의 지역 시민 단체 주민 고소 원...  \n",
              "...                                                   ...  \n",
              "260692  두통 어지럼증 하루 이틀 정도 자연 증상 경우 신체 기관 중요 질환 전조 증상 간과...  \n",
              "260693  파주 최대 테마파크 퍼스트 가든 투바 캐릭터 라바 할로윈 페스티벌 사진 진행 이번 ...  \n",
              "260694  민원 난공사 완공 양산 아파트 인근 옹벽 보수 보강 공사 현장 경남 양산시 평산동 ...  \n",
              "260695  사단 법인 전국 자원 봉사 연맹 호국 보훈 일요일 대구 두류 공원 야외 음악당 진행...  \n",
              "260696  라이프 스타일 투자 플랫 디즈 서강대 학교 경영 전문 대학원 한국 전문 경영 컨설팅...  \n",
              "\n",
              "[260697 rows x 6 columns]"
            ],
            "text/html": [
              "\n",
              "  <div id=\"df-f0f60dda-44eb-4432-9f73-38250b47389f\">\n",
              "    <div class=\"colab-df-container\">\n",
              "      <div>\n",
              "<style scoped>\n",
              "    .dataframe tbody tr th:only-of-type {\n",
              "        vertical-align: middle;\n",
              "    }\n",
              "\n",
              "    .dataframe tbody tr th {\n",
              "        vertical-align: top;\n",
              "    }\n",
              "\n",
              "    .dataframe thead th {\n",
              "        text-align: right;\n",
              "    }\n",
              "</style>\n",
              "<table border=\"1\" class=\"dataframe\">\n",
              "  <thead>\n",
              "    <tr style=\"text-align: right;\">\n",
              "      <th></th>\n",
              "      <th>media</th>\n",
              "      <th>id</th>\n",
              "      <th>article_original</th>\n",
              "      <th>abstractive</th>\n",
              "      <th>extractive</th>\n",
              "      <th>article_preprocessed</th>\n",
              "    </tr>\n",
              "  </thead>\n",
              "  <tbody>\n",
              "    <tr>\n",
              "      <th>0</th>\n",
              "      <td>부산일보</td>\n",
              "      <td>360972161</td>\n",
              "      <td>[지난해 고령화와 유례가 드문 겨울 한파 등 영향으로 우리나라 사망자 수가 통계 작...</td>\n",
              "      <td>통계청이 발표한 '2018년 사망원인통계'를 보면 지난해 총 사망자 수는 관련 통계...</td>\n",
              "      <td>[4, 11, 18]</td>\n",
              "      <td>지난해 고령화 유례 겨울 한파 영향 우리나라 사망자 통계 작성 이후 폐렴 치매 일종...</td>\n",
              "    </tr>\n",
              "    <tr>\n",
              "      <th>1</th>\n",
              "      <td>중도일보</td>\n",
              "      <td>356659913</td>\n",
              "      <td>[서산시의회(의장 임재관) 가충순·이수의 의원이 (사)한국지역신문협회에서 수여하는 ...</td>\n",
              "      <td>서산시 가충순 의원과 이수의 의원이 활발한 의정활동을 펼친 감사의 표시로 한국지역신...</td>\n",
              "      <td>[1, 3, 4]</td>\n",
              "      <td>서산시 의회 의장 임재 가충 이수 의원 한국 지역 신문협회 수여 우수 대상 가충 의...</td>\n",
              "    </tr>\n",
              "    <tr>\n",
              "      <th>2</th>\n",
              "      <td>무등일보</td>\n",
              "      <td>351718460</td>\n",
              "      <td>[지난 2004년 시작해 조선대 학생들의 대표적인 행사로 자리매김한 ‘조선대 국토대...</td>\n",
              "      <td>‘조선대의 새로운 비상을 꿈꾸다’를 슬로건으로 진행되어 단체생활을 통해 협동심과 ...</td>\n",
              "      <td>[0, 2, 4]</td>\n",
              "      <td>시작 조선대 학생 대표 행사 자리매김 조선대 국토 대장정 해단식 일정 마감 조선대 ...</td>\n",
              "    </tr>\n",
              "    <tr>\n",
              "      <th>3</th>\n",
              "      <td>이데일리</td>\n",
              "      <td>335868123</td>\n",
              "      <td>[서울시는 신학기가 시작되는 다음달 4일부터 고등학교 3학년 무상급식을 실시한다고 ...</td>\n",
              "      <td>서울시가 다음달 4일부터 서울 시내 319개 고등학교 3학년 8만4700명을 대상으...</td>\n",
              "      <td>[0, 1, 2]</td>\n",
              "      <td>서울시 신학기 시작 다음 고등학교 학년 무상급식 실시 서울 시내 고등학교 학년 대상...</td>\n",
              "    </tr>\n",
              "    <tr>\n",
              "      <th>4</th>\n",
              "      <td>서울신문</td>\n",
              "      <td>351443347</td>\n",
              "      <td>[미국인 선교사가 우간다에서 의사 행세를 하며 의료 시설을 운영한 혐의로 지역 시민...</td>\n",
              "      <td>미국인 선교사가 우간다에서 의사 행세를 하며 두 아이의 죽음과 관련돼 있다며 지역 ...</td>\n",
              "      <td>[0, 1, 2]</td>\n",
              "      <td>미국인 선교사 우간다 의사 행세 의료 시설 운영 혐의 지역 시민 단체 주민 고소 원...</td>\n",
              "    </tr>\n",
              "    <tr>\n",
              "      <th>...</th>\n",
              "      <td>...</td>\n",
              "      <td>...</td>\n",
              "      <td>...</td>\n",
              "      <td>...</td>\n",
              "      <td>...</td>\n",
              "      <td>...</td>\n",
              "    </tr>\n",
              "    <tr>\n",
              "      <th>260692</th>\n",
              "      <td>매일경제</td>\n",
              "      <td>353316985</td>\n",
              "      <td>[두통과 어지럼증은 우리에게 매우 익숙하다., 하루 이틀 정도만 참으면 자연스럽게 ...</td>\n",
              "      <td>두통과 어지럼증은 우리에게 매우 익숙한 증상이며, 이 두통은 크게 긴장성 두통, 혈...</td>\n",
              "      <td>[3, 12, 16]</td>\n",
              "      <td>두통 어지럼증 하루 이틀 정도 자연 증상 경우 신체 기관 중요 질환 전조 증상 간과...</td>\n",
              "    </tr>\n",
              "    <tr>\n",
              "      <th>260693</th>\n",
              "      <td>부산일보</td>\n",
              "      <td>360784906</td>\n",
              "      <td>[파주 최대 테마파크 퍼스트가든이 ㈜투바앤의 캐릭터 '라바'와 할로윈 페스티벌(사진...</td>\n",
              "      <td>파주 최대 테마파크 퍼스트가든이 오는 10월 12일부터 31일까지 가족들이 함께 즐...</td>\n",
              "      <td>[0, 4, 1]</td>\n",
              "      <td>파주 최대 테마파크 퍼스트 가든 투바 캐릭터 라바 할로윈 페스티벌 사진 진행 이번 ...</td>\n",
              "    </tr>\n",
              "    <tr>\n",
              "      <th>260694</th>\n",
              "      <td>부산일보</td>\n",
              "      <td>357253753</td>\n",
              "      <td>[민원과 난공사로 완공이 늦어지고 있는 양산시 한일아파트 인근 옹벽 보수·보강공사 ...</td>\n",
              "      <td>양산시는 지난해 10월부터 43억 원을 들여 진행 중인 한일아파트 뒤편 옹벽 보수·...</td>\n",
              "      <td>[4, 6, 7]</td>\n",
              "      <td>민원 난공사 완공 양산 아파트 인근 옹벽 보수 보강 공사 현장 경남 양산시 평산동 ...</td>\n",
              "    </tr>\n",
              "    <tr>\n",
              "      <th>260695</th>\n",
              "      <td>매일신문</td>\n",
              "      <td>347655953</td>\n",
              "      <td>[사단법인 전국자원봉사연맹이 호국보훈의 달을 맞이하여, 오는 2019년 6월 23일...</td>\n",
              "      <td>국가를 위해 헌신한 분들의 숭고한 희생을 기리고, 유가족 들을 위로하기 위해 열리는...</td>\n",
              "      <td>[0, 1, 2]</td>\n",
              "      <td>사단 법인 전국 자원 봉사 연맹 호국 보훈 일요일 대구 두류 공원 야외 음악당 진행...</td>\n",
              "    </tr>\n",
              "    <tr>\n",
              "      <th>260696</th>\n",
              "      <td>아시아경제</td>\n",
              "      <td>369524558</td>\n",
              "      <td>[라이프스타일 투자플랫폼 와디즈는 서강대학교 경영전문대학원, 한국전문경영컨설팅과 함...</td>\n",
              "      <td>지난 4일 라이프스타일 투자플랫롬 와디즈는 스타트업 투자 시장에서의 자금 조달 수요...</td>\n",
              "      <td>[0, 1, 2]</td>\n",
              "      <td>라이프 스타일 투자 플랫 디즈 서강대 학교 경영 전문 대학원 한국 전문 경영 컨설팅...</td>\n",
              "    </tr>\n",
              "  </tbody>\n",
              "</table>\n",
              "<p>260697 rows × 6 columns</p>\n",
              "</div>\n",
              "      <button class=\"colab-df-convert\" onclick=\"convertToInteractive('df-f0f60dda-44eb-4432-9f73-38250b47389f')\"\n",
              "              title=\"Convert this dataframe to an interactive table.\"\n",
              "              style=\"display:none;\">\n",
              "        \n",
              "  <svg xmlns=\"http://www.w3.org/2000/svg\" height=\"24px\"viewBox=\"0 0 24 24\"\n",
              "       width=\"24px\">\n",
              "    <path d=\"M0 0h24v24H0V0z\" fill=\"none\"/>\n",
              "    <path d=\"M18.56 5.44l.94 2.06.94-2.06 2.06-.94-2.06-.94-.94-2.06-.94 2.06-2.06.94zm-11 1L8.5 8.5l.94-2.06 2.06-.94-2.06-.94L8.5 2.5l-.94 2.06-2.06.94zm10 10l.94 2.06.94-2.06 2.06-.94-2.06-.94-.94-2.06-.94 2.06-2.06.94z\"/><path d=\"M17.41 7.96l-1.37-1.37c-.4-.4-.92-.59-1.43-.59-.52 0-1.04.2-1.43.59L10.3 9.45l-7.72 7.72c-.78.78-.78 2.05 0 2.83L4 21.41c.39.39.9.59 1.41.59.51 0 1.02-.2 1.41-.59l7.78-7.78 2.81-2.81c.8-.78.8-2.07 0-2.86zM5.41 20L4 18.59l7.72-7.72 1.47 1.35L5.41 20z\"/>\n",
              "  </svg>\n",
              "      </button>\n",
              "      \n",
              "  <style>\n",
              "    .colab-df-container {\n",
              "      display:flex;\n",
              "      flex-wrap:wrap;\n",
              "      gap: 12px;\n",
              "    }\n",
              "\n",
              "    .colab-df-convert {\n",
              "      background-color: #E8F0FE;\n",
              "      border: none;\n",
              "      border-radius: 50%;\n",
              "      cursor: pointer;\n",
              "      display: none;\n",
              "      fill: #1967D2;\n",
              "      height: 32px;\n",
              "      padding: 0 0 0 0;\n",
              "      width: 32px;\n",
              "    }\n",
              "\n",
              "    .colab-df-convert:hover {\n",
              "      background-color: #E2EBFA;\n",
              "      box-shadow: 0px 1px 2px rgba(60, 64, 67, 0.3), 0px 1px 3px 1px rgba(60, 64, 67, 0.15);\n",
              "      fill: #174EA6;\n",
              "    }\n",
              "\n",
              "    [theme=dark] .colab-df-convert {\n",
              "      background-color: #3B4455;\n",
              "      fill: #D2E3FC;\n",
              "    }\n",
              "\n",
              "    [theme=dark] .colab-df-convert:hover {\n",
              "      background-color: #434B5C;\n",
              "      box-shadow: 0px 1px 3px 1px rgba(0, 0, 0, 0.15);\n",
              "      filter: drop-shadow(0px 1px 2px rgba(0, 0, 0, 0.3));\n",
              "      fill: #FFFFFF;\n",
              "    }\n",
              "  </style>\n",
              "\n",
              "      <script>\n",
              "        const buttonEl =\n",
              "          document.querySelector('#df-f0f60dda-44eb-4432-9f73-38250b47389f button.colab-df-convert');\n",
              "        buttonEl.style.display =\n",
              "          google.colab.kernel.accessAllowed ? 'block' : 'none';\n",
              "\n",
              "        async function convertToInteractive(key) {\n",
              "          const element = document.querySelector('#df-f0f60dda-44eb-4432-9f73-38250b47389f');\n",
              "          const dataTable =\n",
              "            await google.colab.kernel.invokeFunction('convertToInteractive',\n",
              "                                                     [key], {});\n",
              "          if (!dataTable) return;\n",
              "\n",
              "          const docLinkHtml = 'Like what you see? Visit the ' +\n",
              "            '<a target=\"_blank\" href=https://colab.research.google.com/notebooks/data_table.ipynb>data table notebook</a>'\n",
              "            + ' to learn more about interactive tables.';\n",
              "          element.innerHTML = '';\n",
              "          dataTable['output_type'] = 'display_data';\n",
              "          await google.colab.output.renderOutput(dataTable, element);\n",
              "          const docLink = document.createElement('div');\n",
              "          docLink.innerHTML = docLinkHtml;\n",
              "          element.appendChild(docLink);\n",
              "        }\n",
              "      </script>\n",
              "    </div>\n",
              "  </div>\n",
              "  "
            ]
          },
          "metadata": {},
          "execution_count": 40
        }
      ],
      "source": [
        "df_news = pd.read_pickle('./news_tokenized.pickle')\n",
        "df_news"
      ]
    },
    {
      "cell_type": "markdown",
      "metadata": {
        "id": "d6MjCFJHTv4p"
      },
      "source": [
        "pickle파일로 저장하면 리스트가 그대로 살아 있는 것을 확인할 수 있습니다. \n"
      ]
    },
    {
      "cell_type": "markdown",
      "source": [
        "### 2. 토큰화(N-gram 포함)"
      ],
      "metadata": {
        "id": "bu-eLly8aQIJ"
      }
    },
    {
      "cell_type": "code",
      "execution_count": null,
      "metadata": {
        "id": "1X2LPZbmTv4q"
      },
      "outputs": [],
      "source": [
        "# 한 문장으로 join 해놓은 전처리 완료된 문장들을 공백 기준으로 분리하는 함수입니다. \n",
        "\n",
        "def my_tokenizer(text):\n",
        "  return text.split()"
      ]
    },
    {
      "cell_type": "code",
      "execution_count": null,
      "metadata": {
        "colab": {
          "base_uri": "https://localhost:8080/"
        },
        "outputId": "f8b2514a-7504-4bdf-cd0f-ba131e20201b",
        "id": "OiZ7_c0CTv4q"
      },
      "outputs": [
        {
          "output_type": "execute_result",
          "data": {
            "text/plain": [
              "['지난해',\n",
              " '고령화',\n",
              " '유례',\n",
              " '겨울',\n",
              " '한파',\n",
              " '영향',\n",
              " '우리나라',\n",
              " '사망자',\n",
              " '통계',\n",
              " '작성',\n",
              " '이후',\n",
              " '폐렴',\n",
              " '치매',\n",
              " '일종',\n",
              " '알츠하이머병',\n",
              " '지난해',\n",
              " '사망',\n",
              " '원인',\n",
              " '순위',\n",
              " '전년',\n",
              " '단계',\n",
              " '단계',\n",
              " '상승',\n",
              " '노인',\n",
              " '질병',\n",
              " '사망',\n",
              " '급증',\n",
              " '추세',\n",
              " '연령',\n",
              " '표준']"
            ]
          },
          "metadata": {},
          "execution_count": 42
        }
      ],
      "source": [
        "my_tokenizer(df_news['article_preprocessed'].iloc[0][:100])"
      ]
    },
    {
      "cell_type": "code",
      "source": [
        "df_news['article_preprocessed'].iloc[0][:100]"
      ],
      "metadata": {
        "colab": {
          "base_uri": "https://localhost:8080/",
          "height": 36
        },
        "id": "u4Ap0ewFY1mc",
        "outputId": "f52e5f64-ee57-4282-8817-b95a97582407"
      },
      "execution_count": null,
      "outputs": [
        {
          "output_type": "execute_result",
          "data": {
            "text/plain": [
              "'지난해 고령화 유례 겨울 한파 영향 우리나라 사망자 통계 작성 이후 폐렴 치매 일종 알츠하이머병 지난해 사망 원인 순위 전년 단계 단계 상승 노인 질병 사망 급증 추세 연령 표준 '"
            ],
            "application/vnd.google.colaboratory.intrinsic+json": {
              "type": "string"
            }
          },
          "metadata": {},
          "execution_count": 43
        }
      ]
    },
    {
      "cell_type": "code",
      "source": [
        "def bigram_tokenizer(text):\n",
        "    tokens = text.split()\n",
        "    return [' '.join(tokens[i:i+2]) for i in range(len(tokens)-1)]"
      ],
      "metadata": {
        "id": "hy4OB3vsYa52"
      },
      "execution_count": null,
      "outputs": []
    },
    {
      "cell_type": "code",
      "source": [
        "bigram_tokenizer(df_news['article_preprocessed'].iloc[0][:100])"
      ],
      "metadata": {
        "colab": {
          "base_uri": "https://localhost:8080/"
        },
        "id": "ALy3wy0cYYcD",
        "outputId": "7c5d39bd-826b-43eb-dfb2-f7b2a37cabda"
      },
      "execution_count": null,
      "outputs": [
        {
          "output_type": "execute_result",
          "data": {
            "text/plain": [
              "['지난해 고령화',\n",
              " '고령화 유례',\n",
              " '유례 겨울',\n",
              " '겨울 한파',\n",
              " '한파 영향',\n",
              " '영향 우리나라',\n",
              " '우리나라 사망자',\n",
              " '사망자 통계',\n",
              " '통계 작성',\n",
              " '작성 이후',\n",
              " '이후 폐렴',\n",
              " '폐렴 치매',\n",
              " '치매 일종',\n",
              " '일종 알츠하이머병',\n",
              " '알츠하이머병 지난해',\n",
              " '지난해 사망',\n",
              " '사망 원인',\n",
              " '원인 순위',\n",
              " '순위 전년',\n",
              " '전년 단계',\n",
              " '단계 단계',\n",
              " '단계 상승',\n",
              " '상승 노인',\n",
              " '노인 질병',\n",
              " '질병 사망',\n",
              " '사망 급증',\n",
              " '급증 추세',\n",
              " '추세 연령',\n",
              " '연령 표준']"
            ]
          },
          "metadata": {},
          "execution_count": 45
        }
      ]
    },
    {
      "cell_type": "markdown",
      "metadata": {
        "id": "glAk9VURTv4q"
      },
      "source": [
        "### 3. TF-IDF 행렬 만들기(TF-IDF(Term Frequency-Inverse Document Frequency)    \n",
        "- 본격적인 자연어 처리를 위해서는 문자를 숫자로 수치화할 필요가 있습니다.  \n",
        "\n",
        "- TF-IDF는 단어의 빈도와 역 문서 빈도(문서의 빈도에 특정 식을 취함)를 사용하여 DTM(문서 단어 행렬(Document-Term Matrix)) 내의 각 단어들마다 중요한 정도를 가중치로 주는 방법입니다.\n",
        "\n",
        "- https://wikidocs.net/24559\n"
      ]
    },
    {
      "cell_type": "code",
      "source": [
        "# sklearn을 통해서 TF-IDF 행렬을 만들어 줍니다. \n",
        "from sklearn.feature_extraction.text import TfidfVectorizer\n",
        "\n",
        "TfidfVectorizer?"
      ],
      "metadata": {
        "id": "t7C27-keTv4r"
      },
      "execution_count": null,
      "outputs": []
    },
    {
      "cell_type": "code",
      "execution_count": null,
      "metadata": {
        "colab": {
          "base_uri": "https://localhost:8080/"
        },
        "outputId": "77dd8c61-f8b7-447d-e499-87e75619c0e4",
        "id": "9JTXVrR1Tv4r"
      },
      "outputs": [
        {
          "output_type": "execute_result",
          "data": {
            "text/plain": [
              "<1000x126948 sparse matrix of type '<class 'numpy.float64'>'\n",
              "\twith 148008 stored elements in Compressed Sparse Row format>"
            ]
          },
          "metadata": {},
          "execution_count": 47
        }
      ],
      "source": [
        "tfidf_vect = TfidfVectorizer(tokenizer=bigram_tokenizer)\n",
        "# tfidf_vect = TfidfVectorizer(tokenizer=my_tokenizer, ngram_range=(2, 2))\n",
        "tfidf = tfidf_vect.fit_transform(raw_documents = df_news['article_preprocessed'].iloc[:1000]) # 기사 개수는 1000개로 조절하겠습니다\n",
        "\n",
        "tfidf"
      ]
    },
    {
      "cell_type": "markdown",
      "metadata": {
        "id": "eyVyZsAqTv4r"
      },
      "source": [
        "### 4. LDA 학습   \n",
        "토픽의 개수를 20으로 하여 LDA 모델을 학습시켜보도록 하겠습니다."
      ]
    },
    {
      "cell_type": "code",
      "source": [
        "from sklearn.decomposition import LatentDirichletAllocation\n",
        "\n",
        "LatentDirichletAllocation?"
      ],
      "metadata": {
        "id": "_hSNzd4rTv4r"
      },
      "execution_count": null,
      "outputs": []
    },
    {
      "cell_type": "code",
      "execution_count": null,
      "metadata": {
        "id": "FdXnRs8vTv4r"
      },
      "outputs": [],
      "source": [
        "lda = LatentDirichletAllocation(n_components =3, \n",
        "                                max_iter = 20,\n",
        "                                learning_method='online',\n",
        "                                random_state=100)\n",
        "lda_output = lda.fit_transform(tfidf)"
      ]
    },
    {
      "cell_type": "code",
      "execution_count": null,
      "metadata": {
        "colab": {
          "base_uri": "https://localhost:8080/"
        },
        "outputId": "f6dd9bd2-1e08-46a9-9169-0c7d9e96dc9a",
        "id": "5PxyaGTMTv4r"
      },
      "outputs": [
        {
          "output_type": "stream",
          "name": "stdout",
          "text": [
            "lda components:\n",
            " [[0.33355157 0.33371011 0.33358537 ... 0.40240448 0.40564064 0.33366812]\n",
            " [0.37931463 0.333719   0.38587297 ... 0.33364743 0.33360701 0.41907899]\n",
            " [0.33357388 0.48797223 0.33357945 ... 0.33368862 0.33361756 0.33368246]]\n",
            "shape: (3, 126948)\n"
          ]
        }
      ],
      "source": [
        "print('lda components:\\n',lda.components_) \n",
        "print('shape:', lda.components_.shape) "
      ]
    },
    {
      "cell_type": "markdown",
      "metadata": {
        "id": "mzIDFL6DTv4s"
      },
      "source": [
        "LDA 과정에서 얻은 토픽들을 프린트해 봅시다. 토픽당 7개의 단어를 default로 설정하였습니다. "
      ]
    },
    {
      "cell_type": "code",
      "execution_count": null,
      "metadata": {
        "colab": {
          "base_uri": "https://localhost:8080/"
        },
        "outputId": "0dfc23fe-ad6b-4ae1-cce7-4c545272ba21",
        "id": "S1j4j_lHTv4s"
      },
      "outputs": [
        {
          "output_type": "stream",
          "name": "stdout",
          "text": [
            "Topic 1: [('벤처 기업', 1.89), ('사회 경제', 1.87), ('주민 자치', 1.73), ('중소 벤처', 1.71), ('검찰 개혁', 1.65), ('금융 그룹', 1.61), ('만세 운동', 1.57)]\n",
            "Topic 2: [('도시 재생', 2.46), ('트럼프 대통령', 1.67), ('기술 개발', 1.52), ('사업 추진', 1.48), ('여론 조사', 1.46), ('영업 이익', 1.39), ('현지 시간', 1.37)]\n",
            "Topic 3: [('스마트 시티', 2.08), ('가구 가구', 1.86), ('정상 회담', 1.81), ('과학 기술', 1.7), ('수출 규제', 1.68), ('거래 해당', 1.61), ('매도 호가', 1.61)]\n"
          ]
        },
        {
          "output_type": "stream",
          "name": "stderr",
          "text": [
            "/usr/local/lib/python3.8/dist-packages/sklearn/utils/deprecation.py:87: FutureWarning: Function get_feature_names is deprecated; get_feature_names is deprecated in 1.0 and will be removed in 1.2. Please use get_feature_names_out instead.\n",
            "  warnings.warn(msg, category=FutureWarning)\n"
          ]
        }
      ],
      "source": [
        "terms = tfidf_vect.get_feature_names() # 단어 집합\n",
        "\n",
        "def get_topics(components, feature_names, n=7):\n",
        "    for idx, topic in enumerate(components):\n",
        "        print(\"Topic %d:\" % (idx+1), [(feature_names[i], topic[i].round(2)) for i in topic.argsort()[:-n - 1:-1]])\n",
        "get_topics(lda.components_,terms)"
      ]
    },
    {
      "cell_type": "markdown",
      "metadata": {
        "id": "MNZ0eqRFTv4s"
      },
      "source": [
        "### 5. LDA 시각화"
      ]
    },
    {
      "cell_type": "code",
      "execution_count": null,
      "metadata": {
        "id": "nmHc4KOvTv4s",
        "colab": {
          "base_uri": "https://localhost:8080/"
        },
        "outputId": "becad7b3-b1b3-42b4-ff83-108dd335f9d0"
      },
      "outputs": [
        {
          "output_type": "stream",
          "name": "stdout",
          "text": [
            "Looking in indexes: https://pypi.org/simple, https://us-python.pkg.dev/colab-wheels/public/simple/\n",
            "Requirement already satisfied: pyLDAvis in /usr/local/lib/python3.8/dist-packages (3.3.1)\n",
            "Requirement already satisfied: scikit-learn in /usr/local/lib/python3.8/dist-packages (from pyLDAvis) (1.0.2)\n",
            "Requirement already satisfied: numexpr in /usr/local/lib/python3.8/dist-packages (from pyLDAvis) (2.8.4)\n",
            "Requirement already satisfied: numpy>=1.20.0 in /usr/local/lib/python3.8/dist-packages (from pyLDAvis) (1.21.6)\n",
            "Requirement already satisfied: sklearn in /usr/local/lib/python3.8/dist-packages (from pyLDAvis) (0.0.post1)\n",
            "Requirement already satisfied: future in /usr/local/lib/python3.8/dist-packages (from pyLDAvis) (0.16.0)\n",
            "Requirement already satisfied: joblib in /usr/local/lib/python3.8/dist-packages (from pyLDAvis) (1.2.0)\n",
            "Requirement already satisfied: jinja2 in /usr/local/lib/python3.8/dist-packages (from pyLDAvis) (2.11.3)\n",
            "Requirement already satisfied: funcy in /usr/local/lib/python3.8/dist-packages (from pyLDAvis) (1.18)\n",
            "Requirement already satisfied: pandas>=1.2.0 in /usr/local/lib/python3.8/dist-packages (from pyLDAvis) (1.3.5)\n",
            "Requirement already satisfied: gensim in /usr/local/lib/python3.8/dist-packages (from pyLDAvis) (3.6.0)\n",
            "Requirement already satisfied: setuptools in /usr/local/lib/python3.8/dist-packages (from pyLDAvis) (57.4.0)\n",
            "Requirement already satisfied: scipy in /usr/local/lib/python3.8/dist-packages (from pyLDAvis) (1.7.3)\n",
            "Requirement already satisfied: pytz>=2017.3 in /usr/local/lib/python3.8/dist-packages (from pandas>=1.2.0->pyLDAvis) (2022.7.1)\n",
            "Requirement already satisfied: python-dateutil>=2.7.3 in /usr/local/lib/python3.8/dist-packages (from pandas>=1.2.0->pyLDAvis) (2.8.2)\n",
            "Requirement already satisfied: six>=1.5.0 in /usr/local/lib/python3.8/dist-packages (from gensim->pyLDAvis) (1.15.0)\n",
            "Requirement already satisfied: smart-open>=1.2.1 in /usr/local/lib/python3.8/dist-packages (from gensim->pyLDAvis) (6.3.0)\n",
            "Requirement already satisfied: MarkupSafe>=0.23 in /usr/local/lib/python3.8/dist-packages (from jinja2->pyLDAvis) (2.0.1)\n",
            "Requirement already satisfied: threadpoolctl>=2.0.0 in /usr/local/lib/python3.8/dist-packages (from scikit-learn->pyLDAvis) (3.1.0)\n"
          ]
        }
      ],
      "source": [
        "# LDAvis 는 토픽 모델링에 자주 이용되는 Latent Dirichlet Allocation (LDA) 모델의 학습 결과를 시각적으로 표현하는 라이브러리입니다\n",
        "!pip install pyLDAvis"
      ]
    },
    {
      "cell_type": "code",
      "execution_count": null,
      "metadata": {
        "colab": {
          "base_uri": "https://localhost:8080/",
          "height": 1000
        },
        "outputId": "d15f6938-7733-4f5d-b373-084a1aa86fdd",
        "id": "4qDUKkLRTv4s"
      },
      "outputs": [
        {
          "output_type": "stream",
          "name": "stderr",
          "text": [
            "/usr/local/lib/python3.8/dist-packages/pyLDAvis/_prepare.py:246: FutureWarning: In a future version of pandas all arguments of DataFrame.drop except for the argument 'labels' will be keyword-only\n",
            "  default_term_info = default_term_info.sort_values(\n",
            "/usr/local/lib/python3.8/dist-packages/sklearn/manifold/_t_sne.py:780: FutureWarning: The default initialization in TSNE will change from 'random' to 'pca' in 1.2.\n",
            "  warnings.warn(\n",
            "/usr/local/lib/python3.8/dist-packages/sklearn/manifold/_t_sne.py:790: FutureWarning: The default learning rate in TSNE will change from 200.0 to 'auto' in 1.2.\n",
            "  warnings.warn(\n",
            "/usr/local/lib/python3.8/dist-packages/sklearn/manifold/_t_sne.py:819: FutureWarning: 'square_distances' has been introduced in 0.24 to help phase out legacy squaring behavior. The 'legacy' setting will be removed in 1.1 (renaming of 0.26), and the default setting will be changed to True. In 1.3, 'square_distances' will be removed altogether, and distances will be squared by default. Set 'square_distances'=True to silence this warning.\n",
            "  warnings.warn(\n"
          ]
        },
        {
          "output_type": "execute_result",
          "data": {
            "text/plain": [
              "<IPython.core.display.HTML object>"
            ],
            "text/html": [
              "\n",
              "<link rel=\"stylesheet\" type=\"text/css\" href=\"https://cdn.jsdelivr.net/gh/bmabey/pyLDAvis@3.3.1/pyLDAvis/js/ldavis.v1.0.0.css\">\n",
              "\n",
              "\n",
              "<div id=\"ldavis_el979451397878534458246601967872\"></div>\n",
              "<script type=\"text/javascript\">\n",
              "\n",
              "var ldavis_el979451397878534458246601967872_data = {\"mdsDat\": {\"x\": [-1015.7005615234375, -387.9960021972656, -2184.74560546875], \"y\": [1338.981201171875, -373.316162109375, -60.565799713134766], \"topics\": [1, 2, 3], \"cluster\": [1, 1, 1], \"Freq\": [34.569265169927036, 34.310438211466796, 31.120296618606158]}, \"tinfo\": {\"Term\": [\"\\uc2a4\\ub9c8\\ud2b8 \\uc2dc\\ud2f0\", \"\\ub3c4\\uc2dc \\uc7ac\\uc0dd\", \"\\uac00\\uad6c \\uac00\\uad6c\", \"\\uc885\\ubaa9 \\ub9e4\\uc218\", \"\\ub9e4\\uc218 \\ud638\\uac00\", \"\\ud638\\uac00 \\ub9e4\\ub3c4\", \"\\ub9e4\\ub3c4 \\ud638\\uac00\", \"\\uac70\\ub798 \\ud574\\ub2f9\", \"\\ud574\\ub2f9 \\uc885\\ubaa9\", \"\\uc8fc\\ud0dd \\uc870\\ud569\", \"\\uc0ac\\ud68c \\uacbd\\uc81c\", \"\\uc8fc\\ubbfc \\uc790\\uce58\", \"\\uac80\\ucc30 \\uac1c\\ud601\", \"\\ub4f1\\ub77d \\uac70\\ub798\", \"\\uc815\\uc0c1 \\ud68c\\ub2f4\", \"\\ubca4\\ucc98 \\uae30\\uc5c5\", \"\\ub9cc\\uc138 \\uc6b4\\ub3d9\", \"\\uae08\\uc735 \\uadf8\\ub8f9\", \"\\uc911\\uc18c \\ubca4\\ucc98\", \"\\uc5ec\\ub860 \\uc870\\uc0ac\", \"\\ud2b8\\ub7fc\\ud504 \\ub300\\ud1b5\\ub839\", \"\\uc790\\uc6d0 \\ubd09\\uc0ac\", \"\\uc218\\ucd9c \\uaddc\\uc81c\", \"\\uacfc\\ud559 \\uae30\\uc220\", \"\\uc784\\uc2dc \\uc815\\ubd80\", \"\\uccad\\ub144 \\uc77c\\uc790\\ub9ac\", \"\\uc2dc\\uac04 \\ub4f1\\ub77d\", \"\\uc885\\ubaa9 \\ub4f1\\ub77d\", \"\\ud638\\uac00 \\ub4f1\\ub77d\", \"\\uad6d\\ud1a0 \\ub300\\uc7a5\\uc815\", \"\\uac80\\ucc30 \\uac1c\\ud601\", \"\\uc8fc\\ubbfc \\uc790\\uce58\", \"\\ub9cc\\uc138 \\uc6b4\\ub3d9\", \"\\uc0ac\\ud68c \\uacbd\\uc81c\", \"\\uae08\\uc735 \\uadf8\\ub8f9\", \"\\uc790\\uc6d0 \\ubd09\\uc0ac\", \"\\ubca4\\ucc98 \\uae30\\uc5c5\", \"\\uc911\\uc18c \\ubca4\\ucc98\", \"\\ubb38\\ud654 \\ub3c4\\uc2dc\", \"\\uc2dc\\ubbfc \\uac10\\uc0ac\\uad00\", \"\\uc544\\ub3d9 \\ud559\\ub300\", \"dgb \\uae08\\uc735\", \"\\uacbd\\uae30 \\uc804\\ub9dd\", \"\\ub300\\uc804 \\uc2dc\\ud2f0\\uc98c\", \"\\ud5c8\\uc704 \\ub9e4\\ubb3c\", \"\\uc2dd\\ud488 \\uc6d0\\ub8cc\", \"\\ubbfc\\uc8fc \\uc6b4\\ub3d9\", \"\\ud22c\\uc57d \\ud610\\uc758\", \"\\uc778\\ud130 \\ud30c\\ud06c\", \"\\ub3c5\\ub9bd \\ub9cc\\uc138\", \"\\ud610\\uc758 \\uae30\\uc18c\", \"\\uc0dd\\ud65c \\uccb4\\uc721\", \"\\uc790\\uce58 \\ubd84\\uad8c\", \"\\uc2ec\\ub9ac \\uc9c0\\uc218\", \"\\uacf5\\uacf5 \\ubd80\\ubb38\", \"\\ud601\\uc2e0 \\uc131\\uc7a5\", \"\\ud604\\ub300 \\ub85c\\ube44\\uc2a4\", \"\\uada4\\uc591\\uc131 \\ub300\\uc7a5\\uc5fc\", \"\\ud601\\uc2e0 \\uc13c\\ud130\", \"\\ub9c8\\uc57d \\uc0ac\\ubc94\", \"sk \\ud154\\ub808\\ucf64\", \"\\uae30\\ubcf8 \\uacc4\\ud68d\", \"\\uc11c\\ube44\\uc2a4 \\uc81c\\uacf5\", \"\\uae30\\uc5c5 \\uc740\\ud589\", \"\\uc911\\uacac \\uae30\\uc5c5\", \"\\uc790\\uc720 \\uad6d\\ub2f9\", \"\\uacc4\\ud68d \\uc218\\ub9bd\", \"\\uc774\\ubc88 \\ud589\\uc0ac\", \"\\uae30\\uc220 \\ud601\\uc2e0\", \"\\uc870\\uc0ac \\uacb0\\uacfc\", \"\\ub3c4\\uc2dc \\uc7ac\\uc0dd\", \"\\uc5ec\\ub860 \\uc870\\uc0ac\", \"\\uc790\\ubcf8 \\uc2dc\\uc7a5\", \"\\uac00\\uacc4 \\ub300\\ucd9c\", \"\\uadfc\\ub85c \\uc2dc\\uac04\", \"\\uc601\\uc5c5 \\uc774\\uc775\", \"\\uc9c0\\ub09c\\ud574 \\ubd84\\uae30\", \"\\uad6d\\ud68c \\uc758\\uc7a5\", \"\\ubd88\\ubc95 \\ud3d0\\uae30\\ubb3c\", \"\\ub86f\\ub370 \\uce90\\uc2ac\", \"\\uc800\\ucd95 \\uc740\\ud589\", \"\\uc0c1\\uacf5 \\ud68c\\uc758\\uc18c\", \"\\uccad\\ub144 \\uc8fc\\ud0dd\", \"\\ud14c\\ud06c\\ub178 \\ud30c\\ud06c\", \"\\ud55c\\uad6d gm\", \"\\uc131\\uc7a5 \\uc804\\ub9dd\", \"\\uc6b0\\ud68c \\ub3c4\\ub85c\", \"\\ub9ac\\ub4ec \\uccb4\\uc870\", \"\\uc801\\uc815 \\uae30\\uc220\", \"\\ubbfc\\uac04 \\ud22c\\uc790\", \"lg \\uc804\\uc790\", \"\\ud558\\ud2b8 \\uc2dc\\uadf8\\ub110\", \"\\uc2dc\\uc2a4\\ud15c \\ubc18\\ub3c4\\uccb4\", \"\\uae40\\uae30\\ub355 \\uac10\\ub3c5\", \"\\ub274\\ub51c \\uc0ac\\uc5c5\", \"\\ud30c\\uc190 \\uc0ac\\uace0\", \"\\ub18d\\uc218\\uc0b0 \\uc2dd\\ud488\", \"\\uc190\\ud574 \\ubc30\\uc0c1\", \"\\uae30\\uc5c5 \\uacb0\\ud569\", \"\\uad11\\uc5ed \\uad50\\ud1b5\", \"\\ud604\\ub300 \\uc911\\uacf5\\uc5c5\", \"\\uc804\\ub144 \\ub3d9\\uae30\", \"\\uac1c\\uc778 \\uc815\\ubcf4\", \"\\ud2b8\\ub7fc\\ud504 \\ub300\\ud1b5\\ub839\", \"\\ud604\\uc9c0 \\uc2dc\\uac04\", \"\\uc624\\uc5fc \\ubb3c\\uc9c8\", \"\\ubb38\\uc7ac\\uc778 \\ub300\\ud1b5\\ub839\", \"\\ub300\\uae30 \\uc624\\uc5fc\", \"\\uae30\\uc220 \\uac1c\\ubc1c\", \"\\ud3d0\\uae30\\ubb3c \\ucc98\\ub9ac\", \"\\uc9c0\\uc5ed \\uacbd\\uc81c\", \"\\uc62c\\ud574 \\ubd84\\uae30\", \"\\uc0ac\\uc5c5 \\ucd94\\uc9c4\", \"\\uc790\\uc720 \\uad6d\\ub2f9\", \"\\uc9c0\\uc5ed \\uc0ac\\ud68c\", \"\\uad6d\\uac00 \\uade0\\ud615\\ubc1c\\uc804\", \"\\uc18c\\uc0c1 \\uacf5\\uc778\", \"\\uacc4\\ud68d \\uc218\\ub9bd\", \"\\uc9c0\\uc6d0 \\uc0ac\\uc5c5\", \"\\uc2a4\\ub9c8\\ud2b8 \\uc2dc\\ud2f0\", \"\\uac00\\uad6c \\uac00\\uad6c\", \"\\uc885\\ubaa9 \\ub9e4\\uc218\", \"\\ud638\\uac00 \\ub9e4\\ub3c4\", \"\\ub9e4\\uc218 \\ud638\\uac00\", \"\\ub9e4\\ub3c4 \\ud638\\uac00\", \"\\ud574\\ub2f9 \\uc885\\ubaa9\", \"\\uac70\\ub798 \\ud574\\ub2f9\", \"\\uc8fc\\ud0dd \\uc870\\ud569\", \"\\ub4f1\\ub77d \\uac70\\ub798\", \"\\uccad\\ub144 \\uc77c\\uc790\\ub9ac\", \"\\uc2dc\\uac04 \\ub4f1\\ub77d\", \"\\ud638\\uac00 \\ub4f1\\ub77d\", \"\\uc885\\ubaa9 \\ub4f1\\ub77d\", \"\\uad6d\\ud1a0 \\ub300\\uc7a5\\uc815\", \"\\uc77c\\ubc18 \\ubd84\\uc591\", \"\\ud55c\\ub7ad \\uc9c8\\ud658\", \"\\uc885\\ubaa9 \\uc2dc\\uac04\", \"\\uacf5\\uc720 \\uc0ac\\ubb34\\uc2e4\", \"\\uacf5\\uc778 \\uc911\\uac1c\\uc0ac\", \"\\ubb3c\\uac00 \\uc9c0\\uc218\", \"\\uad50\\uad8c \\uce68\\ud574\", \"\\uc784\\uc2dc \\uc815\\ubd80\", \"\\uc608\\ubc29 \\uc811\\uc885\", \"\\uc870\\uc815 \\ub300\\uc0c1\", \"\\ucf54\\uc2a4\\ub2e5 \\uc2dc\\uc7a5\", \"\\ube14\\ub85d\\uccb4\\uc778 \\uae30\\ubc18\", \"\\uad6c\\uc870 \\uc870\\uc815\", \"\\uadc0\\ub18d \\uadc0\\ucd0c\", \"\\uc8fc\\uc2dd \\uc2dc\\uc7a5\", \"\\uc218\\ucd9c \\uaddc\\uc81c\", \"\\uacfc\\ud559 \\uae30\\uc220\", \"\\uc815\\uc0c1 \\ud68c\\ub2f4\", \"\\uad50\\uc721 \\uacfc\\uc815\", \"\\uc77c\\ubcf8 \\uc218\\ucd9c\", \"\\uc2dc\\ubc94 \\uc0ac\\uc5c5\", \"\\uacfc\\uae30 \\uc815\\ud1b5\\ubd80\", \"\\ud601\\uc2e0 \\ub3c4\\uc2dc\", \"\\uc0ac\\uc5c5 \\ucd94\\uc9c4\", \"\\uc9c0\\uc6d0 \\uc0ac\\uc5c5\", \"\\uc815\\ube44 \\uc0ac\\uc5c5\", \"\\uc5f0\\uad6c \\uac1c\\ubc1c\"], \"Freq\": [0.0, 0.0, 0.0, 0.0, 0.0, 0.0, 0.0, 0.0, 0.0, 0.0, 0.0, 0.0, 0.0, 0.0, 0.0, 0.0, 0.0, 0.0, 0.0, 0.0, 0.0, 0.0, 0.0, 0.0, 0.0, 0.0, 0.0, 0.0, 0.0, 0.0, 0.1336403854298791, 0.1399800256186267, 0.12768204047536721, 0.1515320269983184, 0.13084166920103224, 0.11488725275537276, 0.15313229330979763, 0.13898664594756785, 0.10694002194794296, 0.09910543925905115, 0.09613675135010417, 0.10232241048489761, 0.0946175248715427, 0.09254518641375004, 0.09169838071791894, 0.08977496916462654, 0.11764934330673203, 0.0868692034606401, 0.08614558899656082, 0.08532102859640105, 0.08407757580596523, 0.0926290424980925, 0.11445108997694746, 0.08135355000526215, 0.09303724560039346, 0.09973661107685505, 0.07965872359963824, 0.07962990003938311, 0.0794109267657796, 0.07883289115285247, 0.107354012067493, 0.10728680008303344, 0.10981885860927403, 0.084394388160172, 0.09423896564262517, 0.1138231201853407, 0.1018315661236821, 0.09175937451314715, 0.08845517768551069, 0.08940686892025443, 0.19806006887976527, 0.11801446865318538, 0.09783011654870317, 0.09679542165723264, 0.10865615132467228, 0.11200191165521556, 0.09049996881841628, 0.09123525891223262, 0.08437594425872486, 0.09119872899231145, 0.08969055322044774, 0.10386872301706782, 0.08321201234610094, 0.0980264242335523, 0.08288246875967117, 0.0827324688281475, 0.08117312080802928, 0.08105981654107984, 0.08092425399708653, 0.08334982711344197, 0.09927169886463272, 0.0788506189919555, 0.08444008566685955, 0.07828952884521453, 0.09454566138905113, 0.07689856803455576, 0.07668390232751206, 0.07666147611327735, 0.0761584276756438, 0.07602791945718777, 0.08567792011380637, 0.08681774940568183, 0.08836952869832186, 0.13469942072509, 0.11019091735755852, 0.09333837259398811, 0.10233732112146526, 0.09918158864862021, 0.12223503401701055, 0.09180545509535736, 0.10872104010995151, 0.09030727241688498, 0.11892579919340548, 0.10545717654562183, 0.10094142357096918, 0.08709208408354735, 0.08953213485455738, 0.09628657071489848, 0.08852951291133558, 0.15373761447714054, 0.13708728706613416, 0.11889515996276048, 0.11889501916640256, 0.1188957106691314, 0.11889677698014756, 0.11889517041210196, 0.11889721344553915, 0.11751985829712285, 0.10988313467861804, 0.09004667838473532, 0.08743977672607953, 0.08743798695712662, 0.08743983768823745, 0.08719214217949632, 0.08547994513587542, 0.08151193178236522, 0.08028756039062282, 0.07966738744354133, 0.08143478340473624, 0.0869208857718126, 0.07593202041888232, 0.10297027375834647, 0.07496908410885253, 0.0735437739808642, 0.0733732637276629, 0.07774608718183819, 0.08848255745395789, 0.07148554603201263, 0.07143684375233111, 0.12396868060093903, 0.1255796825278616, 0.13334995597782262, 0.10128567062980848, 0.0918032082413707, 0.09072280866899082, 0.08252850956745005, 0.09335497960499799, 0.11185098134776258, 0.10270413122459147, 0.08310120546353505, 0.08622557035193215], \"Total\": [0.0, 0.0, 0.0, 0.0, 0.0, 0.0, 0.0, 0.0, 0.0, 0.0, 0.0, 0.0, 0.0, 0.0, 0.0, 0.0, 0.0, 0.0, 0.0, 0.0, 0.0, 0.0, 0.0, 0.0, 0.0, 0.0, 0.0, 0.0, 0.0, 0.0, 0.18516784172855, 0.19451273547329484, 0.179206226265676, 0.21444304373656517, 0.18668137918657857, 0.16642026808872754, 0.22533133843601785, 0.20644159841615622, 0.1619817161389017, 0.1506539235651294, 0.14765851535981134, 0.1574870018652284, 0.1461475138368652, 0.144070346016523, 0.14323286693085957, 0.14133106321616798, 0.18659056545987063, 0.13839779457975518, 0.13767471046941765, 0.1368497997861143, 0.13561403898436533, 0.15086830046162095, 0.1867073487215958, 0.13289863848543693, 0.15220644815423504, 0.16413460832575857, 0.1311879609098817, 0.13115824512032212, 0.13095907088198233, 0.13036477943109637, 0.19639946212333836, 0.1973102561792169, 0.20550913873454127, 0.1440530457913709, 0.1772801002695647, 0.2537744210363301, 0.24075176507441162, 0.18058105652643558, 0.16821952533553183, 0.22078574831400632, 0.26847743135287894, 0.17227527052825614, 0.14953337443682468, 0.1485059884498975, 0.17016462179441413, 0.1756040616586964, 0.14220148936286175, 0.14678494216093446, 0.13607611880077364, 0.14717567014706626, 0.14486888693709707, 0.16822787460391345, 0.13492539958193436, 0.1589951413492695, 0.13459513664885656, 0.134440550521164, 0.13288081900634607, 0.13277758875928783, 0.13263611010275186, 0.13715872595610598, 0.16399759008502274, 0.13057770713660577, 0.13997119724265747, 0.12999164633379012, 0.15792882289335686, 0.12863672723868305, 0.12837937300782246, 0.12835639027680146, 0.12786438234723826, 0.12772211213892962, 0.14449145338458755, 0.14651938214463134, 0.14953661493395565, 0.2411055921546072, 0.19450301138310983, 0.16150238532868902, 0.18183603852706048, 0.17753431628841376, 0.24047993485156002, 0.1614022486176862, 0.23239905987152212, 0.16105432811174175, 0.2861604901299482, 0.2537744210363301, 0.23249743574051113, 0.154369079765478, 0.1734876160942406, 0.24075176507441162, 0.2655101757136867, 0.2104477387433154, 0.198565153708515, 0.1728965501852276, 0.17289676936361925, 0.17289785358498727, 0.1729014600571565, 0.17289950636298804, 0.17290333829620372, 0.17149686768148326, 0.1638850223267715, 0.14403779400835054, 0.14144720025026752, 0.14144555464332192, 0.1414488098126056, 0.1411782599191545, 0.13946151700225268, 0.13549583796420522, 0.13429562956622504, 0.13367029115676776, 0.1381832763787055, 0.1480027489515921, 0.12993470974560248, 0.17664540227974596, 0.128953973212635, 0.12753585672251577, 0.12736136701936046, 0.13507242245647796, 0.15507754740215754, 0.1254855388038765, 0.1254210578332117, 0.2179441858492949, 0.22196278009997383, 0.23801897238157332, 0.1854629020579916, 0.16962538804408606, 0.17096804803882992, 0.14813478223388238, 0.18217709998793868, 0.2861604901299482, 0.2655101757136867, 0.15195522862446692, 0.19887423139552587], \"Category\": [\"Default\", \"Default\", \"Default\", \"Default\", \"Default\", \"Default\", \"Default\", \"Default\", \"Default\", \"Default\", \"Default\", \"Default\", \"Default\", \"Default\", \"Default\", \"Default\", \"Default\", \"Default\", \"Default\", \"Default\", \"Default\", \"Default\", \"Default\", \"Default\", \"Default\", \"Default\", \"Default\", \"Default\", \"Default\", \"Default\", \"Topic1\", \"Topic1\", \"Topic1\", \"Topic1\", \"Topic1\", \"Topic1\", \"Topic1\", \"Topic1\", \"Topic1\", \"Topic1\", \"Topic1\", \"Topic1\", \"Topic1\", \"Topic1\", \"Topic1\", \"Topic1\", \"Topic1\", \"Topic1\", \"Topic1\", \"Topic1\", \"Topic1\", \"Topic1\", \"Topic1\", \"Topic1\", \"Topic1\", \"Topic1\", \"Topic1\", \"Topic1\", \"Topic1\", \"Topic1\", \"Topic1\", \"Topic1\", \"Topic1\", \"Topic1\", \"Topic1\", \"Topic1\", \"Topic1\", \"Topic1\", \"Topic1\", \"Topic1\", \"Topic2\", \"Topic2\", \"Topic2\", \"Topic2\", \"Topic2\", \"Topic2\", \"Topic2\", \"Topic2\", \"Topic2\", \"Topic2\", \"Topic2\", \"Topic2\", \"Topic2\", \"Topic2\", \"Topic2\", \"Topic2\", \"Topic2\", \"Topic2\", \"Topic2\", \"Topic2\", \"Topic2\", \"Topic2\", \"Topic2\", \"Topic2\", \"Topic2\", \"Topic2\", \"Topic2\", \"Topic2\", \"Topic2\", \"Topic2\", \"Topic2\", \"Topic2\", \"Topic2\", \"Topic2\", \"Topic2\", \"Topic2\", \"Topic2\", \"Topic2\", \"Topic2\", \"Topic2\", \"Topic2\", \"Topic2\", \"Topic2\", \"Topic2\", \"Topic2\", \"Topic2\", \"Topic2\", \"Topic2\", \"Topic2\", \"Topic3\", \"Topic3\", \"Topic3\", \"Topic3\", \"Topic3\", \"Topic3\", \"Topic3\", \"Topic3\", \"Topic3\", \"Topic3\", \"Topic3\", \"Topic3\", \"Topic3\", \"Topic3\", \"Topic3\", \"Topic3\", \"Topic3\", \"Topic3\", \"Topic3\", \"Topic3\", \"Topic3\", \"Topic3\", \"Topic3\", \"Topic3\", \"Topic3\", \"Topic3\", \"Topic3\", \"Topic3\", \"Topic3\", \"Topic3\", \"Topic3\", \"Topic3\", \"Topic3\", \"Topic3\", \"Topic3\", \"Topic3\", \"Topic3\", \"Topic3\", \"Topic3\", \"Topic3\", \"Topic3\", \"Topic3\"], \"logprob\": [30.0, 29.0, 28.0, 27.0, 26.0, 25.0, 24.0, 23.0, 22.0, 21.0, 20.0, 19.0, 18.0, 17.0, 16.0, 15.0, 14.0, 13.0, 12.0, 11.0, 10.0, 9.0, 8.0, 7.0, 6.0, 5.0, 4.0, 3.0, 2.0, 1.0, -10.2397, -10.1933, -10.2853, -10.114, -10.2608, -10.3909, -10.1035, -10.2004, -10.4625, -10.5386, -10.569, -10.5067, -10.585, -10.6071, -10.6163, -10.6375, -10.3671, -10.6704, -10.6788, -10.6884, -10.7031, -10.6062, -10.3947, -10.736, -10.6018, -10.5323, -10.7571, -10.7574, -10.7602, -10.7675, -10.4587, -10.4593, -10.436, -10.6993, -10.589, -10.4002, -10.5115, -10.6156, -10.6523, -10.6416, -9.8387, -10.3565, -10.5441, -10.5547, -10.4391, -10.4088, -10.6219, -10.6138, -10.692, -10.6143, -10.6309, -10.4842, -10.7059, -10.5421, -10.7099, -10.7117, -10.7307, -10.7321, -10.7338, -10.7042, -10.5294, -10.7597, -10.6912, -10.7669, -10.5782, -10.7848, -10.7876, -10.7879, -10.7945, -10.7962, -10.6767, -10.6635, -10.6458, -10.2242, -10.4251, -10.5911, -10.499, -10.5303, -10.3213, -10.6076, -10.4385, -10.6241, -10.3488, -10.469, -10.5128, -10.6603, -10.6327, -10.56, -10.644, -9.9945, -10.1091, -10.2515, -10.2515, -10.2515, -10.2514, -10.2515, -10.2514, -10.2631, -10.3303, -10.5294, -10.5588, -10.5588, -10.5588, -10.5616, -10.5814, -10.629, -10.6441, -10.6518, -10.6299, -10.5647, -10.6999, -10.3953, -10.7126, -10.7318, -10.7341, -10.6763, -10.5469, -10.7602, -10.7609, -10.2097, -10.1968, -10.1367, -10.4118, -10.5101, -10.5219, -10.6166, -10.4933, -10.3125, -10.3978, -10.6096, -10.5727], \"loglift\": [30.0, 29.0, 28.0, 27.0, 26.0, 25.0, 24.0, 23.0, 22.0, 21.0, 20.0, 19.0, 18.0, 17.0, 16.0, 15.0, 14.0, 13.0, 12.0, 11.0, 10.0, 9.0, 8.0, 7.0, 6.0, 5.0, 4.0, 3.0, 2.0, 1.0, 0.7361, 0.7332, 0.7232, 0.715, 0.7068, 0.6916, 0.6759, 0.6666, 0.647, 0.6434, 0.6331, 0.631, 0.6274, 0.6196, 0.6162, 0.6084, 0.601, 0.5965, 0.5934, 0.5897, 0.5841, 0.5744, 0.5728, 0.5714, 0.57, 0.5641, 0.5633, 0.5632, 0.562, 0.5592, 0.4582, 0.4529, 0.4355, 0.5275, 0.4303, 0.2604, 0.2018, 0.3852, 0.4194, 0.1582, 0.7655, 0.6914, 0.6454, 0.6417, 0.6211, 0.62, 0.6178, 0.5942, 0.5918, 0.5911, 0.5903, 0.5875, 0.5864, 0.5861, 0.5849, 0.5842, 0.5769, 0.5762, 0.5756, 0.5716, 0.5677, 0.5653, 0.5643, 0.5627, 0.5567, 0.5552, 0.5544, 0.5543, 0.5516, 0.551, 0.5471, 0.5464, 0.5437, 0.4875, 0.5015, 0.5214, 0.4949, 0.4875, 0.393, 0.5055, 0.31, 0.4912, 0.1917, 0.1916, 0.2354, 0.4973, 0.4082, 0.1533, -0.0286, 0.8533, 0.7968, 0.7929, 0.7929, 0.7929, 0.7928, 0.7928, 0.7928, 0.7894, 0.7676, 0.6976, 0.6863, 0.6863, 0.6863, 0.6854, 0.6778, 0.6591, 0.6529, 0.6498, 0.6385, 0.6351, 0.6301, 0.6276, 0.6249, 0.6168, 0.6158, 0.6149, 0.6062, 0.6046, 0.6044, 0.6031, 0.5977, 0.5879, 0.5624, 0.5534, 0.5336, 0.5823, 0.4987, 0.2279, 0.2175, 0.5638, 0.3316]}, \"token.table\": {\"Topic\": [], \"Freq\": [], \"Term\": []}, \"R\": 30, \"lambda.step\": 0.01, \"plot.opts\": {\"xlab\": \"PC1\", \"ylab\": \"PC2\"}, \"topic.order\": [1, 2, 3]};\n",
              "\n",
              "function LDAvis_load_lib(url, callback){\n",
              "  var s = document.createElement('script');\n",
              "  s.src = url;\n",
              "  s.async = true;\n",
              "  s.onreadystatechange = s.onload = callback;\n",
              "  s.onerror = function(){console.warn(\"failed to load library \" + url);};\n",
              "  document.getElementsByTagName(\"head\")[0].appendChild(s);\n",
              "}\n",
              "\n",
              "if(typeof(LDAvis) !== \"undefined\"){\n",
              "   // already loaded: just create the visualization\n",
              "   !function(LDAvis){\n",
              "       new LDAvis(\"#\" + \"ldavis_el979451397878534458246601967872\", ldavis_el979451397878534458246601967872_data);\n",
              "   }(LDAvis);\n",
              "}else if(typeof define === \"function\" && define.amd){\n",
              "   // require.js is available: use it to load d3/LDAvis\n",
              "   require.config({paths: {d3: \"https://d3js.org/d3.v5\"}});\n",
              "   require([\"d3\"], function(d3){\n",
              "      window.d3 = d3;\n",
              "      LDAvis_load_lib(\"https://cdn.jsdelivr.net/gh/bmabey/pyLDAvis@3.3.1/pyLDAvis/js/ldavis.v3.0.0.js\", function(){\n",
              "        new LDAvis(\"#\" + \"ldavis_el979451397878534458246601967872\", ldavis_el979451397878534458246601967872_data);\n",
              "      });\n",
              "    });\n",
              "}else{\n",
              "    // require.js not available: dynamically load d3 & LDAvis\n",
              "    LDAvis_load_lib(\"https://d3js.org/d3.v5.js\", function(){\n",
              "         LDAvis_load_lib(\"https://cdn.jsdelivr.net/gh/bmabey/pyLDAvis@3.3.1/pyLDAvis/js/ldavis.v3.0.0.js\", function(){\n",
              "                 new LDAvis(\"#\" + \"ldavis_el979451397878534458246601967872\", ldavis_el979451397878534458246601967872_data);\n",
              "            })\n",
              "         });\n",
              "}\n",
              "</script>"
            ]
          },
          "metadata": {},
          "execution_count": 53
        }
      ],
      "source": [
        "# LDA 시각화를 진행해봅시다. \n",
        "import pyLDAvis\n",
        "import pyLDAvis.sklearn\n",
        "\n",
        "pyLDAvis.enable_notebook()\n",
        "vis = pyLDAvis.sklearn.prepare(lda, tfidf, tfidf_vect, mds='tsne')\n",
        "pyLDAvis.display(vis)\n"
      ]
    },
    {
      "cell_type": "code",
      "source": [],
      "metadata": {
        "id": "H5Ch5TfvYOII"
      },
      "execution_count": null,
      "outputs": []
    }
  ],
  "metadata": {
    "colab": {
      "provenance": [],
      "include_colab_link": true
    },
    "kernelspec": {
      "display_name": "Python 3",
      "name": "python3"
    }
  },
  "nbformat": 4,
  "nbformat_minor": 0
}