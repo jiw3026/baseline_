{
  "nbformat": 4,
  "nbformat_minor": 0,
  "metadata": {
    "kernelspec": {
      "display_name": "Python 3",
      "language": "python",
      "name": "python3"
    },
    "language_info": {
      "codemirror_mode": {
        "name": "ipython",
        "version": 3
      },
      "file_extension": ".py",
      "mimetype": "text/x-python",
      "name": "python",
      "nbconvert_exporter": "python",
      "pygments_lexer": "ipython3",
      "version": "3.7.4"
    },
    "colab": {
      "provenance": [],
      "toc_visible": true,
      "include_colab_link": true
    }
  },
  "cells": [
    {
      "cell_type": "markdown",
      "metadata": {
        "id": "view-in-github",
        "colab_type": "text"
      },
      "source": [
        "<a href=\"https://colab.research.google.com/github/jiw3026/baseline_/blob/main/05_%E1%84%87%E1%85%AE%E1%86%AB%E1%84%85%E1%85%B2_%E1%84%86%E1%85%A9%E1%84%83%E1%85%A6%E1%86%AF_%E1%84%8B%E1%85%B5%E1%84%92%E1%85%A2(NaiveBayes).ipynb\" target=\"_parent\"><img src=\"https://colab.research.google.com/assets/colab-badge.svg\" alt=\"Open In Colab\"/></a>"
      ]
    },
    {
      "cell_type": "markdown",
      "source": [
        "# 나이브 베이즈 분류기\n",
        "사이킷런에 구현된 나이브 베이즈 분류기는 0.22버전을 기준으로 GaussianNB, BernoulliNB, MultinomialNB, ComplementNB, CategoricalNB 5가지 이다."
      ],
      "metadata": {
        "id": "NquX3CMN_MS-"
      }
    },
    {
      "cell_type": "code",
      "source": [
        "!pip install konlpy"
      ],
      "metadata": {
        "colab": {
          "base_uri": "https://localhost:8080/"
        },
        "id": "MSZXrI09ADYl",
        "outputId": "24246ba3-7a39-4182-c91a-94afb04d7335"
      },
      "execution_count": null,
      "outputs": [
        {
          "output_type": "stream",
          "name": "stdout",
          "text": [
            "Looking in indexes: https://pypi.org/simple, https://us-python.pkg.dev/colab-wheels/public/simple/\n",
            "Collecting konlpy\n",
            "  Downloading konlpy-0.6.0-py2.py3-none-any.whl (19.4 MB)\n",
            "\u001b[2K     \u001b[90m━━━━━━━━━━━━━━━━━━━━━━━━━━━━━━━━━━━━━━━━\u001b[0m \u001b[32m19.4/19.4 MB\u001b[0m \u001b[31m39.7 MB/s\u001b[0m eta \u001b[36m0:00:00\u001b[0m\n",
            "\u001b[?25hRequirement already satisfied: lxml>=4.1.0 in /usr/local/lib/python3.8/dist-packages (from konlpy) (4.9.2)\n",
            "Requirement already satisfied: numpy>=1.6 in /usr/local/lib/python3.8/dist-packages (from konlpy) (1.21.6)\n",
            "Collecting JPype1>=0.7.0\n",
            "  Downloading JPype1-1.4.1-cp38-cp38-manylinux_2_12_x86_64.manylinux2010_x86_64.whl (465 kB)\n",
            "\u001b[2K     \u001b[90m━━━━━━━━━━━━━━━━━━━━━━━━━━━━━━━━━━━━━━\u001b[0m \u001b[32m465.6/465.6 KB\u001b[0m \u001b[31m18.9 MB/s\u001b[0m eta \u001b[36m0:00:00\u001b[0m\n",
            "\u001b[?25hRequirement already satisfied: packaging in /usr/local/lib/python3.8/dist-packages (from JPype1>=0.7.0->konlpy) (21.3)\n",
            "Requirement already satisfied: pyparsing!=3.0.5,>=2.0.2 in /usr/local/lib/python3.8/dist-packages (from packaging->JPype1>=0.7.0->konlpy) (3.0.9)\n",
            "Installing collected packages: JPype1, konlpy\n",
            "Successfully installed JPype1-1.4.1 konlpy-0.6.0\n"
          ]
        }
      ]
    },
    {
      "cell_type": "code",
      "source": [
        "# matplotlib 설정\n",
        "from matplotlib import pyplot as plt\n",
        "from matplotlib import rc\n",
        "import numpy as np\n",
        "\n",
        "%matplotlib inline\n",
        "\n",
        "# rc('font', family = 'AppleGothic')\n",
        "# plt.rcParams['axes.unicode_minus'] = False\n",
        "# # mac OS 에서 한글이 깨진다면 참고."
      ],
      "metadata": {
        "id": "1vQdQ34k_Lfn"
      },
      "execution_count": null,
      "outputs": []
    },
    {
      "cell_type": "markdown",
      "metadata": {
        "id": "DWGipd5w-hmC"
      },
      "source": [
        "### 가우시안 나이브 베이즈"
      ]
    },
    {
      "cell_type": "markdown",
      "metadata": {
        "id": "xa3nr3ug-hmC"
      },
      "source": [
        "- GaussianNB의 경우 연속적인 데이터를 처리하는 용도로 많이 사용된다.  "
      ]
    },
    {
      "cell_type": "markdown",
      "metadata": {
        "id": "hvNTHK3u-hmM"
      },
      "source": [
        "### 다항 분포, 베르누이 나이브 베이즈"
      ]
    },
    {
      "cell_type": "markdown",
      "metadata": {
        "id": "DodMS6-B-hmM"
      },
      "source": [
        "- BernoulliNB, MultinomialNB는 문서분류와 같은 곳에서 많이 사용된다.  "
      ]
    },
    {
      "cell_type": "markdown",
      "metadata": {
        "id": "5qFFm5f2-hmN"
      },
      "source": [
        "베르누이는 문서에 단어가 출현을 했는지 여부를 따져서 문서를 벡터화 시킨다. 이와 다르게 다항 분포는 단어의 출현횟수를 기록한다."
      ]
    },
    {
      "cell_type": "markdown",
      "metadata": {
        "id": "MyVrIwJH-hmN"
      },
      "source": [
        "- 베르누이와 다항분포에는 alpha라는 매개변수가 있다. alpha는 스무딩(smoothing)의 정도를 조절할 수 있다.  \n",
        "- 그럼 스무딩은 무엇인가? 입력값이 우리가 가지고 있는 훈련데이터에는 없는 값이 들어올 경우 확률이 0이 되어 정상적인 분류가 되지 않는 경우가 생긴다.  \n",
        "이런 경우를 방지하고자 값을 보정하기 위해 사용되는 기법이 스무딩 기법이다.(라플라스 계산을 사용한다.), 라플라스를 이용하여 특징값이 최소한 한 번은 나타나도록 조정하여 특징값이 0이 될 수 없도록 한다.  \n",
        "- alpha매개변수는 알고리즘의 성능에 크게 영향을 미치지는 않지만, 값을 조정하면 정확도를 어느정도 높일수는 있다."
      ]
    },
    {
      "cell_type": "code",
      "source": [
        "from sklearn.naive_bayes import GaussianNB, BernoulliNB, MultinomialNB\n"
      ],
      "metadata": {
        "id": "2DYgGIMa_O19"
      },
      "execution_count": null,
      "outputs": []
    },
    {
      "cell_type": "code",
      "execution_count": null,
      "metadata": {
        "id": "q29poqVI-hmN"
      },
      "outputs": [],
      "source": [
        "from konlpy.tag import Okt\n",
        "from sklearn.model_selection import train_test_split\n",
        "from sklearn.feature_extraction.text import CountVectorizer\n",
        "\n",
        "x_data = ['설문조사하고 백화점 상품권 받아가자',\n",
        "        '응모권 발급되었어요 응모하시고 천만원 받아가세요', \n",
        "        '다음 예약시 할인 가능',\n",
        "        '피자먹고 유럽투어 가자',\n",
        "        '블랙프라이데이 한정 세일',\n",
        "        '머신생명 보험 상담 받으시고 안마의자 받아가세요',\n",
        "        '회원님 장바구니에 들어있는 제품 할인행사 안내',\n",
        "        '오늘 아침회의 내용 정리 보고서입니다',\n",
        "        '5시까지 업무 보고서 제출하세요',\n",
        "        '이번달 보험료 청구금액은',\n",
        "        '다음주 일정 확인 부탁드립니다',\n",
        "         '이번 달 카드 사용 청구서']\n",
        "y_data = [1, 1, 1, 1, 1, 1, 0, 0, 0, 0, 0, 0]\n",
        "\n",
        "labels = ['햄', '스팸']\n",
        "# 간단하게 데이터를 만들어 베르누이 나이브 베이즈를 실습해보자.\n",
        "# 자연어처리에 관한 설명은 여기서 다루지 않도록 하겠다."
      ]
    },
    {
      "cell_type": "code",
      "execution_count": null,
      "metadata": {
        "id": "MoIU5WsN-hmN"
      },
      "outputs": [],
      "source": [
        "for i, d in enumerate(x_data):\n",
        "    n_words = Okt().nouns(d) # 명사만 추출\n",
        "    x_data[i] = ' '.join(n_words)"
      ]
    },
    {
      "cell_type": "code",
      "execution_count": null,
      "metadata": {
        "id": "QNgJIZyt-hmN",
        "outputId": "79dc4557-c76f-4764-daba-94652054b6af",
        "colab": {
          "base_uri": "https://localhost:8080/"
        }
      },
      "outputs": [
        {
          "output_type": "stream",
          "name": "stdout",
          "text": [
            "['이번', '달', '카드', '사용', '청구']\n"
          ]
        }
      ],
      "source": [
        "print(n_words)"
      ]
    },
    {
      "cell_type": "code",
      "execution_count": null,
      "metadata": {
        "id": "-cdBaJiZ-hmN",
        "outputId": "edec5c3d-2c74-4329-b4e3-b3b5dd41dab8",
        "colab": {
          "base_uri": "https://localhost:8080/"
        }
      },
      "outputs": [
        {
          "output_type": "stream",
          "name": "stdout",
          "text": [
            "(12, 43)\n"
          ]
        }
      ],
      "source": [
        "vectorizer = CountVectorizer()\n",
        "vectorizer.fit(x_data)\n",
        "x_data = vectorizer.transform(x_data)\n",
        "print(x_data.shape)"
      ]
    },
    {
      "cell_type": "code",
      "execution_count": null,
      "metadata": {
        "id": "UktNbwQY-hmO",
        "outputId": "14b08e86-4074-4118-e600-eb2361dc148d",
        "colab": {
          "base_uri": "https://localhost:8080/"
        }
      },
      "outputs": [
        {
          "output_type": "stream",
          "name": "stdout",
          "text": [
            "train score : 1.0\n",
            "test score : 0.5\n"
          ]
        }
      ],
      "source": [
        "X_train, X_test, y_train, y_test = train_test_split(x_data, y_data, \n",
        "                                                    test_size=0.3, shuffle = True, \n",
        "                                                    stratify = y_data)\n",
        "\n",
        "ber_model = BernoulliNB().fit(X_train, y_train)\n",
        "\n",
        "print('train score : {}'.format(ber_model.score(X_train, y_train)))\n",
        "print('test score : {}'.format(ber_model.score(X_test, y_test)))"
      ]
    },
    {
      "cell_type": "code",
      "execution_count": null,
      "metadata": {
        "id": "YQ43J-xe-hmO",
        "outputId": "0aaa4867-5406-4375-e758-70dea893deed",
        "colab": {
          "base_uri": "https://localhost:8080/"
        }
      },
      "outputs": [
        {
          "output_type": "execute_result",
          "data": {
            "text/plain": [
              "array([0, 1])"
            ]
          },
          "metadata": {},
          "execution_count": 9
        }
      ],
      "source": [
        "ber_model.classes_"
      ]
    },
    {
      "cell_type": "code",
      "execution_count": null,
      "metadata": {
        "id": "W9niTYKb-hmO",
        "outputId": "3b37ab55-a7d6-4cb0-f023-cef097900e2d",
        "colab": {
          "base_uri": "https://localhost:8080/"
        }
      },
      "outputs": [
        {
          "output_type": "execute_result",
          "data": {
            "text/plain": [
              "array([4., 4.])"
            ]
          },
          "metadata": {},
          "execution_count": 10
        }
      ],
      "source": [
        "ber_model.class_count_"
      ]
    },
    {
      "cell_type": "code",
      "execution_count": null,
      "metadata": {
        "id": "-9RZOIQY-hmO",
        "outputId": "9dfb24ac-e652-489a-9f7f-e6dce768409e",
        "colab": {
          "base_uri": "https://localhost:8080/"
        }
      },
      "outputs": [
        {
          "output_type": "execute_result",
          "data": {
            "text/plain": [
              "array([-0.69314718, -0.69314718])"
            ]
          },
          "metadata": {},
          "execution_count": 11
        }
      ],
      "source": [
        "ber_model.class_log_prior_\n",
        "# 사전 확률 분포 로그 값 (베르누이와 다항 분포에서만 사용.)"
      ]
    },
    {
      "cell_type": "code",
      "execution_count": null,
      "metadata": {
        "id": "BT2HpqYl-hmO",
        "outputId": "99a9b3d9-5a5d-49a0-d6a3-d9de9d4bf0fb",
        "colab": {
          "base_uri": "https://localhost:8080/"
        }
      },
      "outputs": [
        {
          "output_type": "stream",
          "name": "stdout",
          "text": [
            "초특 할인 행사 괌 여행 응모\n"
          ]
        }
      ],
      "source": [
        "new_data = '초특가 할인행사에 괌 여행 응모권까지 받아가자'\n",
        "n_words = Okt().nouns(new_data)\n",
        "n_words = ' '.join(n_words)\n",
        "print(n_words)"
      ]
    },
    {
      "cell_type": "code",
      "execution_count": null,
      "metadata": {
        "id": "KEjZS39k-hmO",
        "outputId": "819874d5-fb34-4936-c2fa-5b4d1662c418",
        "colab": {
          "base_uri": "https://localhost:8080/"
        }
      },
      "outputs": [
        {
          "output_type": "stream",
          "name": "stdout",
          "text": [
            "  (0, 24)\t1\n",
            "  (0, 38)\t1\n",
            "  (0, 39)\t1\n"
          ]
        }
      ],
      "source": [
        "n_data = [n_words]\n",
        "X1 = vectorizer.transform(n_data)\n",
        "print(X1) "
      ]
    },
    {
      "cell_type": "code",
      "execution_count": null,
      "metadata": {
        "scrolled": true,
        "id": "beN1rCYg-hmP",
        "outputId": "fb31cd1c-80d5-4990-a3ce-1d8abd6cbb71",
        "colab": {
          "base_uri": "https://localhost:8080/"
        }
      },
      "outputs": [
        {
          "output_type": "stream",
          "name": "stdout",
          "text": [
            "예측한 값 : [0]\n",
            "스팸인가?, 아닌가? : 햄\n"
          ]
        }
      ],
      "source": [
        "ber_model_pred = ber_model.predict(X1)\n",
        "print('예측한 값 : {}'.format(ber_model_pred)) \n",
        "print('스팸인가?, 아닌가? : {}'.format(labels[ber_model_pred[0]]))"
      ]
    },
    {
      "cell_type": "markdown",
      "metadata": {
        "id": "ZyJNGAli-hmP"
      },
      "source": [
        "- MultinomialNB로 예측"
      ]
    },
    {
      "cell_type": "code",
      "execution_count": null,
      "metadata": {
        "id": "inGNUcpJ-hmP",
        "outputId": "89d8bb8b-1f28-47fb-d18a-88b94125bc89",
        "colab": {
          "base_uri": "https://localhost:8080/"
        }
      },
      "outputs": [
        {
          "output_type": "stream",
          "name": "stdout",
          "text": [
            "train score : 1.0\n",
            "test score : 0.5\n"
          ]
        }
      ],
      "source": [
        "multi_naive = MultinomialNB().fit(X_train, y_train)\n",
        "\n",
        "print('train score : {}'.format(multi_naive.score(X_train, y_train)))\n",
        "print('test score : {}'.format(multi_naive.score(X_test, y_test)))"
      ]
    },
    {
      "cell_type": "code",
      "execution_count": null,
      "metadata": {
        "id": "kxK-h1cI-hmP",
        "outputId": "c0ba6cd7-9bc4-4534-c283-6bab8b541545",
        "colab": {
          "base_uri": "https://localhost:8080/"
        }
      },
      "outputs": [
        {
          "output_type": "execute_result",
          "data": {
            "text/plain": [
              "array([0, 1])"
            ]
          },
          "metadata": {},
          "execution_count": 16
        }
      ],
      "source": [
        "multi_naive.classes_"
      ]
    },
    {
      "cell_type": "code",
      "execution_count": null,
      "metadata": {
        "id": "AbD_aCY9-hmP",
        "outputId": "f09da190-3076-4a05-8e78-6ce1fa4d3705",
        "colab": {
          "base_uri": "https://localhost:8080/"
        }
      },
      "outputs": [
        {
          "output_type": "execute_result",
          "data": {
            "text/plain": [
              "array([4., 4.])"
            ]
          },
          "metadata": {},
          "execution_count": 17
        }
      ],
      "source": [
        "multi_naive.class_count_"
      ]
    },
    {
      "cell_type": "code",
      "execution_count": null,
      "metadata": {
        "id": "mMIMiGfs-hmP",
        "outputId": "44d3360b-ba6d-4190-f709-a896962d07c3",
        "colab": {
          "base_uri": "https://localhost:8080/"
        }
      },
      "outputs": [
        {
          "output_type": "stream",
          "name": "stdout",
          "text": [
            "예측한 값 : [0]\n",
            "스팸인가?, 아닌가? : 햄\n"
          ]
        }
      ],
      "source": [
        "model_pred = multi_naive.predict(X1)\n",
        "print('예측한 값 : {}'.format(model_pred)) \n",
        "print('스팸인가?, 아닌가? : {}'.format(labels[model_pred[0]]))"
      ]
    },
    {
      "cell_type": "markdown",
      "metadata": {
        "id": "n0jbUgKj-hmP"
      },
      "source": [
        "\n",
        "- CategoricalNB : 범주형으로 분포되어 있고 이산 특징을 가진 데이터를 분류하는데 적합한 모델이다.(0.22 ver 부터 구현가능)  \n",
        "- ComplementNB : 다항분포 나이브 베이즈가 만들어낸 'severe assumptions'을 수정하도록 만들어 졌다. 특히나 불균형 데이터에 매우 적합한 모델이다. (0.20 ver부터 구현가능)"
      ]
    }
  ]
}